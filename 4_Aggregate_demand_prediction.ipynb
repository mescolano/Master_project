{
 "cells": [
  {
   "cell_type": "markdown",
   "metadata": {},
   "source": [
    "# 4.1 Prediction of the aggregate demand with feature models"
   ]
  },
  {
   "cell_type": "markdown",
   "metadata": {},
   "source": [
    "In this section, we will compare the performance of different algorithms in predicting the aggregate demand, separating standard and ToU users. First, we will use feature models and then exponential smoothing, which is a time-series dedicated algorithm.\n",
    "\n",
    "In general we will train our model with 2011-2013 data and validate it with 2014 data.\n",
    "\n",
    "We will use the aggregate statistics we computed in Section 2 with Spark."
   ]
  },
  {
   "cell_type": "markdown",
   "metadata": {},
   "source": [
    "Feature models are an alternative for time series forecasting. They consist in applying conventional machine learning models to variables constructed from the data (e.g. mean consumption in the previous day). These are popular in the literature for electrical demand prediction [2], [4].\n",
    "\n",
    "In this section we will use different algorithms to fit our feature model. Later, we will predict the aggregate demand with exponential smoothing models in R using the \"forecast\" package."
   ]
  },
  {
   "cell_type": "markdown",
   "metadata": {},
   "source": [
    "### Preparing the dataset"
   ]
  },
  {
   "cell_type": "code",
   "execution_count": 64,
   "metadata": {
    "collapsed": true
   },
   "outputs": [],
   "source": [
    "import pandas as pd\n",
    "pd.options.display.max_columns = 999"
   ]
  },
  {
   "cell_type": "code",
   "execution_count": 67,
   "metadata": {
    "collapsed": true
   },
   "outputs": [],
   "source": [
    "df = pd.read_csv('outputs/agg_stats.csv', index_col=0)"
   ]
  },
  {
   "cell_type": "code",
   "execution_count": 68,
   "metadata": {
    "collapsed": false
   },
   "outputs": [
    {
     "data": {
      "text/html": [
       "<div>\n",
       "<table border=\"1\" class=\"dataframe\">\n",
       "  <thead>\n",
       "    <tr style=\"text-align: right;\">\n",
       "      <th></th>\n",
       "      <th>DateTime</th>\n",
       "      <th>Tariff</th>\n",
       "      <th>ToU_User</th>\n",
       "      <th>count</th>\n",
       "      <th>sum</th>\n",
       "      <th>min</th>\n",
       "      <th>mean</th>\n",
       "      <th>max</th>\n",
       "      <th>std_dev</th>\n",
       "    </tr>\n",
       "  </thead>\n",
       "  <tbody>\n",
       "    <tr>\n",
       "      <th>0</th>\n",
       "      <td>2012-10-15 21:00:00</td>\n",
       "      <td>Std</td>\n",
       "      <td>0</td>\n",
       "      <td>4210</td>\n",
       "      <td>1270.587000</td>\n",
       "      <td>0.0</td>\n",
       "      <td>0.301802</td>\n",
       "      <td>5.335</td>\n",
       "      <td>0.319130</td>\n",
       "    </tr>\n",
       "    <tr>\n",
       "      <th>1</th>\n",
       "      <td>2012-10-21 21:00:00</td>\n",
       "      <td>Std</td>\n",
       "      <td>0</td>\n",
       "      <td>4287</td>\n",
       "      <td>1239.813999</td>\n",
       "      <td>0.0</td>\n",
       "      <td>0.289203</td>\n",
       "      <td>6.095</td>\n",
       "      <td>0.320852</td>\n",
       "    </tr>\n",
       "    <tr>\n",
       "      <th>2</th>\n",
       "      <td>2012-10-27 13:00:00</td>\n",
       "      <td>Std</td>\n",
       "      <td>0</td>\n",
       "      <td>4402</td>\n",
       "      <td>1159.695000</td>\n",
       "      <td>0.0</td>\n",
       "      <td>0.263447</td>\n",
       "      <td>3.554</td>\n",
       "      <td>0.336398</td>\n",
       "    </tr>\n",
       "    <tr>\n",
       "      <th>3</th>\n",
       "      <td>2012-10-28 17:30:00</td>\n",
       "      <td>Std</td>\n",
       "      <td>0</td>\n",
       "      <td>4402</td>\n",
       "      <td>1665.008001</td>\n",
       "      <td>0.0</td>\n",
       "      <td>0.378239</td>\n",
       "      <td>8.040</td>\n",
       "      <td>0.447315</td>\n",
       "    </tr>\n",
       "    <tr>\n",
       "      <th>4</th>\n",
       "      <td>2012-11-04 00:30:00</td>\n",
       "      <td>Std</td>\n",
       "      <td>0</td>\n",
       "      <td>4403</td>\n",
       "      <td>994.769000</td>\n",
       "      <td>0.0</td>\n",
       "      <td>0.225930</td>\n",
       "      <td>6.072</td>\n",
       "      <td>0.424697</td>\n",
       "    </tr>\n",
       "  </tbody>\n",
       "</table>\n",
       "</div>"
      ],
      "text/plain": [
       "              DateTime Tariff  ToU_User  count          sum  min      mean  \\\n",
       "0  2012-10-15 21:00:00    Std         0   4210  1270.587000  0.0  0.301802   \n",
       "1  2012-10-21 21:00:00    Std         0   4287  1239.813999  0.0  0.289203   \n",
       "2  2012-10-27 13:00:00    Std         0   4402  1159.695000  0.0  0.263447   \n",
       "3  2012-10-28 17:30:00    Std         0   4402  1665.008001  0.0  0.378239   \n",
       "4  2012-11-04 00:30:00    Std         0   4403   994.769000  0.0  0.225930   \n",
       "\n",
       "     max   std_dev  \n",
       "0  5.335  0.319130  \n",
       "1  6.095  0.320852  \n",
       "2  3.554  0.336398  \n",
       "3  8.040  0.447315  \n",
       "4  6.072  0.424697  "
      ]
     },
     "execution_count": 68,
     "metadata": {},
     "output_type": "execute_result"
    }
   ],
   "source": [
    "df.head()"
   ]
  },
  {
   "cell_type": "markdown",
   "metadata": {},
   "source": [
    "We keep only the columns we need: DateTime, Tariff and mean consumption. We are interested in predicting the aggregate demand (i.e. the sum) but as the data count in each Timestamp is different, we will use the mean."
   ]
  },
  {
   "cell_type": "code",
   "execution_count": 69,
   "metadata": {
    "collapsed": true
   },
   "outputs": [],
   "source": [
    "df = df[['DateTime','Tariff','mean']]"
   ]
  },
  {
   "cell_type": "code",
   "execution_count": 70,
   "metadata": {
    "collapsed": true
   },
   "outputs": [],
   "source": [
    "df['DateTime'] = pd.to_datetime(df['DateTime'])"
   ]
  },
  {
   "cell_type": "code",
   "execution_count": 71,
   "metadata": {
    "collapsed": false
   },
   "outputs": [
    {
     "data": {
      "text/plain": [
       "pandas.tslib.Timestamp"
      ]
     },
     "execution_count": 71,
     "metadata": {},
     "output_type": "execute_result"
    }
   ],
   "source": [
    "type(df['DateTime'][2])"
   ]
  },
  {
   "cell_type": "code",
   "execution_count": 72,
   "metadata": {
    "collapsed": false
   },
   "outputs": [
    {
     "data": {
      "text/html": [
       "<div>\n",
       "<table border=\"1\" class=\"dataframe\">\n",
       "  <thead>\n",
       "    <tr style=\"text-align: right;\">\n",
       "      <th></th>\n",
       "      <th>DateTime</th>\n",
       "      <th>Tariff</th>\n",
       "      <th>mean</th>\n",
       "    </tr>\n",
       "  </thead>\n",
       "  <tbody>\n",
       "    <tr>\n",
       "      <th>41397</th>\n",
       "      <td>2013-08-12 16:00:00</td>\n",
       "      <td>ToU</td>\n",
       "      <td>0.170519</td>\n",
       "    </tr>\n",
       "    <tr>\n",
       "      <th>37965</th>\n",
       "      <td>2013-04-25 16:00:00</td>\n",
       "      <td>Std</td>\n",
       "      <td>0.185175</td>\n",
       "    </tr>\n",
       "    <tr>\n",
       "      <th>60759</th>\n",
       "      <td>2013-05-06 12:30:00</td>\n",
       "      <td>ToU</td>\n",
       "      <td>0.179697</td>\n",
       "    </tr>\n",
       "    <tr>\n",
       "      <th>65336</th>\n",
       "      <td>2013-11-30 10:00:00</td>\n",
       "      <td>Std</td>\n",
       "      <td>0.262507</td>\n",
       "    </tr>\n",
       "    <tr>\n",
       "      <th>30346</th>\n",
       "      <td>2013-06-03 05:30:00</td>\n",
       "      <td>Std</td>\n",
       "      <td>0.129813</td>\n",
       "    </tr>\n",
       "  </tbody>\n",
       "</table>\n",
       "</div>"
      ],
      "text/plain": [
       "                 DateTime Tariff      mean\n",
       "41397 2013-08-12 16:00:00    ToU  0.170519\n",
       "37965 2013-04-25 16:00:00    Std  0.185175\n",
       "60759 2013-05-06 12:30:00    ToU  0.179697\n",
       "65336 2013-11-30 10:00:00    Std  0.262507\n",
       "30346 2013-06-03 05:30:00    Std  0.129813"
      ]
     },
     "execution_count": 72,
     "metadata": {},
     "output_type": "execute_result"
    }
   ],
   "source": [
    "df.sample(5)"
   ]
  },
  {
   "cell_type": "markdown",
   "metadata": {},
   "source": [
    "### Feature engineering"
   ]
  },
  {
   "cell_type": "markdown",
   "metadata": {},
   "source": [
    "We will derive the following features:\n",
    "\n",
    "-Mean aggregate demand per hour in the previous day (1 variable).\n",
    "\n",
    "-Aggregate demand in the previous day at the same time and at the previous 3 time steps (4 variables).\n",
    "\n",
    "-Mean value of the aggregate demand of the previous 3 days at the same time and at the previous 3 time steps (4 variables).\n",
    "\n",
    "-Mean value of the aggregate demand on the same day of week of the previous 3 weeks at the same time and at the previous 3 time steps (4 variables).\n",
    "\n",
    "In total we have 13 derived features.\n",
    "\n",
    "Furthermore, we will include weather and time variables in the model:\n",
    "\n",
    "-Time (30-min resolution)\n",
    "\n",
    "-Day of week (7 levels)\n",
    "\n",
    "-Month (12 levels)\n",
    "\n",
    "-Holiday (binary)\n",
    "\n",
    "-Temperature (ºC, continuous)\n",
    "\n",
    "-Relative Humidity (%, continuous)\n",
    "\n",
    "-Cloud cover (%, continuous)\n",
    "\n",
    "-Atmospheric Pressure (mbar, continuous)\n",
    "\n",
    "These variables have been calculated in Section 1 and stored in 'weather_no_na.csv'.\n",
    "\n",
    "And the last variable to be included in the model:\n",
    "-Tariff (p/kWh)\n",
    "\n",
    "Thus, in total we will have 22 variables in our models.\n"
   ]
  },
  {
   "cell_type": "markdown",
   "metadata": {},
   "source": [
    "First, we will build the time variables."
   ]
  },
  {
   "cell_type": "code",
   "execution_count": 73,
   "metadata": {
    "collapsed": false
   },
   "outputs": [],
   "source": [
    "df['DoW'] = df['DateTime'].apply(lambda x: x.weekday())"
   ]
  },
  {
   "cell_type": "code",
   "execution_count": 74,
   "metadata": {
    "collapsed": true
   },
   "outputs": [],
   "source": [
    "df['Time'] = df['DateTime'].apply(lambda x: x.time())"
   ]
  },
  {
   "cell_type": "code",
   "execution_count": 75,
   "metadata": {
    "collapsed": true
   },
   "outputs": [],
   "source": [
    "df['Date'] = df['DateTime'].apply(lambda x: x.date())"
   ]
  },
  {
   "cell_type": "code",
   "execution_count": 76,
   "metadata": {
    "collapsed": true
   },
   "outputs": [],
   "source": [
    "df['Date'] = pd.to_datetime(df['Date'])"
   ]
  },
  {
   "cell_type": "code",
   "execution_count": 77,
   "metadata": {
    "collapsed": true
   },
   "outputs": [],
   "source": [
    "df['Month']= df['DateTime'].apply(lambda x: x.month)"
   ]
  },
  {
   "cell_type": "code",
   "execution_count": 78,
   "metadata": {
    "collapsed": true
   },
   "outputs": [],
   "source": [
    "df['Year']= df['DateTime'].apply(lambda x: x.year)"
   ]
  },
  {
   "cell_type": "code",
   "execution_count": 79,
   "metadata": {
    "collapsed": false
   },
   "outputs": [
    {
     "data": {
      "text/html": [
       "<div>\n",
       "<table border=\"1\" class=\"dataframe\">\n",
       "  <thead>\n",
       "    <tr style=\"text-align: right;\">\n",
       "      <th></th>\n",
       "      <th>DateTime</th>\n",
       "      <th>Tariff</th>\n",
       "      <th>mean</th>\n",
       "      <th>DoW</th>\n",
       "      <th>Time</th>\n",
       "      <th>Date</th>\n",
       "      <th>Month</th>\n",
       "      <th>Year</th>\n",
       "    </tr>\n",
       "  </thead>\n",
       "  <tbody>\n",
       "    <tr>\n",
       "      <th>23836</th>\n",
       "      <td>2013-08-06 14:00:00</td>\n",
       "      <td>ToU</td>\n",
       "      <td>0.137946</td>\n",
       "      <td>1</td>\n",
       "      <td>14:00:00</td>\n",
       "      <td>2013-08-06</td>\n",
       "      <td>8</td>\n",
       "      <td>2013</td>\n",
       "    </tr>\n",
       "    <tr>\n",
       "      <th>56017</th>\n",
       "      <td>2013-02-02 04:30:00</td>\n",
       "      <td>ToU</td>\n",
       "      <td>0.113117</td>\n",
       "      <td>5</td>\n",
       "      <td>04:30:00</td>\n",
       "      <td>2013-02-02</td>\n",
       "      <td>2</td>\n",
       "      <td>2013</td>\n",
       "    </tr>\n",
       "    <tr>\n",
       "      <th>68097</th>\n",
       "      <td>2013-06-22 23:30:00</td>\n",
       "      <td>Std</td>\n",
       "      <td>0.155765</td>\n",
       "      <td>5</td>\n",
       "      <td>23:30:00</td>\n",
       "      <td>2013-06-22</td>\n",
       "      <td>6</td>\n",
       "      <td>2013</td>\n",
       "    </tr>\n",
       "    <tr>\n",
       "      <th>35334</th>\n",
       "      <td>2012-04-02 07:00:00</td>\n",
       "      <td>Std</td>\n",
       "      <td>0.241241</td>\n",
       "      <td>0</td>\n",
       "      <td>07:00:00</td>\n",
       "      <td>2012-04-02</td>\n",
       "      <td>4</td>\n",
       "      <td>2012</td>\n",
       "    </tr>\n",
       "    <tr>\n",
       "      <th>13270</th>\n",
       "      <td>2013-10-31 05:30:00</td>\n",
       "      <td>Std</td>\n",
       "      <td>0.117387</td>\n",
       "      <td>3</td>\n",
       "      <td>05:30:00</td>\n",
       "      <td>2013-10-31</td>\n",
       "      <td>10</td>\n",
       "      <td>2013</td>\n",
       "    </tr>\n",
       "  </tbody>\n",
       "</table>\n",
       "</div>"
      ],
      "text/plain": [
       "                 DateTime Tariff      mean  DoW      Time       Date  Month  \\\n",
       "23836 2013-08-06 14:00:00    ToU  0.137946    1  14:00:00 2013-08-06      8   \n",
       "56017 2013-02-02 04:30:00    ToU  0.113117    5  04:30:00 2013-02-02      2   \n",
       "68097 2013-06-22 23:30:00    Std  0.155765    5  23:30:00 2013-06-22      6   \n",
       "35334 2012-04-02 07:00:00    Std  0.241241    0  07:00:00 2012-04-02      4   \n",
       "13270 2013-10-31 05:30:00    Std  0.117387    3  05:30:00 2013-10-31     10   \n",
       "\n",
       "       Year  \n",
       "23836  2013  \n",
       "56017  2013  \n",
       "68097  2013  \n",
       "35334  2012  \n",
       "13270  2013  "
      ]
     },
     "execution_count": 79,
     "metadata": {},
     "output_type": "execute_result"
    }
   ],
   "source": [
    "df.sample(5)"
   ]
  },
  {
   "cell_type": "markdown",
   "metadata": {},
   "source": [
    "Now it is easier to derive the consumption features."
   ]
  },
  {
   "cell_type": "markdown",
   "metadata": {},
   "source": [
    "###### Mean aggregate demand per hour in the previous day (1 variable).\n",
    "\n",
    "First, we will calculate the daily mean aggregating by 'Date'. Then we will add one day to the 'Date' variable of our new DataFrame and join it with the main DataFrame df."
   ]
  },
  {
   "cell_type": "code",
   "execution_count": 80,
   "metadata": {
    "collapsed": true
   },
   "outputs": [],
   "source": [
    "import datetime"
   ]
  },
  {
   "cell_type": "code",
   "execution_count": 81,
   "metadata": {
    "collapsed": false
   },
   "outputs": [],
   "source": [
    "daily_mean = df.groupby(['Date', 'Tariff']).agg({'mean': 'mean'}).reset_index()"
   ]
  },
  {
   "cell_type": "code",
   "execution_count": 82,
   "metadata": {
    "collapsed": true
   },
   "outputs": [],
   "source": [
    "daily_mean['Date'] = pd.to_datetime(daily_mean['Date'])"
   ]
  },
  {
   "cell_type": "code",
   "execution_count": 83,
   "metadata": {
    "collapsed": false
   },
   "outputs": [
    {
     "data": {
      "text/plain": [
       "pandas.tslib.Timestamp"
      ]
     },
     "execution_count": 83,
     "metadata": {},
     "output_type": "execute_result"
    }
   ],
   "source": [
    "type(daily_mean['Date'][2])"
   ]
  },
  {
   "cell_type": "code",
   "execution_count": 20,
   "metadata": {
    "collapsed": false
   },
   "outputs": [
    {
     "data": {
      "text/html": [
       "<div>\n",
       "<table border=\"1\" class=\"dataframe\">\n",
       "  <thead>\n",
       "    <tr style=\"text-align: right;\">\n",
       "      <th></th>\n",
       "      <th>Date</th>\n",
       "      <th>Tariff</th>\n",
       "      <th>mean</th>\n",
       "    </tr>\n",
       "  </thead>\n",
       "  <tbody>\n",
       "    <tr>\n",
       "      <th>1221</th>\n",
       "      <td>2013-07-25</td>\n",
       "      <td>ToU</td>\n",
       "      <td>0.156114</td>\n",
       "    </tr>\n",
       "    <tr>\n",
       "      <th>297</th>\n",
       "      <td>2012-04-19</td>\n",
       "      <td>ToU</td>\n",
       "      <td>0.216483</td>\n",
       "    </tr>\n",
       "    <tr>\n",
       "      <th>995</th>\n",
       "      <td>2013-04-03</td>\n",
       "      <td>ToU</td>\n",
       "      <td>0.226597</td>\n",
       "    </tr>\n",
       "    <tr>\n",
       "      <th>599</th>\n",
       "      <td>2012-09-17</td>\n",
       "      <td>ToU</td>\n",
       "      <td>0.169745</td>\n",
       "    </tr>\n",
       "    <tr>\n",
       "      <th>421</th>\n",
       "      <td>2012-06-20</td>\n",
       "      <td>ToU</td>\n",
       "      <td>0.158177</td>\n",
       "    </tr>\n",
       "  </tbody>\n",
       "</table>\n",
       "</div>"
      ],
      "text/plain": [
       "           Date Tariff      mean\n",
       "1221 2013-07-25    ToU  0.156114\n",
       "297  2012-04-19    ToU  0.216483\n",
       "995  2013-04-03    ToU  0.226597\n",
       "599  2012-09-17    ToU  0.169745\n",
       "421  2012-06-20    ToU  0.158177"
      ]
     },
     "execution_count": 20,
     "metadata": {},
     "output_type": "execute_result"
    }
   ],
   "source": [
    "daily_mean.sample(5)"
   ]
  },
  {
   "cell_type": "code",
   "execution_count": 84,
   "metadata": {
    "collapsed": false
   },
   "outputs": [],
   "source": [
    "daily_mean['Date'] = daily_mean['Date'] + datetime.timedelta(days=1)"
   ]
  },
  {
   "cell_type": "code",
   "execution_count": 85,
   "metadata": {
    "collapsed": false
   },
   "outputs": [],
   "source": [
    "df = df.merge(daily_mean, how = 'left', on = ['Date','Tariff'])"
   ]
  },
  {
   "cell_type": "code",
   "execution_count": 86,
   "metadata": {
    "collapsed": false
   },
   "outputs": [],
   "source": [
    "df = df.rename(columns = {'mean_x' : 'mean_cons',\n",
    "          'mean_y' : 'mean_prev_day'})"
   ]
  },
  {
   "cell_type": "code",
   "execution_count": 87,
   "metadata": {
    "collapsed": false
   },
   "outputs": [
    {
     "data": {
      "text/html": [
       "<div>\n",
       "<table border=\"1\" class=\"dataframe\">\n",
       "  <thead>\n",
       "    <tr style=\"text-align: right;\">\n",
       "      <th></th>\n",
       "      <th>DateTime</th>\n",
       "      <th>Tariff</th>\n",
       "      <th>mean_cons</th>\n",
       "      <th>DoW</th>\n",
       "      <th>Time</th>\n",
       "      <th>Date</th>\n",
       "      <th>Month</th>\n",
       "      <th>Year</th>\n",
       "      <th>mean_prev_day</th>\n",
       "    </tr>\n",
       "  </thead>\n",
       "  <tbody>\n",
       "    <tr>\n",
       "      <th>41825</th>\n",
       "      <td>2014-02-09 14:30:00</td>\n",
       "      <td>ToU</td>\n",
       "      <td>0.268367</td>\n",
       "      <td>6</td>\n",
       "      <td>14:30:00</td>\n",
       "      <td>2014-02-09</td>\n",
       "      <td>2</td>\n",
       "      <td>2014</td>\n",
       "      <td>0.223289</td>\n",
       "    </tr>\n",
       "    <tr>\n",
       "      <th>72993</th>\n",
       "      <td>2013-07-13 12:30:00</td>\n",
       "      <td>ToU</td>\n",
       "      <td>0.167876</td>\n",
       "      <td>5</td>\n",
       "      <td>12:30:00</td>\n",
       "      <td>2013-07-13</td>\n",
       "      <td>7</td>\n",
       "      <td>2013</td>\n",
       "      <td>0.157449</td>\n",
       "    </tr>\n",
       "    <tr>\n",
       "      <th>20011</th>\n",
       "      <td>2014-02-21 10:30:00</td>\n",
       "      <td>Std</td>\n",
       "      <td>0.222306</td>\n",
       "      <td>4</td>\n",
       "      <td>10:30:00</td>\n",
       "      <td>2014-02-21</td>\n",
       "      <td>2</td>\n",
       "      <td>2014</td>\n",
       "      <td>0.224884</td>\n",
       "    </tr>\n",
       "    <tr>\n",
       "      <th>70734</th>\n",
       "      <td>2013-03-15 03:00:00</td>\n",
       "      <td>Std</td>\n",
       "      <td>0.146990</td>\n",
       "      <td>4</td>\n",
       "      <td>03:00:00</td>\n",
       "      <td>2013-03-15</td>\n",
       "      <td>3</td>\n",
       "      <td>2013</td>\n",
       "      <td>0.249186</td>\n",
       "    </tr>\n",
       "    <tr>\n",
       "      <th>23288</th>\n",
       "      <td>2012-02-29 16:00:00</td>\n",
       "      <td>Std</td>\n",
       "      <td>0.207436</td>\n",
       "      <td>2</td>\n",
       "      <td>16:00:00</td>\n",
       "      <td>2012-02-29</td>\n",
       "      <td>2</td>\n",
       "      <td>2012</td>\n",
       "      <td>0.244607</td>\n",
       "    </tr>\n",
       "  </tbody>\n",
       "</table>\n",
       "</div>"
      ],
      "text/plain": [
       "                 DateTime Tariff  mean_cons  DoW      Time       Date  Month  \\\n",
       "41825 2014-02-09 14:30:00    ToU   0.268367    6  14:30:00 2014-02-09      2   \n",
       "72993 2013-07-13 12:30:00    ToU   0.167876    5  12:30:00 2013-07-13      7   \n",
       "20011 2014-02-21 10:30:00    Std   0.222306    4  10:30:00 2014-02-21      2   \n",
       "70734 2013-03-15 03:00:00    Std   0.146990    4  03:00:00 2013-03-15      3   \n",
       "23288 2012-02-29 16:00:00    Std   0.207436    2  16:00:00 2012-02-29      2   \n",
       "\n",
       "       Year  mean_prev_day  \n",
       "41825  2014       0.223289  \n",
       "72993  2013       0.157449  \n",
       "20011  2014       0.224884  \n",
       "70734  2013       0.249186  \n",
       "23288  2012       0.244607  "
      ]
     },
     "execution_count": 87,
     "metadata": {},
     "output_type": "execute_result"
    }
   ],
   "source": [
    "df.sample(5)"
   ]
  },
  {
   "cell_type": "markdown",
   "metadata": {},
   "source": [
    "###### Aggregate demand in the previous day at the same time and at the previous 3 time steps (4 variables)."
   ]
  },
  {
   "cell_type": "code",
   "execution_count": 88,
   "metadata": {
    "collapsed": false
   },
   "outputs": [
    {
     "data": {
      "text/html": [
       "<div>\n",
       "<table border=\"1\" class=\"dataframe\">\n",
       "  <thead>\n",
       "    <tr style=\"text-align: right;\">\n",
       "      <th></th>\n",
       "      <th>DateTime</th>\n",
       "      <th>Tariff</th>\n",
       "      <th>mean_cons</th>\n",
       "      <th>DoW</th>\n",
       "      <th>Time</th>\n",
       "      <th>Date</th>\n",
       "      <th>Month</th>\n",
       "      <th>Year</th>\n",
       "      <th>mean_prev_day</th>\n",
       "    </tr>\n",
       "  </thead>\n",
       "  <tbody>\n",
       "    <tr>\n",
       "      <th>0</th>\n",
       "      <td>2012-10-15 21:00:00</td>\n",
       "      <td>Std</td>\n",
       "      <td>0.301802</td>\n",
       "      <td>0</td>\n",
       "      <td>21:00:00</td>\n",
       "      <td>2012-10-15</td>\n",
       "      <td>10</td>\n",
       "      <td>2012</td>\n",
       "      <td>0.227159</td>\n",
       "    </tr>\n",
       "    <tr>\n",
       "      <th>1</th>\n",
       "      <td>2012-10-21 21:00:00</td>\n",
       "      <td>Std</td>\n",
       "      <td>0.289203</td>\n",
       "      <td>6</td>\n",
       "      <td>21:00:00</td>\n",
       "      <td>2012-10-21</td>\n",
       "      <td>10</td>\n",
       "      <td>2012</td>\n",
       "      <td>0.214069</td>\n",
       "    </tr>\n",
       "    <tr>\n",
       "      <th>2</th>\n",
       "      <td>2012-10-27 13:00:00</td>\n",
       "      <td>Std</td>\n",
       "      <td>0.263447</td>\n",
       "      <td>5</td>\n",
       "      <td>13:00:00</td>\n",
       "      <td>2012-10-27</td>\n",
       "      <td>10</td>\n",
       "      <td>2012</td>\n",
       "      <td>0.225192</td>\n",
       "    </tr>\n",
       "    <tr>\n",
       "      <th>3</th>\n",
       "      <td>2012-10-28 17:30:00</td>\n",
       "      <td>Std</td>\n",
       "      <td>0.378239</td>\n",
       "      <td>6</td>\n",
       "      <td>17:30:00</td>\n",
       "      <td>2012-10-28</td>\n",
       "      <td>10</td>\n",
       "      <td>2012</td>\n",
       "      <td>0.237870</td>\n",
       "    </tr>\n",
       "    <tr>\n",
       "      <th>4</th>\n",
       "      <td>2012-11-04 00:30:00</td>\n",
       "      <td>Std</td>\n",
       "      <td>0.225930</td>\n",
       "      <td>6</td>\n",
       "      <td>00:30:00</td>\n",
       "      <td>2012-11-04</td>\n",
       "      <td>11</td>\n",
       "      <td>2012</td>\n",
       "      <td>0.240950</td>\n",
       "    </tr>\n",
       "  </tbody>\n",
       "</table>\n",
       "</div>"
      ],
      "text/plain": [
       "             DateTime Tariff  mean_cons  DoW      Time       Date  Month  \\\n",
       "0 2012-10-15 21:00:00    Std   0.301802    0  21:00:00 2012-10-15     10   \n",
       "1 2012-10-21 21:00:00    Std   0.289203    6  21:00:00 2012-10-21     10   \n",
       "2 2012-10-27 13:00:00    Std   0.263447    5  13:00:00 2012-10-27     10   \n",
       "3 2012-10-28 17:30:00    Std   0.378239    6  17:30:00 2012-10-28     10   \n",
       "4 2012-11-04 00:30:00    Std   0.225930    6  00:30:00 2012-11-04     11   \n",
       "\n",
       "   Year  mean_prev_day  \n",
       "0  2012       0.227159  \n",
       "1  2012       0.214069  \n",
       "2  2012       0.225192  \n",
       "3  2012       0.237870  \n",
       "4  2012       0.240950  "
      ]
     },
     "execution_count": 88,
     "metadata": {},
     "output_type": "execute_result"
    }
   ],
   "source": [
    "df.head()"
   ]
  },
  {
   "cell_type": "code",
   "execution_count": 89,
   "metadata": {
    "collapsed": true
   },
   "outputs": [],
   "source": [
    "def prev_ts(df_in, initial, final, step):\n",
    "    #Both initial and final are included in the loop\n",
    "    df_out = df_in[['DateTime', 'Tariff']].copy()\n",
    "    for i in range(initial, final + 1, step):\n",
    "        aux = df_in[['DateTime', 'Tariff', 'mean_cons']].copy()\n",
    "        aux['DateTime'] = aux['DateTime'] + datetime.timedelta(minutes = i)\n",
    "        df_out = df_out.\\\n",
    "            merge(aux, how = 'left', on = ['DateTime','Tariff'], suffixes = ('','_-%d' %(i)))\n",
    "    return(df_out)"
   ]
  },
  {
   "cell_type": "code",
   "execution_count": 93,
   "metadata": {
    "collapsed": false
   },
   "outputs": [],
   "source": [
    "tmp = prev_ts(df, 22*60+30, 24*60, 30)\n",
    "df = df.merge(tmp[['DateTime','Tariff','mean_cons_-1380', 'mean_cons_-1410', 'mean_cons_-1440']],\n",
    "         on = ['DateTime','Tariff'], suffixes = ('',''))"
   ]
  },
  {
   "cell_type": "code",
   "execution_count": 94,
   "metadata": {
    "collapsed": false
   },
   "outputs": [
    {
     "data": {
      "text/html": [
       "<div>\n",
       "<table border=\"1\" class=\"dataframe\">\n",
       "  <thead>\n",
       "    <tr style=\"text-align: right;\">\n",
       "      <th></th>\n",
       "      <th>DateTime</th>\n",
       "      <th>Tariff</th>\n",
       "      <th>mean_cons</th>\n",
       "      <th>DoW</th>\n",
       "      <th>Time</th>\n",
       "      <th>Date</th>\n",
       "      <th>Month</th>\n",
       "      <th>Year</th>\n",
       "      <th>mean_prev_day</th>\n",
       "      <th>mean_cons_-1380</th>\n",
       "      <th>mean_cons_-1410</th>\n",
       "      <th>mean_cons_-1440</th>\n",
       "    </tr>\n",
       "  </thead>\n",
       "  <tbody>\n",
       "    <tr>\n",
       "      <th>12786</th>\n",
       "      <td>2013-05-10 03:30:00</td>\n",
       "      <td>Std</td>\n",
       "      <td>0.102880</td>\n",
       "      <td>4</td>\n",
       "      <td>03:30:00</td>\n",
       "      <td>2013-05-10</td>\n",
       "      <td>5</td>\n",
       "      <td>2013</td>\n",
       "      <td>0.184996</td>\n",
       "      <td>0.112120</td>\n",
       "      <td>0.103446</td>\n",
       "      <td>0.100840</td>\n",
       "    </tr>\n",
       "    <tr>\n",
       "      <th>1590</th>\n",
       "      <td>2012-03-21 20:00:00</td>\n",
       "      <td>ToU</td>\n",
       "      <td>0.345253</td>\n",
       "      <td>2</td>\n",
       "      <td>20:00:00</td>\n",
       "      <td>2012-03-21</td>\n",
       "      <td>3</td>\n",
       "      <td>2012</td>\n",
       "      <td>0.222125</td>\n",
       "      <td>0.356350</td>\n",
       "      <td>0.374243</td>\n",
       "      <td>0.368910</td>\n",
       "    </tr>\n",
       "    <tr>\n",
       "      <th>26408</th>\n",
       "      <td>2013-09-21 14:00:00</td>\n",
       "      <td>Std</td>\n",
       "      <td>0.198668</td>\n",
       "      <td>5</td>\n",
       "      <td>14:00:00</td>\n",
       "      <td>2013-09-21</td>\n",
       "      <td>9</td>\n",
       "      <td>2013</td>\n",
       "      <td>0.187236</td>\n",
       "      <td>0.173513</td>\n",
       "      <td>0.167166</td>\n",
       "      <td>0.167441</td>\n",
       "    </tr>\n",
       "    <tr>\n",
       "      <th>10029</th>\n",
       "      <td>2011-12-04 13:30:00</td>\n",
       "      <td>ToU</td>\n",
       "      <td>0.284200</td>\n",
       "      <td>6</td>\n",
       "      <td>13:30:00</td>\n",
       "      <td>2011-12-04</td>\n",
       "      <td>12</td>\n",
       "      <td>2011</td>\n",
       "      <td>0.183636</td>\n",
       "      <td>0.153600</td>\n",
       "      <td>0.126800</td>\n",
       "      <td>0.184267</td>\n",
       "    </tr>\n",
       "    <tr>\n",
       "      <th>30062</th>\n",
       "      <td>2011-12-31 15:00:00</td>\n",
       "      <td>Std</td>\n",
       "      <td>0.301540</td>\n",
       "      <td>5</td>\n",
       "      <td>15:00:00</td>\n",
       "      <td>2011-12-31</td>\n",
       "      <td>12</td>\n",
       "      <td>2011</td>\n",
       "      <td>0.261003</td>\n",
       "      <td>0.314867</td>\n",
       "      <td>0.292593</td>\n",
       "      <td>0.284088</td>\n",
       "    </tr>\n",
       "  </tbody>\n",
       "</table>\n",
       "</div>"
      ],
      "text/plain": [
       "                 DateTime Tariff  mean_cons  DoW      Time       Date  Month  \\\n",
       "12786 2013-05-10 03:30:00    Std   0.102880    4  03:30:00 2013-05-10      5   \n",
       "1590  2012-03-21 20:00:00    ToU   0.345253    2  20:00:00 2012-03-21      3   \n",
       "26408 2013-09-21 14:00:00    Std   0.198668    5  14:00:00 2013-09-21      9   \n",
       "10029 2011-12-04 13:30:00    ToU   0.284200    6  13:30:00 2011-12-04     12   \n",
       "30062 2011-12-31 15:00:00    Std   0.301540    5  15:00:00 2011-12-31     12   \n",
       "\n",
       "       Year  mean_prev_day  mean_cons_-1380  mean_cons_-1410  mean_cons_-1440  \n",
       "12786  2013       0.184996         0.112120         0.103446         0.100840  \n",
       "1590   2012       0.222125         0.356350         0.374243         0.368910  \n",
       "26408  2013       0.187236         0.173513         0.167166         0.167441  \n",
       "10029  2011       0.183636         0.153600         0.126800         0.184267  \n",
       "30062  2011       0.261003         0.314867         0.292593         0.284088  "
      ]
     },
     "execution_count": 94,
     "metadata": {},
     "output_type": "execute_result"
    }
   ],
   "source": [
    "df.sample(5)"
   ]
  },
  {
   "cell_type": "markdown",
   "metadata": {},
   "source": [
    "###### Mean value of the aggregate demand of the previous 3 days at the same time and at the previous 3 time steps (4 variables)."
   ]
  },
  {
   "cell_type": "code",
   "execution_count": 150,
   "metadata": {
    "collapsed": false
   },
   "outputs": [],
   "source": [
    "aux2 = df[['DateTime', 'Tariff']].copy()\n",
    "means_3d = pd.DataFrame(index=df.index)\n",
    "for h in range(0,4):\n",
    "    for d in range(1,4):\n",
    "        aux = df[['DateTime', 'Tariff', 'mean_cons']].copy()\n",
    "        aux['DateTime'] = aux['DateTime'] + datetime.timedelta(minutes = d*24*60-h*30)\n",
    "        aux2 = aux2.\\\n",
    "            merge(aux, how = 'left', on = ['DateTime','Tariff'])\n",
    "    means_3d = means_3d.join(aux2.mean(axis=1).rename('mean_last3d_-%d' %(h*30)))"
   ]
  },
  {
   "cell_type": "code",
   "execution_count": 151,
   "metadata": {
    "collapsed": false
   },
   "outputs": [
    {
     "data": {
      "text/html": [
       "<div>\n",
       "<table border=\"1\" class=\"dataframe\">\n",
       "  <thead>\n",
       "    <tr style=\"text-align: right;\">\n",
       "      <th></th>\n",
       "      <th>mean_last3d_-0</th>\n",
       "      <th>mean_last3d_-30</th>\n",
       "      <th>mean_last3d_-60</th>\n",
       "      <th>mean_last3d_-90</th>\n",
       "    </tr>\n",
       "  </thead>\n",
       "  <tbody>\n",
       "    <tr>\n",
       "      <th>0</th>\n",
       "      <td>0.286278</td>\n",
       "      <td>0.276157</td>\n",
       "      <td>0.264642</td>\n",
       "      <td>0.251189</td>\n",
       "    </tr>\n",
       "    <tr>\n",
       "      <th>1</th>\n",
       "      <td>0.276418</td>\n",
       "      <td>0.269546</td>\n",
       "      <td>0.258608</td>\n",
       "      <td>0.246133</td>\n",
       "    </tr>\n",
       "    <tr>\n",
       "      <th>2</th>\n",
       "      <td>0.209606</td>\n",
       "      <td>0.206111</td>\n",
       "      <td>0.204395</td>\n",
       "      <td>0.204098</td>\n",
       "    </tr>\n",
       "    <tr>\n",
       "      <th>3</th>\n",
       "      <td>0.348101</td>\n",
       "      <td>0.352302</td>\n",
       "      <td>0.352996</td>\n",
       "      <td>0.350607</td>\n",
       "    </tr>\n",
       "    <tr>\n",
       "      <th>4</th>\n",
       "      <td>0.203514</td>\n",
       "      <td>0.191968</td>\n",
       "      <td>0.181703</td>\n",
       "      <td>0.172780</td>\n",
       "    </tr>\n",
       "  </tbody>\n",
       "</table>\n",
       "</div>"
      ],
      "text/plain": [
       "   mean_last3d_-0  mean_last3d_-30  mean_last3d_-60  mean_last3d_-90\n",
       "0        0.286278         0.276157         0.264642         0.251189\n",
       "1        0.276418         0.269546         0.258608         0.246133\n",
       "2        0.209606         0.206111         0.204395         0.204098\n",
       "3        0.348101         0.352302         0.352996         0.350607\n",
       "4        0.203514         0.191968         0.181703         0.172780"
      ]
     },
     "execution_count": 151,
     "metadata": {},
     "output_type": "execute_result"
    }
   ],
   "source": [
    "means_3d.head()"
   ]
  },
  {
   "cell_type": "code",
   "execution_count": 152,
   "metadata": {
    "collapsed": false
   },
   "outputs": [],
   "source": [
    "df = df.join(means_3d)"
   ]
  },
  {
   "cell_type": "code",
   "execution_count": 157,
   "metadata": {
    "collapsed": false
   },
   "outputs": [
    {
     "data": {
      "text/html": [
       "<div>\n",
       "<table border=\"1\" class=\"dataframe\">\n",
       "  <thead>\n",
       "    <tr style=\"text-align: right;\">\n",
       "      <th></th>\n",
       "      <th>DateTime</th>\n",
       "      <th>Tariff</th>\n",
       "      <th>mean_cons</th>\n",
       "      <th>DoW</th>\n",
       "      <th>Time</th>\n",
       "      <th>Date</th>\n",
       "      <th>Month</th>\n",
       "      <th>Year</th>\n",
       "      <th>mean_prev_day</th>\n",
       "      <th>mean_cons_-1380</th>\n",
       "      <th>mean_cons_-1410</th>\n",
       "      <th>mean_cons_-1440</th>\n",
       "      <th>mean_last3d_-0</th>\n",
       "      <th>mean_last3d_-30</th>\n",
       "      <th>mean_last3d_-60</th>\n",
       "      <th>mean_last3d_-90</th>\n",
       "    </tr>\n",
       "  </thead>\n",
       "  <tbody>\n",
       "    <tr>\n",
       "      <th>2891</th>\n",
       "      <td>2011-11-28 18:30:00</td>\n",
       "      <td>ToU</td>\n",
       "      <td>0.359167</td>\n",
       "      <td>0</td>\n",
       "      <td>18:30:00</td>\n",
       "      <td>2011-11-28</td>\n",
       "      <td>11</td>\n",
       "      <td>2011</td>\n",
       "      <td>0.162781</td>\n",
       "      <td>0.180833</td>\n",
       "      <td>0.238833</td>\n",
       "      <td>0.303167</td>\n",
       "      <td>0.287056</td>\n",
       "      <td>0.288167</td>\n",
       "      <td>0.263352</td>\n",
       "      <td>0.244431</td>\n",
       "    </tr>\n",
       "    <tr>\n",
       "      <th>65844</th>\n",
       "      <td>2012-01-22 22:00:00</td>\n",
       "      <td>Std</td>\n",
       "      <td>0.351664</td>\n",
       "      <td>6</td>\n",
       "      <td>22:00:00</td>\n",
       "      <td>2012-01-22</td>\n",
       "      <td>1</td>\n",
       "      <td>2012</td>\n",
       "      <td>0.269654</td>\n",
       "      <td>0.263670</td>\n",
       "      <td>0.304330</td>\n",
       "      <td>0.321241</td>\n",
       "      <td>0.326710</td>\n",
       "      <td>0.318403</td>\n",
       "      <td>0.304173</td>\n",
       "      <td>0.290770</td>\n",
       "    </tr>\n",
       "    <tr>\n",
       "      <th>59869</th>\n",
       "      <td>2012-07-25 04:30:00</td>\n",
       "      <td>Std</td>\n",
       "      <td>0.105824</td>\n",
       "      <td>2</td>\n",
       "      <td>04:30:00</td>\n",
       "      <td>2012-07-25</td>\n",
       "      <td>7</td>\n",
       "      <td>2012</td>\n",
       "      <td>0.167339</td>\n",
       "      <td>0.125067</td>\n",
       "      <td>0.110885</td>\n",
       "      <td>0.104079</td>\n",
       "      <td>0.100616</td>\n",
       "      <td>0.103466</td>\n",
       "      <td>0.108712</td>\n",
       "      <td>0.115253</td>\n",
       "    </tr>\n",
       "  </tbody>\n",
       "</table>\n",
       "</div>"
      ],
      "text/plain": [
       "                 DateTime Tariff  mean_cons  DoW      Time       Date  Month  \\\n",
       "2891  2011-11-28 18:30:00    ToU   0.359167    0  18:30:00 2011-11-28     11   \n",
       "65844 2012-01-22 22:00:00    Std   0.351664    6  22:00:00 2012-01-22      1   \n",
       "59869 2012-07-25 04:30:00    Std   0.105824    2  04:30:00 2012-07-25      7   \n",
       "\n",
       "       Year  mean_prev_day  mean_cons_-1380  mean_cons_-1410  mean_cons_-1440  \\\n",
       "2891   2011       0.162781         0.180833         0.238833         0.303167   \n",
       "65844  2012       0.269654         0.263670         0.304330         0.321241   \n",
       "59869  2012       0.167339         0.125067         0.110885         0.104079   \n",
       "\n",
       "       mean_last3d_-0  mean_last3d_-30  mean_last3d_-60  mean_last3d_-90  \n",
       "2891         0.287056         0.288167         0.263352         0.244431  \n",
       "65844        0.326710         0.318403         0.304173         0.290770  \n",
       "59869        0.100616         0.103466         0.108712         0.115253  "
      ]
     },
     "execution_count": 157,
     "metadata": {},
     "output_type": "execute_result"
    }
   ],
   "source": [
    "df.sample(3)"
   ]
  },
  {
   "cell_type": "markdown",
   "metadata": {},
   "source": [
    "###### Mean value of the aggregate demand on the same day of week of the previous 3 weeks at the same time and at the previous 3 time steps (4 variables)."
   ]
  },
  {
   "cell_type": "code",
   "execution_count": 203,
   "metadata": {
    "collapsed": true
   },
   "outputs": [],
   "source": [
    "aux2 = df[['DateTime', 'Tariff']].copy()\n",
    "means_3w = pd.DataFrame(index=df.index)\n",
    "for h in range(0,4):\n",
    "    for w in range(1,4):\n",
    "        aux = df[['DateTime', 'Tariff', 'mean_cons']].copy()\n",
    "        aux['DateTime'] = aux['DateTime'] + datetime.timedelta(minutes = w*7*24*60-h*30)\n",
    "        aux2 = aux2.\\\n",
    "            merge(aux, how = 'left', on = ['DateTime','Tariff'])\n",
    "    means_3w = means_3w.join(aux2.mean(axis=1).rename('mean_last3w_-%d' %(h*30)))"
   ]
  },
  {
   "cell_type": "code",
   "execution_count": 198,
   "metadata": {
    "collapsed": true
   },
   "outputs": [],
   "source": [
    "df = df.join(means_3w)"
   ]
  },
  {
   "cell_type": "code",
   "execution_count": 199,
   "metadata": {
    "collapsed": false
   },
   "outputs": [
    {
     "data": {
      "text/html": [
       "<div>\n",
       "<table border=\"1\" class=\"dataframe\">\n",
       "  <thead>\n",
       "    <tr style=\"text-align: right;\">\n",
       "      <th></th>\n",
       "      <th>DateTime</th>\n",
       "      <th>Tariff</th>\n",
       "      <th>mean_cons</th>\n",
       "      <th>DoW</th>\n",
       "      <th>Time</th>\n",
       "      <th>Date</th>\n",
       "      <th>Month</th>\n",
       "      <th>Year</th>\n",
       "      <th>mean_prev_day</th>\n",
       "      <th>mean_cons_-1380</th>\n",
       "      <th>mean_cons_-1410</th>\n",
       "      <th>mean_cons_-1440</th>\n",
       "      <th>mean_last3d_-0</th>\n",
       "      <th>mean_last3d_-30</th>\n",
       "      <th>mean_last3d_-60</th>\n",
       "      <th>mean_last3d_-90</th>\n",
       "      <th>mean_last3w_-0</th>\n",
       "      <th>mean_last3w_-30</th>\n",
       "      <th>mean_last3w_-60</th>\n",
       "      <th>mean_last3w_-90</th>\n",
       "    </tr>\n",
       "  </thead>\n",
       "  <tbody>\n",
       "    <tr>\n",
       "      <th>18271</th>\n",
       "      <td>2013-09-19 06:00:00</td>\n",
       "      <td>ToU</td>\n",
       "      <td>0.157808</td>\n",
       "      <td>3</td>\n",
       "      <td>06:00:00</td>\n",
       "      <td>2013-09-19</td>\n",
       "      <td>9</td>\n",
       "      <td>2013</td>\n",
       "      <td>0.172362</td>\n",
       "      <td>0.188479</td>\n",
       "      <td>0.174750</td>\n",
       "      <td>0.162415</td>\n",
       "      <td>0.158145</td>\n",
       "      <td>0.168493</td>\n",
       "      <td>0.174458</td>\n",
       "      <td>0.176029</td>\n",
       "      <td>0.138159</td>\n",
       "      <td>0.147067</td>\n",
       "      <td>0.153653</td>\n",
       "      <td>0.157703</td>\n",
       "    </tr>\n",
       "    <tr>\n",
       "      <th>78681</th>\n",
       "      <td>2013-06-13 08:30:00</td>\n",
       "      <td>Std</td>\n",
       "      <td>0.191496</td>\n",
       "      <td>3</td>\n",
       "      <td>08:30:00</td>\n",
       "      <td>2013-06-13</td>\n",
       "      <td>6</td>\n",
       "      <td>2013</td>\n",
       "      <td>0.182262</td>\n",
       "      <td>0.175158</td>\n",
       "      <td>0.182603</td>\n",
       "      <td>0.183667</td>\n",
       "      <td>0.183190</td>\n",
       "      <td>0.183547</td>\n",
       "      <td>0.182362</td>\n",
       "      <td>0.181410</td>\n",
       "      <td>0.192418</td>\n",
       "      <td>0.192987</td>\n",
       "      <td>0.192568</td>\n",
       "      <td>0.191510</td>\n",
       "    </tr>\n",
       "    <tr>\n",
       "      <th>48971</th>\n",
       "      <td>2013-08-27 14:30:00</td>\n",
       "      <td>ToU</td>\n",
       "      <td>0.149615</td>\n",
       "      <td>1</td>\n",
       "      <td>14:30:00</td>\n",
       "      <td>2013-08-27</td>\n",
       "      <td>8</td>\n",
       "      <td>2013</td>\n",
       "      <td>0.156622</td>\n",
       "      <td>0.168038</td>\n",
       "      <td>0.159808</td>\n",
       "      <td>0.163097</td>\n",
       "      <td>0.173369</td>\n",
       "      <td>0.171835</td>\n",
       "      <td>0.173441</td>\n",
       "      <td>0.174855</td>\n",
       "      <td>0.156015</td>\n",
       "      <td>0.156083</td>\n",
       "      <td>0.156904</td>\n",
       "      <td>0.159982</td>\n",
       "    </tr>\n",
       "  </tbody>\n",
       "</table>\n",
       "</div>"
      ],
      "text/plain": [
       "                 DateTime Tariff  mean_cons  DoW      Time       Date  Month  \\\n",
       "18271 2013-09-19 06:00:00    ToU   0.157808    3  06:00:00 2013-09-19      9   \n",
       "78681 2013-06-13 08:30:00    Std   0.191496    3  08:30:00 2013-06-13      6   \n",
       "48971 2013-08-27 14:30:00    ToU   0.149615    1  14:30:00 2013-08-27      8   \n",
       "\n",
       "       Year  mean_prev_day  mean_cons_-1380  mean_cons_-1410  mean_cons_-1440  \\\n",
       "18271  2013       0.172362         0.188479         0.174750         0.162415   \n",
       "78681  2013       0.182262         0.175158         0.182603         0.183667   \n",
       "48971  2013       0.156622         0.168038         0.159808         0.163097   \n",
       "\n",
       "       mean_last3d_-0  mean_last3d_-30  mean_last3d_-60  mean_last3d_-90  \\\n",
       "18271        0.158145         0.168493         0.174458         0.176029   \n",
       "78681        0.183190         0.183547         0.182362         0.181410   \n",
       "48971        0.173369         0.171835         0.173441         0.174855   \n",
       "\n",
       "       mean_last3w_-0  mean_last3w_-30  mean_last3w_-60  mean_last3w_-90  \n",
       "18271        0.138159         0.147067         0.153653         0.157703  \n",
       "78681        0.192418         0.192987         0.192568         0.191510  \n",
       "48971        0.156015         0.156083         0.156904         0.159982  "
      ]
     },
     "execution_count": 199,
     "metadata": {},
     "output_type": "execute_result"
    }
   ],
   "source": [
    "df.sample(3)"
   ]
  },
  {
   "cell_type": "markdown",
   "metadata": {},
   "source": [
    "Note that pandas.mean skips NaN values by default. Therefore, in the first days/weeks the means are calculated with the available data (1 or 2 values)."
   ]
  },
  {
   "cell_type": "markdown",
   "metadata": {},
   "source": [
    "###### Weather variables"
   ]
  },
  {
   "cell_type": "markdown",
   "metadata": {},
   "source": [
    "Now that we have built the derived features, we just have to add the weather variables. We downloaded and treated them in Section 1."
   ]
  },
  {
   "cell_type": "code",
   "execution_count": 212,
   "metadata": {
    "collapsed": true
   },
   "outputs": [],
   "source": [
    "weather = pd.read_csv('data/weather_no_na.csv')"
   ]
  },
  {
   "cell_type": "code",
   "execution_count": 213,
   "metadata": {
    "collapsed": false
   },
   "outputs": [
    {
     "data": {
      "text/plain": [
       "(20446, 13)"
      ]
     },
     "execution_count": 213,
     "metadata": {},
     "output_type": "execute_result"
    }
   ],
   "source": [
    "weather.shape"
   ]
  },
  {
   "cell_type": "markdown",
   "metadata": {},
   "source": [
    "We will use the following variables:\n",
    "\n",
    "-Temperature (ºC)\n",
    "\n",
    "-Relative Humidity (%)\n",
    "\n",
    "-Cloud cover (%)\n",
    "\n",
    "-Atmospheric Pressure (mbar)\n",
    "\n",
    "For a discussion on the reasons why these variables have been choosen and how NA values have been filled refer to Section 1."
   ]
  },
  {
   "cell_type": "code",
   "execution_count": 214,
   "metadata": {
    "collapsed": false
   },
   "outputs": [
    {
     "data": {
      "text/plain": [
       "Index(['time', 'apparentTemperature', 'cloudCover', 'dewPoint', 'humidity',\n",
       "       'icon', 'precipType', 'pressure', 'summary', 'temperature',\n",
       "       'visibility', 'windBearing', 'windSpeed'],\n",
       "      dtype='object')"
      ]
     },
     "execution_count": 214,
     "metadata": {},
     "output_type": "execute_result"
    }
   ],
   "source": [
    "weather.columns"
   ]
  },
  {
   "cell_type": "code",
   "execution_count": 215,
   "metadata": {
    "collapsed": true
   },
   "outputs": [],
   "source": [
    "weather = weather[['time','temperature','humidity','cloudCover','pressure']]\\\n",
    "    .rename(columns = {'time' : 'DateTime'})"
   ]
  },
  {
   "cell_type": "code",
   "execution_count": 216,
   "metadata": {
    "collapsed": true
   },
   "outputs": [],
   "source": [
    "weather['DateTime'] = pd.to_datetime(weather['DateTime'])"
   ]
  },
  {
   "cell_type": "code",
   "execution_count": 217,
   "metadata": {
    "collapsed": false,
    "scrolled": true
   },
   "outputs": [
    {
     "data": {
      "text/html": [
       "<div>\n",
       "<table border=\"1\" class=\"dataframe\">\n",
       "  <thead>\n",
       "    <tr style=\"text-align: right;\">\n",
       "      <th></th>\n",
       "      <th>DateTime</th>\n",
       "      <th>temperature</th>\n",
       "      <th>humidity</th>\n",
       "      <th>cloudCover</th>\n",
       "      <th>pressure</th>\n",
       "    </tr>\n",
       "  </thead>\n",
       "  <tbody>\n",
       "    <tr>\n",
       "      <th>0</th>\n",
       "      <td>2011-11-01 00:00:00</td>\n",
       "      <td>13.54</td>\n",
       "      <td>0.87</td>\n",
       "      <td>0.27</td>\n",
       "      <td>1008.01</td>\n",
       "    </tr>\n",
       "    <tr>\n",
       "      <th>1</th>\n",
       "      <td>2011-11-01 01:00:00</td>\n",
       "      <td>12.74</td>\n",
       "      <td>0.93</td>\n",
       "      <td>0.32</td>\n",
       "      <td>1007.76</td>\n",
       "    </tr>\n",
       "    <tr>\n",
       "      <th>2</th>\n",
       "      <td>2011-11-01 02:00:00</td>\n",
       "      <td>13.68</td>\n",
       "      <td>0.91</td>\n",
       "      <td>0.25</td>\n",
       "      <td>1006.97</td>\n",
       "    </tr>\n",
       "    <tr>\n",
       "      <th>3</th>\n",
       "      <td>2011-11-01 03:00:00</td>\n",
       "      <td>14.18</td>\n",
       "      <td>0.88</td>\n",
       "      <td>0.43</td>\n",
       "      <td>1006.40</td>\n",
       "    </tr>\n",
       "    <tr>\n",
       "      <th>4</th>\n",
       "      <td>2011-11-01 04:00:00</td>\n",
       "      <td>14.20</td>\n",
       "      <td>0.90</td>\n",
       "      <td>0.38</td>\n",
       "      <td>1006.05</td>\n",
       "    </tr>\n",
       "  </tbody>\n",
       "</table>\n",
       "</div>"
      ],
      "text/plain": [
       "             DateTime  temperature  humidity  cloudCover  pressure\n",
       "0 2011-11-01 00:00:00        13.54      0.87        0.27   1008.01\n",
       "1 2011-11-01 01:00:00        12.74      0.93        0.32   1007.76\n",
       "2 2011-11-01 02:00:00        13.68      0.91        0.25   1006.97\n",
       "3 2011-11-01 03:00:00        14.18      0.88        0.43   1006.40\n",
       "4 2011-11-01 04:00:00        14.20      0.90        0.38   1006.05"
      ]
     },
     "execution_count": 217,
     "metadata": {},
     "output_type": "execute_result"
    }
   ],
   "source": [
    "weather.head()"
   ]
  },
  {
   "cell_type": "markdown",
   "metadata": {},
   "source": [
    "The frequency of the weather data is of 1 hour while that of the consumption data is 30 minutes, thus we need to resample it. We will take the last valid observation (e.g. 2012-01-01 10:30 will have the same data as 2012-01-01 10:00) => method = 'ffill'."
   ]
  },
  {
   "cell_type": "code",
   "execution_count": 218,
   "metadata": {
    "collapsed": false
   },
   "outputs": [],
   "source": [
    "weather = weather.set_index('DateTime').resample('30min').fillna(method = 'ffill')\\\n",
    "    .reset_index()"
   ]
  },
  {
   "cell_type": "code",
   "execution_count": 219,
   "metadata": {
    "collapsed": false
   },
   "outputs": [
    {
     "data": {
      "text/html": [
       "<div>\n",
       "<table border=\"1\" class=\"dataframe\">\n",
       "  <thead>\n",
       "    <tr style=\"text-align: right;\">\n",
       "      <th></th>\n",
       "      <th>DateTime</th>\n",
       "      <th>temperature</th>\n",
       "      <th>humidity</th>\n",
       "      <th>cloudCover</th>\n",
       "      <th>pressure</th>\n",
       "    </tr>\n",
       "  </thead>\n",
       "  <tbody>\n",
       "    <tr>\n",
       "      <th>0</th>\n",
       "      <td>2011-11-01 00:00:00</td>\n",
       "      <td>13.54</td>\n",
       "      <td>0.87</td>\n",
       "      <td>0.27</td>\n",
       "      <td>1008.01</td>\n",
       "    </tr>\n",
       "    <tr>\n",
       "      <th>1</th>\n",
       "      <td>2011-11-01 00:30:00</td>\n",
       "      <td>13.54</td>\n",
       "      <td>0.87</td>\n",
       "      <td>0.27</td>\n",
       "      <td>1008.01</td>\n",
       "    </tr>\n",
       "    <tr>\n",
       "      <th>2</th>\n",
       "      <td>2011-11-01 01:00:00</td>\n",
       "      <td>12.74</td>\n",
       "      <td>0.93</td>\n",
       "      <td>0.32</td>\n",
       "      <td>1007.76</td>\n",
       "    </tr>\n",
       "    <tr>\n",
       "      <th>3</th>\n",
       "      <td>2011-11-01 01:30:00</td>\n",
       "      <td>12.74</td>\n",
       "      <td>0.93</td>\n",
       "      <td>0.32</td>\n",
       "      <td>1007.76</td>\n",
       "    </tr>\n",
       "    <tr>\n",
       "      <th>4</th>\n",
       "      <td>2011-11-01 02:00:00</td>\n",
       "      <td>13.68</td>\n",
       "      <td>0.91</td>\n",
       "      <td>0.25</td>\n",
       "      <td>1006.97</td>\n",
       "    </tr>\n",
       "  </tbody>\n",
       "</table>\n",
       "</div>"
      ],
      "text/plain": [
       "             DateTime  temperature  humidity  cloudCover  pressure\n",
       "0 2011-11-01 00:00:00        13.54      0.87        0.27   1008.01\n",
       "1 2011-11-01 00:30:00        13.54      0.87        0.27   1008.01\n",
       "2 2011-11-01 01:00:00        12.74      0.93        0.32   1007.76\n",
       "3 2011-11-01 01:30:00        12.74      0.93        0.32   1007.76\n",
       "4 2011-11-01 02:00:00        13.68      0.91        0.25   1006.97"
      ]
     },
     "execution_count": 219,
     "metadata": {},
     "output_type": "execute_result"
    }
   ],
   "source": [
    "weather.head()"
   ]
  },
  {
   "cell_type": "code",
   "execution_count": 221,
   "metadata": {
    "collapsed": false
   },
   "outputs": [],
   "source": [
    "df = df.merge(weather, how = 'left', on = 'DateTime')"
   ]
  },
  {
   "cell_type": "markdown",
   "metadata": {
    "collapsed": true
   },
   "source": [
    "###### Bank Holidays"
   ]
  },
  {
   "cell_type": "markdown",
   "metadata": {},
   "source": [
    "This is the last variable we will include in our model. Bank Holidays will be treated separately from Sundays as a binary variable. \n",
    "\n",
    "Bank Holidays in England from 2011 to 2014 were downloaded in Section 1 using the Python holidays library (and cross-checked with the official information in www.gov.co.uk) and saved to a csv file."
   ]
  },
  {
   "cell_type": "code",
   "execution_count": 241,
   "metadata": {
    "collapsed": false
   },
   "outputs": [],
   "source": [
    "holidays = pd.Series.from_csv('data/bank_holidays.csv')"
   ]
  },
  {
   "cell_type": "code",
   "execution_count": 245,
   "metadata": {
    "collapsed": true
   },
   "outputs": [],
   "source": [
    "holidays = pd.to_datetime(holidays)"
   ]
  },
  {
   "cell_type": "code",
   "execution_count": 246,
   "metadata": {
    "collapsed": false
   },
   "outputs": [
    {
     "data": {
      "text/plain": [
       "0   2011-01-01\n",
       "1   2011-01-03\n",
       "2   2011-04-22\n",
       "3   2011-04-25\n",
       "4   2011-04-29\n",
       "dtype: datetime64[ns]"
      ]
     },
     "execution_count": 246,
     "metadata": {},
     "output_type": "execute_result"
    }
   ],
   "source": [
    "holidays.head()"
   ]
  },
  {
   "cell_type": "code",
   "execution_count": 255,
   "metadata": {
    "collapsed": false
   },
   "outputs": [],
   "source": [
    "df['Holiday'] = 0\n",
    "df.loc[df['Date'].isin(holidays),'Holiday'] = 1"
   ]
  },
  {
   "cell_type": "code",
   "execution_count": 256,
   "metadata": {
    "collapsed": false
   },
   "outputs": [
    {
     "data": {
      "text/html": [
       "<div>\n",
       "<table border=\"1\" class=\"dataframe\">\n",
       "  <thead>\n",
       "    <tr style=\"text-align: right;\">\n",
       "      <th></th>\n",
       "      <th>DateTime</th>\n",
       "      <th>Tariff</th>\n",
       "      <th>mean_cons</th>\n",
       "      <th>DoW</th>\n",
       "      <th>Time</th>\n",
       "      <th>Date</th>\n",
       "      <th>Month</th>\n",
       "      <th>Year</th>\n",
       "      <th>mean_prev_day</th>\n",
       "      <th>mean_cons_-1380</th>\n",
       "      <th>mean_cons_-1410</th>\n",
       "      <th>mean_cons_-1440</th>\n",
       "      <th>mean_last3d_-0</th>\n",
       "      <th>mean_last3d_-30</th>\n",
       "      <th>mean_last3d_-60</th>\n",
       "      <th>mean_last3d_-90</th>\n",
       "      <th>mean_last3w_-0</th>\n",
       "      <th>mean_last3w_-30</th>\n",
       "      <th>mean_last3w_-60</th>\n",
       "      <th>mean_last3w_-90</th>\n",
       "      <th>temperature</th>\n",
       "      <th>humidity</th>\n",
       "      <th>cloudCover</th>\n",
       "      <th>pressure</th>\n",
       "      <th>Holiday</th>\n",
       "    </tr>\n",
       "  </thead>\n",
       "  <tbody>\n",
       "    <tr>\n",
       "      <th>57606</th>\n",
       "      <td>2012-10-22 04:00:00</td>\n",
       "      <td>ToU</td>\n",
       "      <td>0.098568</td>\n",
       "      <td>0</td>\n",
       "      <td>04:00:00</td>\n",
       "      <td>2012-10-22</td>\n",
       "      <td>10</td>\n",
       "      <td>2012</td>\n",
       "      <td>0.219287</td>\n",
       "      <td>0.101445</td>\n",
       "      <td>0.098709</td>\n",
       "      <td>0.096792</td>\n",
       "      <td>0.096584</td>\n",
       "      <td>0.098743</td>\n",
       "      <td>0.101519</td>\n",
       "      <td>0.106834</td>\n",
       "      <td>0.095958</td>\n",
       "      <td>0.099982</td>\n",
       "      <td>0.104822</td>\n",
       "      <td>0.112867</td>\n",
       "      <td>12.62</td>\n",
       "      <td>1.00</td>\n",
       "      <td>0.98</td>\n",
       "      <td>1017.85</td>\n",
       "      <td>0</td>\n",
       "    </tr>\n",
       "    <tr>\n",
       "      <th>27650</th>\n",
       "      <td>2012-02-06 08:00:00</td>\n",
       "      <td>Std</td>\n",
       "      <td>0.314526</td>\n",
       "      <td>0</td>\n",
       "      <td>08:00:00</td>\n",
       "      <td>2012-02-06</td>\n",
       "      <td>2</td>\n",
       "      <td>2012</td>\n",
       "      <td>0.336885</td>\n",
       "      <td>0.283092</td>\n",
       "      <td>0.251566</td>\n",
       "      <td>0.222558</td>\n",
       "      <td>0.259396</td>\n",
       "      <td>0.269528</td>\n",
       "      <td>0.275886</td>\n",
       "      <td>0.280448</td>\n",
       "      <td>0.288593</td>\n",
       "      <td>0.282882</td>\n",
       "      <td>0.274363</td>\n",
       "      <td>0.266951</td>\n",
       "      <td>1.72</td>\n",
       "      <td>0.96</td>\n",
       "      <td>0.88</td>\n",
       "      <td>1032.46</td>\n",
       "      <td>0</td>\n",
       "    </tr>\n",
       "    <tr>\n",
       "      <th>73119</th>\n",
       "      <td>2012-10-21 14:00:00</td>\n",
       "      <td>Std</td>\n",
       "      <td>0.273623</td>\n",
       "      <td>6</td>\n",
       "      <td>14:00:00</td>\n",
       "      <td>2012-10-21</td>\n",
       "      <td>10</td>\n",
       "      <td>2012</td>\n",
       "      <td>0.214069</td>\n",
       "      <td>0.236850</td>\n",
       "      <td>0.221746</td>\n",
       "      <td>0.217536</td>\n",
       "      <td>0.203899</td>\n",
       "      <td>0.204081</td>\n",
       "      <td>0.208642</td>\n",
       "      <td>0.213785</td>\n",
       "      <td>0.232186</td>\n",
       "      <td>0.233525</td>\n",
       "      <td>0.234909</td>\n",
       "      <td>0.237676</td>\n",
       "      <td>12.42</td>\n",
       "      <td>0.91</td>\n",
       "      <td>0.85</td>\n",
       "      <td>1017.50</td>\n",
       "      <td>0</td>\n",
       "    </tr>\n",
       "    <tr>\n",
       "      <th>19257</th>\n",
       "      <td>2013-12-02 21:00:00</td>\n",
       "      <td>Std</td>\n",
       "      <td>0.354043</td>\n",
       "      <td>0</td>\n",
       "      <td>21:00:00</td>\n",
       "      <td>2013-12-02</td>\n",
       "      <td>12</td>\n",
       "      <td>2013</td>\n",
       "      <td>0.260058</td>\n",
       "      <td>0.319056</td>\n",
       "      <td>0.333102</td>\n",
       "      <td>0.348323</td>\n",
       "      <td>0.335521</td>\n",
       "      <td>0.329491</td>\n",
       "      <td>0.322749</td>\n",
       "      <td>0.314610</td>\n",
       "      <td>0.353596</td>\n",
       "      <td>0.345071</td>\n",
       "      <td>0.335667</td>\n",
       "      <td>0.324362</td>\n",
       "      <td>6.64</td>\n",
       "      <td>0.77</td>\n",
       "      <td>0.07</td>\n",
       "      <td>1032.28</td>\n",
       "      <td>0</td>\n",
       "    </tr>\n",
       "    <tr>\n",
       "      <th>1590</th>\n",
       "      <td>2012-03-21 20:00:00</td>\n",
       "      <td>ToU</td>\n",
       "      <td>0.345253</td>\n",
       "      <td>2</td>\n",
       "      <td>20:00:00</td>\n",
       "      <td>2012-03-21</td>\n",
       "      <td>3</td>\n",
       "      <td>2012</td>\n",
       "      <td>0.222125</td>\n",
       "      <td>0.356350</td>\n",
       "      <td>0.374243</td>\n",
       "      <td>0.368910</td>\n",
       "      <td>0.374848</td>\n",
       "      <td>0.370130</td>\n",
       "      <td>0.363942</td>\n",
       "      <td>0.356219</td>\n",
       "      <td>0.396190</td>\n",
       "      <td>0.388477</td>\n",
       "      <td>0.382342</td>\n",
       "      <td>0.376333</td>\n",
       "      <td>9.68</td>\n",
       "      <td>0.71</td>\n",
       "      <td>0.27</td>\n",
       "      <td>1032.78</td>\n",
       "      <td>0</td>\n",
       "    </tr>\n",
       "  </tbody>\n",
       "</table>\n",
       "</div>"
      ],
      "text/plain": [
       "                 DateTime Tariff  mean_cons  DoW      Time       Date  Month  \\\n",
       "57606 2012-10-22 04:00:00    ToU   0.098568    0  04:00:00 2012-10-22     10   \n",
       "27650 2012-02-06 08:00:00    Std   0.314526    0  08:00:00 2012-02-06      2   \n",
       "73119 2012-10-21 14:00:00    Std   0.273623    6  14:00:00 2012-10-21     10   \n",
       "19257 2013-12-02 21:00:00    Std   0.354043    0  21:00:00 2013-12-02     12   \n",
       "1590  2012-03-21 20:00:00    ToU   0.345253    2  20:00:00 2012-03-21      3   \n",
       "\n",
       "       Year  mean_prev_day  mean_cons_-1380  mean_cons_-1410  mean_cons_-1440  \\\n",
       "57606  2012       0.219287         0.101445         0.098709         0.096792   \n",
       "27650  2012       0.336885         0.283092         0.251566         0.222558   \n",
       "73119  2012       0.214069         0.236850         0.221746         0.217536   \n",
       "19257  2013       0.260058         0.319056         0.333102         0.348323   \n",
       "1590   2012       0.222125         0.356350         0.374243         0.368910   \n",
       "\n",
       "       mean_last3d_-0  mean_last3d_-30  mean_last3d_-60  mean_last3d_-90  \\\n",
       "57606        0.096584         0.098743         0.101519         0.106834   \n",
       "27650        0.259396         0.269528         0.275886         0.280448   \n",
       "73119        0.203899         0.204081         0.208642         0.213785   \n",
       "19257        0.335521         0.329491         0.322749         0.314610   \n",
       "1590         0.374848         0.370130         0.363942         0.356219   \n",
       "\n",
       "       mean_last3w_-0  mean_last3w_-30  mean_last3w_-60  mean_last3w_-90  \\\n",
       "57606        0.095958         0.099982         0.104822         0.112867   \n",
       "27650        0.288593         0.282882         0.274363         0.266951   \n",
       "73119        0.232186         0.233525         0.234909         0.237676   \n",
       "19257        0.353596         0.345071         0.335667         0.324362   \n",
       "1590         0.396190         0.388477         0.382342         0.376333   \n",
       "\n",
       "       temperature  humidity  cloudCover  pressure  Holiday  \n",
       "57606        12.62      1.00        0.98   1017.85        0  \n",
       "27650         1.72      0.96        0.88   1032.46        0  \n",
       "73119        12.42      0.91        0.85   1017.50        0  \n",
       "19257         6.64      0.77        0.07   1032.28        0  \n",
       "1590          9.68      0.71        0.27   1032.78        0  "
      ]
     },
     "execution_count": 256,
     "metadata": {},
     "output_type": "execute_result"
    }
   ],
   "source": [
    "df.sample(5)"
   ]
  },
  {
   "cell_type": "markdown",
   "metadata": {
    "collapsed": true
   },
   "source": [
    "Now that we have created all features in our model, we can save it to a file for easier access. Then we can start the prediction."
   ]
  },
  {
   "cell_type": "code",
   "execution_count": 257,
   "metadata": {
    "collapsed": true
   },
   "outputs": [],
   "source": [
    "df.to_csv('outputs/feature_model.csv')"
   ]
  },
  {
   "cell_type": "markdown",
   "metadata": {},
   "source": [
    "### Prediction"
   ]
  }
 ],
 "metadata": {
  "kernelspec": {
   "display_name": "Python 3",
   "language": "python",
   "name": "python3"
  },
  "language_info": {
   "codemirror_mode": {
    "name": "ipython",
    "version": 3
   },
   "file_extension": ".py",
   "mimetype": "text/x-python",
   "name": "python",
   "nbconvert_exporter": "python",
   "pygments_lexer": "ipython3",
   "version": "3.6.0"
  }
 },
 "nbformat": 4,
 "nbformat_minor": 2
}
