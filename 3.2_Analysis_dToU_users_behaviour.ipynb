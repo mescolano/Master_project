{
 "cells": [
  {
   "cell_type": "markdown",
   "metadata": {
    "collapsed": true
   },
   "source": [
    "## 3.2  Analysis of dToU users behavioural changes"
   ]
  },
  {
   "cell_type": "markdown",
   "metadata": {},
   "source": [
    "In this section we will calculate the consumption and price of electricity paid by each dToU user in 2013. We will also calculate both values for each user in 2012 to know how each individual user has changed his electricity consumption behaviour:\n",
    "\n",
    "-Total consumption\n",
    "\n",
    "-Price paid per kWh: a lower mean price would indicate that the user has indeed tried to increase his consumption when prices were low and decrease if when the tariff was high."
   ]
  },
  {
   "cell_type": "markdown",
   "metadata": {},
   "source": [
    "The commented lines are not necessary with the configuration in our Virtual Machine."
   ]
  },
  {
   "cell_type": "code",
   "execution_count": 4,
   "metadata": {
    "collapsed": false
   },
   "outputs": [
    {
     "data": {
      "text/plain": [
       "<pyspark.context.SparkContext at 0x7ff185d41d90>"
      ]
     },
     "execution_count": 4,
     "metadata": {},
     "output_type": "execute_result"
    }
   ],
   "source": [
    "#from pyspark import SparkContext\n",
    "#sc = SparkContext()\n",
    "#from pyspark import sqlContext\n",
    "from datetime import datetime\n",
    "import numpy as np\n",
    "from pyspark import Row\n",
    "sc"
   ]
  },
  {
   "cell_type": "code",
   "execution_count": 1,
   "metadata": {
    "collapsed": true
   },
   "outputs": [],
   "source": [
    "path = 'Power-Networks-LCL-June2015.bz2'"
   ]
  },
  {
   "cell_type": "code",
   "execution_count": 2,
   "metadata": {
    "collapsed": true
   },
   "outputs": [],
   "source": [
    "data = sc.textFile(path)"
   ]
  },
  {
   "cell_type": "code",
   "execution_count": 3,
   "metadata": {
    "collapsed": false
   },
   "outputs": [
    {
     "data": {
      "text/plain": [
       "[u'Archive:  Power-Networks-LCL-June2015(withAcornGps).zip',\n",
       " u'  inflating: Power-Networks-LCL-June2015(withAcornGps)v2.csv  ',\n",
       " u'LCLid,stdorToU,DateTime,KWH/hh (per half hour) ,Acorn,Acorn_grouped',\n",
       " u'MAC000002,Std,2012-10-12 00:30:00.0000000, 0 ,ACORN-A,Affluent',\n",
       " u'MAC000002,Std,2012-10-12 01:00:00.0000000, 0 ,ACORN-A,Affluent']"
      ]
     },
     "execution_count": 3,
     "metadata": {},
     "output_type": "execute_result"
    }
   ],
   "source": [
    "data.take(5)"
   ]
  },
  {
   "cell_type": "code",
   "execution_count": 5,
   "metadata": {
    "collapsed": false
   },
   "outputs": [],
   "source": [
    "data_no_header = data.zipWithIndex().filter(lambda x: x[1] > 2).keys()"
   ]
  },
  {
   "cell_type": "code",
   "execution_count": 6,
   "metadata": {
    "collapsed": true
   },
   "outputs": [],
   "source": [
    "def line2tuple(l):\n",
    "    fields = l.split(',')\n",
    "    if len(fields) == 6: \n",
    "\n",
    "#We have seen that there is at least one line in the file that does not follow the format.\n",
    "#This condition is to avoid an \"Index out of range\" error. \n",
    "        ID = fields[0]\n",
    "        tariff = fields[1]\n",
    "        DateTime = fields[2]\n",
    "        ACORN = fields[4]\n",
    "        ACORN_grouped = fields[5]\n",
    "        try:\n",
    "            consumption = float(fields[3])\n",
    "        except ValueError:\n",
    "            consumption = np.nan\n",
    "        return (ID, tariff, DateTime, consumption,ACORN,ACORN_grouped)\n",
    "    else:\n",
    "        return (np.nan,np.nan,np.nan,np.nan,np.nan,np.nan)\n",
    "   \n",
    "#We treat any line that does not follow the general format as NaN. \n",
    "#We will remove them afterwards"
   ]
  },
  {
   "cell_type": "code",
   "execution_count": 7,
   "metadata": {
    "collapsed": false
   },
   "outputs": [],
   "source": [
    "rows = data_no_header.map(line2tuple).filter(lambda (_1,t,_2,_3,_4,_5): t == 'ToU')\\\n",
    ".map(lambda x: Row(ID = x[0], DateTime = x[2], kWh_30min = x[3], ACORN = x[4]\n",
    "                   ,ACORN_grouped = x[5] ))"
   ]
  },
  {
   "cell_type": "code",
   "execution_count": 8,
   "metadata": {
    "collapsed": false
   },
   "outputs": [
    {
     "data": {
      "text/plain": [
       "<bound method DataFrame.printSchema of DataFrame[ACORN: string, ACORN_grouped: string, DateTime: string, ID: string, kWh_30min: double]>"
      ]
     },
     "execution_count": 8,
     "metadata": {},
     "output_type": "execute_result"
    }
   ],
   "source": [
    "df = rows.toDF()\n",
    "df.printSchema"
   ]
  },
  {
   "cell_type": "code",
   "execution_count": 9,
   "metadata": {
    "collapsed": true
   },
   "outputs": [],
   "source": [
    "from pyspark.sql.types import TimestampType\n",
    "df = df.withColumn('DateTime', df['DateTime'].cast(TimestampType()))"
   ]
  },
  {
   "cell_type": "code",
   "execution_count": 7,
   "metadata": {
    "collapsed": false
   },
   "outputs": [
    {
     "name": "stdout",
     "output_type": "stream",
     "text": [
      "--2017-04-23 12:40:47--  https://files.datapress.com/london/dataset/smartmeter-energy-use-data-in-london-households/Tariffs.xlsx\n",
      "Resolving files.datapress.com (files.datapress.com)... 54.230.79.118, 54.230.79.137, 54.230.79.21, ...\n",
      "Connecting to files.datapress.com (files.datapress.com)|54.230.79.118|:443... connected.\n",
      "HTTP request sent, awaiting response... 200 OK\n",
      "Length: 245384 (240K) [application/vnd.openxmlformats-officedocument.spreadsheetml.sheet]\n",
      "Saving to: ‘Tariffs.xlsx’\n",
      "\n",
      "Tariffs.xlsx        100%[===================>] 239.63K  1.54MB/s    in 0.2s    \n",
      "\n",
      "2017-04-23 12:40:48 (1.54 MB/s) - ‘Tariffs.xlsx’ saved [245384/245384]\n",
      "\n"
     ]
    }
   ],
   "source": [
    "#Download tariffs\n",
    "!wget 'https://files.datapress.com/london/dataset/smartmeter-energy-use-data-in-london-households/Tariffs.xlsx'"
   ]
  },
  {
   "cell_type": "code",
   "execution_count": 10,
   "metadata": {
    "collapsed": false
   },
   "outputs": [],
   "source": [
    "import pandas as pd\n",
    "tariffs = pd.read_excel('Tariffs.xlsx')"
   ]
  },
  {
   "cell_type": "code",
   "execution_count": 124,
   "metadata": {
    "collapsed": false
   },
   "outputs": [
    {
     "data": {
      "text/html": [
       "<div>\n",
       "<table border=\"1\" class=\"dataframe\">\n",
       "  <thead>\n",
       "    <tr style=\"text-align: right;\">\n",
       "      <th></th>\n",
       "      <th>TariffDateTime</th>\n",
       "      <th>Tariff</th>\n",
       "    </tr>\n",
       "  </thead>\n",
       "  <tbody>\n",
       "    <tr>\n",
       "      <th>0</th>\n",
       "      <td>2013-01-01 00:00:00</td>\n",
       "      <td>Normal</td>\n",
       "    </tr>\n",
       "    <tr>\n",
       "      <th>1</th>\n",
       "      <td>2013-01-01 00:30:00</td>\n",
       "      <td>Normal</td>\n",
       "    </tr>\n",
       "    <tr>\n",
       "      <th>2</th>\n",
       "      <td>2013-01-01 01:00:00</td>\n",
       "      <td>Normal</td>\n",
       "    </tr>\n",
       "    <tr>\n",
       "      <th>3</th>\n",
       "      <td>2013-01-01 01:30:00</td>\n",
       "      <td>Normal</td>\n",
       "    </tr>\n",
       "    <tr>\n",
       "      <th>4</th>\n",
       "      <td>2013-01-01 02:00:00</td>\n",
       "      <td>Normal</td>\n",
       "    </tr>\n",
       "  </tbody>\n",
       "</table>\n",
       "</div>"
      ],
      "text/plain": [
       "       TariffDateTime  Tariff\n",
       "0 2013-01-01 00:00:00  Normal\n",
       "1 2013-01-01 00:30:00  Normal\n",
       "2 2013-01-01 01:00:00  Normal\n",
       "3 2013-01-01 01:30:00  Normal\n",
       "4 2013-01-01 02:00:00  Normal"
      ]
     },
     "execution_count": 124,
     "metadata": {},
     "output_type": "execute_result"
    }
   ],
   "source": [
    "tariffs.head(5)"
   ]
  },
  {
   "cell_type": "markdown",
   "metadata": {},
   "source": [
    "We need the actual values of the tariff, so High = 67.20p/kWh, Low = 3.99p/kWh and Normal = 11.76p/kWh."
   ]
  },
  {
   "cell_type": "code",
   "execution_count": 11,
   "metadata": {
    "collapsed": false
   },
   "outputs": [],
   "source": [
    "tariffs.ix[tariffs['Tariff'] == 'Normal', 'Tariff_value'] = 11.76\n",
    "tariffs.ix[tariffs['Tariff'] == 'High', 'Tariff_value'] = 67.20\n",
    "tariffs.ix[tariffs['Tariff'] == 'Low', 'Tariff_value'] = 3.99"
   ]
  },
  {
   "cell_type": "code",
   "execution_count": 12,
   "metadata": {
    "collapsed": false
   },
   "outputs": [],
   "source": [
    "tariffs = tariffs.rename(columns = {'TariffDateTime' : 'DateTime'})"
   ]
  },
  {
   "cell_type": "code",
   "execution_count": 13,
   "metadata": {
    "collapsed": false
   },
   "outputs": [
    {
     "data": {
      "text/html": [
       "<div>\n",
       "<table border=\"1\" class=\"dataframe\">\n",
       "  <thead>\n",
       "    <tr style=\"text-align: right;\">\n",
       "      <th></th>\n",
       "      <th>DateTime</th>\n",
       "      <th>Tariff</th>\n",
       "      <th>Tariff_value</th>\n",
       "    </tr>\n",
       "  </thead>\n",
       "  <tbody>\n",
       "    <tr>\n",
       "      <th>3367</th>\n",
       "      <td>2013-03-12 03:30:00</td>\n",
       "      <td>Normal</td>\n",
       "      <td>11.76</td>\n",
       "    </tr>\n",
       "    <tr>\n",
       "      <th>8583</th>\n",
       "      <td>2013-06-28 19:30:00</td>\n",
       "      <td>Normal</td>\n",
       "      <td>11.76</td>\n",
       "    </tr>\n",
       "    <tr>\n",
       "      <th>12512</th>\n",
       "      <td>2013-09-18 16:00:00</td>\n",
       "      <td>Normal</td>\n",
       "      <td>11.76</td>\n",
       "    </tr>\n",
       "    <tr>\n",
       "      <th>15924</th>\n",
       "      <td>2013-11-28 18:00:00</td>\n",
       "      <td>Normal</td>\n",
       "      <td>11.76</td>\n",
       "    </tr>\n",
       "    <tr>\n",
       "      <th>10347</th>\n",
       "      <td>2013-08-04 13:30:00</td>\n",
       "      <td>Normal</td>\n",
       "      <td>11.76</td>\n",
       "    </tr>\n",
       "  </tbody>\n",
       "</table>\n",
       "</div>"
      ],
      "text/plain": [
       "                 DateTime  Tariff  Tariff_value\n",
       "3367  2013-03-12 03:30:00  Normal         11.76\n",
       "8583  2013-06-28 19:30:00  Normal         11.76\n",
       "12512 2013-09-18 16:00:00  Normal         11.76\n",
       "15924 2013-11-28 18:00:00  Normal         11.76\n",
       "10347 2013-08-04 13:30:00  Normal         11.76"
      ]
     },
     "execution_count": 13,
     "metadata": {},
     "output_type": "execute_result"
    }
   ],
   "source": [
    "tariffs.sample(5)"
   ]
  },
  {
   "cell_type": "code",
   "execution_count": 14,
   "metadata": {
    "collapsed": false
   },
   "outputs": [],
   "source": [
    "tariffs = tariffs.drop('Tariff', axis = 1)"
   ]
  },
  {
   "cell_type": "code",
   "execution_count": 15,
   "metadata": {
    "collapsed": false
   },
   "outputs": [],
   "source": [
    "tariffs['DateTime'] = tariffs['DateTime'].astype(str)"
   ]
  },
  {
   "cell_type": "code",
   "execution_count": 16,
   "metadata": {
    "collapsed": false
   },
   "outputs": [],
   "source": [
    "t = sqlContext.createDataFrame(tariffs) "
   ]
  },
  {
   "cell_type": "code",
   "execution_count": 17,
   "metadata": {
    "collapsed": false
   },
   "outputs": [],
   "source": [
    "t = t.withColumn('DateTime', t['DateTime'].cast(TimestampType()))"
   ]
  },
  {
   "cell_type": "code",
   "execution_count": null,
   "metadata": {
    "collapsed": false
   },
   "outputs": [],
   "source": [
    "t.show(3)"
   ]
  },
  {
   "cell_type": "markdown",
   "metadata": {},
   "source": [
    "Now we can join consumption and tariff data and calculate the price paid for each measurement point: Consumption * Tariff "
   ]
  },
  {
   "cell_type": "code",
   "execution_count": 18,
   "metadata": {
    "collapsed": true
   },
   "outputs": [],
   "source": [
    "import pyspark.sql.functions as F"
   ]
  },
  {
   "cell_type": "code",
   "execution_count": 133,
   "metadata": {
    "collapsed": false
   },
   "outputs": [],
   "source": [
    "joined = df.filter(F.year('DateTime') == 2013).join(t, 'DateTime', 'left_outer')\\\n",
    "    .withColumn('price', df.kWh_30min*t.Tariff_value)"
   ]
  },
  {
   "cell_type": "code",
   "execution_count": 134,
   "metadata": {
    "collapsed": true
   },
   "outputs": [],
   "source": [
    "ToU_by_ID = joined.dropna().groupBy('ID', 'ACORN', 'ACORN_grouped')\\\n",
    "    .agg(F.count('kWh_30min').alias('count'),\n",
    "         F.mean('kWh_30min').alias('mean_consumption'),\n",
    "         F.sum('kWh_30min').alias('sum_consumption'),\n",
    "         F.sum('price').alias('sum_price')\n",
    "        )"
   ]
  },
  {
   "cell_type": "code",
   "execution_count": 135,
   "metadata": {
    "collapsed": false
   },
   "outputs": [],
   "source": [
    "ToU_by_ID.toPandas().to_csv('outputs/ToU_by_ID.csv')"
   ]
  },
  {
   "cell_type": "code",
   "execution_count": 136,
   "metadata": {
    "collapsed": true
   },
   "outputs": [],
   "source": [
    "ToU_by_ID_Tariff = joined.dropna()\\\n",
    "    .groupBy('ID', 'ACORN', 'ACORN_grouped', 'Tariff_value')\\\n",
    "    .agg(F.mean('kWh_30min').alias('mean_consumption'),\n",
    "         F.sum('kWh_30min').alias('sum_consumption'),\n",
    "         F.min('kWh_30min').alias('min_consumption'),\n",
    "         F.max('kWh_30min').alias('max_consumption'),\n",
    "         F.stddev('kWh_30min').alias('stddev_consumption'),\n",
    "         F.sum('price').alias('sum_price')\n",
    "        )"
   ]
  },
  {
   "cell_type": "code",
   "execution_count": 137,
   "metadata": {
    "collapsed": false
   },
   "outputs": [],
   "source": [
    "ToU_by_ID_Tariff.toPandas().to_csv('outputs/ToU_by_ID_Tariff.csv')"
   ]
  },
  {
   "cell_type": "code",
   "execution_count": 138,
   "metadata": {
    "collapsed": true
   },
   "outputs": [],
   "source": [
    "ToU_by_ID_hour = joined.dropna()\\\n",
    "    .groupBy('ID', 'ACORN', 'ACORN_grouped', F.month('DateTime').alias('Month'), \n",
    "             F.hour('DateTime').alias('Hour'))\\\n",
    "    .agg(F.count('kWh_30min').alias('count'),\n",
    "         F.mean('kWh_30min').alias('mean_consumption'),\n",
    "         F.sum('kWh_30min').alias('sum_consumption'),\n",
    "         F.min('kWh_30min').alias('min_consumption'),\n",
    "         F.max('kWh_30min').alias('max_consumption'),\n",
    "         F.stddev('kWh_30min').alias('stddev_consumption'),\n",
    "         F.sum('price').alias('sum_price')\n",
    "        )"
   ]
  },
  {
   "cell_type": "code",
   "execution_count": 139,
   "metadata": {
    "collapsed": true
   },
   "outputs": [],
   "source": [
    "ToU_by_ID_hour.toPandas().to_csv('outputs/ToU_by_ID_hour.csv')"
   ]
  },
  {
   "cell_type": "markdown",
   "metadata": {},
   "source": [
    "In order to compare consumption of ToU users in 2012 (with standard flat rate tariff) and 2013 (with dToU) we will perform the same aggregations with 2012 data as we did with 2013. Then we will be able to study how each user has changed his consumption behavioural patterns (e.g. if they have really shifted to lower tariffs or by chance their usual consumption was already when tariffs happened to be low). For this purpose we propose joining 2012 consumption data to 2013 dToU tariff prices and study these consumption shifts."
   ]
  },
  {
   "cell_type": "markdown",
   "metadata": {},
   "source": [
    "In order to join 2012 data with the tariff dataframe, we need to add one year to all timestamps. Pyspark SQL Contexto provides the function add_months and date_add which could be very handy... but they keep only the date (not the time)."
   ]
  },
  {
   "cell_type": "code",
   "execution_count": null,
   "metadata": {
    "collapsed": false
   },
   "outputs": [],
   "source": [
    "df.filter(F.year('DateTime') == 2012)\\\n",
    "    .withColumn('DateTime',F.add_months(df['DateTime'],12)).take(3)"
   ]
  },
  {
   "cell_type": "code",
   "execution_count": null,
   "metadata": {
    "collapsed": false
   },
   "outputs": [],
   "source": [
    "df.filter(F.year('DateTime') == 2012)\\\n",
    "    .withColumn('DateTime',F.date_add(df['DateTime'],366)).take(3)"
   ]
  },
  {
   "cell_type": "markdown",
   "metadata": {},
   "source": [
    "Therefore we need to convert the DateTime column to Unix timestamps (in seconds), add one year in seconds and convert it back to TimestampType. We have to bear in mind that 2012 was a leap year so we have to add $366·24·60·60$ seconds."
   ]
  },
  {
   "cell_type": "code",
   "execution_count": 140,
   "metadata": {
    "collapsed": false
   },
   "outputs": [
    {
     "data": {
      "text/plain": [
       "[Row(ACORN=u'ACORN-C', ACORN_grouped=u'Affluent', DateTime=datetime.datetime(2013, 6, 2, 10, 30), ID=u'MAC000005', kWh_30min=0.095),\n",
       " Row(ACORN=u'ACORN-C', ACORN_grouped=u'Affluent', DateTime=datetime.datetime(2013, 6, 2, 11, 0), ID=u'MAC000005', kWh_30min=0.051),\n",
       " Row(ACORN=u'ACORN-C', ACORN_grouped=u'Affluent', DateTime=datetime.datetime(2013, 6, 2, 11, 30), ID=u'MAC000005', kWh_30min=0.098)]"
      ]
     },
     "execution_count": 140,
     "metadata": {},
     "output_type": "execute_result"
    }
   ],
   "source": [
    "df.filter(F.year('DateTime') == 2012)\\\n",
    "    .withColumn('DateTime',(F.unix_timestamp(df['DateTime'])+366*24*60*60).cast(TimestampType()))\\\n",
    "    .take(3)"
   ]
  },
  {
   "cell_type": "code",
   "execution_count": 19,
   "metadata": {
    "collapsed": true
   },
   "outputs": [],
   "source": [
    "joined12 = df.filter(F.year('DateTime') == 2012)\\\n",
    ".withColumn('DateTime',(F.unix_timestamp(df['DateTime'])+366*24*60*60).cast(TimestampType()))\\\n",
    ".join(t, 'DateTime', 'left_outer').withColumn('price', df.kWh_30min*t.Tariff_value)"
   ]
  },
  {
   "cell_type": "code",
   "execution_count": 28,
   "metadata": {
    "collapsed": false
   },
   "outputs": [
    {
     "data": {
      "text/plain": [
       "[Row(DateTime=datetime.datetime(2013, 1, 2, 8, 0), ACORN=u'ACORN-E', ACORN_grouped=u'Affluent', ID=u'MAC000015', kWh_30min=0.12, Tariff_value=11.76, price=1.4112),\n",
       " Row(DateTime=datetime.datetime(2013, 1, 2, 8, 0), ACORN=u'ACORN-C', ACORN_grouped=u'Affluent', ID=u'MAC000017', kWh_30min=0.212, Tariff_value=11.76, price=2.49312),\n",
       " Row(DateTime=datetime.datetime(2013, 1, 2, 8, 0), ACORN=u'ACORN-Q', ACORN_grouped=u'Adversity', ID=u'MAC000031', kWh_30min=0.16, Tariff_value=11.76, price=1.8816)]"
      ]
     },
     "execution_count": 28,
     "metadata": {},
     "output_type": "execute_result"
    }
   ],
   "source": [
    "joined12.take(3)"
   ]
  },
  {
   "cell_type": "code",
   "execution_count": 144,
   "metadata": {
    "collapsed": false
   },
   "outputs": [
    {
     "data": {
      "text/plain": [
       "DataFrame[ID: string, ACORN: string, ACORN_grouped: string, Month: int, Hour: int, count: bigint, mean_consumption: double, sum_consumption: double, min_consumption: double, max_consumption: double, stddev_consumption: double, sum_price: double]"
      ]
     },
     "execution_count": 144,
     "metadata": {},
     "output_type": "execute_result"
    }
   ],
   "source": [
    "ToU_by_ID_hour.unpersist()"
   ]
  },
  {
   "cell_type": "code",
   "execution_count": 145,
   "metadata": {
    "collapsed": false
   },
   "outputs": [
    {
     "data": {
      "text/plain": [
       "DataFrame[DateTime: timestamp, ACORN: string, ACORN_grouped: string, ID: string, kWh_30min: double, Tariff_value: double, price: double]"
      ]
     },
     "execution_count": 145,
     "metadata": {},
     "output_type": "execute_result"
    }
   ],
   "source": [
    "joined.unpersist()"
   ]
  },
  {
   "cell_type": "code",
   "execution_count": 20,
   "metadata": {
    "collapsed": false
   },
   "outputs": [],
   "source": [
    "ToU_by_ID_hour_2012 = joined12.dropna()\\\n",
    "    .groupBy('ID', 'ACORN', 'ACORN_grouped', F.month('DateTime').alias('Month'), \n",
    "             F.hour('DateTime').alias('Hour'))\\\n",
    "    .agg(F.count('kWh_30min').alias('count'),\n",
    "         F.mean('kWh_30min').alias('mean_consumption'),\n",
    "         F.sum('kWh_30min').alias('sum_consumption'),\n",
    "         F.min('kWh_30min').alias('min_consumption'),\n",
    "         F.max('kWh_30min').alias('max_consumption'),\n",
    "         F.stddev('kWh_30min').alias('stddev_consumption'),\n",
    "         F.sum('price').alias('sum_price')\n",
    "        )"
   ]
  },
  {
   "cell_type": "code",
   "execution_count": 21,
   "metadata": {
    "collapsed": false
   },
   "outputs": [],
   "source": [
    "ToU_by_ID_hour_2012.toPandas().to_csv('outputs/ToU_by_ID_hour_2012.csv')"
   ]
  },
  {
   "cell_type": "markdown",
   "metadata": {},
   "source": [
    "Let us calculate the consumption of standard users during 2013 and that of ToU users during 2012."
   ]
  },
  {
   "cell_type": "code",
   "execution_count": null,
   "metadata": {
    "collapsed": false
   },
   "outputs": [],
   "source": [
    "Std_by_ID_2013 = data_no_header.map(line2tuple).filter(lambda (_1,t,_2,_3,_4): t == 'Std')\\\n",
    ".map(lambda x: Row(ID = x[0], DateTime = x[2], kWh_30min = x[3], ACORN = x[4])).toDF()"
   ]
  },
  {
   "cell_type": "code",
   "execution_count": null,
   "metadata": {
    "collapsed": false
   },
   "outputs": [],
   "source": [
    "Std_by_ID_2013 = \\\n",
    "Std_by_ID_2013.withColumn('DateTime', Std_by_ID_2013['DateTime'].cast(TimestampType()))\\\n",
    ".filter(F.year('DateTime') == 2013).groupBy('ID', 'ACORN', 'ACORN_grouped')\\\n",
    "    .agg(F.count('kWh_30min').alias('count'),\n",
    "         F.mean('kWh_30min').alias('mean_consumption'),\n",
    "        )"
   ]
  },
  {
   "cell_type": "code",
   "execution_count": null,
   "metadata": {
    "collapsed": true
   },
   "outputs": [],
   "source": [
    "Std_by_ID_2013.toPandas().to_csv('outputs/Std_by_ID_2013.csv')"
   ]
  },
  {
   "cell_type": "code",
   "execution_count": null,
   "metadata": {
    "collapsed": true
   },
   "outputs": [],
   "source": [
    "ToU_by_ID_2012 = data_no_header.map(line2tuple).filter(lambda (_1,t,_2,_3,_4): t == 'ToU')\\\n",
    ".map(lambda x: Row(ID = x[0], DateTime = x[2], kWh_30min = x[3], ACORN = x[4])).toDF()"
   ]
  },
  {
   "cell_type": "code",
   "execution_count": null,
   "metadata": {
    "collapsed": false
   },
   "outputs": [],
   "source": [
    "ToU_by_ID_2012_a = ToU_by_ID_2012\\\n",
    ".withColumn('DateTime', ToU_by_ID_2012['DateTime'].cast(TimestampType()))\\\n",
    ".filter(F.year('DateTime') == 2012).groupBy('ID', 'ACORN', 'ACORN_grouped')\\\n",
    "    .agg(F.count('kWh_30min').alias('count'),\n",
    "         F.mean('kWh_30min').alias('mean_consumption')\n",
    "        )"
   ]
  },
  {
   "cell_type": "code",
   "execution_count": null,
   "metadata": {
    "collapsed": false
   },
   "outputs": [],
   "source": [
    "ToU_by_ID_2012_a.toPandas().to_csv('outputs/ToU_by_ID_2012.csv')"
   ]
  },
  {
   "cell_type": "markdown",
   "metadata": {},
   "source": [
    "#### Exploring and drawing aggregate data"
   ]
  },
  {
   "cell_type": "markdown",
   "metadata": {},
   "source": [
    "Now we can use Python (pandas and matplotlib/seaborn) to answer some questions."
   ]
  },
  {
   "cell_type": "code",
   "execution_count": 22,
   "metadata": {
    "collapsed": true
   },
   "outputs": [],
   "source": [
    "import pandas as pd\n",
    "import matplotlib.pyplot as plt\n",
    "%matplotlib inline\n",
    "import seaborn as sns"
   ]
  },
  {
   "cell_type": "code",
   "execution_count": 74,
   "metadata": {
    "collapsed": false
   },
   "outputs": [],
   "source": [
    "ToU_users_2013 = pd.read_csv('outputs/ToU_by_ID.csv', index_col=0)"
   ]
  },
  {
   "cell_type": "code",
   "execution_count": 75,
   "metadata": {
    "collapsed": false
   },
   "outputs": [
    {
     "data": {
      "text/html": [
       "<div>\n",
       "<table border=\"1\" class=\"dataframe\">\n",
       "  <thead>\n",
       "    <tr style=\"text-align: right;\">\n",
       "      <th></th>\n",
       "      <th>ID</th>\n",
       "      <th>ACORN</th>\n",
       "      <th>ACORN_grouped</th>\n",
       "      <th>count</th>\n",
       "      <th>mean_consumption</th>\n",
       "      <th>sum_consumption</th>\n",
       "      <th>sum_price</th>\n",
       "    </tr>\n",
       "  </thead>\n",
       "  <tbody>\n",
       "    <tr>\n",
       "      <th>766</th>\n",
       "      <td>MAC001281</td>\n",
       "      <td>ACORN-F</td>\n",
       "      <td>Comfortable</td>\n",
       "      <td>7688</td>\n",
       "      <td>0.031051</td>\n",
       "      <td>238.719000</td>\n",
       "      <td>3233.690670</td>\n",
       "    </tr>\n",
       "    <tr>\n",
       "      <th>1101</th>\n",
       "      <td>MAC001179</td>\n",
       "      <td>ACORN-Q</td>\n",
       "      <td>Adversity</td>\n",
       "      <td>17536</td>\n",
       "      <td>0.241186</td>\n",
       "      <td>4229.436000</td>\n",
       "      <td>58470.727767</td>\n",
       "    </tr>\n",
       "    <tr>\n",
       "      <th>154</th>\n",
       "      <td>MAC003145</td>\n",
       "      <td>ACORN-H</td>\n",
       "      <td>Comfortable</td>\n",
       "      <td>17536</td>\n",
       "      <td>0.075604</td>\n",
       "      <td>1325.799999</td>\n",
       "      <td>14690.708967</td>\n",
       "    </tr>\n",
       "    <tr>\n",
       "      <th>209</th>\n",
       "      <td>MAC003461</td>\n",
       "      <td>ACORN-J</td>\n",
       "      <td>Comfortable</td>\n",
       "      <td>17534</td>\n",
       "      <td>0.140809</td>\n",
       "      <td>2468.938000</td>\n",
       "      <td>36397.643101</td>\n",
       "    </tr>\n",
       "    <tr>\n",
       "      <th>363</th>\n",
       "      <td>MAC002061</td>\n",
       "      <td>ACORN-F</td>\n",
       "      <td>Comfortable</td>\n",
       "      <td>17535</td>\n",
       "      <td>0.096726</td>\n",
       "      <td>1696.095000</td>\n",
       "      <td>23183.239590</td>\n",
       "    </tr>\n",
       "  </tbody>\n",
       "</table>\n",
       "</div>"
      ],
      "text/plain": [
       "             ID    ACORN ACORN_grouped  count  mean_consumption  \\\n",
       "766   MAC001281  ACORN-F   Comfortable   7688          0.031051   \n",
       "1101  MAC001179  ACORN-Q     Adversity  17536          0.241186   \n",
       "154   MAC003145  ACORN-H   Comfortable  17536          0.075604   \n",
       "209   MAC003461  ACORN-J   Comfortable  17534          0.140809   \n",
       "363   MAC002061  ACORN-F   Comfortable  17535          0.096726   \n",
       "\n",
       "      sum_consumption     sum_price  \n",
       "766        238.719000   3233.690670  \n",
       "1101      4229.436000  58470.727767  \n",
       "154       1325.799999  14690.708967  \n",
       "209       2468.938000  36397.643101  \n",
       "363       1696.095000  23183.239590  "
      ]
     },
     "execution_count": 75,
     "metadata": {},
     "output_type": "execute_result"
    }
   ],
   "source": [
    "ToU_users_2013.sample(5)"
   ]
  },
  {
   "cell_type": "markdown",
   "metadata": {},
   "source": [
    "We can calculate the mean price paid by each user as:\n",
    "\n",
    "$$\\frac{\\sum_{i=t_1}^{i=t_N} Consumption*Price}{\\sum_{i=t_1}^{i=t_N} Consumption}$$\n",
    "\n",
    "with t_1 and t_N the first and last timestamp of the time series, respectively.\n",
    "\n",
    "We have calculated the numerator in the \"sum_price\" variable."
   ]
  },
  {
   "cell_type": "code",
   "execution_count": 76,
   "metadata": {
    "collapsed": true
   },
   "outputs": [],
   "source": [
    "ToU_users_2013['mean_price'] = ToU_users_2013['sum_price']/ToU_users_2013['sum_consumption']"
   ]
  },
  {
   "cell_type": "code",
   "execution_count": 77,
   "metadata": {
    "collapsed": false
   },
   "outputs": [
    {
     "data": {
      "text/html": [
       "<div>\n",
       "<table border=\"1\" class=\"dataframe\">\n",
       "  <thead>\n",
       "    <tr style=\"text-align: right;\">\n",
       "      <th></th>\n",
       "      <th>ID</th>\n",
       "      <th>ACORN</th>\n",
       "      <th>ACORN_grouped</th>\n",
       "      <th>count</th>\n",
       "      <th>mean_consumption</th>\n",
       "      <th>sum_consumption</th>\n",
       "      <th>sum_price</th>\n",
       "      <th>mean_price</th>\n",
       "    </tr>\n",
       "  </thead>\n",
       "  <tbody>\n",
       "    <tr>\n",
       "      <th>46</th>\n",
       "      <td>MAC002915</td>\n",
       "      <td>ACORN-H</td>\n",
       "      <td>Comfortable</td>\n",
       "      <td>17534</td>\n",
       "      <td>0.278487</td>\n",
       "      <td>4882.984001</td>\n",
       "      <td>67648.981274</td>\n",
       "      <td>13.854025</td>\n",
       "    </tr>\n",
       "    <tr>\n",
       "      <th>619</th>\n",
       "      <td>MAC003272</td>\n",
       "      <td>ACORN-H</td>\n",
       "      <td>Comfortable</td>\n",
       "      <td>17536</td>\n",
       "      <td>0.419245</td>\n",
       "      <td>7351.885999</td>\n",
       "      <td>103389.834838</td>\n",
       "      <td>14.063036</td>\n",
       "    </tr>\n",
       "    <tr>\n",
       "      <th>292</th>\n",
       "      <td>MAC002593</td>\n",
       "      <td>ACORN-E</td>\n",
       "      <td>Affluent</td>\n",
       "      <td>17533</td>\n",
       "      <td>0.046167</td>\n",
       "      <td>809.447000</td>\n",
       "      <td>11079.342120</td>\n",
       "      <td>13.687545</td>\n",
       "    </tr>\n",
       "    <tr>\n",
       "      <th>276</th>\n",
       "      <td>MAC002625</td>\n",
       "      <td>ACORN-E</td>\n",
       "      <td>Affluent</td>\n",
       "      <td>17530</td>\n",
       "      <td>0.231935</td>\n",
       "      <td>4065.823999</td>\n",
       "      <td>57620.060820</td>\n",
       "      <td>14.171804</td>\n",
       "    </tr>\n",
       "    <tr>\n",
       "      <th>1092</th>\n",
       "      <td>MAC003988</td>\n",
       "      <td>ACORN-O</td>\n",
       "      <td>Adversity</td>\n",
       "      <td>17536</td>\n",
       "      <td>0.062472</td>\n",
       "      <td>1095.504000</td>\n",
       "      <td>14812.881304</td>\n",
       "      <td>13.521522</td>\n",
       "    </tr>\n",
       "  </tbody>\n",
       "</table>\n",
       "</div>"
      ],
      "text/plain": [
       "             ID    ACORN ACORN_grouped  count  mean_consumption  \\\n",
       "46    MAC002915  ACORN-H   Comfortable  17534          0.278487   \n",
       "619   MAC003272  ACORN-H   Comfortable  17536          0.419245   \n",
       "292   MAC002593  ACORN-E      Affluent  17533          0.046167   \n",
       "276   MAC002625  ACORN-E      Affluent  17530          0.231935   \n",
       "1092  MAC003988  ACORN-O     Adversity  17536          0.062472   \n",
       "\n",
       "      sum_consumption      sum_price  mean_price  \n",
       "46        4882.984001   67648.981274   13.854025  \n",
       "619       7351.885999  103389.834838   14.063036  \n",
       "292        809.447000   11079.342120   13.687545  \n",
       "276       4065.823999   57620.060820   14.171804  \n",
       "1092      1095.504000   14812.881304   13.521522  "
      ]
     },
     "execution_count": 77,
     "metadata": {},
     "output_type": "execute_result"
    }
   ],
   "source": [
    "ToU_users_2013.sample(5)"
   ]
  },
  {
   "cell_type": "markdown",
   "metadata": {},
   "source": [
    "It is worth reminding that the standard flat rate tariff is 14.228pence/kWh. That means that all users who have paid a lower mean price than this value have profited from dToU tariff and responded positively to its stimuli."
   ]
  },
  {
   "cell_type": "code",
   "execution_count": 8,
   "metadata": {
    "collapsed": true
   },
   "outputs": [],
   "source": [
    "std_price = 14.228"
   ]
  },
  {
   "cell_type": "code",
   "execution_count": 78,
   "metadata": {
    "collapsed": false
   },
   "outputs": [
    {
     "data": {
      "text/plain": [
       "count    1117.000000\n",
       "mean       13.817777\n",
       "std         0.493073\n",
       "min        11.080637\n",
       "25%        13.602893\n",
       "50%        13.839240\n",
       "75%        14.086855\n",
       "max        17.182524\n",
       "Name: mean_price, dtype: float64"
      ]
     },
     "execution_count": 78,
     "metadata": {},
     "output_type": "execute_result"
    }
   ],
   "source": [
    "ToU_users_2013['mean_price'].describe()"
   ]
  },
  {
   "cell_type": "code",
   "execution_count": 39,
   "metadata": {
    "collapsed": false
   },
   "outputs": [
    {
     "data": {
      "image/png": "[encoded data removed]",
      "text/plain": [
       "<matplotlib.figure.Figure at 0x7f27be9e9210>"
      ]
     },
     "metadata": {},
     "output_type": "display_data"
    }
   ],
   "source": [
    "_ = sns.boxplot(x=ToU_users_2013['mean_price'])"
   ]
  },
  {
   "cell_type": "code",
   "execution_count": 10,
   "metadata": {
    "collapsed": false
   },
   "outputs": [
    {
     "data": {
      "text/plain": [
       "85.317815577439575"
      ]
     },
     "execution_count": 10,
     "metadata": {},
     "output_type": "execute_result"
    }
   ],
   "source": [
    "from scipy import stats\n",
    "stats.percentileofscore(ToU_users_2013['mean_price'],14.228)"
   ]
  },
  {
   "cell_type": "markdown",
   "metadata": {},
   "source": [
    "85% of the users paid less for their kWh than the standard flat rate tariff user. It is possible than some of these did not really react to tariff changes, but it is clear that the remaining 15% did not react to dToU."
   ]
  },
  {
   "cell_type": "code",
   "execution_count": 79,
   "metadata": {
    "collapsed": false
   },
   "outputs": [
    {
     "data": {
      "text/plain": [
       "count    78.507169\n",
       "mean      0.971168\n",
       "std       0.034655\n",
       "min       0.778791\n",
       "25%       0.956065\n",
       "50%       0.972676\n",
       "75%       0.990080\n",
       "max       1.207656\n",
       "Name: mean_price, dtype: float64"
      ]
     },
     "execution_count": 79,
     "metadata": {},
     "output_type": "execute_result"
    }
   ],
   "source": [
    "ToU_users_2013['mean_price'].describe()/std_price"
   ]
  },
  {
   "cell_type": "markdown",
   "metadata": {},
   "source": [
    "The median dToU user paid 2.7% per kWh. Mean and median values are close to each other, but there are more outliers in the lower range than in the upper one. The smartest user paid over 28% less for his consumption!"
   ]
  },
  {
   "cell_type": "markdown",
   "metadata": {},
   "source": [
    "##### Now we will investigate whether different socioeconomic consumer groups respond in different ways to the same dynamic tariff."
   ]
  },
  {
   "cell_type": "markdown",
   "metadata": {},
   "source": [
    "ACORN is a socioeconomic segmentation which attempts to describe customer behaviour used in the UK. There are 6 top-level groups which are further segregated into the lower-level segments defined by a letter as we have in our dataset. These are defined as follows:\n",
    "\n",
    "Affluent Achievers:\n",
    "\n",
    "-A: Lavish Lifestyles\n",
    "\n",
    "-B: Executive Wealth\n",
    "\n",
    "-C: Mature Money\n",
    "\n",
    "\n",
    "Rising Prosperity:\n",
    "\n",
    "-D: City Sophisticates\n",
    "\n",
    "-E: Career Climbers\n",
    "\n",
    "\n",
    "Comfortable Communities:\n",
    "\n",
    "-F: Countryside Communities\n",
    "\n",
    "-G: Successful Suburbs\n",
    "\n",
    "-H: Steady Neighbourhoods\n",
    "\n",
    "-I: Comfortable Seniors\n",
    "\n",
    "-J: Starting Out\n",
    "\n",
    "\n",
    "Financially Stretched:\n",
    "\n",
    "-K: Student Life\n",
    "\n",
    "-L: Modest means\n",
    "\n",
    "-M: Striving Families\n",
    "\n",
    "-N: Poorer Pensioners\n",
    "\n",
    "\n",
    "Urban Adversity\n",
    "\n",
    "-O: Young Hardship\n",
    "\n",
    "-P: Struggling Estates\n",
    "\n",
    "-Q: Difficult Circumstances\n",
    "\n",
    "\n",
    "Not Private Households:\n",
    "\n",
    "-R: Not Private Households\n",
    "\n",
    "For more information refer to:\n",
    "http://acorn.caci.co.uk/downloads/Acorn-User-guide.pdf"
   ]
  },
  {
   "cell_type": "code",
   "execution_count": 12,
   "metadata": {
    "collapsed": false
   },
   "outputs": [],
   "source": [
    "ACORN_levels = ToU_users_2013['ACORN'].unique()"
   ]
  },
  {
   "cell_type": "code",
   "execution_count": 13,
   "metadata": {
    "collapsed": false
   },
   "outputs": [
    {
     "data": {
      "text/plain": [
       "array(['ACORN-', 'ACORN-A', 'ACORN-B', 'ACORN-C', 'ACORN-D', 'ACORN-E',\n",
       "       'ACORN-F', 'ACORN-G', 'ACORN-H', 'ACORN-I', 'ACORN-J', 'ACORN-K',\n",
       "       'ACORN-L', 'ACORN-M', 'ACORN-N', 'ACORN-O', 'ACORN-P', 'ACORN-Q',\n",
       "       'ACORN-U'], dtype=object)"
      ]
     },
     "execution_count": 13,
     "metadata": {},
     "output_type": "execute_result"
    }
   ],
   "source": [
    "ACORN_levels.sort()\n",
    "ACORN_levels"
   ]
  },
  {
   "cell_type": "code",
   "execution_count": 14,
   "metadata": {
    "collapsed": false
   },
   "outputs": [
    {
     "data": {
      "image/png": "[encoded data removed]",
      "text/plain": [
       "<matplotlib.figure.Figure at 0x7f46faf012d0>"
      ]
     },
     "metadata": {},
     "output_type": "display_data"
    }
   ],
   "source": [
    "_ = sns.boxplot(x='mean_price', y='ACORN', data=ToU_users_2013\n",
    "                , order = ACORN_levels, notch = True)"
   ]
  },
  {
   "cell_type": "code",
   "execution_count": 81,
   "metadata": {
    "collapsed": false
   },
   "outputs": [
    {
     "data": {
      "text/plain": [
       "array(['Comfortable', 'Affluent', 'Adversity', 'ACORN-U', 'ACORN-'], dtype=object)"
      ]
     },
     "execution_count": 81,
     "metadata": {},
     "output_type": "execute_result"
    }
   ],
   "source": [
    "ToU_users_2013['ACORN_grouped'].unique()"
   ]
  },
  {
   "cell_type": "code",
   "execution_count": 85,
   "metadata": {
    "collapsed": false
   },
   "outputs": [],
   "source": [
    "ToU_users_2013.loc[(ToU_users_2013['ACORN_grouped'] == 'ACORN-U') \n",
    "               | (ToU_users_2013['ACORN_grouped'] == 'ACORN-'),'ACORN_grouped'] = 'Undefined'"
   ]
  },
  {
   "cell_type": "code",
   "execution_count": 87,
   "metadata": {
    "collapsed": false
   },
   "outputs": [
    {
     "data": {
      "image/png": "[encoded data removed]",
      "text/plain": [
       "<matplotlib.figure.Figure at 0x7f46dc209f90>"
      ]
     },
     "metadata": {},
     "output_type": "display_data"
    }
   ],
   "source": [
    "_ = sns.boxplot(x='mean_price', y='ACORN_grouped', data=ToU_users_2013,\n",
    "                order = ['Affluent', 'Comfortable', 'Adversity', 'Undefined'],  notch = True)"
   ]
  },
  {
   "cell_type": "markdown",
   "metadata": {},
   "source": [
    "Looking at coarser ACORN groups it seems that comfortable (middle-class) users tend to have a better response to dToU than affluent (upper-class) users."
   ]
  },
  {
   "cell_type": "code",
   "execution_count": 15,
   "metadata": {
    "collapsed": false
   },
   "outputs": [
    {
     "data": {
      "text/html": [
       "<div>\n",
       "<table border=\"1\" class=\"dataframe\">\n",
       "  <thead>\n",
       "    <tr style=\"text-align: right;\">\n",
       "      <th></th>\n",
       "      <th>count</th>\n",
       "      <th>mean</th>\n",
       "      <th>std</th>\n",
       "      <th>min</th>\n",
       "      <th>25%</th>\n",
       "      <th>50%</th>\n",
       "      <th>75%</th>\n",
       "      <th>max</th>\n",
       "    </tr>\n",
       "    <tr>\n",
       "      <th>ACORN</th>\n",
       "      <th></th>\n",
       "      <th></th>\n",
       "      <th></th>\n",
       "      <th></th>\n",
       "      <th></th>\n",
       "      <th></th>\n",
       "      <th></th>\n",
       "      <th></th>\n",
       "    </tr>\n",
       "  </thead>\n",
       "  <tbody>\n",
       "    <tr>\n",
       "      <th>ACORN-</th>\n",
       "      <td>1.0</td>\n",
       "      <td>14.106420</td>\n",
       "      <td>NaN</td>\n",
       "      <td>14.106420</td>\n",
       "      <td>14.106420</td>\n",
       "      <td>14.106420</td>\n",
       "      <td>14.106420</td>\n",
       "      <td>14.106420</td>\n",
       "    </tr>\n",
       "    <tr>\n",
       "      <th>ACORN-A</th>\n",
       "      <td>39.0</td>\n",
       "      <td>13.895414</td>\n",
       "      <td>0.519119</td>\n",
       "      <td>12.368000</td>\n",
       "      <td>13.656511</td>\n",
       "      <td>13.913826</td>\n",
       "      <td>14.053020</td>\n",
       "      <td>15.408785</td>\n",
       "    </tr>\n",
       "    <tr>\n",
       "      <th>ACORN-B</th>\n",
       "      <td>4.0</td>\n",
       "      <td>13.951253</td>\n",
       "      <td>0.411142</td>\n",
       "      <td>13.461324</td>\n",
       "      <td>13.793319</td>\n",
       "      <td>13.939159</td>\n",
       "      <td>14.097093</td>\n",
       "      <td>14.465370</td>\n",
       "    </tr>\n",
       "    <tr>\n",
       "      <th>ACORN-C</th>\n",
       "      <td>34.0</td>\n",
       "      <td>13.798230</td>\n",
       "      <td>0.547480</td>\n",
       "      <td>12.621159</td>\n",
       "      <td>13.456766</td>\n",
       "      <td>13.875074</td>\n",
       "      <td>14.133313</td>\n",
       "      <td>15.498438</td>\n",
       "    </tr>\n",
       "    <tr>\n",
       "      <th>ACORN-D</th>\n",
       "      <td>73.0</td>\n",
       "      <td>13.835792</td>\n",
       "      <td>0.411399</td>\n",
       "      <td>12.595315</td>\n",
       "      <td>13.628556</td>\n",
       "      <td>13.859890</td>\n",
       "      <td>14.051135</td>\n",
       "      <td>14.928961</td>\n",
       "    </tr>\n",
       "    <tr>\n",
       "      <th>ACORN-E</th>\n",
       "      <td>338.0</td>\n",
       "      <td>13.865832</td>\n",
       "      <td>0.460832</td>\n",
       "      <td>11.711281</td>\n",
       "      <td>13.620310</td>\n",
       "      <td>13.884152</td>\n",
       "      <td>14.142797</td>\n",
       "      <td>15.179523</td>\n",
       "    </tr>\n",
       "    <tr>\n",
       "      <th>ACORN-F</th>\n",
       "      <td>151.0</td>\n",
       "      <td>13.813675</td>\n",
       "      <td>0.516405</td>\n",
       "      <td>11.775736</td>\n",
       "      <td>13.617926</td>\n",
       "      <td>13.789527</td>\n",
       "      <td>14.027534</td>\n",
       "      <td>17.182524</td>\n",
       "    </tr>\n",
       "    <tr>\n",
       "      <th>ACORN-G</th>\n",
       "      <td>47.0</td>\n",
       "      <td>13.788401</td>\n",
       "      <td>0.338923</td>\n",
       "      <td>12.952387</td>\n",
       "      <td>13.572028</td>\n",
       "      <td>13.795620</td>\n",
       "      <td>14.052287</td>\n",
       "      <td>14.846828</td>\n",
       "    </tr>\n",
       "    <tr>\n",
       "      <th>ACORN-H</th>\n",
       "      <td>83.0</td>\n",
       "      <td>13.737643</td>\n",
       "      <td>0.522644</td>\n",
       "      <td>11.080637</td>\n",
       "      <td>13.534704</td>\n",
       "      <td>13.825183</td>\n",
       "      <td>14.017218</td>\n",
       "      <td>14.639255</td>\n",
       "    </tr>\n",
       "    <tr>\n",
       "      <th>ACORN-I</th>\n",
       "      <td>8.0</td>\n",
       "      <td>13.823055</td>\n",
       "      <td>0.609306</td>\n",
       "      <td>12.889759</td>\n",
       "      <td>13.583683</td>\n",
       "      <td>13.848606</td>\n",
       "      <td>14.109145</td>\n",
       "      <td>14.880336</td>\n",
       "    </tr>\n",
       "    <tr>\n",
       "      <th>ACORN-J</th>\n",
       "      <td>31.0</td>\n",
       "      <td>13.723183</td>\n",
       "      <td>0.699752</td>\n",
       "      <td>11.562192</td>\n",
       "      <td>13.579230</td>\n",
       "      <td>13.798531</td>\n",
       "      <td>13.999242</td>\n",
       "      <td>14.746091</td>\n",
       "    </tr>\n",
       "    <tr>\n",
       "      <th>ACORN-K</th>\n",
       "      <td>22.0</td>\n",
       "      <td>13.836219</td>\n",
       "      <td>0.463910</td>\n",
       "      <td>12.682516</td>\n",
       "      <td>13.622867</td>\n",
       "      <td>13.803849</td>\n",
       "      <td>14.118521</td>\n",
       "      <td>14.733184</td>\n",
       "    </tr>\n",
       "    <tr>\n",
       "      <th>ACORN-L</th>\n",
       "      <td>76.0</td>\n",
       "      <td>13.751310</td>\n",
       "      <td>0.555139</td>\n",
       "      <td>11.307295</td>\n",
       "      <td>13.497138</td>\n",
       "      <td>13.859965</td>\n",
       "      <td>14.107241</td>\n",
       "      <td>14.668781</td>\n",
       "    </tr>\n",
       "    <tr>\n",
       "      <th>ACORN-M</th>\n",
       "      <td>17.0</td>\n",
       "      <td>13.873534</td>\n",
       "      <td>0.559435</td>\n",
       "      <td>12.653939</td>\n",
       "      <td>13.625071</td>\n",
       "      <td>14.049996</td>\n",
       "      <td>14.127046</td>\n",
       "      <td>14.704421</td>\n",
       "    </tr>\n",
       "    <tr>\n",
       "      <th>ACORN-N</th>\n",
       "      <td>26.0</td>\n",
       "      <td>13.823010</td>\n",
       "      <td>0.408561</td>\n",
       "      <td>12.430037</td>\n",
       "      <td>13.691875</td>\n",
       "      <td>13.876503</td>\n",
       "      <td>13.996473</td>\n",
       "      <td>14.958667</td>\n",
       "    </tr>\n",
       "    <tr>\n",
       "      <th>ACORN-O</th>\n",
       "      <td>16.0</td>\n",
       "      <td>13.980712</td>\n",
       "      <td>0.360146</td>\n",
       "      <td>13.356648</td>\n",
       "      <td>13.801162</td>\n",
       "      <td>13.952387</td>\n",
       "      <td>14.180596</td>\n",
       "      <td>14.858816</td>\n",
       "    </tr>\n",
       "    <tr>\n",
       "      <th>ACORN-P</th>\n",
       "      <td>22.0</td>\n",
       "      <td>13.765669</td>\n",
       "      <td>0.510984</td>\n",
       "      <td>12.401077</td>\n",
       "      <td>13.523571</td>\n",
       "      <td>13.780527</td>\n",
       "      <td>14.074375</td>\n",
       "      <td>14.615948</td>\n",
       "    </tr>\n",
       "    <tr>\n",
       "      <th>ACORN-Q</th>\n",
       "      <td>119.0</td>\n",
       "      <td>13.755048</td>\n",
       "      <td>0.535037</td>\n",
       "      <td>11.486705</td>\n",
       "      <td>13.612465</td>\n",
       "      <td>13.783004</td>\n",
       "      <td>14.059177</td>\n",
       "      <td>14.799599</td>\n",
       "    </tr>\n",
       "    <tr>\n",
       "      <th>ACORN-U</th>\n",
       "      <td>10.0</td>\n",
       "      <td>13.854127</td>\n",
       "      <td>0.239074</td>\n",
       "      <td>13.481105</td>\n",
       "      <td>13.731143</td>\n",
       "      <td>13.838245</td>\n",
       "      <td>13.922001</td>\n",
       "      <td>14.237949</td>\n",
       "    </tr>\n",
       "  </tbody>\n",
       "</table>\n",
       "</div>"
      ],
      "text/plain": [
       "         count       mean       std        min        25%        50%  \\\n",
       "ACORN                                                                  \n",
       "ACORN-     1.0  14.106420       NaN  14.106420  14.106420  14.106420   \n",
       "ACORN-A   39.0  13.895414  0.519119  12.368000  13.656511  13.913826   \n",
       "ACORN-B    4.0  13.951253  0.411142  13.461324  13.793319  13.939159   \n",
       "ACORN-C   34.0  13.798230  0.547480  12.621159  13.456766  13.875074   \n",
       "ACORN-D   73.0  13.835792  0.411399  12.595315  13.628556  13.859890   \n",
       "ACORN-E  338.0  13.865832  0.460832  11.711281  13.620310  13.884152   \n",
       "ACORN-F  151.0  13.813675  0.516405  11.775736  13.617926  13.789527   \n",
       "ACORN-G   47.0  13.788401  0.338923  12.952387  13.572028  13.795620   \n",
       "ACORN-H   83.0  13.737643  0.522644  11.080637  13.534704  13.825183   \n",
       "ACORN-I    8.0  13.823055  0.609306  12.889759  13.583683  13.848606   \n",
       "ACORN-J   31.0  13.723183  0.699752  11.562192  13.579230  13.798531   \n",
       "ACORN-K   22.0  13.836219  0.463910  12.682516  13.622867  13.803849   \n",
       "ACORN-L   76.0  13.751310  0.555139  11.307295  13.497138  13.859965   \n",
       "ACORN-M   17.0  13.873534  0.559435  12.653939  13.625071  14.049996   \n",
       "ACORN-N   26.0  13.823010  0.408561  12.430037  13.691875  13.876503   \n",
       "ACORN-O   16.0  13.980712  0.360146  13.356648  13.801162  13.952387   \n",
       "ACORN-P   22.0  13.765669  0.510984  12.401077  13.523571  13.780527   \n",
       "ACORN-Q  119.0  13.755048  0.535037  11.486705  13.612465  13.783004   \n",
       "ACORN-U   10.0  13.854127  0.239074  13.481105  13.731143  13.838245   \n",
       "\n",
       "               75%        max  \n",
       "ACORN                          \n",
       "ACORN-   14.106420  14.106420  \n",
       "ACORN-A  14.053020  15.408785  \n",
       "ACORN-B  14.097093  14.465370  \n",
       "ACORN-C  14.133313  15.498438  \n",
       "ACORN-D  14.051135  14.928961  \n",
       "ACORN-E  14.142797  15.179523  \n",
       "ACORN-F  14.027534  17.182524  \n",
       "ACORN-G  14.052287  14.846828  \n",
       "ACORN-H  14.017218  14.639255  \n",
       "ACORN-I  14.109145  14.880336  \n",
       "ACORN-J  13.999242  14.746091  \n",
       "ACORN-K  14.118521  14.733184  \n",
       "ACORN-L  14.107241  14.668781  \n",
       "ACORN-M  14.127046  14.704421  \n",
       "ACORN-N  13.996473  14.958667  \n",
       "ACORN-O  14.180596  14.858816  \n",
       "ACORN-P  14.074375  14.615948  \n",
       "ACORN-Q  14.059177  14.799599  \n",
       "ACORN-U  13.922001  14.237949  "
      ]
     },
     "execution_count": 15,
     "metadata": {},
     "output_type": "execute_result"
    }
   ],
   "source": [
    "ACORN_price = ToU_users_2013.groupby('ACORN')['mean_price'].describe().unstack(level=1)\n",
    "ACORN_price"
   ]
  },
  {
   "cell_type": "code",
   "execution_count": 18,
   "metadata": {
    "collapsed": false
   },
   "outputs": [
    {
     "data": {
      "text/plain": [
       "ACORN\n",
       "ACORN-J    13.723183\n",
       "ACORN-H    13.737643\n",
       "ACORN-L    13.751310\n",
       "Name: mean, dtype: float64"
      ]
     },
     "execution_count": 18,
     "metadata": {},
     "output_type": "execute_result"
    }
   ],
   "source": [
    "ACORN_price['mean'].sort_values()[:3]"
   ]
  },
  {
   "cell_type": "code",
   "execution_count": 19,
   "metadata": {
    "collapsed": false
   },
   "outputs": [
    {
     "data": {
      "text/plain": [
       "ACORN\n",
       "ACORN-P    13.780527\n",
       "ACORN-Q    13.783004\n",
       "ACORN-F    13.789527\n",
       "Name: 50%, dtype: float64"
      ]
     },
     "execution_count": 19,
     "metadata": {},
     "output_type": "execute_result"
    }
   ],
   "source": [
    "ACORN_price['50%'].sort_values()[:3]"
   ]
  },
  {
   "cell_type": "code",
   "execution_count": 20,
   "metadata": {
    "collapsed": false
   },
   "outputs": [
    {
     "data": {
      "text/plain": [
       "ACORN\n",
       "ACORN-     14.106420\n",
       "ACORN-M    14.049996\n",
       "ACORN-O    13.952387\n",
       "Name: 50%, dtype: float64"
      ]
     },
     "execution_count": 20,
     "metadata": {},
     "output_type": "execute_result"
    }
   ],
   "source": [
    "ACORN_price['50%'].sort_values(ascending=False)[:3]"
   ]
  },
  {
   "cell_type": "code",
   "execution_count": 21,
   "metadata": {
    "collapsed": false
   },
   "outputs": [
    {
     "data": {
      "text/plain": [
       "ACORN\n",
       "ACORN-C    13.456766\n",
       "ACORN-L    13.497138\n",
       "ACORN-P    13.523571\n",
       "Name: 25%, dtype: float64"
      ]
     },
     "execution_count": 21,
     "metadata": {},
     "output_type": "execute_result"
    }
   ],
   "source": [
    "ACORN_price['25%'].sort_values()[:3]"
   ]
  },
  {
   "cell_type": "code",
   "execution_count": 22,
   "metadata": {
    "collapsed": false
   },
   "outputs": [
    {
     "data": {
      "text/plain": [
       "ACORN\n",
       "ACORN-     14.106420\n",
       "ACORN-O    13.801162\n",
       "ACORN-B    13.793319\n",
       "Name: 25%, dtype: float64"
      ]
     },
     "execution_count": 22,
     "metadata": {},
     "output_type": "execute_result"
    }
   ],
   "source": [
    "ACORN_price['25%'].sort_values(ascending=False)[:3]"
   ]
  },
  {
   "cell_type": "code",
   "execution_count": 23,
   "metadata": {
    "collapsed": false
   },
   "outputs": [
    {
     "data": {
      "text/plain": [
       "ACORN\n",
       "ACORN-U    13.922001\n",
       "ACORN-N    13.996473\n",
       "ACORN-J    13.999242\n",
       "Name: 75%, dtype: float64"
      ]
     },
     "execution_count": 23,
     "metadata": {},
     "output_type": "execute_result"
    }
   ],
   "source": [
    "ACORN_price['75%'].sort_values()[:3]"
   ]
  },
  {
   "cell_type": "code",
   "execution_count": 24,
   "metadata": {
    "collapsed": false
   },
   "outputs": [
    {
     "data": {
      "text/plain": [
       "ACORN\n",
       "ACORN-J    0.699752\n",
       "ACORN-I    0.609306\n",
       "ACORN-M    0.559435\n",
       "ACORN-L    0.555139\n",
       "ACORN-C    0.547480\n",
       "Name: std, dtype: float64"
      ]
     },
     "execution_count": 24,
     "metadata": {},
     "output_type": "execute_result"
    }
   ],
   "source": [
    "ACORN_price['std'].sort_values(ascending=False)[:5]"
   ]
  },
  {
   "cell_type": "code",
   "execution_count": 25,
   "metadata": {
    "collapsed": false
   },
   "outputs": [
    {
     "data": {
      "text/plain": [
       "ACORN\n",
       "ACORN-H    11.080637\n",
       "ACORN-L    11.307295\n",
       "ACORN-Q    11.486705\n",
       "Name: min, dtype: float64"
      ]
     },
     "execution_count": 25,
     "metadata": {},
     "output_type": "execute_result"
    }
   ],
   "source": [
    "ACORN_price['min'].sort_values()[:3]"
   ]
  },
  {
   "cell_type": "code",
   "execution_count": 26,
   "metadata": {
    "collapsed": false
   },
   "outputs": [
    {
     "data": {
      "text/plain": [
       "ACORN\n",
       "ACORN-F    17.182524\n",
       "ACORN-C    15.498438\n",
       "ACORN-A    15.408785\n",
       "Name: max, dtype: float64"
      ]
     },
     "execution_count": 26,
     "metadata": {},
     "output_type": "execute_result"
    }
   ],
   "source": [
    "ACORN_price['max'].sort_values(ascending=False)[:3]"
   ]
  },
  {
   "cell_type": "markdown",
   "metadata": {},
   "source": [
    "The lowest median is that P, Q and F groups. P and Q are low income groups.\n",
    "\n",
    "-P is described as a mixture of poorer families with many children, low income terraced housing, multi-ethnic, purpose-built estates and low income families in social rented semis.\n",
    "\n",
    "-Q users are single parents and families in social rented flats, singles and young families (some receiving benefits) and people living in deprived areas and high-rise flats.\n",
    "\n",
    "Both of these groups have several outliers in the lower part of the mean price spectrum but only one in the higher part. Their maximum is 14.8 p/kWh, less than 0.6 above the standard flat rate tariff. These users are used to hardship and are prone to take any opportunity to save money.\n",
    "\n",
    "-F users are countryside communities. These have a very large variability, with the top payer (nearly 3 p/kWh over the standard flat rate tariff) in this group.\n",
    "\n",
    "-The worst group is M, with only 17 users. These are a mixture of struggling young families in post-war terraces, people with limited means in post-war estates, semi-rural estates and families in right-to-buy estates. There is a large amount of lone parents, people enjoying benefits and lower than average internet, smartphone and tablet use.\n",
    "\n",
    "-Group E has a large variability, with many outliers in the lower and upper ranges. It is composed by young career-driven families, first buyers and people living in mixed metropolitan areas. They are educated young people rising in prosperity, with heavy internet use (including online shopping). They own smartphones, tablets and other technological devices in a larger degree than the average British. Some have a strong positive reaction to dToU, others seem not to care about changing their consumption habits and end up paying more for their electricity.\n",
    "\n",
    "-Group D is related to E and seems to behave in a more consistent way, although some users also to not react to the dynamic tariff. These are urban cosmopolitan young people, living in smaller flats and metropolitan areas."
   ]
  },
  {
   "cell_type": "markdown",
   "metadata": {},
   "source": [
    "Let us examine now the consumption behaviour (regardless on the tariff of each group)."
   ]
  },
  {
   "cell_type": "code",
   "execution_count": 80,
   "metadata": {
    "collapsed": false
   },
   "outputs": [
    {
     "data": {
      "image/png": "[encoded data removed]",
      "text/plain": [
       "<matplotlib.figure.Figure at 0x7f46d1df6410>"
      ]
     },
     "metadata": {},
     "output_type": "display_data"
    }
   ],
   "source": [
    "_ = sns.boxplot(x='mean_consumption', y='ACORN', data=ToU_users_2013\n",
    "                , order = ACORN_levels, notch = True)"
   ]
  },
  {
   "cell_type": "code",
   "execution_count": 86,
   "metadata": {
    "collapsed": false
   },
   "outputs": [
    {
     "data": {
      "image/png": "[encoded data removed]",
      "text/plain": [
       "<matplotlib.figure.Figure at 0x7f46d8bbe2d0>"
      ]
     },
     "metadata": {},
     "output_type": "display_data"
    }
   ],
   "source": [
    "_ = sns.boxplot(x='mean_consumption', y='ACORN_grouped', data=ToU_users_2013,\n",
    "                order = ['Affluent', 'Comfortable', 'Adversity', 'Undefined'],  notch = True)"
   ]
  },
  {
   "cell_type": "markdown",
   "metadata": {},
   "source": [
    "There seems to be a link between wealth and electricity consumption (upper and middle classes consume significantly more on average than the less wealthy customers)."
   ]
  },
  {
   "cell_type": "code",
   "execution_count": 28,
   "metadata": {
    "collapsed": false
   },
   "outputs": [
    {
     "data": {
      "text/html": [
       "<div>\n",
       "<table border=\"1\" class=\"dataframe\">\n",
       "  <thead>\n",
       "    <tr style=\"text-align: right;\">\n",
       "      <th></th>\n",
       "      <th>count</th>\n",
       "      <th>mean</th>\n",
       "      <th>std</th>\n",
       "      <th>min</th>\n",
       "      <th>25%</th>\n",
       "      <th>50%</th>\n",
       "      <th>75%</th>\n",
       "      <th>max</th>\n",
       "    </tr>\n",
       "    <tr>\n",
       "      <th>ACORN</th>\n",
       "      <th></th>\n",
       "      <th></th>\n",
       "      <th></th>\n",
       "      <th></th>\n",
       "      <th></th>\n",
       "      <th></th>\n",
       "      <th></th>\n",
       "      <th></th>\n",
       "    </tr>\n",
       "  </thead>\n",
       "  <tbody>\n",
       "    <tr>\n",
       "      <th>ACORN-</th>\n",
       "      <td>1.0</td>\n",
       "      <td>14.106420</td>\n",
       "      <td>NaN</td>\n",
       "      <td>14.106420</td>\n",
       "      <td>14.106420</td>\n",
       "      <td>14.106420</td>\n",
       "      <td>14.106420</td>\n",
       "      <td>14.106420</td>\n",
       "    </tr>\n",
       "    <tr>\n",
       "      <th>ACORN-A</th>\n",
       "      <td>39.0</td>\n",
       "      <td>13.895414</td>\n",
       "      <td>0.519119</td>\n",
       "      <td>12.368000</td>\n",
       "      <td>13.656511</td>\n",
       "      <td>13.913826</td>\n",
       "      <td>14.053020</td>\n",
       "      <td>15.408785</td>\n",
       "    </tr>\n",
       "    <tr>\n",
       "      <th>ACORN-B</th>\n",
       "      <td>4.0</td>\n",
       "      <td>13.951253</td>\n",
       "      <td>0.411142</td>\n",
       "      <td>13.461324</td>\n",
       "      <td>13.793319</td>\n",
       "      <td>13.939159</td>\n",
       "      <td>14.097093</td>\n",
       "      <td>14.465370</td>\n",
       "    </tr>\n",
       "    <tr>\n",
       "      <th>ACORN-C</th>\n",
       "      <td>34.0</td>\n",
       "      <td>13.798230</td>\n",
       "      <td>0.547480</td>\n",
       "      <td>12.621159</td>\n",
       "      <td>13.456766</td>\n",
       "      <td>13.875074</td>\n",
       "      <td>14.133313</td>\n",
       "      <td>15.498438</td>\n",
       "    </tr>\n",
       "    <tr>\n",
       "      <th>ACORN-D</th>\n",
       "      <td>73.0</td>\n",
       "      <td>13.835792</td>\n",
       "      <td>0.411399</td>\n",
       "      <td>12.595315</td>\n",
       "      <td>13.628556</td>\n",
       "      <td>13.859890</td>\n",
       "      <td>14.051135</td>\n",
       "      <td>14.928961</td>\n",
       "    </tr>\n",
       "    <tr>\n",
       "      <th>ACORN-E</th>\n",
       "      <td>338.0</td>\n",
       "      <td>13.865832</td>\n",
       "      <td>0.460832</td>\n",
       "      <td>11.711281</td>\n",
       "      <td>13.620310</td>\n",
       "      <td>13.884152</td>\n",
       "      <td>14.142797</td>\n",
       "      <td>15.179523</td>\n",
       "    </tr>\n",
       "    <tr>\n",
       "      <th>ACORN-F</th>\n",
       "      <td>151.0</td>\n",
       "      <td>13.813675</td>\n",
       "      <td>0.516405</td>\n",
       "      <td>11.775736</td>\n",
       "      <td>13.617926</td>\n",
       "      <td>13.789527</td>\n",
       "      <td>14.027534</td>\n",
       "      <td>17.182524</td>\n",
       "    </tr>\n",
       "    <tr>\n",
       "      <th>ACORN-G</th>\n",
       "      <td>47.0</td>\n",
       "      <td>13.788401</td>\n",
       "      <td>0.338923</td>\n",
       "      <td>12.952387</td>\n",
       "      <td>13.572028</td>\n",
       "      <td>13.795620</td>\n",
       "      <td>14.052287</td>\n",
       "      <td>14.846828</td>\n",
       "    </tr>\n",
       "    <tr>\n",
       "      <th>ACORN-H</th>\n",
       "      <td>83.0</td>\n",
       "      <td>13.737643</td>\n",
       "      <td>0.522644</td>\n",
       "      <td>11.080637</td>\n",
       "      <td>13.534704</td>\n",
       "      <td>13.825183</td>\n",
       "      <td>14.017218</td>\n",
       "      <td>14.639255</td>\n",
       "    </tr>\n",
       "    <tr>\n",
       "      <th>ACORN-I</th>\n",
       "      <td>8.0</td>\n",
       "      <td>13.823055</td>\n",
       "      <td>0.609306</td>\n",
       "      <td>12.889759</td>\n",
       "      <td>13.583683</td>\n",
       "      <td>13.848606</td>\n",
       "      <td>14.109145</td>\n",
       "      <td>14.880336</td>\n",
       "    </tr>\n",
       "    <tr>\n",
       "      <th>ACORN-J</th>\n",
       "      <td>31.0</td>\n",
       "      <td>13.723183</td>\n",
       "      <td>0.699752</td>\n",
       "      <td>11.562192</td>\n",
       "      <td>13.579230</td>\n",
       "      <td>13.798531</td>\n",
       "      <td>13.999242</td>\n",
       "      <td>14.746091</td>\n",
       "    </tr>\n",
       "    <tr>\n",
       "      <th>ACORN-K</th>\n",
       "      <td>22.0</td>\n",
       "      <td>13.836219</td>\n",
       "      <td>0.463910</td>\n",
       "      <td>12.682516</td>\n",
       "      <td>13.622867</td>\n",
       "      <td>13.803849</td>\n",
       "      <td>14.118521</td>\n",
       "      <td>14.733184</td>\n",
       "    </tr>\n",
       "    <tr>\n",
       "      <th>ACORN-L</th>\n",
       "      <td>76.0</td>\n",
       "      <td>13.751310</td>\n",
       "      <td>0.555139</td>\n",
       "      <td>11.307295</td>\n",
       "      <td>13.497138</td>\n",
       "      <td>13.859965</td>\n",
       "      <td>14.107241</td>\n",
       "      <td>14.668781</td>\n",
       "    </tr>\n",
       "    <tr>\n",
       "      <th>ACORN-M</th>\n",
       "      <td>17.0</td>\n",
       "      <td>13.873534</td>\n",
       "      <td>0.559435</td>\n",
       "      <td>12.653939</td>\n",
       "      <td>13.625071</td>\n",
       "      <td>14.049996</td>\n",
       "      <td>14.127046</td>\n",
       "      <td>14.704421</td>\n",
       "    </tr>\n",
       "    <tr>\n",
       "      <th>ACORN-N</th>\n",
       "      <td>26.0</td>\n",
       "      <td>13.823010</td>\n",
       "      <td>0.408561</td>\n",
       "      <td>12.430037</td>\n",
       "      <td>13.691875</td>\n",
       "      <td>13.876503</td>\n",
       "      <td>13.996473</td>\n",
       "      <td>14.958667</td>\n",
       "    </tr>\n",
       "    <tr>\n",
       "      <th>ACORN-O</th>\n",
       "      <td>16.0</td>\n",
       "      <td>13.980712</td>\n",
       "      <td>0.360146</td>\n",
       "      <td>13.356648</td>\n",
       "      <td>13.801162</td>\n",
       "      <td>13.952387</td>\n",
       "      <td>14.180596</td>\n",
       "      <td>14.858816</td>\n",
       "    </tr>\n",
       "    <tr>\n",
       "      <th>ACORN-P</th>\n",
       "      <td>22.0</td>\n",
       "      <td>13.765669</td>\n",
       "      <td>0.510984</td>\n",
       "      <td>12.401077</td>\n",
       "      <td>13.523571</td>\n",
       "      <td>13.780527</td>\n",
       "      <td>14.074375</td>\n",
       "      <td>14.615948</td>\n",
       "    </tr>\n",
       "    <tr>\n",
       "      <th>ACORN-Q</th>\n",
       "      <td>119.0</td>\n",
       "      <td>13.755048</td>\n",
       "      <td>0.535037</td>\n",
       "      <td>11.486705</td>\n",
       "      <td>13.612465</td>\n",
       "      <td>13.783004</td>\n",
       "      <td>14.059177</td>\n",
       "      <td>14.799599</td>\n",
       "    </tr>\n",
       "    <tr>\n",
       "      <th>ACORN-U</th>\n",
       "      <td>10.0</td>\n",
       "      <td>13.854127</td>\n",
       "      <td>0.239074</td>\n",
       "      <td>13.481105</td>\n",
       "      <td>13.731143</td>\n",
       "      <td>13.838245</td>\n",
       "      <td>13.922001</td>\n",
       "      <td>14.237949</td>\n",
       "    </tr>\n",
       "  </tbody>\n",
       "</table>\n",
       "</div>"
      ],
      "text/plain": [
       "         count       mean       std        min        25%        50%  \\\n",
       "ACORN                                                                  \n",
       "ACORN-     1.0  14.106420       NaN  14.106420  14.106420  14.106420   \n",
       "ACORN-A   39.0  13.895414  0.519119  12.368000  13.656511  13.913826   \n",
       "ACORN-B    4.0  13.951253  0.411142  13.461324  13.793319  13.939159   \n",
       "ACORN-C   34.0  13.798230  0.547480  12.621159  13.456766  13.875074   \n",
       "ACORN-D   73.0  13.835792  0.411399  12.595315  13.628556  13.859890   \n",
       "ACORN-E  338.0  13.865832  0.460832  11.711281  13.620310  13.884152   \n",
       "ACORN-F  151.0  13.813675  0.516405  11.775736  13.617926  13.789527   \n",
       "ACORN-G   47.0  13.788401  0.338923  12.952387  13.572028  13.795620   \n",
       "ACORN-H   83.0  13.737643  0.522644  11.080637  13.534704  13.825183   \n",
       "ACORN-I    8.0  13.823055  0.609306  12.889759  13.583683  13.848606   \n",
       "ACORN-J   31.0  13.723183  0.699752  11.562192  13.579230  13.798531   \n",
       "ACORN-K   22.0  13.836219  0.463910  12.682516  13.622867  13.803849   \n",
       "ACORN-L   76.0  13.751310  0.555139  11.307295  13.497138  13.859965   \n",
       "ACORN-M   17.0  13.873534  0.559435  12.653939  13.625071  14.049996   \n",
       "ACORN-N   26.0  13.823010  0.408561  12.430037  13.691875  13.876503   \n",
       "ACORN-O   16.0  13.980712  0.360146  13.356648  13.801162  13.952387   \n",
       "ACORN-P   22.0  13.765669  0.510984  12.401077  13.523571  13.780527   \n",
       "ACORN-Q  119.0  13.755048  0.535037  11.486705  13.612465  13.783004   \n",
       "ACORN-U   10.0  13.854127  0.239074  13.481105  13.731143  13.838245   \n",
       "\n",
       "               75%        max  \n",
       "ACORN                          \n",
       "ACORN-   14.106420  14.106420  \n",
       "ACORN-A  14.053020  15.408785  \n",
       "ACORN-B  14.097093  14.465370  \n",
       "ACORN-C  14.133313  15.498438  \n",
       "ACORN-D  14.051135  14.928961  \n",
       "ACORN-E  14.142797  15.179523  \n",
       "ACORN-F  14.027534  17.182524  \n",
       "ACORN-G  14.052287  14.846828  \n",
       "ACORN-H  14.017218  14.639255  \n",
       "ACORN-I  14.109145  14.880336  \n",
       "ACORN-J  13.999242  14.746091  \n",
       "ACORN-K  14.118521  14.733184  \n",
       "ACORN-L  14.107241  14.668781  \n",
       "ACORN-M  14.127046  14.704421  \n",
       "ACORN-N  13.996473  14.958667  \n",
       "ACORN-O  14.180596  14.858816  \n",
       "ACORN-P  14.074375  14.615948  \n",
       "ACORN-Q  14.059177  14.799599  \n",
       "ACORN-U  13.922001  14.237949  "
      ]
     },
     "execution_count": 28,
     "metadata": {},
     "output_type": "execute_result"
    }
   ],
   "source": [
    "ACORN_cons = ToU_users_2013.groupby('ACORN')['mean_price'].describe().unstack(level=1)\n",
    "ACORN_cons"
   ]
  },
  {
   "cell_type": "markdown",
   "metadata": {},
   "source": [
    "We have shown that over 85% of users saved money and that there is a large spread in mean price, among all users and also within ACORN socioeconomic groups. \n",
    "\n",
    "However, the fact that a user has paid considerably less for his kWh does not necessarily mean that they have changed their behaviour - or if they have paid more than with the flat rate tariff it could be that they had a reaction. If a user's habits make him concentrate most of his consumption in the hours were tariffs are high and he cannot avoid using electricity during this time he will pay more, even if he manages to cut his consumption.\n",
    "\n",
    "Therefore, to answer properly this question, we should study the changes in consumer consumption habits in 2012, when they used the flat rate standard tariff, and 2013, when they were subjected to the Dynamic Time of Use (dToU) tariff."
   ]
  },
  {
   "cell_type": "markdown",
   "metadata": {},
   "source": [
    "We have aggregated the consumption of each dToU user in 2012 and 2013 by month and hour."
   ]
  },
  {
   "cell_type": "code",
   "execution_count": 23,
   "metadata": {
    "collapsed": false
   },
   "outputs": [],
   "source": [
    "ToU_hour_2013 = pd.read_csv('outputs/ToU_by_ID_hour.csv', index_col=0)"
   ]
  },
  {
   "cell_type": "code",
   "execution_count": 24,
   "metadata": {
    "collapsed": false
   },
   "outputs": [
    {
     "data": {
      "text/html": [
       "<div>\n",
       "<table border=\"1\" class=\"dataframe\">\n",
       "  <thead>\n",
       "    <tr style=\"text-align: right;\">\n",
       "      <th></th>\n",
       "      <th>ID</th>\n",
       "      <th>ACORN</th>\n",
       "      <th>ACORN_grouped</th>\n",
       "      <th>Month</th>\n",
       "      <th>Hour</th>\n",
       "      <th>count</th>\n",
       "      <th>mean_consumption</th>\n",
       "      <th>sum_consumption</th>\n",
       "      <th>min_consumption</th>\n",
       "      <th>max_consumption</th>\n",
       "      <th>stddev_consumption</th>\n",
       "      <th>sum_price</th>\n",
       "    </tr>\n",
       "  </thead>\n",
       "  <tbody>\n",
       "    <tr>\n",
       "      <th>40342</th>\n",
       "      <td>MAC005515</td>\n",
       "      <td>ACORN-E</td>\n",
       "      <td>Affluent</td>\n",
       "      <td>3</td>\n",
       "      <td>11</td>\n",
       "      <td>62</td>\n",
       "      <td>0.163532</td>\n",
       "      <td>10.139</td>\n",
       "      <td>0.017</td>\n",
       "      <td>1.116</td>\n",
       "      <td>0.195034</td>\n",
       "      <td>95.940182</td>\n",
       "    </tr>\n",
       "    <tr>\n",
       "      <th>45041</th>\n",
       "      <td>MAC004837</td>\n",
       "      <td>ACORN-F</td>\n",
       "      <td>Comfortable</td>\n",
       "      <td>9</td>\n",
       "      <td>10</td>\n",
       "      <td>60</td>\n",
       "      <td>0.216917</td>\n",
       "      <td>13.015</td>\n",
       "      <td>0.007</td>\n",
       "      <td>1.495</td>\n",
       "      <td>0.299909</td>\n",
       "      <td>160.113660</td>\n",
       "    </tr>\n",
       "    <tr>\n",
       "      <th>85527</th>\n",
       "      <td>MAC004811</td>\n",
       "      <td>ACORN-Q</td>\n",
       "      <td>Adversity</td>\n",
       "      <td>3</td>\n",
       "      <td>10</td>\n",
       "      <td>62</td>\n",
       "      <td>0.070548</td>\n",
       "      <td>4.374</td>\n",
       "      <td>0.028</td>\n",
       "      <td>0.303</td>\n",
       "      <td>0.043984</td>\n",
       "      <td>46.698540</td>\n",
       "    </tr>\n",
       "    <tr>\n",
       "      <th>140279</th>\n",
       "      <td>MAC003390</td>\n",
       "      <td>ACORN-O</td>\n",
       "      <td>Adversity</td>\n",
       "      <td>6</td>\n",
       "      <td>9</td>\n",
       "      <td>60</td>\n",
       "      <td>0.060133</td>\n",
       "      <td>3.608</td>\n",
       "      <td>0.026</td>\n",
       "      <td>0.126</td>\n",
       "      <td>0.029637</td>\n",
       "      <td>45.472560</td>\n",
       "    </tr>\n",
       "    <tr>\n",
       "      <th>85435</th>\n",
       "      <td>MAC003387</td>\n",
       "      <td>ACORN-C</td>\n",
       "      <td>Affluent</td>\n",
       "      <td>1</td>\n",
       "      <td>1</td>\n",
       "      <td>62</td>\n",
       "      <td>0.047581</td>\n",
       "      <td>2.950</td>\n",
       "      <td>0.014</td>\n",
       "      <td>0.148</td>\n",
       "      <td>0.027185</td>\n",
       "      <td>47.102160</td>\n",
       "    </tr>\n",
       "  </tbody>\n",
       "</table>\n",
       "</div>"
      ],
      "text/plain": [
       "               ID    ACORN ACORN_grouped  Month  Hour  count  \\\n",
       "40342   MAC005515  ACORN-E      Affluent      3    11     62   \n",
       "45041   MAC004837  ACORN-F   Comfortable      9    10     60   \n",
       "85527   MAC004811  ACORN-Q     Adversity      3    10     62   \n",
       "140279  MAC003390  ACORN-O     Adversity      6     9     60   \n",
       "85435   MAC003387  ACORN-C      Affluent      1     1     62   \n",
       "\n",
       "        mean_consumption  sum_consumption  min_consumption  max_consumption  \\\n",
       "40342           0.163532           10.139            0.017            1.116   \n",
       "45041           0.216917           13.015            0.007            1.495   \n",
       "85527           0.070548            4.374            0.028            0.303   \n",
       "140279          0.060133            3.608            0.026            0.126   \n",
       "85435           0.047581            2.950            0.014            0.148   \n",
       "\n",
       "        stddev_consumption   sum_price  \n",
       "40342             0.195034   95.940182  \n",
       "45041             0.299909  160.113660  \n",
       "85527             0.043984   46.698540  \n",
       "140279            0.029637   45.472560  \n",
       "85435             0.027185   47.102160  "
      ]
     },
     "execution_count": 24,
     "metadata": {},
     "output_type": "execute_result"
    }
   ],
   "source": [
    "ToU_hour_2013.sample(5)"
   ]
  },
  {
   "cell_type": "code",
   "execution_count": 25,
   "metadata": {
    "collapsed": false
   },
   "outputs": [],
   "source": [
    "ToU_hour_2013 = ToU_hour_2013.rename(columns={'month(DateTime)':'Month', 'hour(DateTime)':'Hour'})"
   ]
  },
  {
   "cell_type": "code",
   "execution_count": 26,
   "metadata": {
    "collapsed": true
   },
   "outputs": [],
   "source": [
    "ToU_hour_2013['mean_price'] = ToU_hour_2013['sum_price']/ToU_hour_2013['sum_consumption']"
   ]
  },
  {
   "cell_type": "code",
   "execution_count": 27,
   "metadata": {
    "collapsed": true
   },
   "outputs": [],
   "source": [
    "ToU_hour_2012 = pd.read_csv('outputs/ToU_by_ID_hour_2012.csv', index_col=0)"
   ]
  },
  {
   "cell_type": "code",
   "execution_count": 28,
   "metadata": {
    "collapsed": true
   },
   "outputs": [],
   "source": [
    "ToU_hour_2012 = ToU_hour_2012.rename(columns={'month(DateTime)':'Month', 'hour(DateTime)':'Hour'})"
   ]
  },
  {
   "cell_type": "code",
   "execution_count": 29,
   "metadata": {
    "collapsed": true
   },
   "outputs": [],
   "source": [
    "ToU_hour_2012['mean_price'] = ToU_hour_2012['sum_price']/ToU_hour_2012['sum_consumption']"
   ]
  },
  {
   "cell_type": "code",
   "execution_count": 30,
   "metadata": {
    "collapsed": false
   },
   "outputs": [
    {
     "data": {
      "text/html": [
       "<div>\n",
       "<table border=\"1\" class=\"dataframe\">\n",
       "  <thead>\n",
       "    <tr style=\"text-align: right;\">\n",
       "      <th></th>\n",
       "      <th>ID</th>\n",
       "      <th>ACORN</th>\n",
       "      <th>ACORN_grouped</th>\n",
       "      <th>Month</th>\n",
       "      <th>Hour</th>\n",
       "      <th>count</th>\n",
       "      <th>mean_consumption</th>\n",
       "      <th>sum_consumption</th>\n",
       "      <th>min_consumption</th>\n",
       "      <th>max_consumption</th>\n",
       "      <th>stddev_consumption</th>\n",
       "      <th>sum_price</th>\n",
       "      <th>mean_price</th>\n",
       "    </tr>\n",
       "  </thead>\n",
       "  <tbody>\n",
       "    <tr>\n",
       "      <th>175325</th>\n",
       "      <td>MAC000467</td>\n",
       "      <td>ACORN-F</td>\n",
       "      <td>Comfortable</td>\n",
       "      <td>8</td>\n",
       "      <td>5</td>\n",
       "      <td>62</td>\n",
       "      <td>0.050290</td>\n",
       "      <td>3.118</td>\n",
       "      <td>0.007</td>\n",
       "      <td>0.390</td>\n",
       "      <td>0.073078</td>\n",
       "      <td>36.66768</td>\n",
       "      <td>11.760000</td>\n",
       "    </tr>\n",
       "    <tr>\n",
       "      <th>182101</th>\n",
       "      <td>MAC004605</td>\n",
       "      <td>ACORN-E</td>\n",
       "      <td>Affluent</td>\n",
       "      <td>8</td>\n",
       "      <td>23</td>\n",
       "      <td>62</td>\n",
       "      <td>0.087548</td>\n",
       "      <td>5.428</td>\n",
       "      <td>0.037</td>\n",
       "      <td>0.443</td>\n",
       "      <td>0.079251</td>\n",
       "      <td>69.09147</td>\n",
       "      <td>12.728716</td>\n",
       "    </tr>\n",
       "    <tr>\n",
       "      <th>91806</th>\n",
       "      <td>MAC001421</td>\n",
       "      <td>ACORN-Q</td>\n",
       "      <td>Adversity</td>\n",
       "      <td>6</td>\n",
       "      <td>8</td>\n",
       "      <td>60</td>\n",
       "      <td>0.176233</td>\n",
       "      <td>10.574</td>\n",
       "      <td>0.063</td>\n",
       "      <td>0.302</td>\n",
       "      <td>0.067813</td>\n",
       "      <td>146.59806</td>\n",
       "      <td>13.864012</td>\n",
       "    </tr>\n",
       "    <tr>\n",
       "      <th>183411</th>\n",
       "      <td>MAC004609</td>\n",
       "      <td>ACORN-H</td>\n",
       "      <td>Comfortable</td>\n",
       "      <td>9</td>\n",
       "      <td>2</td>\n",
       "      <td>60</td>\n",
       "      <td>0.024183</td>\n",
       "      <td>1.451</td>\n",
       "      <td>0.002</td>\n",
       "      <td>0.034</td>\n",
       "      <td>0.006766</td>\n",
       "      <td>25.64877</td>\n",
       "      <td>17.676616</td>\n",
       "    </tr>\n",
       "    <tr>\n",
       "      <th>26504</th>\n",
       "      <td>MAC001712</td>\n",
       "      <td>ACORN-E</td>\n",
       "      <td>Affluent</td>\n",
       "      <td>10</td>\n",
       "      <td>2</td>\n",
       "      <td>62</td>\n",
       "      <td>0.120290</td>\n",
       "      <td>7.458</td>\n",
       "      <td>0.068</td>\n",
       "      <td>0.183</td>\n",
       "      <td>0.030928</td>\n",
       "      <td>107.57103</td>\n",
       "      <td>14.423576</td>\n",
       "    </tr>\n",
       "  </tbody>\n",
       "</table>\n",
       "</div>"
      ],
      "text/plain": [
       "               ID    ACORN ACORN_grouped  Month  Hour  count  \\\n",
       "175325  MAC000467  ACORN-F   Comfortable      8     5     62   \n",
       "182101  MAC004605  ACORN-E      Affluent      8    23     62   \n",
       "91806   MAC001421  ACORN-Q     Adversity      6     8     60   \n",
       "183411  MAC004609  ACORN-H   Comfortable      9     2     60   \n",
       "26504   MAC001712  ACORN-E      Affluent     10     2     62   \n",
       "\n",
       "        mean_consumption  sum_consumption  min_consumption  max_consumption  \\\n",
       "175325          0.050290            3.118            0.007            0.390   \n",
       "182101          0.087548            5.428            0.037            0.443   \n",
       "91806           0.176233           10.574            0.063            0.302   \n",
       "183411          0.024183            1.451            0.002            0.034   \n",
       "26504           0.120290            7.458            0.068            0.183   \n",
       "\n",
       "        stddev_consumption  sum_price  mean_price  \n",
       "175325            0.073078   36.66768   11.760000  \n",
       "182101            0.079251   69.09147   12.728716  \n",
       "91806             0.067813  146.59806   13.864012  \n",
       "183411            0.006766   25.64877   17.676616  \n",
       "26504             0.030928  107.57103   14.423576  "
      ]
     },
     "execution_count": 30,
     "metadata": {},
     "output_type": "execute_result"
    }
   ],
   "source": [
    "ToU_hour_2012.sample(5)"
   ]
  },
  {
   "cell_type": "code",
   "execution_count": 31,
   "metadata": {
    "collapsed": false
   },
   "outputs": [],
   "source": [
    "ToU_hour_2013['Year'] = 2013"
   ]
  },
  {
   "cell_type": "code",
   "execution_count": 32,
   "metadata": {
    "collapsed": true
   },
   "outputs": [],
   "source": [
    "ToU_hour_2012['Year'] = 2012"
   ]
  },
  {
   "cell_type": "code",
   "execution_count": 33,
   "metadata": {
    "collapsed": false
   },
   "outputs": [],
   "source": [
    "ToU_hour = pd.concat([ToU_hour_2012, ToU_hour_2013])"
   ]
  },
  {
   "cell_type": "code",
   "execution_count": 34,
   "metadata": {
    "collapsed": false
   },
   "outputs": [
    {
     "data": {
      "image/png": "[encoded data removed]",
      "text/plain": [
       "<matplotlib.figure.Figure at 0x7ff17803ef50>"
      ]
     },
     "metadata": {},
     "output_type": "display_data"
    }
   ],
   "source": [
    "_ = sns.boxplot(x='Month',y='mean_consumption', hue = 'Year', data = ToU_hour)"
   ]
  },
  {
   "cell_type": "code",
   "execution_count": 35,
   "metadata": {
    "collapsed": false
   },
   "outputs": [
    {
     "data": {
      "image/png": "[encoded data removed]",
      "text/plain": [
       "<matplotlib.figure.Figure at 0x7ff157ed3110>"
      ]
     },
     "metadata": {},
     "output_type": "display_data"
    }
   ],
   "source": [
    "plt.figure(figsize=(30,15))\n",
    "_ = sns.boxplot(x='Hour',y='mean_consumption', hue = 'Year', data = ToU_hour, notch = True)"
   ]
  },
  {
   "cell_type": "markdown",
   "metadata": {},
   "source": [
    "These charts are not so informative after all.\n",
    "\n",
    "Therefore, we need a metric to characterise customer behavioural changes. A reasonable and simple one is to calculate the difference between the mean price paid in 2013 and the hypothetical mean price that the same customer would have paid in 2012 in subjected to the same dToU tariff. This does not account for the weather component but does take into account all seasonal effects (month, weekday, hour...)."
   ]
  },
  {
   "cell_type": "code",
   "execution_count": 36,
   "metadata": {
    "collapsed": false
   },
   "outputs": [],
   "source": [
    "ToU_hour_mean_price = \\\n",
    "    pd.DataFrame(data= {'price_2013': ToU_hour_2013.groupby(['ID', 'ACORN','ACORN_grouped']).mean()['mean_price'],\n",
    "                        'price_2012': ToU_hour_2012.groupby(['ID', 'ACORN','ACORN_grouped']).mean()['mean_price']})"
   ]
  },
  {
   "cell_type": "code",
   "execution_count": 37,
   "metadata": {
    "collapsed": true
   },
   "outputs": [],
   "source": [
    "ToU_hour_mean_price['reaction'] = ToU_hour_mean_price['price_2012'] - ToU_hour_mean_price['price_2013']"
   ]
  },
  {
   "cell_type": "markdown",
   "metadata": {},
   "source": [
    "With this definition, a negative value of reaction indicates that a customer has paid less in 2013 than what he would have paid with the same tariff applied in 2012, suggesting this user reacted positively to the dToU tariff applied in 2013."
   ]
  },
  {
   "cell_type": "code",
   "execution_count": 38,
   "metadata": {
    "collapsed": false
   },
   "outputs": [],
   "source": [
    "ToU_hour_mean_price = ToU_hour_mean_price.reset_index()"
   ]
  },
  {
   "cell_type": "code",
   "execution_count": 39,
   "metadata": {
    "collapsed": false
   },
   "outputs": [
    {
     "data": {
      "text/html": [
       "<div>\n",
       "<table border=\"1\" class=\"dataframe\">\n",
       "  <thead>\n",
       "    <tr style=\"text-align: right;\">\n",
       "      <th></th>\n",
       "      <th>ID</th>\n",
       "      <th>ACORN</th>\n",
       "      <th>ACORN_grouped</th>\n",
       "      <th>price_2012</th>\n",
       "      <th>price_2013</th>\n",
       "      <th>reaction</th>\n",
       "    </tr>\n",
       "  </thead>\n",
       "  <tbody>\n",
       "    <tr>\n",
       "      <th>129</th>\n",
       "      <td>MAC000716</td>\n",
       "      <td>ACORN-E</td>\n",
       "      <td>Affluent</td>\n",
       "      <td>13.366687</td>\n",
       "      <td>13.193196</td>\n",
       "      <td>0.173490</td>\n",
       "    </tr>\n",
       "    <tr>\n",
       "      <th>534</th>\n",
       "      <td>MAC002668</td>\n",
       "      <td>ACORN-L</td>\n",
       "      <td>Adversity</td>\n",
       "      <td>13.530887</td>\n",
       "      <td>13.139428</td>\n",
       "      <td>0.391459</td>\n",
       "    </tr>\n",
       "    <tr>\n",
       "      <th>567</th>\n",
       "      <td>MAC002800</td>\n",
       "      <td>ACORN-E</td>\n",
       "      <td>Affluent</td>\n",
       "      <td>13.355852</td>\n",
       "      <td>13.379165</td>\n",
       "      <td>-0.023313</td>\n",
       "    </tr>\n",
       "    <tr>\n",
       "      <th>893</th>\n",
       "      <td>MAC004448</td>\n",
       "      <td>ACORN-D</td>\n",
       "      <td>Affluent</td>\n",
       "      <td>13.271065</td>\n",
       "      <td>13.131607</td>\n",
       "      <td>0.139458</td>\n",
       "    </tr>\n",
       "    <tr>\n",
       "      <th>961</th>\n",
       "      <td>MAC004770</td>\n",
       "      <td>ACORN-E</td>\n",
       "      <td>Affluent</td>\n",
       "      <td>13.046917</td>\n",
       "      <td>13.609119</td>\n",
       "      <td>-0.562203</td>\n",
       "    </tr>\n",
       "  </tbody>\n",
       "</table>\n",
       "</div>"
      ],
      "text/plain": [
       "            ID    ACORN ACORN_grouped  price_2012  price_2013  reaction\n",
       "129  MAC000716  ACORN-E      Affluent   13.366687   13.193196  0.173490\n",
       "534  MAC002668  ACORN-L     Adversity   13.530887   13.139428  0.391459\n",
       "567  MAC002800  ACORN-E      Affluent   13.355852   13.379165 -0.023313\n",
       "893  MAC004448  ACORN-D      Affluent   13.271065   13.131607  0.139458\n",
       "961  MAC004770  ACORN-E      Affluent   13.046917   13.609119 -0.562203"
      ]
     },
     "execution_count": 39,
     "metadata": {},
     "output_type": "execute_result"
    }
   ],
   "source": [
    "ToU_hour_mean_price.sample(5)"
   ]
  },
  {
   "cell_type": "code",
   "execution_count": 40,
   "metadata": {
    "collapsed": false
   },
   "outputs": [
    {
     "data": {
      "text/plain": [
       "count    1112.000000\n",
       "mean        0.094489\n",
       "std         0.597633\n",
       "min        -1.953651\n",
       "25%        -0.219515\n",
       "50%        -0.012828\n",
       "75%         0.244330\n",
       "max         5.471839\n",
       "Name: reaction, dtype: float64"
      ]
     },
     "execution_count": 40,
     "metadata": {},
     "output_type": "execute_result"
    }
   ],
   "source": [
    "ToU_hour_mean_price['reaction'].describe()"
   ]
  },
  {
   "cell_type": "code",
   "execution_count": 41,
   "metadata": {
    "collapsed": false
   },
   "outputs": [
    {
     "data": {
      "text/plain": [
       "51.55832591273375"
      ]
     },
     "execution_count": 41,
     "metadata": {},
     "output_type": "execute_result"
    }
   ],
   "source": [
    "from scipy import stats\n",
    "stats.percentileofscore(ToU_hour_mean_price['reaction'],0)"
   ]
  },
  {
   "cell_type": "markdown",
   "metadata": {},
   "source": [
    "Only 51% of users have actually paid less for their kWh thanks to dToU compared to what they would have done keeping their consumption habits for the previous year. This figure is significantly lower than the 85% of users who actually saved money. This means, that many users did not really react to dToU but the structure of this tariff over the year actually made them pay less without a need to change the consumption patterns."
   ]
  },
  {
   "cell_type": "code",
   "execution_count": 47,
   "metadata": {
    "collapsed": false
   },
   "outputs": [
    {
     "data": {
      "image/png": "[encoded data removed]",
      "text/plain": [
       "<matplotlib.figure.Figure at 0x7ff157f23d50>"
      ]
     },
     "metadata": {},
     "output_type": "display_data"
    }
   ],
   "source": [
    "ACORN_levels = ToU_hour_mean_price['ACORN'].unique()\n",
    "ACORN_levels.sort()\n",
    "_ = sns.boxplot(x='reaction', y='ACORN', data=ToU_hour_mean_price\n",
    "                , order = ACORN_levels, notch = True)"
   ]
  },
  {
   "cell_type": "code",
   "execution_count": 49,
   "metadata": {
    "collapsed": true
   },
   "outputs": [],
   "source": [
    "ToU_hour_mean_price.loc[(ToU_hour_mean_price['ACORN_grouped'] == 'ACORN-U') \n",
    "               | (ToU_hour_mean_price['ACORN_grouped'] == 'ACORN-'),'ACORN_grouped'] = 'Undefined'"
   ]
  },
  {
   "cell_type": "code",
   "execution_count": 50,
   "metadata": {
    "collapsed": false
   },
   "outputs": [
    {
     "data": {
      "image/png": "[encoded data removed]",
      "text/plain": [
       "<matplotlib.figure.Figure at 0x7ff155a45490>"
      ]
     },
     "metadata": {},
     "output_type": "display_data"
    }
   ],
   "source": [
    "_ = sns.boxplot(x='reaction', y='ACORN_grouped', data=ToU_hour_mean_price,\n",
    "                order = ['Affluent', 'Comfortable', 'Adversity', 'Undefined'], notch = True)"
   ]
  },
  {
   "cell_type": "markdown",
   "metadata": {},
   "source": [
    "If we consider only the three top level ACORN groups (economic segmentation), medians are not significantly different as shown in the boxplot."
   ]
  },
  {
   "cell_type": "markdown",
   "metadata": {},
   "source": [
    "Instead of these three groups we will consider the six top level groups as descibed in the ACORN guide. These are more representative while keeping the number of groups low (with three, we consider multimillionaires and urban upper-middle class people in the same group, in the same way as students and recent graduates are merged with and unemployed or low-income families with no higher education).\n",
    "\n",
    "-Affluent: A, B, C.\n",
    "\n",
    "-Rising: D, E.\n",
    "\n",
    "-Comfortable: F, G, H, I, J.\n",
    "\n",
    "-Stretched: K, L, M, N.\n",
    "\n",
    "-Adversity: O, P, Q.\n",
    "\n",
    "-Not Private: R (is not present in the dataset)."
   ]
  },
  {
   "cell_type": "code",
   "execution_count": 86,
   "metadata": {
    "collapsed": false
   },
   "outputs": [],
   "source": [
    "ToU_hour_mean_price.loc[ToU_hour_mean_price['ACORN'].isin(['ACORN-A','ACORN-B','ACORN-C']), 'ACORN_grouped'] = 'Affluent'\n",
    "ToU_hour_mean_price.loc[ToU_hour_mean_price['ACORN'].isin(['ACORN-D','ACORN-E']), 'ACORN_grouped'] = 'Rising'\n",
    "ToU_hour_mean_price.loc[ToU_hour_mean_price['ACORN'].isin(['ACORN-F','ACORN-G','ACORN-H','ACORN-I','ACORN-J']),\n",
    "                        'ACORN_grouped'] = 'Comfortable'\n",
    "ToU_hour_mean_price.loc[ToU_hour_mean_price['ACORN'].isin(['ACORN-K','ACORN-L','ACORN-M','ACORN-N']),\n",
    "                        'ACORN_grouped'] = 'Stretched'\n",
    "ToU_hour_mean_price.loc[ToU_hour_mean_price['ACORN'].isin(['ACORN-O','ACORN-P','ACORN-Q']),\n",
    "                        'ACORN_grouped'] = 'Adversity'"
   ]
  },
  {
   "cell_type": "code",
   "execution_count": 87,
   "metadata": {
    "collapsed": false
   },
   "outputs": [
    {
     "data": {
      "image/png": "[encoded data removed]",
      "text/plain": [
       "<matplotlib.figure.Figure at 0x7ff157648c90>"
      ]
     },
     "metadata": {},
     "output_type": "display_data"
    }
   ],
   "source": [
    "_ = sns.boxplot(x='reaction', y='ACORN_grouped', data=ToU_hour_mean_price,\n",
    "        order = ['Affluent', 'Rising', 'Comfortable', 'Stretched', 'Adversity', 'Undefined'], notch = True)"
   ]
  },
  {
   "cell_type": "markdown",
   "metadata": {},
   "source": [
    "It is clear that in all groups there are users who change their behaviour to profit from the lower prices offered by dToU in certain periods of time while others end up paying even more than they would have done with a flat rate tariff. The wealthiest group does worse, with a median reaction above 0. It is expected that this group of users does not have great motivation in saving money from their electricity bill. On the other hand, the lowest income group has a significantly lower median (and significantly below 0), although many users in this group are not reacting to dToU. In the Rising and - especially - Comfortable groups, there is a large spread, with outliers in both directions."
   ]
  },
  {
   "cell_type": "markdown",
   "metadata": {},
   "source": [
    "The top 10 performing users are:"
   ]
  },
  {
   "cell_type": "code",
   "execution_count": 63,
   "metadata": {
    "collapsed": false
   },
   "outputs": [
    {
     "data": {
      "text/html": [
       "<div>\n",
       "<table border=\"1\" class=\"dataframe\">\n",
       "  <thead>\n",
       "    <tr style=\"text-align: right;\">\n",
       "      <th></th>\n",
       "      <th>ID</th>\n",
       "      <th>ACORN</th>\n",
       "      <th>ACORN_grouped</th>\n",
       "      <th>reaction</th>\n",
       "    </tr>\n",
       "  </thead>\n",
       "  <tbody>\n",
       "    <tr>\n",
       "      <th>1010</th>\n",
       "      <td>MAC005069</td>\n",
       "      <td>ACORN-F</td>\n",
       "      <td>Comfortable</td>\n",
       "      <td>-1.953651</td>\n",
       "    </tr>\n",
       "    <tr>\n",
       "      <th>345</th>\n",
       "      <td>MAC001712</td>\n",
       "      <td>ACORN-E</td>\n",
       "      <td>Affluent</td>\n",
       "      <td>-1.403850</td>\n",
       "    </tr>\n",
       "    <tr>\n",
       "      <th>256</th>\n",
       "      <td>MAC001290</td>\n",
       "      <td>ACORN-F</td>\n",
       "      <td>Comfortable</td>\n",
       "      <td>-1.213249</td>\n",
       "    </tr>\n",
       "    <tr>\n",
       "      <th>254</th>\n",
       "      <td>MAC001281</td>\n",
       "      <td>ACORN-F</td>\n",
       "      <td>Comfortable</td>\n",
       "      <td>-1.119491</td>\n",
       "    </tr>\n",
       "    <tr>\n",
       "      <th>460</th>\n",
       "      <td>MAC002264</td>\n",
       "      <td>ACORN-E</td>\n",
       "      <td>Affluent</td>\n",
       "      <td>-1.062310</td>\n",
       "    </tr>\n",
       "    <tr>\n",
       "      <th>936</th>\n",
       "      <td>MAC004691</td>\n",
       "      <td>ACORN-F</td>\n",
       "      <td>Comfortable</td>\n",
       "      <td>-1.038443</td>\n",
       "    </tr>\n",
       "    <tr>\n",
       "      <th>91</th>\n",
       "      <td>MAC000537</td>\n",
       "      <td>ACORN-K</td>\n",
       "      <td>Adversity</td>\n",
       "      <td>-1.031201</td>\n",
       "    </tr>\n",
       "    <tr>\n",
       "      <th>917</th>\n",
       "      <td>MAC004610</td>\n",
       "      <td>ACORN-E</td>\n",
       "      <td>Affluent</td>\n",
       "      <td>-0.909298</td>\n",
       "    </tr>\n",
       "    <tr>\n",
       "      <th>633</th>\n",
       "      <td>MAC003102</td>\n",
       "      <td>ACORN-Q</td>\n",
       "      <td>Adversity</td>\n",
       "      <td>-0.855730</td>\n",
       "    </tr>\n",
       "    <tr>\n",
       "      <th>599</th>\n",
       "      <td>MAC002930</td>\n",
       "      <td>ACORN-E</td>\n",
       "      <td>Affluent</td>\n",
       "      <td>-0.842380</td>\n",
       "    </tr>\n",
       "  </tbody>\n",
       "</table>\n",
       "</div>"
      ],
      "text/plain": [
       "             ID    ACORN ACORN_grouped  reaction\n",
       "1010  MAC005069  ACORN-F   Comfortable -1.953651\n",
       "345   MAC001712  ACORN-E      Affluent -1.403850\n",
       "256   MAC001290  ACORN-F   Comfortable -1.213249\n",
       "254   MAC001281  ACORN-F   Comfortable -1.119491\n",
       "460   MAC002264  ACORN-E      Affluent -1.062310\n",
       "936   MAC004691  ACORN-F   Comfortable -1.038443\n",
       "91    MAC000537  ACORN-K     Adversity -1.031201\n",
       "917   MAC004610  ACORN-E      Affluent -0.909298\n",
       "633   MAC003102  ACORN-Q     Adversity -0.855730\n",
       "599   MAC002930  ACORN-E      Affluent -0.842380"
      ]
     },
     "execution_count": 63,
     "metadata": {},
     "output_type": "execute_result"
    }
   ],
   "source": [
    "ToU_hour_mean_price[['ID','ACORN','ACORN_grouped','reaction']].sort_values('reaction')[:10]"
   ]
  },
  {
   "cell_type": "markdown",
   "metadata": {},
   "source": [
    "The top 5 performing groups on average are:"
   ]
  },
  {
   "cell_type": "code",
   "execution_count": 57,
   "metadata": {
    "collapsed": false
   },
   "outputs": [
    {
     "data": {
      "text/plain": [
       "ACORN    ACORN_grouped\n",
       "ACORN-   Undefined       -0.071297\n",
       "ACORN-K  Adversity       -0.064659\n",
       "ACORN-F  Comfortable     -0.038997\n",
       "ACORN-B  Affluent        -0.003137\n",
       "ACORN-P  Adversity        0.013565\n",
       "Name: reaction, dtype: float64"
      ]
     },
     "execution_count": 57,
     "metadata": {},
     "output_type": "execute_result"
    }
   ],
   "source": [
    "ToU_hour_mean_price.groupby(['ACORN','ACORN_grouped']).mean()['reaction'].sort_values()[:5]"
   ]
  },
  {
   "cell_type": "markdown",
   "metadata": {},
   "source": [
    "As there are outliers, the median could be more informative"
   ]
  },
  {
   "cell_type": "code",
   "execution_count": 61,
   "metadata": {
    "collapsed": false
   },
   "outputs": [
    {
     "data": {
      "text/plain": [
       "ACORN    ACORN_grouped\n",
       "ACORN-U  Undefined       -0.087557\n",
       "ACORN-P  Adversity       -0.084321\n",
       "ACORN-Q  Adversity       -0.083649\n",
       "ACORN-F  Comfortable     -0.076481\n",
       "ACORN-   Undefined       -0.071297\n",
       "Name: reaction, dtype: float64"
      ]
     },
     "execution_count": 61,
     "metadata": {},
     "output_type": "execute_result"
    }
   ],
   "source": [
    "ToU_hour_mean_price.groupby(['ACORN','ACORN_grouped']).median()['reaction'].sort_values()[:5]"
   ]
  },
  {
   "cell_type": "markdown",
   "metadata": {},
   "source": [
    "Of the top 10 performers, 4 are in group E and 4 in group F. F also has the second best mean and fourth best median. F are middle-class users who live in countryside communities while group is composed by young career-driven families, first buyers and people living in mixed metropolitan areas. They are educated young people rising in prosperity, with heavy internet use (including online shopping).\n",
    "\n",
    "Both groups have a large variability, as we saw in the mean price data analysis. Some have a strong reaction to dToU while others do not seem to care much. \n",
    "\n",
    "P and Q users also have a positive reaction to tariff changes. ACORN-P is described as a mixture of poorer families with many children, low income terraced housing, multi-ethnic, purpose-built estates and low income families in social rented semis, while Q users are single parents and families in social rented flats, singles and young families and people living in deprived areas and high-rise flats.\n",
    "\n",
    "For these groups, comparing user behaviour with flat rate and dynamic tariff did not change our conclusions. However, our calculation of user reaction to dToU has uncovered K users are also doing well. This group is made of students or recent graduates, people with a low income but higher education."
   ]
  },
  {
   "cell_type": "markdown",
   "metadata": {},
   "source": [
    "The bottom 10 performers are:"
   ]
  },
  {
   "cell_type": "code",
   "execution_count": 88,
   "metadata": {
    "collapsed": false
   },
   "outputs": [
    {
     "data": {
      "text/html": [
       "<div>\n",
       "<table border=\"1\" class=\"dataframe\">\n",
       "  <thead>\n",
       "    <tr style=\"text-align: right;\">\n",
       "      <th></th>\n",
       "      <th>ID</th>\n",
       "      <th>ACORN</th>\n",
       "      <th>ACORN_grouped</th>\n",
       "      <th>reaction</th>\n",
       "    </tr>\n",
       "  </thead>\n",
       "  <tbody>\n",
       "    <tr>\n",
       "      <th>688</th>\n",
       "      <td>MAC003387</td>\n",
       "      <td>ACORN-C</td>\n",
       "      <td>Affluent</td>\n",
       "      <td>5.471839</td>\n",
       "    </tr>\n",
       "    <tr>\n",
       "      <th>1120</th>\n",
       "      <td>MAC005557</td>\n",
       "      <td>ACORN-Q</td>\n",
       "      <td>Adversity</td>\n",
       "      <td>5.136090</td>\n",
       "    </tr>\n",
       "    <tr>\n",
       "      <th>691</th>\n",
       "      <td>MAC003399</td>\n",
       "      <td>ACORN-M</td>\n",
       "      <td>Stretched</td>\n",
       "      <td>4.943475</td>\n",
       "    </tr>\n",
       "    <tr>\n",
       "      <th>689</th>\n",
       "      <td>MAC003390</td>\n",
       "      <td>ACORN-O</td>\n",
       "      <td>Adversity</td>\n",
       "      <td>4.722190</td>\n",
       "    </tr>\n",
       "    <tr>\n",
       "      <th>690</th>\n",
       "      <td>MAC003396</td>\n",
       "      <td>ACORN-L</td>\n",
       "      <td>Stretched</td>\n",
       "      <td>4.688824</td>\n",
       "    </tr>\n",
       "    <tr>\n",
       "      <th>68</th>\n",
       "      <td>MAC000418</td>\n",
       "      <td>ACORN-E</td>\n",
       "      <td>Rising</td>\n",
       "      <td>4.188096</td>\n",
       "    </tr>\n",
       "    <tr>\n",
       "      <th>685</th>\n",
       "      <td>MAC003366</td>\n",
       "      <td>ACORN-C</td>\n",
       "      <td>Affluent</td>\n",
       "      <td>3.771055</td>\n",
       "    </tr>\n",
       "    <tr>\n",
       "      <th>684</th>\n",
       "      <td>MAC003365</td>\n",
       "      <td>ACORN-C</td>\n",
       "      <td>Affluent</td>\n",
       "      <td>2.901936</td>\n",
       "    </tr>\n",
       "    <tr>\n",
       "      <th>687</th>\n",
       "      <td>MAC003379</td>\n",
       "      <td>ACORN-O</td>\n",
       "      <td>Adversity</td>\n",
       "      <td>2.817309</td>\n",
       "    </tr>\n",
       "    <tr>\n",
       "      <th>686</th>\n",
       "      <td>MAC003372</td>\n",
       "      <td>ACORN-H</td>\n",
       "      <td>Comfortable</td>\n",
       "      <td>2.513035</td>\n",
       "    </tr>\n",
       "  </tbody>\n",
       "</table>\n",
       "</div>"
      ],
      "text/plain": [
       "             ID    ACORN ACORN_grouped  reaction\n",
       "688   MAC003387  ACORN-C      Affluent  5.471839\n",
       "1120  MAC005557  ACORN-Q     Adversity  5.136090\n",
       "691   MAC003399  ACORN-M     Stretched  4.943475\n",
       "689   MAC003390  ACORN-O     Adversity  4.722190\n",
       "690   MAC003396  ACORN-L     Stretched  4.688824\n",
       "68    MAC000418  ACORN-E        Rising  4.188096\n",
       "685   MAC003366  ACORN-C      Affluent  3.771055\n",
       "684   MAC003365  ACORN-C      Affluent  2.901936\n",
       "687   MAC003379  ACORN-O     Adversity  2.817309\n",
       "686   MAC003372  ACORN-H   Comfortable  2.513035"
      ]
     },
     "execution_count": 88,
     "metadata": {},
     "output_type": "execute_result"
    }
   ],
   "source": [
    "ToU_hour_mean_price[['ID','ACORN','ACORN_grouped','reaction']].sort_values('reaction',ascending=False)[:10]"
   ]
  },
  {
   "cell_type": "markdown",
   "metadata": {},
   "source": [
    "The bottom 5 performing groups on average are:"
   ]
  },
  {
   "cell_type": "code",
   "execution_count": 58,
   "metadata": {
    "collapsed": false
   },
   "outputs": [
    {
     "data": {
      "text/plain": [
       "ACORN    ACORN_grouped\n",
       "ACORN-M  Adversity        0.624542\n",
       "ACORN-O  Adversity        0.513486\n",
       "ACORN-C  Affluent         0.436462\n",
       "ACORN-L  Adversity        0.239227\n",
       "ACORN-H  Comfortable      0.217105\n",
       "Name: reaction, dtype: float64"
      ]
     },
     "execution_count": 58,
     "metadata": {},
     "output_type": "execute_result"
    }
   ],
   "source": [
    "ToU_hour_mean_price.groupby(['ACORN','ACORN_grouped']).mean()['reaction'].sort_values(ascending = False)[:5]"
   ]
  },
  {
   "cell_type": "markdown",
   "metadata": {},
   "source": [
    "And the 5 groups with worse median:"
   ]
  },
  {
   "cell_type": "code",
   "execution_count": 62,
   "metadata": {
    "collapsed": false
   },
   "outputs": [
    {
     "data": {
      "text/plain": [
       "ACORN    ACORN_grouped\n",
       "ACORN-M  Adversity        0.172632\n",
       "ACORN-A  Affluent         0.104124\n",
       "ACORN-L  Adversity        0.101426\n",
       "ACORN-H  Comfortable      0.100608\n",
       "ACORN-G  Comfortable      0.058863\n",
       "Name: reaction, dtype: float64"
      ]
     },
     "execution_count": 62,
     "metadata": {},
     "output_type": "execute_result"
    }
   ],
   "source": [
    "ToU_hour_mean_price.groupby(['ACORN','ACORN_grouped']).median()['reaction'].sort_values(ascending = False)[:5]"
   ]
  },
  {
   "cell_type": "markdown",
   "metadata": {},
   "source": [
    "C group (with 24 members) has 3 users in the bottom 10 but is not in the worse 5 groups by median. This suggest there is a large spread with a few outliers in the no reaction side. This group is made up mostly of wealthy villagers, settled older people living in suburban areas and retired and single well-off people, so it is quite heterogeneous.\n",
    "\n",
    "ACORN-M is the group with the worst reaction, as was also suggested by looking at the mean price values. Our reaction metric shows their behaviour is significantly worse than that of most other groups, with no outliers and only 25% of users reacting to dToU (as opposed to 51% overall). These are a mixture of struggling young families in post-war terraces, people with limited means in post-war estates, semi-rural estates and families in right-to-buy estates. There is a large amount of lone parents, people enjoying benefits and lower than average internet, smartphone and tablet use.\n",
    "\n",
    "Finally, this analysis has also uncovered ACORN-L as a group reacting very mildly to the dynamic tariff. When analysing the mean price in 2013 this group did not brought our attention as it is actually lower than that of other groups. However, as shown by our reaction metric, this seems to be a matter of luck, as most users did not really change their consumptuion patterns, but this happened to benefit from the tariff. Nonetheless, one could also argue that as their usual behaviour was already well adapted to the profile of the dynamic tariff they did not have so much room for further adaption. This group is made of people living in low cost flats in suburban areas, semi-skilled workers, owners of cheaper terraces and high occupancy terraces (with many Asian families)."
   ]
  },
  {
   "cell_type": "markdown",
   "metadata": {},
   "source": [
    "Finally, let us compare the fraction of users who reacted to the dynamic tariff (reaction < 0) to complete our analysis. Now we will not look at the values but just at how many users have reacted to the tariff."
   ]
  },
  {
   "cell_type": "code",
   "execution_count": 96,
   "metadata": {
    "collapsed": false
   },
   "outputs": [],
   "source": [
    "ToU_group_reaction = \\\n",
    "    ToU_hour_mean_price[ToU_hour_mean_price['reaction']<0].groupby(['ACORN', 'ACORN_grouped']).count()['ID']\\\n",
    "    /ToU_hour_mean_price.groupby(['ACORN', 'ACORN_grouped']).count()['ID']"
   ]
  },
  {
   "cell_type": "code",
   "execution_count": 104,
   "metadata": {
    "collapsed": false
   },
   "outputs": [],
   "source": [
    "ToU_group_reaction = ToU_group_reaction.reset_index()"
   ]
  },
  {
   "cell_type": "code",
   "execution_count": 110,
   "metadata": {
    "collapsed": false
   },
   "outputs": [],
   "source": [
    "ToU_group_reaction = ToU_group_reaction.rename(columns={'ID':'fraction'})"
   ]
  },
  {
   "cell_type": "code",
   "execution_count": 133,
   "metadata": {
    "collapsed": false
   },
   "outputs": [
    {
     "data": {
      "image/png": "[encoded data removed]",
      "text/plain": [
       "<matplotlib.figure.Figure at 0x7ff155220210>"
      ]
     },
     "metadata": {},
     "output_type": "display_data"
    }
   ],
   "source": [
    "acorn_sorted = ToU_group_reaction.sort_values('fraction', ascending = False)['ACORN']\n",
    "_ = sns.barplot(y = 'ACORN', x = 'fraction', data = ToU_group_reaction, order = acorn_sorted, color = 'red', orient = 'h')"
   ]
  },
  {
   "cell_type": "markdown",
   "metadata": {},
   "source": [
    "Group M is again clearly the worse performer but this binary metric has also uncovered the B group as one in which many users do not react to the tariff. Actually, of the highest-income groups C is clearly the best with slightly over 50% of users reacting. Group A is that of the richest families, living in luxury houses. Group B, in which just around 25% of users react contains asset rich families but also affluent professionals and families. Groups Q, F and P are again top 3 performers."
   ]
  },
  {
   "cell_type": "markdown",
   "metadata": {},
   "source": [
    "#### Conclusion"
   ]
  },
  {
   "cell_type": "markdown",
   "metadata": {},
   "source": [
    "Dynamic Time of Use tariff can be effective to influence the electricity consumption patterns of customers, decreasing consumption when prices are high and increasing them when they are low. Utilities can use them to improve consumption prediction, flatten the aggregate demand curve or defer consumption to periods when power generation is abundant (for example, when wind and other renewables kick in). Nevertheless, the degree to which different users react to tariff changes has a very large variation, with around 50% of our sample not being to react at all. \n",
    "\n",
    "In this case, the dToU tariff helped 85% of customers save many, but some of them did not even have to change their behaviour. This is not the best case for a utility, as it reduces its income while not obtaining much benefit in terms of demand predictability.\n",
    "\n",
    "In any case it seems the ACORN segmentation is not so effective to predict a user's behaviour, with all groups containing households that react and others than do not to the dToU tariff. It is true, however, that the less affluent groups do not have any of the top spenders among their ranks. These are presumably more compelled to save money from the meager incomes and take more care about profiting from a variable tariff.\n",
    "\n",
    "First, most ACORN \"letter\" groups are quite heterogeneous and mostly, but not only, based on income. This segmentation actually contains smaller groups (labelled with numbers) that narrow down socioeconomic characteristics (age, education, neighbourhood and housing type). In any case, it is very likely that other factors that cannot be known or even hinted at with the full ACORN grouping influence consumer behaviour: a user's attitude towards the environment, hobbies (for example, a football fan will not defer his TV consumption when watching a game even if the tariff is high) and working hours (dToU tariff was higher on average in the evening hours).\n",
    "\n",
    "Finally, we should also bear in mind that this kind of schemes require customer \"learning\" or adaption. A user must change his consumption behaviour, which has been learnt for years, taking new variables into account, so the success of a dynamic tariff is expected to increase over time in the first few years. Surely, it is very unlikely that all users react to a variable tariff and this shall not be the aim. In our dataset roughly half of the users reacted to some degree by deferring their consumption to periods of lower prices, so a utility could benefit from this effect, as it has been discussed. In the next section we will see if this enhances aggregate electricity demand prediction, which is another of the main aims of dynamic tariffs."
   ]
  }
 ],
 "metadata": {
  "kernelspec": {
   "display_name": "Python 3",
   "language": "python",
   "name": "python3"
  },
  "language_info": {
   "codemirror_mode": {
    "name": "ipython",
    "version": 3
   },
   "file_extension": ".py",
   "mimetype": "text/x-python",
   "name": "python",
   "nbconvert_exporter": "python",
   "pygments_lexer": "ipython3",
   "version": "3.6.0"
  }
 },
 "nbformat": 4,
 "nbformat_minor": 0
}
