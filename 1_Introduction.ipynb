{
 "cells": [
  {
   "cell_type": "markdown",
   "metadata": {},
   "source": [
    "# Customer behaviour in the electric market and response to dynamic tariffs"
   ]
  },
  {
   "cell_type": "markdown",
   "metadata": {},
   "source": [
    "## Marcos Escudero Olano"
   ]
  },
  {
   "cell_type": "markdown",
   "metadata": {},
   "source": [
    "Predicting power demand is of capital importance, especially in grids with a high share of renewables and complex relationships (where some consumers are also producers occasionally). Such power systems are already in place in many European countries and constitute an increasing trend in the coming years. The introduction of smart metering systems in EU countries, among others, is generating a vast amount of data (in the order of Petabytes by now) to utilities: traditionally consumption data per customer was available in monthly intervals, but smart meters provide data every 15 minutes to 1 hour, depending on the system. By 2020 it is expected that at least 80% of EU consumers will have smart metering systems [3].\n",
    "\n",
    "Nanpeng Yu et al. [1] have identified some important benefits of big data applications in power distribution systems: \n",
    "    -Detect energy theft.\n",
    "    -Detect EV and Rooftop Solar integration.\n",
    "    -Develop more accurate and granular load forecast.\n",
    "    -Develop more accurate and granular Renewable generation forecast.\n",
    "    -Grid state estimation.\n",
    "    -Equiment diagnosis (e.g.: transformer failure).\n",
    "    -Model customer consumption behaviour under various incentive and pricing structures. This will be the main focus of this work.\n",
    "    -Transformation of distribution system planning process.\n",
    "\n",
    "High demand variability may cause grid unstability. Furthermore, demand peaks might require that more expensive and/or electricity generation power plants take part in energy supply. Utilities (and grid operators) may thus obtain an important benefit by deferring consumption of some consumers. This can be done by various demand response programmes, including Dynamic Time of Use, which will be studied in this work."
   ]
  },
  {
   "cell_type": "markdown",
   "metadata": {},
   "source": [
    "The data used in this work is publicly available and derives from a research work carried out in 5567 London households between November 2011 and February 2014: Data and documentation can be downloaded from https://datahub.io/dataset/smartmeter-energy-use-data-in-london-households.\n",
    "\n",
    "Within the data set are two groups of customers. The first is a sub-group, of approximately 1100 customers, who were subjected to Dynamic Time of Use (dToU) energy prices throughout the 2013 calendar year period.  The tariff prices were given a day ahead via the Smart Meter IHD (In Home Display) or text message to mobile phone. Customers were issued High (67.20p/kWh), Low (3.99p/kWh) or normal (11.76p/kWh) price signals and the times of day these applied. The dates/times and the price signal schedule is availaible as part of this dataset. All non-Time of Use customers were on a flat rate tariff of 14.228pence/kWh.The signals given were designed to be representative of the types of signal that may be used in the future to manage both high renewable generation (supply following) operation and also test the potential to use high price signals to reduce stress on local distribution grids during periods of stress [7]."
   ]
  },
  {
   "cell_type": "markdown",
   "metadata": {},
   "source": [
    "References:\n",
    "\n",
    "[1] N. Yu, S. Shah, R. Johnson, R. Sherick, M. Hong, K. Loparo. \"Big Data Analytics in Power Distribution Systems\".\n",
    "\n",
    "[2] A. Albert, R. Rajagopal. \"Smart Meter Driven Segmentation: What your consumption says about you\". IEEE Transactions on Power Systems (2013).\n",
    "\n",
    "[3] C. Flath, D. Nicolay, T. Conte, C. van Dinther, L. Filipova-Neumann. \"Cluster Analysis of Smart Metering Data\". BISE Research Paper (2011).\n",
    "\n",
    "[4] T. Zufferey, A. Ulbig, S. Koch, G. Hug. \"Forecasting of Smart Meter Time Series Based on Neural Networks\".\n",
    "\n",
    "[5] P. Dagnely, T. Ruette, T. Tourwé, E. Tsiporkova, C. Verhelst. \"Predicting Hourly Energy Consumption. Can Regression Modeling Improve on an Autoregressive Baseline?\"\n",
    "\n",
    "[6] W. Shen, V. Babushkin, Z. Aung, and W. L. Woon. \"An Ensemble Model for Day-ahead Electricity Demand Time Series Forecasting\".\n",
    "\n",
    "[7] https://datahub.io/dataset/smartmeter-energy-use-data-in-london-households"
   ]
  },
  {
   "cell_type": "code",
   "execution_count": 5,
   "metadata": {
    "collapsed": true
   },
   "outputs": [],
   "source": [
    "import numpy as np\n",
    "import pandas as pd\n",
    "import matplotlib.pyplot as plt\n",
    "%matplotlib inline\n",
    "import seaborn as sns"
   ]
  },
  {
   "cell_type": "code",
   "execution_count": null,
   "metadata": {
    "collapsed": true
   },
   "outputs": [],
   "source": [
    "pd.options.display.max_columns = None"
   ]
  },
  {
   "cell_type": "markdown",
   "metadata": {},
   "source": [
    "The complete dataset contains 167 million rows. We will start by reading the sample provided, which corresponds to the whole time series for one user, to see how it looks like."
   ]
  },
  {
   "cell_type": "code",
   "execution_count": 208,
   "metadata": {
    "collapsed": false
   },
   "outputs": [],
   "source": [
    "df_sample = pd.read_csv('https://files.datapress.com/london/dataset/smartmeter-energy-use-data-in-london-households/UKPN-LCL-smartmeter-sample.csv')"
   ]
  },
  {
   "cell_type": "code",
   "execution_count": 209,
   "metadata": {
    "collapsed": false
   },
   "outputs": [],
   "source": [
    "df_sample = df_sample.rename(columns={'KWH/hh (per half hour) ':'kWh/30min'})"
   ]
  },
  {
   "cell_type": "code",
   "execution_count": 210,
   "metadata": {
    "collapsed": false
   },
   "outputs": [],
   "source": [
    "df_sample['kWh/30min'] = pd.to_numeric(df_sample['kWh/30min'],'coerce')"
   ]
  },
  {
   "cell_type": "code",
   "execution_count": 23,
   "metadata": {
    "collapsed": false
   },
   "outputs": [
    {
     "data": {
      "text/plain": [
       "numpy.float64"
      ]
     },
     "execution_count": 23,
     "metadata": {},
     "output_type": "execute_result"
    }
   ],
   "source": [
    "type(df_sample['kWh/30min'][3])"
   ]
  },
  {
   "cell_type": "code",
   "execution_count": 55,
   "metadata": {
    "collapsed": false
   },
   "outputs": [
    {
     "data": {
      "text/plain": [
       "(17458, 6)"
      ]
     },
     "execution_count": 55,
     "metadata": {},
     "output_type": "execute_result"
    }
   ],
   "source": [
    "df_sample.shape"
   ]
  },
  {
   "cell_type": "code",
   "execution_count": 211,
   "metadata": {
    "collapsed": true
   },
   "outputs": [],
   "source": [
    "df_sample['DateTime'] = pd.to_datetime(df_sample['DateTime'])"
   ]
  },
  {
   "cell_type": "code",
   "execution_count": 57,
   "metadata": {
    "collapsed": false
   },
   "outputs": [
    {
     "data": {
      "text/plain": [
       "pandas.tslib.Timestamp"
      ]
     },
     "execution_count": 57,
     "metadata": {},
     "output_type": "execute_result"
    }
   ],
   "source": [
    "type(df_sample['DateTime'][2])"
   ]
  },
  {
   "cell_type": "code",
   "execution_count": 212,
   "metadata": {
    "collapsed": false
   },
   "outputs": [
    {
     "data": {
      "text/html": [
       "<div>\n",
       "<table border=\"1\" class=\"dataframe\">\n",
       "  <thead>\n",
       "    <tr style=\"text-align: right;\">\n",
       "      <th></th>\n",
       "      <th>LCLid</th>\n",
       "      <th>stdorToU</th>\n",
       "      <th>DateTime</th>\n",
       "      <th>kWh/30min</th>\n",
       "      <th>Acorn</th>\n",
       "      <th>Acorn_grouped</th>\n",
       "    </tr>\n",
       "  </thead>\n",
       "  <tbody>\n",
       "    <tr>\n",
       "      <th>7968</th>\n",
       "      <td>MAC003718</td>\n",
       "      <td>Std</td>\n",
       "      <td>2013-01-04 10:30:00</td>\n",
       "      <td>0.387</td>\n",
       "      <td>ACORN-A</td>\n",
       "      <td>Affluent</td>\n",
       "    </tr>\n",
       "    <tr>\n",
       "      <th>17233</th>\n",
       "      <td>MAC003718</td>\n",
       "      <td>Std</td>\n",
       "      <td>2013-11-10 08:00:00</td>\n",
       "      <td>0.418</td>\n",
       "      <td>ACORN-A</td>\n",
       "      <td>Affluent</td>\n",
       "    </tr>\n",
       "    <tr>\n",
       "      <th>3035</th>\n",
       "      <td>MAC003718</td>\n",
       "      <td>Std</td>\n",
       "      <td>2012-12-19 17:30:00</td>\n",
       "      <td>0.596</td>\n",
       "      <td>ACORN-A</td>\n",
       "      <td>Affluent</td>\n",
       "    </tr>\n",
       "    <tr>\n",
       "      <th>15350</th>\n",
       "      <td>MAC003718</td>\n",
       "      <td>Std</td>\n",
       "      <td>2013-02-09 03:00:00</td>\n",
       "      <td>0.123</td>\n",
       "      <td>ACORN-A</td>\n",
       "      <td>Affluent</td>\n",
       "    </tr>\n",
       "    <tr>\n",
       "      <th>12517</th>\n",
       "      <td>MAC003718</td>\n",
       "      <td>Std</td>\n",
       "      <td>2013-05-07 03:30:00</td>\n",
       "      <td>0.128</td>\n",
       "      <td>ACORN-A</td>\n",
       "      <td>Affluent</td>\n",
       "    </tr>\n",
       "  </tbody>\n",
       "</table>\n",
       "</div>"
      ],
      "text/plain": [
       "           LCLid stdorToU            DateTime  kWh/30min    Acorn  \\\n",
       "7968   MAC003718      Std 2013-01-04 10:30:00      0.387  ACORN-A   \n",
       "17233  MAC003718      Std 2013-11-10 08:00:00      0.418  ACORN-A   \n",
       "3035   MAC003718      Std 2012-12-19 17:30:00      0.596  ACORN-A   \n",
       "15350  MAC003718      Std 2013-02-09 03:00:00      0.123  ACORN-A   \n",
       "12517  MAC003718      Std 2013-05-07 03:30:00      0.128  ACORN-A   \n",
       "\n",
       "      Acorn_grouped  \n",
       "7968       Affluent  \n",
       "17233      Affluent  \n",
       "3035       Affluent  \n",
       "15350      Affluent  \n",
       "12517      Affluent  "
      ]
     },
     "execution_count": 212,
     "metadata": {},
     "output_type": "execute_result"
    }
   ],
   "source": [
    "df_sample.sample(5)"
   ]
  },
  {
   "cell_type": "markdown",
   "metadata": {},
   "source": [
    "The dataset contains six columns. Its meaning is explained below:\n",
    "\n",
    "LCLid: Customer ID (5567 different IDs)\n",
    "\n",
    "stdorToU: Standard (Std) or Dynamic Time of Use (dToU) energy prices\n",
    "\n",
    "-Standard: flat rate tariff of 14.228p/kWh\n",
    "\n",
    "-dToU: Customers were issued High (67.20p/kWh), Low (3.99p/kWh) or normal (11.76p/kWh) price signals and the times of day these applied.\n",
    "\n",
    "ACORN geodemographic segmentation (http://acorn.caci.co.uk/downloads/Acorn-Technical-document.pdf)"
   ]
  },
  {
   "cell_type": "markdown",
   "metadata": {},
   "source": [
    "Geodemographic, household occupation and lifestyle data are often used when available in smart metering customer segmentation, and usually obtained by surveys, as in [2]. We can use the ACORN geodemographic segmentation in a similar way."
   ]
  },
  {
   "cell_type": "code",
   "execution_count": 213,
   "metadata": {
    "collapsed": false
   },
   "outputs": [
    {
     "data": {
      "text/plain": [
       "LCLid            0\n",
       "stdorToU         0\n",
       "DateTime         0\n",
       "kWh/30min        1\n",
       "Acorn            0\n",
       "Acorn_grouped    0\n",
       "dtype: int64"
      ]
     },
     "execution_count": 213,
     "metadata": {},
     "output_type": "execute_result"
    }
   ],
   "source": [
    "df_sample.isnull().sum()"
   ]
  },
  {
   "cell_type": "markdown",
   "metadata": {},
   "source": [
    "In our sample there is only a missing value. This seems a mistake as the DateTime value does not correspond to a 30-minute interval. Anyway, we should define a systematic way of treating missing values in our dataset. Following a common and simple approach [3] adapted to our dataset, we will treat DateTime and consumption missing values in the following way:\n",
    "\n",
    "1- Remove data that do not correspond to 30-minute intervals.\n",
    "\n",
    "2- If missing values extend for more than 1 hour (2 periods), they will be removed.\n",
    "\n",
    "3- If missing values extend for less than 1 hour, they will be estimated by linear interpolation.\n",
    "\n",
    "If NAs are present in stdorToU, Acorn or Acorn_grouped, they can be extracted from another row representing the same User ID (LCLid).\n",
    "\n",
    "If LCLid contains missing values, they will be inferred assuming the data is grouped by LCLid.\n"
   ]
  },
  {
   "cell_type": "code",
   "execution_count": 199,
   "metadata": {
    "collapsed": false
   },
   "outputs": [],
   "source": [
    "def treat_nas(df):\n",
    "    df_na = df[df['kWh/30min'].isnull()]\n",
    "    minutes = df_na['DateTime'].apply(lambda x: x.minute)\n",
    "    to_drop = minutes[(minutes != 0) & (minutes != 30)]\n",
    "    df = df.drop(to_drop.index[0])\n",
    "    tmp = df.set_index('DateTime')['kWh/30min'].interpolate(method = 'time', limit = 2, limit_direction = 'both').values\n",
    "    df['kWh/30min'] = tmp\n",
    "    df = df.dropna(subset=['kWh/30min'])\n",
    "    return(df)"
   ]
  },
  {
   "cell_type": "markdown",
   "metadata": {},
   "source": [
    "Dynamic Time of Use tariffs are contained in https://files.datapress.com/london/dataset/smartmeter-energy-use-data-in-london-households/Tariffs.xlsx"
   ]
  },
  {
   "cell_type": "code",
   "execution_count": 49,
   "metadata": {
    "collapsed": true
   },
   "outputs": [],
   "source": [
    "tariffs = pd.read_excel('https://files.datapress.com/london/dataset/smartmeter-energy-use-data-in-london-households/Tariffs.xlsx', sheetname='Sheet1')"
   ]
  },
  {
   "cell_type": "code",
   "execution_count": 365,
   "metadata": {
    "collapsed": false
   },
   "outputs": [
    {
     "data": {
      "text/html": [
       "<div>\n",
       "<table border=\"1\" class=\"dataframe\">\n",
       "  <thead>\n",
       "    <tr style=\"text-align: right;\">\n",
       "      <th></th>\n",
       "      <th>TariffDateTime</th>\n",
       "      <th>Tariff</th>\n",
       "    </tr>\n",
       "  </thead>\n",
       "  <tbody>\n",
       "    <tr>\n",
       "      <th>14618</th>\n",
       "      <td>2013-11-01 13:00:00</td>\n",
       "      <td>Normal</td>\n",
       "    </tr>\n",
       "    <tr>\n",
       "      <th>11959</th>\n",
       "      <td>2013-09-07 03:30:00</td>\n",
       "      <td>Normal</td>\n",
       "    </tr>\n",
       "    <tr>\n",
       "      <th>1362</th>\n",
       "      <td>2013-01-29 09:00:00</td>\n",
       "      <td>High</td>\n",
       "    </tr>\n",
       "    <tr>\n",
       "      <th>11096</th>\n",
       "      <td>2013-08-20 04:00:00</td>\n",
       "      <td>Normal</td>\n",
       "    </tr>\n",
       "    <tr>\n",
       "      <th>3120</th>\n",
       "      <td>2013-03-07 00:00:00</td>\n",
       "      <td>Normal</td>\n",
       "    </tr>\n",
       "  </tbody>\n",
       "</table>\n",
       "</div>"
      ],
      "text/plain": [
       "           TariffDateTime  Tariff\n",
       "14618 2013-11-01 13:00:00  Normal\n",
       "11959 2013-09-07 03:30:00  Normal\n",
       "1362  2013-01-29 09:00:00    High\n",
       "11096 2013-08-20 04:00:00  Normal\n",
       "3120  2013-03-07 00:00:00  Normal"
      ]
     },
     "execution_count": 365,
     "metadata": {},
     "output_type": "execute_result"
    }
   ],
   "source": [
    "tariffs.sample(5)"
   ]
  },
  {
   "cell_type": "code",
   "execution_count": 50,
   "metadata": {
    "collapsed": false
   },
   "outputs": [],
   "source": [
    "tariffs['TariffDateTime'] = pd.to_datetime(tariffs['TariffDateTime'])"
   ]
  },
  {
   "cell_type": "code",
   "execution_count": 367,
   "metadata": {
    "collapsed": false
   },
   "outputs": [
    {
     "data": {
      "text/plain": [
       "Normal    15072\n",
       "Low        1660\n",
       "High        788\n",
       "Name: Tariff, dtype: int64"
      ]
     },
     "execution_count": 367,
     "metadata": {},
     "output_type": "execute_result"
    }
   ],
   "source": [
    "tariffs['Tariff'].value_counts(dropna = False)"
   ]
  },
  {
   "cell_type": "code",
   "execution_count": 387,
   "metadata": {
    "collapsed": false
   },
   "outputs": [
    {
     "name": "stdout",
     "output_type": "stream",
     "text": [
      "Dynamic Time of Use tarrifs were applied from 2013-01-01 00:00:00 to 2013-12-31 23:30:00. During this time there were 17520 30-min periods.\n",
      "There are 17520 lines.\n"
     ]
    }
   ],
   "source": [
    "print(\"Dynamic Time of Use tarrifs were applied from {start} to {end}. During this time there were {p} 30-min periods.\".format(\n",
    "                start = min(tariffs['TariffDateTime']), \n",
    "                end = max(tariffs['TariffDateTime']), \n",
    "                p = round((max(tariffs['TariffDateTime']) - min(tariffs['TariffDateTime'])).total_seconds()/60/30+1)))\n",
    "print(\"There are {ln} lines.\".format(ln = len(tariffs)))\n",
    "p = round((max(tariffs['TariffDateTime']) - min(tariffs['TariffDateTime'])).total_seconds()/60/30+1)"
   ]
  },
  {
   "cell_type": "code",
   "execution_count": 389,
   "metadata": {
    "collapsed": false
   },
   "outputs": [
    {
     "data": {
      "text/plain": [
       "30    8760\n",
       "0     8760\n",
       "Name: TariffDateTime, dtype: int64"
      ]
     },
     "execution_count": 389,
     "metadata": {},
     "output_type": "execute_result"
    }
   ],
   "source": [
    "tariffs['TariffDateTime'].apply(lambda x: x.minute).value_counts(dropna = False)"
   ]
  },
  {
   "cell_type": "code",
   "execution_count": 391,
   "metadata": {
    "collapsed": false
   },
   "outputs": [
    {
     "data": {
      "text/plain": [
       "0    17520\n",
       "Name: TariffDateTime, dtype: int64"
      ]
     },
     "execution_count": 391,
     "metadata": {},
     "output_type": "execute_result"
    }
   ],
   "source": [
    "tariffs['TariffDateTime'].apply(lambda x: x.second).value_counts(dropna = False)"
   ]
  },
  {
   "cell_type": "code",
   "execution_count": 392,
   "metadata": {
    "collapsed": false
   },
   "outputs": [
    {
     "data": {
      "text/plain": [
       "15    730\n",
       "14    730\n",
       "16    730\n",
       "1     730\n",
       "17    730\n",
       "2     730\n",
       "18    730\n",
       "3     730\n",
       "19    730\n",
       "4     730\n",
       "20    730\n",
       "5     730\n",
       "21    730\n",
       "6     730\n",
       "22    730\n",
       "7     730\n",
       "23    730\n",
       "8     730\n",
       "9     730\n",
       "10    730\n",
       "11    730\n",
       "12    730\n",
       "13    730\n",
       "0     730\n",
       "Name: TariffDateTime, dtype: int64"
      ]
     },
     "execution_count": 392,
     "metadata": {},
     "output_type": "execute_result"
    }
   ],
   "source": [
    "tariffs['TariffDateTime'].apply(lambda x: x.hour).value_counts(dropna = False)"
   ]
  },
  {
   "cell_type": "code",
   "execution_count": 393,
   "metadata": {
    "collapsed": false
   },
   "outputs": [
    {
     "data": {
      "text/plain": [
       "8     576\n",
       "23    576\n",
       "1     576\n",
       "17    576\n",
       "2     576\n",
       "18    576\n",
       "3     576\n",
       "19    576\n",
       "4     576\n",
       "20    576\n",
       "5     576\n",
       "21    576\n",
       "6     576\n",
       "22    576\n",
       "7     576\n",
       "16    576\n",
       "15    576\n",
       "24    576\n",
       "9     576\n",
       "25    576\n",
       "10    576\n",
       "26    576\n",
       "11    576\n",
       "27    576\n",
       "12    576\n",
       "28    576\n",
       "13    576\n",
       "14    576\n",
       "29    528\n",
       "30    528\n",
       "31    336\n",
       "Name: TariffDateTime, dtype: int64"
      ]
     },
     "execution_count": 393,
     "metadata": {},
     "output_type": "execute_result"
    }
   ],
   "source": [
    "tariffs['TariffDateTime'].apply(lambda x: x.day).value_counts(dropna = False)"
   ]
  },
  {
   "cell_type": "code",
   "execution_count": 394,
   "metadata": {
    "collapsed": false
   },
   "outputs": [
    {
     "data": {
      "text/plain": [
       "12    1488\n",
       "10    1488\n",
       "8     1488\n",
       "7     1488\n",
       "5     1488\n",
       "3     1488\n",
       "1     1488\n",
       "11    1440\n",
       "9     1440\n",
       "6     1440\n",
       "4     1440\n",
       "2     1344\n",
       "Name: TariffDateTime, dtype: int64"
      ]
     },
     "execution_count": 394,
     "metadata": {},
     "output_type": "execute_result"
    }
   ],
   "source": [
    "tariffs['TariffDateTime'].apply(lambda x: x.month).value_counts(dropna = False)"
   ]
  },
  {
   "cell_type": "markdown",
   "metadata": {},
   "source": [
    "There are no missing values and datetime values make perfect sense. No need to work further to use Tariff data."
   ]
  },
  {
   "cell_type": "markdown",
   "metadata": {},
   "source": [
    "Weather has a noticeable impact on electricity consumption. In many works [2] this is modelled as an effect independent on customer behavioural profiles. It is clear then that we need London weather data with a suitable resolution. We can download such data from darksky.net API in 1-hour intervals.\n"
   ]
  },
  {
   "cell_type": "code",
   "execution_count": 220,
   "metadata": {
    "collapsed": true
   },
   "outputs": [],
   "source": [
    "import json\n",
    "import requests"
   ]
  },
  {
   "cell_type": "markdown",
   "metadata": {},
   "source": [
    "This API allows 1000 requests per day. As each request contains data for 24 h, I need one request for each day in the dataset (01/11/2011 - 28/02/2014) - approximately 820. I requested a key for the API and checked the latitude and longitude of Charing Cross, London (51.5073, -0.1276)."
   ]
  },
  {
   "cell_type": "code",
   "execution_count": 222,
   "metadata": {
    "collapsed": false
   },
   "outputs": [],
   "source": [
    "def get_weather(start_date,end_date,key='6dd734f200fdb13485eb69bec91e91fc',lat=51.5073,lon=-0.1276):\n",
    "    weather = pd.DataFrame()\n",
    "    dates = pd.date_range(start=start_date,end=end_date,freq='D')\n",
    "    for date in dates: \n",
    "        time=date.strftime('%Y-%m-%dT%H:%M:%S')\n",
    "        url='https://api.darksky.net/forecast/%s/%s,%s,%s?units=si&exclude=currently,flags,daily' %(key,lat,lon,time)\n",
    "        r = requests.get(url)\n",
    "        js = json.loads(r.content)\n",
    "        w = pd.DataFrame(js['hourly']['data'])\n",
    "        w['time'] = pd.to_datetime(w['time'],unit=\"s\")\n",
    "        weather = weather.append(w)\n",
    "    return(weather)"
   ]
  },
  {
   "cell_type": "code",
   "execution_count": 223,
   "metadata": {
    "collapsed": true
   },
   "outputs": [],
   "source": [
    "weather = get_weather('2011-11-01','2014-03-01')"
   ]
  },
  {
   "cell_type": "code",
   "execution_count": 355,
   "metadata": {
    "collapsed": true
   },
   "outputs": [],
   "source": [
    "weather['time'] = pd.to_datetime(weather['time'])"
   ]
  },
  {
   "cell_type": "code",
   "execution_count": 357,
   "metadata": {
    "collapsed": false
   },
   "outputs": [],
   "source": [
    "weather = weather.set_index('time')"
   ]
  },
  {
   "cell_type": "code",
   "execution_count": 333,
   "metadata": {
    "collapsed": false
   },
   "outputs": [
    {
     "data": {
      "text/html": [
       "<div>\n",
       "<table border=\"1\" class=\"dataframe\">\n",
       "  <thead>\n",
       "    <tr style=\"text-align: right;\">\n",
       "      <th></th>\n",
       "      <th>apparentTemperature</th>\n",
       "      <th>cloudCover</th>\n",
       "      <th>dewPoint</th>\n",
       "      <th>humidity</th>\n",
       "      <th>icon</th>\n",
       "      <th>precipType</th>\n",
       "      <th>pressure</th>\n",
       "      <th>summary</th>\n",
       "      <th>temperature</th>\n",
       "      <th>time</th>\n",
       "      <th>visibility</th>\n",
       "      <th>windBearing</th>\n",
       "      <th>windSpeed</th>\n",
       "    </tr>\n",
       "  </thead>\n",
       "  <tbody>\n",
       "    <tr>\n",
       "      <th>20441</th>\n",
       "      <td>5.98</td>\n",
       "      <td>0.28</td>\n",
       "      <td>-0.17</td>\n",
       "      <td>0.65</td>\n",
       "      <td>partly-cloudy-night</td>\n",
       "      <td>rain</td>\n",
       "      <td>1001.92</td>\n",
       "      <td>Partly Cloudy</td>\n",
       "      <td>5.98</td>\n",
       "      <td>2014-03-01 19:00:00</td>\n",
       "      <td>12.60</td>\n",
       "      <td>210</td>\n",
       "      <td>1.17</td>\n",
       "    </tr>\n",
       "    <tr>\n",
       "      <th>20442</th>\n",
       "      <td>5.19</td>\n",
       "      <td>NaN</td>\n",
       "      <td>-0.11</td>\n",
       "      <td>0.63</td>\n",
       "      <td>clear-night</td>\n",
       "      <td>rain</td>\n",
       "      <td>1002.34</td>\n",
       "      <td>Clear</td>\n",
       "      <td>6.33</td>\n",
       "      <td>2014-03-01 20:00:00</td>\n",
       "      <td>12.78</td>\n",
       "      <td>232</td>\n",
       "      <td>1.73</td>\n",
       "    </tr>\n",
       "    <tr>\n",
       "      <th>20443</th>\n",
       "      <td>3.48</td>\n",
       "      <td>0.00</td>\n",
       "      <td>-0.17</td>\n",
       "      <td>0.69</td>\n",
       "      <td>clear-night</td>\n",
       "      <td>rain</td>\n",
       "      <td>1002.65</td>\n",
       "      <td>Clear</td>\n",
       "      <td>5.00</td>\n",
       "      <td>2014-03-01 21:00:00</td>\n",
       "      <td>13.36</td>\n",
       "      <td>228</td>\n",
       "      <td>1.89</td>\n",
       "    </tr>\n",
       "    <tr>\n",
       "      <th>20444</th>\n",
       "      <td>2.05</td>\n",
       "      <td>0.00</td>\n",
       "      <td>-0.25</td>\n",
       "      <td>0.73</td>\n",
       "      <td>clear-night</td>\n",
       "      <td>rain</td>\n",
       "      <td>1002.40</td>\n",
       "      <td>Clear</td>\n",
       "      <td>4.06</td>\n",
       "      <td>2014-03-01 22:00:00</td>\n",
       "      <td>13.58</td>\n",
       "      <td>220</td>\n",
       "      <td>2.22</td>\n",
       "    </tr>\n",
       "    <tr>\n",
       "      <th>20445</th>\n",
       "      <td>2.70</td>\n",
       "      <td>0.00</td>\n",
       "      <td>0.62</td>\n",
       "      <td>0.77</td>\n",
       "      <td>clear-night</td>\n",
       "      <td>rain</td>\n",
       "      <td>1001.94</td>\n",
       "      <td>Clear</td>\n",
       "      <td>4.36</td>\n",
       "      <td>2014-03-01 23:00:00</td>\n",
       "      <td>13.71</td>\n",
       "      <td>209</td>\n",
       "      <td>1.92</td>\n",
       "    </tr>\n",
       "  </tbody>\n",
       "</table>\n",
       "</div>"
      ],
      "text/plain": [
       "       apparentTemperature  cloudCover  dewPoint  humidity  \\\n",
       "20441                 5.98        0.28     -0.17      0.65   \n",
       "20442                 5.19         NaN     -0.11      0.63   \n",
       "20443                 3.48        0.00     -0.17      0.69   \n",
       "20444                 2.05        0.00     -0.25      0.73   \n",
       "20445                 2.70        0.00      0.62      0.77   \n",
       "\n",
       "                      icon precipType  pressure        summary  temperature  \\\n",
       "20441  partly-cloudy-night       rain   1001.92  Partly Cloudy         5.98   \n",
       "20442          clear-night       rain   1002.34          Clear         6.33   \n",
       "20443          clear-night       rain   1002.65          Clear         5.00   \n",
       "20444          clear-night       rain   1002.40          Clear         4.06   \n",
       "20445          clear-night       rain   1001.94          Clear         4.36   \n",
       "\n",
       "                      time  visibility  windBearing  windSpeed  \n",
       "20441  2014-03-01 19:00:00       12.60          210       1.17  \n",
       "20442  2014-03-01 20:00:00       12.78          232       1.73  \n",
       "20443  2014-03-01 21:00:00       13.36          228       1.89  \n",
       "20444  2014-03-01 22:00:00       13.58          220       2.22  \n",
       "20445  2014-03-01 23:00:00       13.71          209       1.92  "
      ]
     },
     "execution_count": 333,
     "metadata": {},
     "output_type": "execute_result"
    }
   ],
   "source": [
    "weather.tail()"
   ]
  },
  {
   "cell_type": "code",
   "execution_count": 265,
   "metadata": {
    "collapsed": false
   },
   "outputs": [
    {
     "data": {
      "text/plain": [
       "20446"
      ]
     },
     "execution_count": 265,
     "metadata": {},
     "output_type": "execute_result"
    }
   ],
   "source": [
    "len(weather)"
   ]
  },
  {
   "cell_type": "code",
   "execution_count": 334,
   "metadata": {
    "collapsed": false
   },
   "outputs": [
    {
     "data": {
      "text/plain": [
       "apparentTemperature      0\n",
       "cloudCover             865\n",
       "dewPoint                 0\n",
       "humidity                 0\n",
       "icon                     0\n",
       "precipType               0\n",
       "pressure                11\n",
       "summary                  0\n",
       "temperature              0\n",
       "time                     0\n",
       "visibility               0\n",
       "windBearing              0\n",
       "windSpeed                0\n",
       "dtype: int64"
      ]
     },
     "execution_count": 334,
     "metadata": {},
     "output_type": "execute_result"
    }
   ],
   "source": [
    "weather.isnull().sum()"
   ]
  },
  {
   "cell_type": "code",
   "execution_count": 335,
   "metadata": {
    "collapsed": false
   },
   "outputs": [
    {
     "name": "stdout",
     "output_type": "stream",
     "text": [
      "Partly Cloudy               6892\n",
      "Mostly Cloudy               6453\n",
      "Clear                       4977\n",
      "Overcast                    1109\n",
      "Foggy                        695\n",
      "Breezy and Mostly Cloudy      95\n",
      "Breezy and Partly Cloudy      82\n",
      "Breezy                        46\n",
      "Windy and Mostly Cloudy       31\n",
      "Breezy and Overcast           22\n",
      "Windy                         18\n",
      "Windy and Overcast             9\n",
      "Dry                            9\n",
      "Dry and Mostly Cloudy          5\n",
      "Windy and Partly Cloudy        2\n",
      "Dry and Partly Cloudy          1\n",
      "Name: summary, dtype: int64\n",
      "There are 16 levels in variable 'summary'\n"
     ]
    }
   ],
   "source": [
    "print(weather['summary'].value_counts())\n",
    "print(\"There are {n} levels in variable 'summary'\".format(n=len(weather['summary'].value_counts())))"
   ]
  },
  {
   "cell_type": "code",
   "execution_count": 336,
   "metadata": {
    "collapsed": false
   },
   "outputs": [
    {
     "name": "stdout",
     "output_type": "stream",
     "text": [
      "partly-cloudy-day      7840\n",
      "partly-cloudy-night    5511\n",
      "clear-night            4082\n",
      "cloudy                 1109\n",
      "clear-day               904\n",
      "fog                     695\n",
      "wind                    305\n",
      "Name: icon, dtype: int64\n",
      "There are 7 levels in variable 'icon'\n"
     ]
    }
   ],
   "source": [
    "print(weather['icon'].value_counts())\n",
    "print(\"There are {n} levels in variable 'icon'\".format(n=len(weather['icon'].value_counts())))"
   ]
  },
  {
   "cell_type": "code",
   "execution_count": 337,
   "metadata": {
    "collapsed": false
   },
   "outputs": [
    {
     "data": {
      "text/plain": [
       "rain    20029\n",
       "snow      417\n",
       "Name: precipType, dtype: int64"
      ]
     },
     "execution_count": 337,
     "metadata": {},
     "output_type": "execute_result"
    }
   ],
   "source": [
    "weather['precipType'].value_counts()"
   ]
  },
  {
   "cell_type": "markdown",
   "metadata": {},
   "source": [
    "Before continuning we can save the weather data as a csv so we do not need to download them again."
   ]
  },
  {
   "cell_type": "code",
   "execution_count": 309,
   "metadata": {
    "collapsed": false
   },
   "outputs": [],
   "source": [
    "weather.to_csv('data/weather.csv')"
   ]
  },
  {
   "cell_type": "markdown",
   "metadata": {},
   "source": [
    "Unfortunately the precipitation amount (as used in [2]) is not included in this weather data. In any case, Albert and Rajagopal [2] concluded that precipitation amount was the less explicative of the weather variables they used.\n",
    "\n",
    "Variable \"precipType\" only tells us whether possible precipitation is rain or snow, but not whether there was actually precipitation. Therefore, we will discard it, assuming that other variables can cover this information (namely humidity, cloud cover and pressure). We prefer to use these 3 variables rather than the 16-level categorical variable \"summary\". \n",
    "\n",
    "Therefore, we will use the following variables:\n",
    "\n",
    "-Temperature\n",
    "\n",
    "-Humidity\n",
    "\n",
    "-Cloud cover\n",
    "\n",
    "-Pressure"
   ]
  },
  {
   "cell_type": "markdown",
   "metadata": {},
   "source": [
    "Only cloud cover and pressure contain missing values. Let us examine a reasonable way of dealing with them."
   ]
  },
  {
   "cell_type": "markdown",
   "metadata": {},
   "source": [
    "We will start by examining the relationship between Cloud Cover and summary. Except for foggy weather, summary seems to give us a reasonable idea of the value of Cloud Cover. Therefore, it is proposed to impute the median value of Cloud Cover for \"summary\" in each NA."
   ]
  },
  {
   "cell_type": "code",
   "execution_count": 291,
   "metadata": {
    "collapsed": false
   },
   "outputs": [
    {
     "data": {
      "image/png": "[encoded data removed]",
      "text/plain": [
       "<matplotlib.figure.Figure at 0x12949080>"
      ]
     },
     "metadata": {},
     "output_type": "display_data"
    }
   ],
   "source": [
    "plt.figure(figsize=(20, 8))\n",
    "g1 = sns.boxplot(weather['summary'], weather['cloudCover'])\n",
    "g1.set_xticklabels(g1.get_xticklabels(),rotation=90, fontsize = 12)\n",
    "plt.show()"
   ]
  },
  {
   "cell_type": "markdown",
   "metadata": {},
   "source": [
    "Now we will examine the Pressure values. As there are only 11 values, we can look at all of them directly. It can be noticed that there is no series of more than one missing value (the maximum gap is 1 hour)."
   ]
  },
  {
   "cell_type": "code",
   "execution_count": 266,
   "metadata": {
    "collapsed": false
   },
   "outputs": [
    {
     "data": {
      "text/html": [
       "<div>\n",
       "<table border=\"1\" class=\"dataframe\">\n",
       "  <thead>\n",
       "    <tr style=\"text-align: right;\">\n",
       "      <th></th>\n",
       "      <th>apparentTemperature</th>\n",
       "      <th>cloudCover</th>\n",
       "      <th>dewPoint</th>\n",
       "      <th>humidity</th>\n",
       "      <th>icon</th>\n",
       "      <th>precipType</th>\n",
       "      <th>pressure</th>\n",
       "      <th>summary</th>\n",
       "      <th>temperature</th>\n",
       "      <th>time</th>\n",
       "      <th>visibility</th>\n",
       "      <th>windBearing</th>\n",
       "      <th>windSpeed</th>\n",
       "    </tr>\n",
       "  </thead>\n",
       "  <tbody>\n",
       "    <tr>\n",
       "      <th>4530</th>\n",
       "      <td>12.97</td>\n",
       "      <td>0.34</td>\n",
       "      <td>8.28</td>\n",
       "      <td>0.73</td>\n",
       "      <td>partly-cloudy-day</td>\n",
       "      <td>rain</td>\n",
       "      <td>NaN</td>\n",
       "      <td>Partly Cloudy</td>\n",
       "      <td>12.97</td>\n",
       "      <td>2012-05-07 18:00:00</td>\n",
       "      <td>11.27</td>\n",
       "      <td>189</td>\n",
       "      <td>4.25</td>\n",
       "    </tr>\n",
       "    <tr>\n",
       "      <th>8655</th>\n",
       "      <td>4.19</td>\n",
       "      <td>0.78</td>\n",
       "      <td>3.60</td>\n",
       "      <td>0.77</td>\n",
       "      <td>partly-cloudy-day</td>\n",
       "      <td>rain</td>\n",
       "      <td>NaN</td>\n",
       "      <td>Mostly Cloudy</td>\n",
       "      <td>7.31</td>\n",
       "      <td>2012-10-26 15:00:00</td>\n",
       "      <td>11.27</td>\n",
       "      <td>21</td>\n",
       "      <td>5.08</td>\n",
       "    </tr>\n",
       "    <tr>\n",
       "      <th>10303</th>\n",
       "      <td>7.09</td>\n",
       "      <td>0.77</td>\n",
       "      <td>8.67</td>\n",
       "      <td>0.94</td>\n",
       "      <td>partly-cloudy-night</td>\n",
       "      <td>rain</td>\n",
       "      <td>NaN</td>\n",
       "      <td>Mostly Cloudy</td>\n",
       "      <td>9.64</td>\n",
       "      <td>2013-01-03 07:00:00</td>\n",
       "      <td>9.62</td>\n",
       "      <td>250</td>\n",
       "      <td>5.15</td>\n",
       "    </tr>\n",
       "    <tr>\n",
       "      <th>14077</th>\n",
       "      <td>13.47</td>\n",
       "      <td>NaN</td>\n",
       "      <td>7.74</td>\n",
       "      <td>0.68</td>\n",
       "      <td>clear-day</td>\n",
       "      <td>rain</td>\n",
       "      <td>NaN</td>\n",
       "      <td>Clear</td>\n",
       "      <td>13.47</td>\n",
       "      <td>2013-06-09 13:00:00</td>\n",
       "      <td>9.98</td>\n",
       "      <td>47</td>\n",
       "      <td>5.11</td>\n",
       "    </tr>\n",
       "    <tr>\n",
       "      <th>15336</th>\n",
       "      <td>19.07</td>\n",
       "      <td>NaN</td>\n",
       "      <td>16.73</td>\n",
       "      <td>0.86</td>\n",
       "      <td>clear-night</td>\n",
       "      <td>rain</td>\n",
       "      <td>NaN</td>\n",
       "      <td>Clear</td>\n",
       "      <td>19.07</td>\n",
       "      <td>2013-08-01 00:00:00</td>\n",
       "      <td>9.98</td>\n",
       "      <td>189</td>\n",
       "      <td>2.82</td>\n",
       "    </tr>\n",
       "    <tr>\n",
       "      <th>15697</th>\n",
       "      <td>16.98</td>\n",
       "      <td>0.00</td>\n",
       "      <td>14.84</td>\n",
       "      <td>0.87</td>\n",
       "      <td>clear-night</td>\n",
       "      <td>rain</td>\n",
       "      <td>NaN</td>\n",
       "      <td>Clear</td>\n",
       "      <td>16.98</td>\n",
       "      <td>2013-08-16 01:00:00</td>\n",
       "      <td>9.98</td>\n",
       "      <td>217</td>\n",
       "      <td>3.84</td>\n",
       "    </tr>\n",
       "    <tr>\n",
       "      <th>15935</th>\n",
       "      <td>17.58</td>\n",
       "      <td>0.00</td>\n",
       "      <td>15.51</td>\n",
       "      <td>0.88</td>\n",
       "      <td>clear-night</td>\n",
       "      <td>rain</td>\n",
       "      <td>NaN</td>\n",
       "      <td>Clear</td>\n",
       "      <td>17.58</td>\n",
       "      <td>2013-08-25 23:00:00</td>\n",
       "      <td>6.32</td>\n",
       "      <td>10</td>\n",
       "      <td>3.75</td>\n",
       "    </tr>\n",
       "    <tr>\n",
       "      <th>15936</th>\n",
       "      <td>17.04</td>\n",
       "      <td>0.00</td>\n",
       "      <td>15.44</td>\n",
       "      <td>0.90</td>\n",
       "      <td>clear-night</td>\n",
       "      <td>rain</td>\n",
       "      <td>NaN</td>\n",
       "      <td>Clear</td>\n",
       "      <td>17.04</td>\n",
       "      <td>2013-08-26 00:00:00</td>\n",
       "      <td>4.39</td>\n",
       "      <td>358</td>\n",
       "      <td>2.74</td>\n",
       "    </tr>\n",
       "    <tr>\n",
       "      <th>16273</th>\n",
       "      <td>7.98</td>\n",
       "      <td>0.00</td>\n",
       "      <td>8.00</td>\n",
       "      <td>0.91</td>\n",
       "      <td>clear-night</td>\n",
       "      <td>rain</td>\n",
       "      <td>NaN</td>\n",
       "      <td>Clear</td>\n",
       "      <td>9.33</td>\n",
       "      <td>2013-09-09 01:00:00</td>\n",
       "      <td>9.50</td>\n",
       "      <td>219</td>\n",
       "      <td>2.57</td>\n",
       "    </tr>\n",
       "    <tr>\n",
       "      <th>16276</th>\n",
       "      <td>9.56</td>\n",
       "      <td>0.00</td>\n",
       "      <td>7.72</td>\n",
       "      <td>0.86</td>\n",
       "      <td>clear-night</td>\n",
       "      <td>rain</td>\n",
       "      <td>NaN</td>\n",
       "      <td>Clear</td>\n",
       "      <td>9.92</td>\n",
       "      <td>2013-09-09 04:00:00</td>\n",
       "      <td>9.45</td>\n",
       "      <td>224</td>\n",
       "      <td>1.50</td>\n",
       "    </tr>\n",
       "    <tr>\n",
       "      <th>16377</th>\n",
       "      <td>18.13</td>\n",
       "      <td>NaN</td>\n",
       "      <td>16.41</td>\n",
       "      <td>0.90</td>\n",
       "      <td>clear-day</td>\n",
       "      <td>rain</td>\n",
       "      <td>NaN</td>\n",
       "      <td>Clear</td>\n",
       "      <td>18.13</td>\n",
       "      <td>2013-09-13 11:00:00</td>\n",
       "      <td>7.34</td>\n",
       "      <td>252</td>\n",
       "      <td>2.90</td>\n",
       "    </tr>\n",
       "  </tbody>\n",
       "</table>\n",
       "</div>"
      ],
      "text/plain": [
       "       apparentTemperature  cloudCover  dewPoint  humidity  \\\n",
       "4530                 12.97        0.34      8.28      0.73   \n",
       "8655                  4.19        0.78      3.60      0.77   \n",
       "10303                 7.09        0.77      8.67      0.94   \n",
       "14077                13.47         NaN      7.74      0.68   \n",
       "15336                19.07         NaN     16.73      0.86   \n",
       "15697                16.98        0.00     14.84      0.87   \n",
       "15935                17.58        0.00     15.51      0.88   \n",
       "15936                17.04        0.00     15.44      0.90   \n",
       "16273                 7.98        0.00      8.00      0.91   \n",
       "16276                 9.56        0.00      7.72      0.86   \n",
       "16377                18.13         NaN     16.41      0.90   \n",
       "\n",
       "                      icon precipType  pressure        summary  temperature  \\\n",
       "4530     partly-cloudy-day       rain       NaN  Partly Cloudy        12.97   \n",
       "8655     partly-cloudy-day       rain       NaN  Mostly Cloudy         7.31   \n",
       "10303  partly-cloudy-night       rain       NaN  Mostly Cloudy         9.64   \n",
       "14077            clear-day       rain       NaN          Clear        13.47   \n",
       "15336          clear-night       rain       NaN          Clear        19.07   \n",
       "15697          clear-night       rain       NaN          Clear        16.98   \n",
       "15935          clear-night       rain       NaN          Clear        17.58   \n",
       "15936          clear-night       rain       NaN          Clear        17.04   \n",
       "16273          clear-night       rain       NaN          Clear         9.33   \n",
       "16276          clear-night       rain       NaN          Clear         9.92   \n",
       "16377            clear-day       rain       NaN          Clear        18.13   \n",
       "\n",
       "                     time  visibility  windBearing  windSpeed  \n",
       "4530  2012-05-07 18:00:00       11.27          189       4.25  \n",
       "8655  2012-10-26 15:00:00       11.27           21       5.08  \n",
       "10303 2013-01-03 07:00:00        9.62          250       5.15  \n",
       "14077 2013-06-09 13:00:00        9.98           47       5.11  \n",
       "15336 2013-08-01 00:00:00        9.98          189       2.82  \n",
       "15697 2013-08-16 01:00:00        9.98          217       3.84  \n",
       "15935 2013-08-25 23:00:00        6.32           10       3.75  \n",
       "15936 2013-08-26 00:00:00        4.39          358       2.74  \n",
       "16273 2013-09-09 01:00:00        9.50          219       2.57  \n",
       "16276 2013-09-09 04:00:00        9.45          224       1.50  \n",
       "16377 2013-09-13 11:00:00        7.34          252       2.90  "
      ]
     },
     "execution_count": 266,
     "metadata": {},
     "output_type": "execute_result"
    }
   ],
   "source": [
    "weather[weather['pressure'].isnull()]"
   ]
  },
  {
   "cell_type": "code",
   "execution_count": 297,
   "metadata": {
    "collapsed": false
   },
   "outputs": [
    {
     "data": {
      "image/png": "[encoded data removed]",
      "text/plain": [
       "<matplotlib.figure.Figure at 0x11332668>"
      ]
     },
     "metadata": {},
     "output_type": "display_data"
    }
   ],
   "source": [
    "plt.figure(figsize=(20, 8))\n",
    "g2 = sns.boxplot(weather['summary'], weather['pressure'])\n",
    "g2.set_xticklabels(g2.get_xticklabels(),rotation=90, fontsize = 12)\n",
    "plt.show()"
   ]
  },
  {
   "cell_type": "code",
   "execution_count": 298,
   "metadata": {
    "collapsed": false
   },
   "outputs": [
    {
     "data": {
      "text/html": [
       "<div>\n",
       "<table border=\"1\" class=\"dataframe\">\n",
       "  <thead>\n",
       "    <tr style=\"text-align: right;\">\n",
       "      <th></th>\n",
       "      <th>apparentTemperature</th>\n",
       "      <th>cloudCover</th>\n",
       "      <th>dewPoint</th>\n",
       "      <th>humidity</th>\n",
       "      <th>icon</th>\n",
       "      <th>precipType</th>\n",
       "      <th>pressure</th>\n",
       "      <th>summary</th>\n",
       "      <th>temperature</th>\n",
       "      <th>time</th>\n",
       "      <th>visibility</th>\n",
       "      <th>windBearing</th>\n",
       "      <th>windSpeed</th>\n",
       "    </tr>\n",
       "  </thead>\n",
       "  <tbody>\n",
       "    <tr>\n",
       "      <th>15330</th>\n",
       "      <td>21.34</td>\n",
       "      <td>0.81</td>\n",
       "      <td>16.21</td>\n",
       "      <td>0.73</td>\n",
       "      <td>partly-cloudy-day</td>\n",
       "      <td>rain</td>\n",
       "      <td>1014.75</td>\n",
       "      <td>Mostly Cloudy</td>\n",
       "      <td>21.34</td>\n",
       "      <td>2013-07-31 18:00:00</td>\n",
       "      <td>12.33</td>\n",
       "      <td>215</td>\n",
       "      <td>5.34</td>\n",
       "    </tr>\n",
       "    <tr>\n",
       "      <th>15331</th>\n",
       "      <td>20.81</td>\n",
       "      <td>0.81</td>\n",
       "      <td>16.11</td>\n",
       "      <td>0.75</td>\n",
       "      <td>partly-cloudy-day</td>\n",
       "      <td>rain</td>\n",
       "      <td>1014.83</td>\n",
       "      <td>Mostly Cloudy</td>\n",
       "      <td>20.81</td>\n",
       "      <td>2013-07-31 19:00:00</td>\n",
       "      <td>12.33</td>\n",
       "      <td>216</td>\n",
       "      <td>4.94</td>\n",
       "    </tr>\n",
       "    <tr>\n",
       "      <th>15332</th>\n",
       "      <td>20.34</td>\n",
       "      <td>1.00</td>\n",
       "      <td>16.18</td>\n",
       "      <td>0.77</td>\n",
       "      <td>cloudy</td>\n",
       "      <td>rain</td>\n",
       "      <td>1014.89</td>\n",
       "      <td>Overcast</td>\n",
       "      <td>20.34</td>\n",
       "      <td>2013-07-31 20:00:00</td>\n",
       "      <td>12.89</td>\n",
       "      <td>218</td>\n",
       "      <td>4.69</td>\n",
       "    </tr>\n",
       "    <tr>\n",
       "      <th>15333</th>\n",
       "      <td>20.22</td>\n",
       "      <td>1.00</td>\n",
       "      <td>16.22</td>\n",
       "      <td>0.78</td>\n",
       "      <td>cloudy</td>\n",
       "      <td>rain</td>\n",
       "      <td>1015.04</td>\n",
       "      <td>Overcast</td>\n",
       "      <td>20.22</td>\n",
       "      <td>2013-07-31 21:00:00</td>\n",
       "      <td>12.89</td>\n",
       "      <td>219</td>\n",
       "      <td>3.81</td>\n",
       "    </tr>\n",
       "    <tr>\n",
       "      <th>15334</th>\n",
       "      <td>20.14</td>\n",
       "      <td>1.00</td>\n",
       "      <td>16.49</td>\n",
       "      <td>0.80</td>\n",
       "      <td>cloudy</td>\n",
       "      <td>rain</td>\n",
       "      <td>1014.84</td>\n",
       "      <td>Overcast</td>\n",
       "      <td>20.14</td>\n",
       "      <td>2013-07-31 22:00:00</td>\n",
       "      <td>12.89</td>\n",
       "      <td>212</td>\n",
       "      <td>3.06</td>\n",
       "    </tr>\n",
       "    <tr>\n",
       "      <th>15335</th>\n",
       "      <td>19.66</td>\n",
       "      <td>1.00</td>\n",
       "      <td>16.55</td>\n",
       "      <td>0.82</td>\n",
       "      <td>cloudy</td>\n",
       "      <td>rain</td>\n",
       "      <td>1014.47</td>\n",
       "      <td>Overcast</td>\n",
       "      <td>19.66</td>\n",
       "      <td>2013-07-31 23:00:00</td>\n",
       "      <td>12.89</td>\n",
       "      <td>198</td>\n",
       "      <td>2.48</td>\n",
       "    </tr>\n",
       "    <tr>\n",
       "      <th>15336</th>\n",
       "      <td>19.07</td>\n",
       "      <td>NaN</td>\n",
       "      <td>16.73</td>\n",
       "      <td>0.86</td>\n",
       "      <td>clear-night</td>\n",
       "      <td>rain</td>\n",
       "      <td>NaN</td>\n",
       "      <td>Clear</td>\n",
       "      <td>19.07</td>\n",
       "      <td>2013-08-01 00:00:00</td>\n",
       "      <td>9.98</td>\n",
       "      <td>189</td>\n",
       "      <td>2.82</td>\n",
       "    </tr>\n",
       "    <tr>\n",
       "      <th>15337</th>\n",
       "      <td>18.95</td>\n",
       "      <td>0.75</td>\n",
       "      <td>16.54</td>\n",
       "      <td>0.86</td>\n",
       "      <td>partly-cloudy-night</td>\n",
       "      <td>rain</td>\n",
       "      <td>1013.78</td>\n",
       "      <td>Mostly Cloudy</td>\n",
       "      <td>18.95</td>\n",
       "      <td>2013-08-01 01:00:00</td>\n",
       "      <td>12.68</td>\n",
       "      <td>183</td>\n",
       "      <td>2.65</td>\n",
       "    </tr>\n",
       "    <tr>\n",
       "      <th>15338</th>\n",
       "      <td>18.78</td>\n",
       "      <td>0.75</td>\n",
       "      <td>16.48</td>\n",
       "      <td>0.87</td>\n",
       "      <td>partly-cloudy-night</td>\n",
       "      <td>rain</td>\n",
       "      <td>1013.43</td>\n",
       "      <td>Mostly Cloudy</td>\n",
       "      <td>18.78</td>\n",
       "      <td>2013-08-01 02:00:00</td>\n",
       "      <td>10.83</td>\n",
       "      <td>178</td>\n",
       "      <td>2.66</td>\n",
       "    </tr>\n",
       "    <tr>\n",
       "      <th>15339</th>\n",
       "      <td>17.82</td>\n",
       "      <td>0.12</td>\n",
       "      <td>16.03</td>\n",
       "      <td>0.89</td>\n",
       "      <td>clear-night</td>\n",
       "      <td>rain</td>\n",
       "      <td>1012.96</td>\n",
       "      <td>Clear</td>\n",
       "      <td>17.82</td>\n",
       "      <td>2013-08-01 03:00:00</td>\n",
       "      <td>10.12</td>\n",
       "      <td>160</td>\n",
       "      <td>1.50</td>\n",
       "    </tr>\n",
       "    <tr>\n",
       "      <th>15340</th>\n",
       "      <td>17.28</td>\n",
       "      <td>0.08</td>\n",
       "      <td>15.89</td>\n",
       "      <td>0.92</td>\n",
       "      <td>clear-night</td>\n",
       "      <td>rain</td>\n",
       "      <td>1012.55</td>\n",
       "      <td>Clear</td>\n",
       "      <td>17.28</td>\n",
       "      <td>2013-08-01 04:00:00</td>\n",
       "      <td>9.27</td>\n",
       "      <td>141</td>\n",
       "      <td>1.68</td>\n",
       "    </tr>\n",
       "  </tbody>\n",
       "</table>\n",
       "</div>"
      ],
      "text/plain": [
       "       apparentTemperature  cloudCover  dewPoint  humidity  \\\n",
       "15330                21.34        0.81     16.21      0.73   \n",
       "15331                20.81        0.81     16.11      0.75   \n",
       "15332                20.34        1.00     16.18      0.77   \n",
       "15333                20.22        1.00     16.22      0.78   \n",
       "15334                20.14        1.00     16.49      0.80   \n",
       "15335                19.66        1.00     16.55      0.82   \n",
       "15336                19.07         NaN     16.73      0.86   \n",
       "15337                18.95        0.75     16.54      0.86   \n",
       "15338                18.78        0.75     16.48      0.87   \n",
       "15339                17.82        0.12     16.03      0.89   \n",
       "15340                17.28        0.08     15.89      0.92   \n",
       "\n",
       "                      icon precipType  pressure        summary  temperature  \\\n",
       "15330    partly-cloudy-day       rain   1014.75  Mostly Cloudy        21.34   \n",
       "15331    partly-cloudy-day       rain   1014.83  Mostly Cloudy        20.81   \n",
       "15332               cloudy       rain   1014.89       Overcast        20.34   \n",
       "15333               cloudy       rain   1015.04       Overcast        20.22   \n",
       "15334               cloudy       rain   1014.84       Overcast        20.14   \n",
       "15335               cloudy       rain   1014.47       Overcast        19.66   \n",
       "15336          clear-night       rain       NaN          Clear        19.07   \n",
       "15337  partly-cloudy-night       rain   1013.78  Mostly Cloudy        18.95   \n",
       "15338  partly-cloudy-night       rain   1013.43  Mostly Cloudy        18.78   \n",
       "15339          clear-night       rain   1012.96          Clear        17.82   \n",
       "15340          clear-night       rain   1012.55          Clear        17.28   \n",
       "\n",
       "                     time  visibility  windBearing  windSpeed  \n",
       "15330 2013-07-31 18:00:00       12.33          215       5.34  \n",
       "15331 2013-07-31 19:00:00       12.33          216       4.94  \n",
       "15332 2013-07-31 20:00:00       12.89          218       4.69  \n",
       "15333 2013-07-31 21:00:00       12.89          219       3.81  \n",
       "15334 2013-07-31 22:00:00       12.89          212       3.06  \n",
       "15335 2013-07-31 23:00:00       12.89          198       2.48  \n",
       "15336 2013-08-01 00:00:00        9.98          189       2.82  \n",
       "15337 2013-08-01 01:00:00       12.68          183       2.65  \n",
       "15338 2013-08-01 02:00:00       10.83          178       2.66  \n",
       "15339 2013-08-01 03:00:00       10.12          160       1.50  \n",
       "15340 2013-08-01 04:00:00        9.27          141       1.68  "
      ]
     },
     "execution_count": 298,
     "metadata": {},
     "output_type": "execute_result"
    }
   ],
   "source": [
    "weather.ix[15330:15340] # Examine a sample in which there is Pressure NaN"
   ]
  },
  {
   "cell_type": "markdown",
   "metadata": {},
   "source": [
    "Atmospheric pressure variability is smaller than that of other variables (including Cloud Cover). Furthermore, it does not seem it can be inferred from the value of \"summary\". It is therefore proposed to fill the 11 missing values by linear interpolation."
   ]
  },
  {
   "cell_type": "code",
   "execution_count": 346,
   "metadata": {
    "collapsed": false
   },
   "outputs": [
    {
     "data": {
      "text/plain": [
       "summary\n",
       "Breezy                      0.000\n",
       "Breezy and Mostly Cloudy    0.750\n",
       "Breezy and Overcast         1.000\n",
       "Breezy and Partly Cloudy    0.450\n",
       "Clear                       0.070\n",
       "Dry                         0.120\n",
       "Dry and Mostly Cloudy       0.750\n",
       "Dry and Partly Cloudy       0.310\n",
       "Foggy                       0.820\n",
       "Mostly Cloudy               0.750\n",
       "Overcast                    1.000\n",
       "Partly Cloudy               0.390\n",
       "Windy                         NaN\n",
       "Windy and Mostly Cloudy     0.750\n",
       "Windy and Overcast          1.000\n",
       "Windy and Partly Cloudy     0.505\n",
       "Name: cloudCover, dtype: float64"
      ]
     },
     "execution_count": 346,
     "metadata": {},
     "output_type": "execute_result"
    }
   ],
   "source": [
    "median_cloud = weather.groupby('summary').median()['cloudCover']\n",
    "median_cloud"
   ]
  },
  {
   "cell_type": "code",
   "execution_count": 305,
   "metadata": {
    "collapsed": false
   },
   "outputs": [
    {
     "data": {
      "text/plain": [
       "Clear     780\n",
       "Breezy     34\n",
       "Foggy      33\n",
       "Windy      18\n",
       "Name: summary, dtype: int64"
      ]
     },
     "execution_count": 305,
     "metadata": {},
     "output_type": "execute_result"
    }
   ],
   "source": [
    "weather[weather['cloudCover'].isnull()]['summary'].value_counts()"
   ]
  },
  {
   "cell_type": "markdown",
   "metadata": {},
   "source": [
    "All \"Windy\" Cloud Cover values (18) are NaN. However, comparing the other summary caterogies cointaining \"windy\" with their \"breezy\" counterparts, we can assume the same median as \"Breezy\"."
   ]
  },
  {
   "cell_type": "code",
   "execution_count": 351,
   "metadata": {
    "collapsed": false
   },
   "outputs": [],
   "source": [
    "weather.loc[(weather['cloudCover'].isnull()) & (weather['summary'] == 'Clear'),'cloudCover'] = median_cloud['Clear']\n",
    "weather.loc[(weather['cloudCover'].isnull()) & (weather['summary'] == 'Breezy'),'cloudCover'] = median_cloud['Breezy']\n",
    "weather.loc[(weather['cloudCover'].isnull()) & (weather['summary'] == 'Foggy'),'cloudCover'] = median_cloud['Foggy']\n",
    "weather.loc[(weather['cloudCover'].isnull()) & (weather['summary'] == 'Windy'),'cloudCover'] = median_cloud['Breezy']"
   ]
  },
  {
   "cell_type": "code",
   "execution_count": 360,
   "metadata": {
    "collapsed": false
   },
   "outputs": [],
   "source": [
    "weather['pressure'] = weather['pressure'].interpolate(method = 'time', limit_direction = 'both').values"
   ]
  },
  {
   "cell_type": "code",
   "execution_count": 361,
   "metadata": {
    "collapsed": false
   },
   "outputs": [
    {
     "data": {
      "text/plain": [
       "apparentTemperature    0\n",
       "cloudCover             0\n",
       "dewPoint               0\n",
       "humidity               0\n",
       "icon                   0\n",
       "precipType             0\n",
       "pressure               0\n",
       "summary                0\n",
       "temperature            0\n",
       "visibility             0\n",
       "windBearing            0\n",
       "windSpeed              0\n",
       "dtype: int64"
      ]
     },
     "execution_count": 361,
     "metadata": {},
     "output_type": "execute_result"
    }
   ],
   "source": [
    "weather.isnull().sum()"
   ]
  },
  {
   "cell_type": "code",
   "execution_count": 362,
   "metadata": {
    "collapsed": true
   },
   "outputs": [],
   "source": [
    "weather.to_csv('data/weather_no_na.csv')"
   ]
  },
  {
   "cell_type": "markdown",
   "metadata": {},
   "source": [
    "Electricity consumption is different in working days and holidays. Therefore, we need to know the bank holidays applicable in London between November 2011 and February 2014. We can use the python \"holidays\" package for this purpose.\n",
    "\n",
    "School holidays also have a potential impact on electricity consumption, but we have not found a reliable source for school holidays in London in the period 2011-2014 so we will not use it in our prediction models."
   ]
  },
  {
   "cell_type": "code",
   "execution_count": null,
   "metadata": {
    "collapsed": true
   },
   "outputs": [],
   "source": [
    "#!pip install holidays \n",
    "#to be executed only if we do not have this package installed"
   ]
  },
  {
   "cell_type": "code",
   "execution_count": 1,
   "metadata": {
    "collapsed": true
   },
   "outputs": [],
   "source": [
    "import holidays"
   ]
  },
  {
   "cell_type": "code",
   "execution_count": 11,
   "metadata": {
    "collapsed": false
   },
   "outputs": [
    {
     "name": "stdout",
     "output_type": "stream",
     "text": [
      "2011-01-01 New Year's Day\n",
      "2011-01-03 New Year's Day (Observed)\n",
      "2011-04-22 Good Friday\n",
      "2011-04-25 Easter Monday\n",
      "2011-04-29 Wedding of William and Catherine\n",
      "2011-05-02 May Day\n",
      "2011-05-30 Spring Bank Holiday\n",
      "2011-08-29 Late Summer Bank Holiday\n",
      "2011-12-25 Christmas Day\n",
      "2011-12-26 Boxing Day\n",
      "2011-12-27 Christmas Day (Observed)\n",
      "2012-01-01 New Year's Day\n",
      "2012-01-02 New Year's Day (Observed)\n",
      "2012-04-06 Good Friday\n",
      "2012-04-09 Easter Monday\n",
      "2012-05-07 May Day\n",
      "2012-06-04 Spring Bank Holiday\n",
      "2012-06-05 Diamond Jubilee of Elizabeth II\n",
      "2012-08-27 Late Summer Bank Holiday\n",
      "2012-12-25 Christmas Day\n",
      "2012-12-26 Boxing Day\n",
      "2013-01-01 New Year's Day\n",
      "2013-03-29 Good Friday\n",
      "2013-04-01 Easter Monday\n",
      "2013-05-06 May Day\n",
      "2013-05-27 Spring Bank Holiday\n",
      "2013-08-26 Late Summer Bank Holiday\n",
      "2013-12-25 Christmas Day\n",
      "2013-12-26 Boxing Day\n",
      "2014-01-01 New Year's Day\n",
      "2014-04-18 Good Friday\n",
      "2014-04-21 Easter Monday\n",
      "2014-05-05 May Day\n",
      "2014-05-26 Spring Bank Holiday\n",
      "2014-08-25 Late Summer Bank Holiday\n",
      "2014-12-25 Christmas Day\n",
      "2014-12-26 Boxing Day\n"
     ]
    }
   ],
   "source": [
    "for date, name in sorted(holidays.England(years=range(2011,2015)).items()):\n",
    "    print(date, name)"
   ]
  },
  {
   "cell_type": "markdown",
   "metadata": {},
   "source": [
    "This is consistent with the bank holidays listed in https://www.gov.uk/bank-holidays"
   ]
  },
  {
   "cell_type": "code",
   "execution_count": 12,
   "metadata": {
    "collapsed": false
   },
   "outputs": [],
   "source": [
    "#I only need to know the dates, not the holiday names\n",
    "bank_hol = []\n",
    "for date, name in sorted(holidays.England(years=range(2011,2015)).items()):\n",
    "    bank_hol.append(date)"
   ]
  },
  {
   "cell_type": "code",
   "execution_count": 13,
   "metadata": {
    "collapsed": false
   },
   "outputs": [],
   "source": [
    "pd.Series(bank_hol).to_csv('data/bank_holidays.csv')"
   ]
  }
 ],
 "metadata": {
  "anaconda-cloud": {},
  "kernelspec": {
   "display_name": "Python 3",
   "language": "python",
   "name": "python3"
  },
  "language_info": {
   "codemirror_mode": {
    "name": "ipython",
    "version": 3
   },
   "file_extension": ".py",
   "mimetype": "text/x-python",
   "name": "python",
   "nbconvert_exporter": "python",
   "pygments_lexer": "ipython3",
   "version": "3.6.0"
  }
 },
 "nbformat": 4,
 "nbformat_minor": 1
}
