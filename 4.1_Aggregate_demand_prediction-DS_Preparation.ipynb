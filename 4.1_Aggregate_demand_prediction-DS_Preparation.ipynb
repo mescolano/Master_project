{
 "cells": [
  {
   "cell_type": "markdown",
   "metadata": {},
   "source": [
    "# 4 Prediction of the aggregate demand "
   ]
  },
  {
   "cell_type": "markdown",
   "metadata": {},
   "source": [
    "In this section, we will compare the performance of different algorithms in predicting the aggregate demand, separating standard and ToU users. First, we will use feature models and then exponential smoothing, which is a time-series dedicated algorithm.\n",
    "\n",
    "After adding the external variables (holidays, weather) we will use different algorithms to fit our feature model. Later, we will predict the aggregate demand with exponential smoothing models in R using the \"forecast\" package.\n",
    "\n",
    "In general we will train our model with Nov 2011- Nov 2013 data and validate it with Nov 2013 - Feb 2014 data.\n",
    "\n",
    "We will use the aggregate statistics we computed in Section 2 with Spark."
   ]
  },
  {
   "cell_type": "markdown",
   "metadata": {},
   "source": [
    "## 4.1 Preparing the dataset"
   ]
  },
  {
   "cell_type": "markdown",
   "metadata": {},
   "source": [
    "First, we will prepare our data so it can be use in the different algorithms proposed. We will start including time and weather variables as these are needed for all models and then we will add the engineered features for the feature models."
   ]
  },
  {
   "cell_type": "code",
   "execution_count": 1,
   "metadata": {
    "collapsed": true
   },
   "outputs": [],
   "source": [
    "import pandas as pd\n",
    "pd.options.display.max_columns = 999\n",
    "import datetime"
   ]
  },
  {
   "cell_type": "code",
   "execution_count": 2,
   "metadata": {
    "collapsed": true
   },
   "outputs": [],
   "source": [
    "df = pd.read_csv('outputs/agg_stats.csv', index_col=0)"
   ]
  },
  {
   "cell_type": "code",
   "execution_count": 3,
   "metadata": {
    "collapsed": false
   },
   "outputs": [
    {
     "data": {
      "text/html": [
       "<div>\n",
       "<table border=\"1\" class=\"dataframe\">\n",
       "  <thead>\n",
       "    <tr style=\"text-align: right;\">\n",
       "      <th></th>\n",
       "      <th>DateTime</th>\n",
       "      <th>Tariff</th>\n",
       "      <th>ToU_User</th>\n",
       "      <th>count</th>\n",
       "      <th>sum</th>\n",
       "      <th>min</th>\n",
       "      <th>mean</th>\n",
       "      <th>max</th>\n",
       "      <th>std_dev</th>\n",
       "    </tr>\n",
       "  </thead>\n",
       "  <tbody>\n",
       "    <tr>\n",
       "      <th>0</th>\n",
       "      <td>2012-10-15 21:00:00</td>\n",
       "      <td>Std</td>\n",
       "      <td>0</td>\n",
       "      <td>4210</td>\n",
       "      <td>1270.587000</td>\n",
       "      <td>0.0</td>\n",
       "      <td>0.301802</td>\n",
       "      <td>5.335</td>\n",
       "      <td>0.319130</td>\n",
       "    </tr>\n",
       "    <tr>\n",
       "      <th>1</th>\n",
       "      <td>2012-10-21 21:00:00</td>\n",
       "      <td>Std</td>\n",
       "      <td>0</td>\n",
       "      <td>4287</td>\n",
       "      <td>1239.813999</td>\n",
       "      <td>0.0</td>\n",
       "      <td>0.289203</td>\n",
       "      <td>6.095</td>\n",
       "      <td>0.320852</td>\n",
       "    </tr>\n",
       "    <tr>\n",
       "      <th>2</th>\n",
       "      <td>2012-10-27 13:00:00</td>\n",
       "      <td>Std</td>\n",
       "      <td>0</td>\n",
       "      <td>4402</td>\n",
       "      <td>1159.695000</td>\n",
       "      <td>0.0</td>\n",
       "      <td>0.263447</td>\n",
       "      <td>3.554</td>\n",
       "      <td>0.336398</td>\n",
       "    </tr>\n",
       "    <tr>\n",
       "      <th>3</th>\n",
       "      <td>2012-10-28 17:30:00</td>\n",
       "      <td>Std</td>\n",
       "      <td>0</td>\n",
       "      <td>4402</td>\n",
       "      <td>1665.008001</td>\n",
       "      <td>0.0</td>\n",
       "      <td>0.378239</td>\n",
       "      <td>8.040</td>\n",
       "      <td>0.447315</td>\n",
       "    </tr>\n",
       "    <tr>\n",
       "      <th>4</th>\n",
       "      <td>2012-11-04 00:30:00</td>\n",
       "      <td>Std</td>\n",
       "      <td>0</td>\n",
       "      <td>4403</td>\n",
       "      <td>994.769000</td>\n",
       "      <td>0.0</td>\n",
       "      <td>0.225930</td>\n",
       "      <td>6.072</td>\n",
       "      <td>0.424697</td>\n",
       "    </tr>\n",
       "  </tbody>\n",
       "</table>\n",
       "</div>"
      ],
      "text/plain": [
       "              DateTime Tariff  ToU_User  count          sum  min      mean  \\\n",
       "0  2012-10-15 21:00:00    Std         0   4210  1270.587000  0.0  0.301802   \n",
       "1  2012-10-21 21:00:00    Std         0   4287  1239.813999  0.0  0.289203   \n",
       "2  2012-10-27 13:00:00    Std         0   4402  1159.695000  0.0  0.263447   \n",
       "3  2012-10-28 17:30:00    Std         0   4402  1665.008001  0.0  0.378239   \n",
       "4  2012-11-04 00:30:00    Std         0   4403   994.769000  0.0  0.225930   \n",
       "\n",
       "     max   std_dev  \n",
       "0  5.335  0.319130  \n",
       "1  6.095  0.320852  \n",
       "2  3.554  0.336398  \n",
       "3  8.040  0.447315  \n",
       "4  6.072  0.424697  "
      ]
     },
     "execution_count": 3,
     "metadata": {},
     "output_type": "execute_result"
    }
   ],
   "source": [
    "df.head()"
   ]
  },
  {
   "cell_type": "markdown",
   "metadata": {},
   "source": [
    "We keep only the columns we need: DateTime, Tariff and mean consumption. We are interested in predicting the aggregate demand (i.e. the sum) but as the data count in each Timestamp is different, we will use the mean. However, we cannot take the mean column directly as the value of Tariff is the user group rather than the tariff applied. In 2011, 2012 and 2014 we are interested in the aggregate demand of both groups combined so we will group and calculate the mean with sum and count."
   ]
  },
  {
   "cell_type": "code",
   "execution_count": 4,
   "metadata": {
    "collapsed": false
   },
   "outputs": [],
   "source": [
    "df = df[['DateTime','Tariff','sum','count']]"
   ]
  },
  {
   "cell_type": "code",
   "execution_count": 5,
   "metadata": {
    "collapsed": true
   },
   "outputs": [],
   "source": [
    "df['DateTime'] = pd.to_datetime(df['DateTime'])"
   ]
  },
  {
   "cell_type": "code",
   "execution_count": 6,
   "metadata": {
    "collapsed": false
   },
   "outputs": [
    {
     "data": {
      "text/plain": [
       "pandas.tslib.Timestamp"
      ]
     },
     "execution_count": 6,
     "metadata": {},
     "output_type": "execute_result"
    }
   ],
   "source": [
    "type(df['DateTime'][2])"
   ]
  },
  {
   "cell_type": "code",
   "execution_count": 7,
   "metadata": {
    "collapsed": false
   },
   "outputs": [
    {
     "data": {
      "text/html": [
       "<div>\n",
       "<table border=\"1\" class=\"dataframe\">\n",
       "  <thead>\n",
       "    <tr style=\"text-align: right;\">\n",
       "      <th></th>\n",
       "      <th>DateTime</th>\n",
       "      <th>Tariff</th>\n",
       "      <th>sum</th>\n",
       "      <th>count</th>\n",
       "    </tr>\n",
       "  </thead>\n",
       "  <tbody>\n",
       "    <tr>\n",
       "      <th>54595</th>\n",
       "      <td>2013-01-10 15:00:00</td>\n",
       "      <td>Std</td>\n",
       "      <td>1057.932001</td>\n",
       "      <td>4394</td>\n",
       "    </tr>\n",
       "    <tr>\n",
       "      <th>46811</th>\n",
       "      <td>2012-03-26 03:00:00</td>\n",
       "      <td>Std</td>\n",
       "      <td>140.707000</td>\n",
       "      <td>992</td>\n",
       "    </tr>\n",
       "    <tr>\n",
       "      <th>11569</th>\n",
       "      <td>2012-01-23 22:00:00</td>\n",
       "      <td>ToU</td>\n",
       "      <td>23.286000</td>\n",
       "      <td>72</td>\n",
       "    </tr>\n",
       "    <tr>\n",
       "      <th>40296</th>\n",
       "      <td>2013-06-04 08:30:00</td>\n",
       "      <td>Std</td>\n",
       "      <td>747.785000</td>\n",
       "      <td>4261</td>\n",
       "    </tr>\n",
       "    <tr>\n",
       "      <th>47302</th>\n",
       "      <td>2011-12-30 11:30:00</td>\n",
       "      <td>Std</td>\n",
       "      <td>88.511000</td>\n",
       "      <td>352</td>\n",
       "    </tr>\n",
       "  </tbody>\n",
       "</table>\n",
       "</div>"
      ],
      "text/plain": [
       "                 DateTime Tariff          sum  count\n",
       "54595 2013-01-10 15:00:00    Std  1057.932001   4394\n",
       "46811 2012-03-26 03:00:00    Std   140.707000    992\n",
       "11569 2012-01-23 22:00:00    ToU    23.286000     72\n",
       "40296 2013-06-04 08:30:00    Std   747.785000   4261\n",
       "47302 2011-12-30 11:30:00    Std    88.511000    352"
      ]
     },
     "execution_count": 7,
     "metadata": {},
     "output_type": "execute_result"
    }
   ],
   "source": [
    "df.sample(5)"
   ]
  },
  {
   "cell_type": "markdown",
   "metadata": {},
   "source": [
    "### 4.1.1 Tariff"
   ]
  },
  {
   "cell_type": "markdown",
   "metadata": {},
   "source": [
    "On of the main variables to include in our dataset is the price of electricity. We have grouped standard flat rate and dToU users in two different groups but we need the actual values of the tariff. \n",
    "\n",
    "For standard users, the price is always equal to 14.228 p/kWh.\n",
    "\n",
    "For ToU users, the tariff level for each 30-min interval is given in an Excel sheet we downloaded in Section 3.2. The corresponding values for each level are:\n",
    "\n",
    "-High = 67.20p/kWh\n",
    "\n",
    "-Normal = 11.76p/kWh\n",
    "\n",
    "-Low = 3.99p/kWh"
   ]
  },
  {
   "cell_type": "code",
   "execution_count": 9,
   "metadata": {
    "collapsed": true
   },
   "outputs": [],
   "source": [
    "tariffs = pd.read_excel('data/Tariffs.xlsx')"
   ]
  },
  {
   "cell_type": "code",
   "execution_count": 10,
   "metadata": {
    "collapsed": true
   },
   "outputs": [],
   "source": [
    "tariffs.loc[tariffs['Tariff'] == 'Normal', 'Tariff_value'] = 11.76\n",
    "tariffs.loc[tariffs['Tariff'] == 'High', 'Tariff_value'] = 67.20\n",
    "tariffs.loc[tariffs['Tariff'] == 'Low', 'Tariff_value'] = 3.99"
   ]
  },
  {
   "cell_type": "code",
   "execution_count": 11,
   "metadata": {
    "collapsed": true
   },
   "outputs": [],
   "source": [
    "tariffs = tariffs.rename(columns = {'TariffDateTime' : 'DateTime'})"
   ]
  },
  {
   "cell_type": "code",
   "execution_count": 12,
   "metadata": {
    "collapsed": false
   },
   "outputs": [
    {
     "data": {
      "text/html": [
       "<div>\n",
       "<table border=\"1\" class=\"dataframe\">\n",
       "  <thead>\n",
       "    <tr style=\"text-align: right;\">\n",
       "      <th></th>\n",
       "      <th>DateTime</th>\n",
       "      <th>Tariff</th>\n",
       "      <th>Tariff_value</th>\n",
       "    </tr>\n",
       "  </thead>\n",
       "  <tbody>\n",
       "    <tr>\n",
       "      <th>2505</th>\n",
       "      <td>2013-02-22 04:30:00</td>\n",
       "      <td>Low</td>\n",
       "      <td>3.99</td>\n",
       "    </tr>\n",
       "    <tr>\n",
       "      <th>12254</th>\n",
       "      <td>2013-09-13 07:00:00</td>\n",
       "      <td>Normal</td>\n",
       "      <td>11.76</td>\n",
       "    </tr>\n",
       "    <tr>\n",
       "      <th>4121</th>\n",
       "      <td>2013-03-27 20:30:00</td>\n",
       "      <td>High</td>\n",
       "      <td>67.20</td>\n",
       "    </tr>\n",
       "    <tr>\n",
       "      <th>7229</th>\n",
       "      <td>2013-05-31 14:30:00</td>\n",
       "      <td>Normal</td>\n",
       "      <td>11.76</td>\n",
       "    </tr>\n",
       "    <tr>\n",
       "      <th>575</th>\n",
       "      <td>2013-01-12 23:30:00</td>\n",
       "      <td>Normal</td>\n",
       "      <td>11.76</td>\n",
       "    </tr>\n",
       "  </tbody>\n",
       "</table>\n",
       "</div>"
      ],
      "text/plain": [
       "                 DateTime  Tariff  Tariff_value\n",
       "2505  2013-02-22 04:30:00     Low          3.99\n",
       "12254 2013-09-13 07:00:00  Normal         11.76\n",
       "4121  2013-03-27 20:30:00    High         67.20\n",
       "7229  2013-05-31 14:30:00  Normal         11.76\n",
       "575   2013-01-12 23:30:00  Normal         11.76"
      ]
     },
     "execution_count": 12,
     "metadata": {},
     "output_type": "execute_result"
    }
   ],
   "source": [
    "tariffs.sample(5)"
   ]
  },
  {
   "cell_type": "code",
   "execution_count": 13,
   "metadata": {
    "collapsed": false
   },
   "outputs": [],
   "source": [
    "tariffs = tariffs.drop('Tariff', axis=1)"
   ]
  },
  {
   "cell_type": "code",
   "execution_count": 14,
   "metadata": {
    "collapsed": false
   },
   "outputs": [],
   "source": [
    "df = df.merge(tariffs, how = 'left', on = 'DateTime')"
   ]
  },
  {
   "cell_type": "code",
   "execution_count": 15,
   "metadata": {
    "collapsed": false
   },
   "outputs": [],
   "source": [
    "df['Tariff_value'] = df['Tariff_value'].fillna(14.228) #This is the standard tariff\n",
    "df.loc[df['User_group'] == 'Std','Tariff_value'] = 14.228"
   ]
  },
  {
   "cell_type": "code",
   "execution_count": 16,
   "metadata": {
    "collapsed": false
   },
   "outputs": [
    {
     "data": {
      "text/html": [
       "<div>\n",
       "<table border=\"1\" class=\"dataframe\">\n",
       "  <thead>\n",
       "    <tr style=\"text-align: right;\">\n",
       "      <th></th>\n",
       "      <th>DateTime</th>\n",
       "      <th>User_group</th>\n",
       "      <th>Tariff_value</th>\n",
       "    </tr>\n",
       "  </thead>\n",
       "  <tbody>\n",
       "    <tr>\n",
       "      <th>22792</th>\n",
       "      <td>2013-01-24 06:00:00</td>\n",
       "      <td>Std</td>\n",
       "      <td>14.228</td>\n",
       "    </tr>\n",
       "    <tr>\n",
       "      <th>36783</th>\n",
       "      <td>2013-03-25 18:00:00</td>\n",
       "      <td>Std</td>\n",
       "      <td>14.228</td>\n",
       "    </tr>\n",
       "    <tr>\n",
       "      <th>66445</th>\n",
       "      <td>2012-04-08 08:00:00</td>\n",
       "      <td>ToU</td>\n",
       "      <td>14.228</td>\n",
       "    </tr>\n",
       "    <tr>\n",
       "      <th>7040</th>\n",
       "      <td>2012-09-02 19:00:00</td>\n",
       "      <td>Std</td>\n",
       "      <td>14.228</td>\n",
       "    </tr>\n",
       "    <tr>\n",
       "      <th>71395</th>\n",
       "      <td>2013-06-14 19:30:00</td>\n",
       "      <td>ToU</td>\n",
       "      <td>11.760</td>\n",
       "    </tr>\n",
       "  </tbody>\n",
       "</table>\n",
       "</div>"
      ],
      "text/plain": [
       "                 DateTime User_group  Tariff_value\n",
       "22792 2013-01-24 06:00:00        Std        14.228\n",
       "36783 2013-03-25 18:00:00        Std        14.228\n",
       "66445 2012-04-08 08:00:00        ToU        14.228\n",
       "7040  2012-09-02 19:00:00        Std        14.228\n",
       "71395 2013-06-14 19:30:00        ToU        11.760"
      ]
     },
     "execution_count": 16,
     "metadata": {},
     "output_type": "execute_result"
    }
   ],
   "source": [
    "df[['DateTime','User_group','Tariff_value']].sample(5)"
   ]
  },
  {
   "cell_type": "code",
   "execution_count": 17,
   "metadata": {
    "collapsed": false
   },
   "outputs": [],
   "source": [
    "df = df.groupby(['DateTime', 'Tariff_value']).agg({'sum': 'sum',\n",
    "                                            'count': 'sum'}).reset_index()"
   ]
  },
  {
   "cell_type": "markdown",
   "metadata": {},
   "source": [
    "Now we can calculate the mean for each data point."
   ]
  },
  {
   "cell_type": "code",
   "execution_count": 18,
   "metadata": {
    "collapsed": true
   },
   "outputs": [],
   "source": [
    "df['mean'] = df['sum']/df['count']"
   ]
  },
  {
   "cell_type": "markdown",
   "metadata": {},
   "source": [
    "We also add a new variable \"ToU\" which indicates whether a consumption data point is for a user in which ToU was applied. As 14.228 p/kWh is the flat rate tariff (and this is not a possible value of ToU tariff), we know that if Tariff_value = 14.228, this is a standard point, and otherwise a ToU point."
   ]
  },
  {
   "cell_type": "code",
   "execution_count": 19,
   "metadata": {
    "collapsed": false
   },
   "outputs": [],
   "source": [
    "df.loc[df['Tariff_value'] == 14.228,'ToU'] = 0\n",
    "df.loc[df['Tariff_value'] != 14.228,'ToU'] = 1"
   ]
  },
  {
   "cell_type": "code",
   "execution_count": 20,
   "metadata": {
    "collapsed": false
   },
   "outputs": [
    {
     "data": {
      "text/html": [
       "<div>\n",
       "<table border=\"1\" class=\"dataframe\">\n",
       "  <thead>\n",
       "    <tr style=\"text-align: right;\">\n",
       "      <th></th>\n",
       "      <th>DateTime</th>\n",
       "      <th>Tariff_value</th>\n",
       "      <th>sum</th>\n",
       "      <th>count</th>\n",
       "      <th>mean</th>\n",
       "      <th>ToU</th>\n",
       "    </tr>\n",
       "  </thead>\n",
       "  <tbody>\n",
       "    <tr>\n",
       "      <th>45637</th>\n",
       "      <td>2013-10-01 03:00:00</td>\n",
       "      <td>14.228</td>\n",
       "      <td>406.701000</td>\n",
       "      <td>4154</td>\n",
       "      <td>0.097906</td>\n",
       "      <td>0.0</td>\n",
       "    </tr>\n",
       "    <tr>\n",
       "      <th>19865</th>\n",
       "      <td>2013-01-05 15:00:00</td>\n",
       "      <td>14.228</td>\n",
       "      <td>1198.600999</td>\n",
       "      <td>4400</td>\n",
       "      <td>0.272409</td>\n",
       "      <td>0.0</td>\n",
       "    </tr>\n",
       "    <tr>\n",
       "      <th>54018</th>\n",
       "      <td>2013-12-27 10:30:00</td>\n",
       "      <td>3.990</td>\n",
       "      <td>262.715000</td>\n",
       "      <td>1041</td>\n",
       "      <td>0.252368</td>\n",
       "      <td>1.0</td>\n",
       "    </tr>\n",
       "    <tr>\n",
       "      <th>17903</th>\n",
       "      <td>2012-11-30 09:30:00</td>\n",
       "      <td>14.228</td>\n",
       "      <td>1448.170999</td>\n",
       "      <td>5525</td>\n",
       "      <td>0.262112</td>\n",
       "      <td>0.0</td>\n",
       "    </tr>\n",
       "    <tr>\n",
       "      <th>17864</th>\n",
       "      <td>2012-11-29 14:00:00</td>\n",
       "      <td>14.228</td>\n",
       "      <td>1206.686000</td>\n",
       "      <td>5527</td>\n",
       "      <td>0.218326</td>\n",
       "      <td>0.0</td>\n",
       "    </tr>\n",
       "  </tbody>\n",
       "</table>\n",
       "</div>"
      ],
      "text/plain": [
       "                 DateTime  Tariff_value          sum  count      mean  ToU\n",
       "45637 2013-10-01 03:00:00        14.228   406.701000   4154  0.097906  0.0\n",
       "19865 2013-01-05 15:00:00        14.228  1198.600999   4400  0.272409  0.0\n",
       "54018 2013-12-27 10:30:00         3.990   262.715000   1041  0.252368  1.0\n",
       "17903 2012-11-30 09:30:00        14.228  1448.170999   5525  0.262112  0.0\n",
       "17864 2012-11-29 14:00:00        14.228  1206.686000   5527  0.218326  0.0"
      ]
     },
     "execution_count": 20,
     "metadata": {},
     "output_type": "execute_result"
    }
   ],
   "source": [
    "df.sample(5)"
   ]
  },
  {
   "cell_type": "markdown",
   "metadata": {
    "collapsed": true
   },
   "source": [
    "### 4.1.2. Bank Holidays"
   ]
  },
  {
   "cell_type": "markdown",
   "metadata": {},
   "source": [
    "Bank Holidays probably have an impact in household electricity consumption as it was discussed in Section 1. Bank Holidays will be treated separately from Sundays as a binary variable. \n",
    "\n",
    "Bank Holidays in England from 2011 to 2014 were downloaded in Section 1 using the Python holidays library (and cross-checked with the official information in www.gov.co.uk) and saved to a csv file."
   ]
  },
  {
   "cell_type": "code",
   "execution_count": 21,
   "metadata": {
    "collapsed": false
   },
   "outputs": [],
   "source": [
    "holidays = pd.Series.from_csv('data/bank_holidays.csv')"
   ]
  },
  {
   "cell_type": "code",
   "execution_count": 22,
   "metadata": {
    "collapsed": true
   },
   "outputs": [],
   "source": [
    "holidays = pd.to_datetime(holidays)"
   ]
  },
  {
   "cell_type": "code",
   "execution_count": 23,
   "metadata": {
    "collapsed": false
   },
   "outputs": [
    {
     "data": {
      "text/plain": [
       "0   2011-01-01\n",
       "1   2011-01-03\n",
       "2   2011-04-22\n",
       "3   2011-04-25\n",
       "4   2011-04-29\n",
       "dtype: datetime64[ns]"
      ]
     },
     "execution_count": 23,
     "metadata": {},
     "output_type": "execute_result"
    }
   ],
   "source": [
    "holidays.head()"
   ]
  },
  {
   "cell_type": "code",
   "execution_count": 24,
   "metadata": {
    "collapsed": true
   },
   "outputs": [],
   "source": [
    "df['Date'] = df['DateTime'].apply(lambda x: x.date())"
   ]
  },
  {
   "cell_type": "code",
   "execution_count": 25,
   "metadata": {
    "collapsed": true
   },
   "outputs": [],
   "source": [
    "df['Date'] = pd.to_datetime(df['Date'])"
   ]
  },
  {
   "cell_type": "code",
   "execution_count": 26,
   "metadata": {
    "collapsed": false
   },
   "outputs": [],
   "source": [
    "df['Holiday'] = 0\n",
    "df.loc[df['Date'].isin(holidays),'Holiday'] = 1"
   ]
  },
  {
   "cell_type": "code",
   "execution_count": 27,
   "metadata": {
    "collapsed": false
   },
   "outputs": [
    {
     "data": {
      "text/html": [
       "<div>\n",
       "<table border=\"1\" class=\"dataframe\">\n",
       "  <thead>\n",
       "    <tr style=\"text-align: right;\">\n",
       "      <th></th>\n",
       "      <th>DateTime</th>\n",
       "      <th>Tariff_value</th>\n",
       "      <th>sum</th>\n",
       "      <th>count</th>\n",
       "      <th>mean</th>\n",
       "      <th>ToU</th>\n",
       "      <th>Date</th>\n",
       "      <th>Holiday</th>\n",
       "    </tr>\n",
       "  </thead>\n",
       "  <tbody>\n",
       "    <tr>\n",
       "      <th>55691</th>\n",
       "      <td>2014-01-26 17:30:00</td>\n",
       "      <td>14.228</td>\n",
       "      <td>1926.090</td>\n",
       "      <td>5067</td>\n",
       "      <td>0.380124</td>\n",
       "      <td>0.0</td>\n",
       "      <td>2014-01-26</td>\n",
       "      <td>0</td>\n",
       "    </tr>\n",
       "    <tr>\n",
       "      <th>46793</th>\n",
       "      <td>2013-10-13 04:00:00</td>\n",
       "      <td>14.228</td>\n",
       "      <td>445.236</td>\n",
       "      <td>4150</td>\n",
       "      <td>0.107286</td>\n",
       "      <td>0.0</td>\n",
       "      <td>2013-10-13</td>\n",
       "      <td>0</td>\n",
       "    </tr>\n",
       "    <tr>\n",
       "      <th>15681</th>\n",
       "      <td>2012-10-15 02:30:00</td>\n",
       "      <td>14.228</td>\n",
       "      <td>576.639</td>\n",
       "      <td>5260</td>\n",
       "      <td>0.109627</td>\n",
       "      <td>0.0</td>\n",
       "      <td>2012-10-15</td>\n",
       "      <td>0</td>\n",
       "    </tr>\n",
       "    <tr>\n",
       "      <th>2454</th>\n",
       "      <td>2012-01-13 12:00:00</td>\n",
       "      <td>14.228</td>\n",
       "      <td>111.795</td>\n",
       "      <td>434</td>\n",
       "      <td>0.257592</td>\n",
       "      <td>0.0</td>\n",
       "      <td>2012-01-13</td>\n",
       "      <td>0</td>\n",
       "    </tr>\n",
       "    <tr>\n",
       "      <th>25795</th>\n",
       "      <td>2013-03-08 09:30:00</td>\n",
       "      <td>14.228</td>\n",
       "      <td>1002.496</td>\n",
       "      <td>4326</td>\n",
       "      <td>0.231737</td>\n",
       "      <td>0.0</td>\n",
       "      <td>2013-03-08</td>\n",
       "      <td>0</td>\n",
       "    </tr>\n",
       "  </tbody>\n",
       "</table>\n",
       "</div>"
      ],
      "text/plain": [
       "                 DateTime  Tariff_value       sum  count      mean  ToU  \\\n",
       "55691 2014-01-26 17:30:00        14.228  1926.090   5067  0.380124  0.0   \n",
       "46793 2013-10-13 04:00:00        14.228   445.236   4150  0.107286  0.0   \n",
       "15681 2012-10-15 02:30:00        14.228   576.639   5260  0.109627  0.0   \n",
       "2454  2012-01-13 12:00:00        14.228   111.795    434  0.257592  0.0   \n",
       "25795 2013-03-08 09:30:00        14.228  1002.496   4326  0.231737  0.0   \n",
       "\n",
       "            Date  Holiday  \n",
       "55691 2014-01-26        0  \n",
       "46793 2013-10-13        0  \n",
       "15681 2012-10-15        0  \n",
       "2454  2012-01-13        0  \n",
       "25795 2013-03-08        0  "
      ]
     },
     "execution_count": 27,
     "metadata": {},
     "output_type": "execute_result"
    }
   ],
   "source": [
    "df.sample(5)"
   ]
  },
  {
   "cell_type": "code",
   "execution_count": 28,
   "metadata": {
    "collapsed": false
   },
   "outputs": [
    {
     "data": {
      "text/html": [
       "<div>\n",
       "<table border=\"1\" class=\"dataframe\">\n",
       "  <thead>\n",
       "    <tr style=\"text-align: right;\">\n",
       "      <th></th>\n",
       "      <th>DateTime</th>\n",
       "      <th>Tariff_value</th>\n",
       "      <th>sum</th>\n",
       "      <th>count</th>\n",
       "      <th>mean</th>\n",
       "      <th>ToU</th>\n",
       "      <th>Date</th>\n",
       "      <th>Holiday</th>\n",
       "    </tr>\n",
       "  </thead>\n",
       "  <tbody>\n",
       "    <tr>\n",
       "      <th>53784</th>\n",
       "      <td>2013-12-25 00:00:00</td>\n",
       "      <td>11.760</td>\n",
       "      <td>210.494000</td>\n",
       "      <td>1042</td>\n",
       "      <td>0.202010</td>\n",
       "      <td>1.0</td>\n",
       "      <td>2013-12-25</td>\n",
       "      <td>1</td>\n",
       "    </tr>\n",
       "    <tr>\n",
       "      <th>19169</th>\n",
       "      <td>2012-12-26 18:30:00</td>\n",
       "      <td>14.228</td>\n",
       "      <td>1937.954999</td>\n",
       "      <td>5508</td>\n",
       "      <td>0.351844</td>\n",
       "      <td>0.0</td>\n",
       "      <td>2012-12-26</td>\n",
       "      <td>1</td>\n",
       "    </tr>\n",
       "    <tr>\n",
       "      <th>53851</th>\n",
       "      <td>2013-12-25 16:30:00</td>\n",
       "      <td>14.228</td>\n",
       "      <td>1373.703999</td>\n",
       "      <td>4057</td>\n",
       "      <td>0.338601</td>\n",
       "      <td>0.0</td>\n",
       "      <td>2013-12-25</td>\n",
       "      <td>1</td>\n",
       "    </tr>\n",
       "    <tr>\n",
       "      <th>19465</th>\n",
       "      <td>2013-01-01 11:00:00</td>\n",
       "      <td>14.228</td>\n",
       "      <td>1069.331000</td>\n",
       "      <td>4398</td>\n",
       "      <td>0.243140</td>\n",
       "      <td>0.0</td>\n",
       "      <td>2013-01-01</td>\n",
       "      <td>1</td>\n",
       "    </tr>\n",
       "    <tr>\n",
       "      <th>33433</th>\n",
       "      <td>2013-05-27 00:00:00</td>\n",
       "      <td>14.228</td>\n",
       "      <td>663.014000</td>\n",
       "      <td>4266</td>\n",
       "      <td>0.155418</td>\n",
       "      <td>0.0</td>\n",
       "      <td>2013-05-27</td>\n",
       "      <td>1</td>\n",
       "    </tr>\n",
       "  </tbody>\n",
       "</table>\n",
       "</div>"
      ],
      "text/plain": [
       "                 DateTime  Tariff_value          sum  count      mean  ToU  \\\n",
       "53784 2013-12-25 00:00:00        11.760   210.494000   1042  0.202010  1.0   \n",
       "19169 2012-12-26 18:30:00        14.228  1937.954999   5508  0.351844  0.0   \n",
       "53851 2013-12-25 16:30:00        14.228  1373.703999   4057  0.338601  0.0   \n",
       "19465 2013-01-01 11:00:00        14.228  1069.331000   4398  0.243140  0.0   \n",
       "33433 2013-05-27 00:00:00        14.228   663.014000   4266  0.155418  0.0   \n",
       "\n",
       "            Date  Holiday  \n",
       "53784 2013-12-25        1  \n",
       "19169 2012-12-26        1  \n",
       "53851 2013-12-25        1  \n",
       "19465 2013-01-01        1  \n",
       "33433 2013-05-27        1  "
      ]
     },
     "execution_count": 28,
     "metadata": {},
     "output_type": "execute_result"
    }
   ],
   "source": [
    "df[df['Holiday'] == 1].sample(5)"
   ]
  },
  {
   "cell_type": "markdown",
   "metadata": {},
   "source": [
    "### 4.1.3. Weather variables"
   ]
  },
  {
   "cell_type": "markdown",
   "metadata": {},
   "source": [
    "Now we have to add the weather variables, which will be used in any model. Weather variables were discussed, downloaded and treated in Section 1."
   ]
  },
  {
   "cell_type": "code",
   "execution_count": 29,
   "metadata": {
    "collapsed": true
   },
   "outputs": [],
   "source": [
    "weather = pd.read_csv('data/weather_no_na.csv')"
   ]
  },
  {
   "cell_type": "code",
   "execution_count": 30,
   "metadata": {
    "collapsed": false
   },
   "outputs": [
    {
     "data": {
      "text/plain": [
       "(20446, 13)"
      ]
     },
     "execution_count": 30,
     "metadata": {},
     "output_type": "execute_result"
    }
   ],
   "source": [
    "weather.shape"
   ]
  },
  {
   "cell_type": "markdown",
   "metadata": {},
   "source": [
    "We will use the following variables:\n",
    "\n",
    "-Temperature (ºC)\n",
    "\n",
    "-Relative Humidity (%)\n",
    "\n",
    "-Cloud cover (%)\n",
    "\n",
    "-Atmospheric Pressure (mbar)\n",
    "\n",
    "For a discussion on the reasons why these variables have been choosen and how NA values have been filled refer to Section 1."
   ]
  },
  {
   "cell_type": "code",
   "execution_count": 31,
   "metadata": {
    "collapsed": false
   },
   "outputs": [
    {
     "data": {
      "text/plain": [
       "Index(['time', 'apparentTemperature', 'cloudCover', 'dewPoint', 'humidity',\n",
       "       'icon', 'precipType', 'pressure', 'summary', 'temperature',\n",
       "       'visibility', 'windBearing', 'windSpeed'],\n",
       "      dtype='object')"
      ]
     },
     "execution_count": 31,
     "metadata": {},
     "output_type": "execute_result"
    }
   ],
   "source": [
    "weather.columns"
   ]
  },
  {
   "cell_type": "code",
   "execution_count": 32,
   "metadata": {
    "collapsed": true
   },
   "outputs": [],
   "source": [
    "weather = weather[['time','temperature','humidity','cloudCover','pressure']]\\\n",
    "    .rename(columns = {'time' : 'DateTime'})"
   ]
  },
  {
   "cell_type": "code",
   "execution_count": 33,
   "metadata": {
    "collapsed": true
   },
   "outputs": [],
   "source": [
    "weather['DateTime'] = pd.to_datetime(weather['DateTime'])"
   ]
  },
  {
   "cell_type": "code",
   "execution_count": 34,
   "metadata": {
    "collapsed": false,
    "scrolled": true
   },
   "outputs": [
    {
     "data": {
      "text/html": [
       "<div>\n",
       "<table border=\"1\" class=\"dataframe\">\n",
       "  <thead>\n",
       "    <tr style=\"text-align: right;\">\n",
       "      <th></th>\n",
       "      <th>DateTime</th>\n",
       "      <th>temperature</th>\n",
       "      <th>humidity</th>\n",
       "      <th>cloudCover</th>\n",
       "      <th>pressure</th>\n",
       "    </tr>\n",
       "  </thead>\n",
       "  <tbody>\n",
       "    <tr>\n",
       "      <th>0</th>\n",
       "      <td>2011-11-01 00:00:00</td>\n",
       "      <td>13.54</td>\n",
       "      <td>0.87</td>\n",
       "      <td>0.27</td>\n",
       "      <td>1008.01</td>\n",
       "    </tr>\n",
       "    <tr>\n",
       "      <th>1</th>\n",
       "      <td>2011-11-01 01:00:00</td>\n",
       "      <td>12.74</td>\n",
       "      <td>0.93</td>\n",
       "      <td>0.32</td>\n",
       "      <td>1007.76</td>\n",
       "    </tr>\n",
       "    <tr>\n",
       "      <th>2</th>\n",
       "      <td>2011-11-01 02:00:00</td>\n",
       "      <td>13.68</td>\n",
       "      <td>0.91</td>\n",
       "      <td>0.25</td>\n",
       "      <td>1006.97</td>\n",
       "    </tr>\n",
       "    <tr>\n",
       "      <th>3</th>\n",
       "      <td>2011-11-01 03:00:00</td>\n",
       "      <td>14.18</td>\n",
       "      <td>0.88</td>\n",
       "      <td>0.43</td>\n",
       "      <td>1006.40</td>\n",
       "    </tr>\n",
       "    <tr>\n",
       "      <th>4</th>\n",
       "      <td>2011-11-01 04:00:00</td>\n",
       "      <td>14.20</td>\n",
       "      <td>0.90</td>\n",
       "      <td>0.38</td>\n",
       "      <td>1006.05</td>\n",
       "    </tr>\n",
       "  </tbody>\n",
       "</table>\n",
       "</div>"
      ],
      "text/plain": [
       "             DateTime  temperature  humidity  cloudCover  pressure\n",
       "0 2011-11-01 00:00:00        13.54      0.87        0.27   1008.01\n",
       "1 2011-11-01 01:00:00        12.74      0.93        0.32   1007.76\n",
       "2 2011-11-01 02:00:00        13.68      0.91        0.25   1006.97\n",
       "3 2011-11-01 03:00:00        14.18      0.88        0.43   1006.40\n",
       "4 2011-11-01 04:00:00        14.20      0.90        0.38   1006.05"
      ]
     },
     "execution_count": 34,
     "metadata": {},
     "output_type": "execute_result"
    }
   ],
   "source": [
    "weather.head()"
   ]
  },
  {
   "cell_type": "markdown",
   "metadata": {},
   "source": [
    "The frequency of the weather data is of 1 hour while that of the consumption data is 30 minutes, thus we need to resample it. We will take the last valid observation (e.g. 2012-01-01 10:30 will have the same data as 2012-01-01 10:00) => method = 'ffill'."
   ]
  },
  {
   "cell_type": "code",
   "execution_count": 35,
   "metadata": {
    "collapsed": false
   },
   "outputs": [],
   "source": [
    "weather = weather.set_index('DateTime').resample('30min').fillna(method = 'ffill')\\\n",
    "    .reset_index()"
   ]
  },
  {
   "cell_type": "code",
   "execution_count": 36,
   "metadata": {
    "collapsed": false
   },
   "outputs": [
    {
     "data": {
      "text/html": [
       "<div>\n",
       "<table border=\"1\" class=\"dataframe\">\n",
       "  <thead>\n",
       "    <tr style=\"text-align: right;\">\n",
       "      <th></th>\n",
       "      <th>DateTime</th>\n",
       "      <th>temperature</th>\n",
       "      <th>humidity</th>\n",
       "      <th>cloudCover</th>\n",
       "      <th>pressure</th>\n",
       "    </tr>\n",
       "  </thead>\n",
       "  <tbody>\n",
       "    <tr>\n",
       "      <th>0</th>\n",
       "      <td>2011-11-01 00:00:00</td>\n",
       "      <td>13.54</td>\n",
       "      <td>0.87</td>\n",
       "      <td>0.27</td>\n",
       "      <td>1008.01</td>\n",
       "    </tr>\n",
       "    <tr>\n",
       "      <th>1</th>\n",
       "      <td>2011-11-01 00:30:00</td>\n",
       "      <td>13.54</td>\n",
       "      <td>0.87</td>\n",
       "      <td>0.27</td>\n",
       "      <td>1008.01</td>\n",
       "    </tr>\n",
       "    <tr>\n",
       "      <th>2</th>\n",
       "      <td>2011-11-01 01:00:00</td>\n",
       "      <td>12.74</td>\n",
       "      <td>0.93</td>\n",
       "      <td>0.32</td>\n",
       "      <td>1007.76</td>\n",
       "    </tr>\n",
       "    <tr>\n",
       "      <th>3</th>\n",
       "      <td>2011-11-01 01:30:00</td>\n",
       "      <td>12.74</td>\n",
       "      <td>0.93</td>\n",
       "      <td>0.32</td>\n",
       "      <td>1007.76</td>\n",
       "    </tr>\n",
       "    <tr>\n",
       "      <th>4</th>\n",
       "      <td>2011-11-01 02:00:00</td>\n",
       "      <td>13.68</td>\n",
       "      <td>0.91</td>\n",
       "      <td>0.25</td>\n",
       "      <td>1006.97</td>\n",
       "    </tr>\n",
       "  </tbody>\n",
       "</table>\n",
       "</div>"
      ],
      "text/plain": [
       "             DateTime  temperature  humidity  cloudCover  pressure\n",
       "0 2011-11-01 00:00:00        13.54      0.87        0.27   1008.01\n",
       "1 2011-11-01 00:30:00        13.54      0.87        0.27   1008.01\n",
       "2 2011-11-01 01:00:00        12.74      0.93        0.32   1007.76\n",
       "3 2011-11-01 01:30:00        12.74      0.93        0.32   1007.76\n",
       "4 2011-11-01 02:00:00        13.68      0.91        0.25   1006.97"
      ]
     },
     "execution_count": 36,
     "metadata": {},
     "output_type": "execute_result"
    }
   ],
   "source": [
    "weather.head()"
   ]
  },
  {
   "cell_type": "code",
   "execution_count": 37,
   "metadata": {
    "collapsed": false
   },
   "outputs": [],
   "source": [
    "df = df.merge(weather, how = 'left', on = 'DateTime')"
   ]
  },
  {
   "cell_type": "code",
   "execution_count": 38,
   "metadata": {
    "collapsed": false
   },
   "outputs": [
    {
     "data": {
      "text/html": [
       "<div>\n",
       "<table border=\"1\" class=\"dataframe\">\n",
       "  <thead>\n",
       "    <tr style=\"text-align: right;\">\n",
       "      <th></th>\n",
       "      <th>DateTime</th>\n",
       "      <th>Tariff_value</th>\n",
       "      <th>sum</th>\n",
       "      <th>count</th>\n",
       "      <th>mean</th>\n",
       "      <th>ToU</th>\n",
       "      <th>Date</th>\n",
       "      <th>Holiday</th>\n",
       "      <th>temperature</th>\n",
       "      <th>humidity</th>\n",
       "      <th>cloudCover</th>\n",
       "      <th>pressure</th>\n",
       "    </tr>\n",
       "  </thead>\n",
       "  <tbody>\n",
       "    <tr>\n",
       "      <th>29269</th>\n",
       "      <td>2013-04-13 15:00:00</td>\n",
       "      <td>14.228</td>\n",
       "      <td>1088.699000</td>\n",
       "      <td>4291</td>\n",
       "      <td>0.253717</td>\n",
       "      <td>0.0</td>\n",
       "      <td>2013-04-13</td>\n",
       "      <td>0</td>\n",
       "      <td>10.31</td>\n",
       "      <td>0.90</td>\n",
       "      <td>0.82</td>\n",
       "      <td>1010.77</td>\n",
       "    </tr>\n",
       "    <tr>\n",
       "      <th>20162</th>\n",
       "      <td>2013-01-08 17:30:00</td>\n",
       "      <td>11.760</td>\n",
       "      <td>374.946999</td>\n",
       "      <td>1111</td>\n",
       "      <td>0.337486</td>\n",
       "      <td>1.0</td>\n",
       "      <td>2013-01-08</td>\n",
       "      <td>0</td>\n",
       "      <td>10.70</td>\n",
       "      <td>0.85</td>\n",
       "      <td>0.75</td>\n",
       "      <td>1023.84</td>\n",
       "    </tr>\n",
       "    <tr>\n",
       "      <th>43736</th>\n",
       "      <td>2013-09-11 08:00:00</td>\n",
       "      <td>11.760</td>\n",
       "      <td>180.339000</td>\n",
       "      <td>1055</td>\n",
       "      <td>0.170937</td>\n",
       "      <td>1.0</td>\n",
       "      <td>2013-09-11</td>\n",
       "      <td>0</td>\n",
       "      <td>13.54</td>\n",
       "      <td>0.73</td>\n",
       "      <td>0.75</td>\n",
       "      <td>1021.87</td>\n",
       "    </tr>\n",
       "    <tr>\n",
       "      <th>34903</th>\n",
       "      <td>2013-06-11 07:30:00</td>\n",
       "      <td>14.228</td>\n",
       "      <td>824.260000</td>\n",
       "      <td>4249</td>\n",
       "      <td>0.193989</td>\n",
       "      <td>0.0</td>\n",
       "      <td>2013-06-11</td>\n",
       "      <td>0</td>\n",
       "      <td>12.11</td>\n",
       "      <td>0.80</td>\n",
       "      <td>1.00</td>\n",
       "      <td>1013.63</td>\n",
       "    </tr>\n",
       "    <tr>\n",
       "      <th>39153</th>\n",
       "      <td>2013-07-25 14:00:00</td>\n",
       "      <td>14.228</td>\n",
       "      <td>689.957000</td>\n",
       "      <td>4214</td>\n",
       "      <td>0.163730</td>\n",
       "      <td>0.0</td>\n",
       "      <td>2013-07-25</td>\n",
       "      <td>0</td>\n",
       "      <td>24.32</td>\n",
       "      <td>0.59</td>\n",
       "      <td>0.64</td>\n",
       "      <td>1012.31</td>\n",
       "    </tr>\n",
       "  </tbody>\n",
       "</table>\n",
       "</div>"
      ],
      "text/plain": [
       "                 DateTime  Tariff_value          sum  count      mean  ToU  \\\n",
       "29269 2013-04-13 15:00:00        14.228  1088.699000   4291  0.253717  0.0   \n",
       "20162 2013-01-08 17:30:00        11.760   374.946999   1111  0.337486  1.0   \n",
       "43736 2013-09-11 08:00:00        11.760   180.339000   1055  0.170937  1.0   \n",
       "34903 2013-06-11 07:30:00        14.228   824.260000   4249  0.193989  0.0   \n",
       "39153 2013-07-25 14:00:00        14.228   689.957000   4214  0.163730  0.0   \n",
       "\n",
       "            Date  Holiday  temperature  humidity  cloudCover  pressure  \n",
       "29269 2013-04-13        0        10.31      0.90        0.82   1010.77  \n",
       "20162 2013-01-08        0        10.70      0.85        0.75   1023.84  \n",
       "43736 2013-09-11        0        13.54      0.73        0.75   1021.87  \n",
       "34903 2013-06-11        0        12.11      0.80        1.00   1013.63  \n",
       "39153 2013-07-25        0        24.32      0.59        0.64   1012.31  "
      ]
     },
     "execution_count": 38,
     "metadata": {},
     "output_type": "execute_result"
    }
   ],
   "source": [
    "df.sample(5)"
   ]
  },
  {
   "cell_type": "markdown",
   "metadata": {
    "collapsed": true
   },
   "source": [
    "Now that we have added all external variables our models need, we can save it to a csv file. "
   ]
  },
  {
   "cell_type": "code",
   "execution_count": 39,
   "metadata": {
    "collapsed": true
   },
   "outputs": [],
   "source": [
    "df.to_csv('outputs/tseries_model.csv')"
   ]
  },
  {
   "cell_type": "markdown",
   "metadata": {},
   "source": [
    "We will use this model as is in time series modelling. For feature models we need to add the features."
   ]
  },
  {
   "cell_type": "markdown",
   "metadata": {},
   "source": [
    "## 4.1.4. Feature engineering"
   ]
  },
  {
   "cell_type": "markdown",
   "metadata": {},
   "source": [
    "Feature models are an alternative for time series forecasting. They consist in applying conventional machine learning models to variables constructed from the data (e.g. mean consumption in the previous day). These are popular in the literature for electrical demand prediction [2], [4]."
   ]
  },
  {
   "cell_type": "markdown",
   "metadata": {},
   "source": [
    "We will derive the following features:\n",
    "\n",
    "-Mean aggregate demand per hour in the previous day (1 variable).\n",
    "\n",
    "-Aggregate demand in the previous day at the same time and at the previous 3 time steps (4 variables).\n",
    "\n",
    "-Mean value of the aggregate demand of the previous 3 days at the same time and at the previous 3 time steps (4 variables).\n",
    "\n",
    "-Mean value of the aggregate demand on the same day of week of the previous 3 weeks at the same time and at the previous 3 time steps (4 variables).\n",
    "\n",
    "In total we have 13 derived features.\n",
    "\n",
    "Furthermore, we will include weather and time variables in the model:\n",
    "\n",
    "-Day of week (7 levels)\n",
    "\n",
    "-Holiday (binary)\n",
    "\n",
    "-Temperature (ºC, continuous)\n",
    "\n",
    "-Relative Humidity (%, continuous)\n",
    "\n",
    "-Cloud cover (%, continuous)\n",
    "\n",
    "-Atmospheric Pressure (mbar, continuous)\n",
    "\n",
    "These variables have been calculated in Section 1 and stored in 'weather_no_na.csv'.\n",
    "\n",
    "And the last variable to be included in the model:\n",
    "\n",
    "-Tariff (p/kWh)\n",
    "\n",
    "Thus, in total we will have 22 variables in our models.\n"
   ]
  },
  {
   "cell_type": "markdown",
   "metadata": {},
   "source": [
    "First, we will build the time variables."
   ]
  },
  {
   "cell_type": "markdown",
   "metadata": {},
   "source": [
    "Now it is easier to derive the consumption features."
   ]
  },
  {
   "cell_type": "markdown",
   "metadata": {},
   "source": [
    "#### Adding time variables"
   ]
  },
  {
   "cell_type": "markdown",
   "metadata": {},
   "source": [
    "Let us add the time variables to be used in lieu of DateTime in our prediction model: time, day of week, month, year.\n",
    "\n",
    "We will not use the day of the month as it would introduce a categorical variable with 31 levels and it does not seem relevant in the exploratory data analysis in Tableau."
   ]
  },
  {
   "cell_type": "code",
   "execution_count": 40,
   "metadata": {
    "collapsed": false
   },
   "outputs": [],
   "source": [
    "df['DoW'] = df['DateTime'].apply(lambda x: x.strftime(\"%A\"))"
   ]
  },
  {
   "cell_type": "code",
   "execution_count": 41,
   "metadata": {
    "collapsed": true
   },
   "outputs": [],
   "source": [
    "df['Time'] = df['DateTime'].apply(lambda x: x.time())"
   ]
  },
  {
   "cell_type": "code",
   "execution_count": 42,
   "metadata": {
    "collapsed": true
   },
   "outputs": [],
   "source": [
    "df['Month']= df['DateTime'].apply(lambda x: x.strftime(\"%B\"))"
   ]
  },
  {
   "cell_type": "code",
   "execution_count": 43,
   "metadata": {
    "collapsed": true
   },
   "outputs": [],
   "source": [
    "df['Year']= df['DateTime'].apply(lambda x: x.year)"
   ]
  },
  {
   "cell_type": "code",
   "execution_count": 44,
   "metadata": {
    "collapsed": false
   },
   "outputs": [
    {
     "data": {
      "text/html": [
       "<div>\n",
       "<table border=\"1\" class=\"dataframe\">\n",
       "  <thead>\n",
       "    <tr style=\"text-align: right;\">\n",
       "      <th></th>\n",
       "      <th>DateTime</th>\n",
       "      <th>Tariff_value</th>\n",
       "      <th>sum</th>\n",
       "      <th>count</th>\n",
       "      <th>mean</th>\n",
       "      <th>ToU</th>\n",
       "      <th>Date</th>\n",
       "      <th>Holiday</th>\n",
       "      <th>temperature</th>\n",
       "      <th>humidity</th>\n",
       "      <th>cloudCover</th>\n",
       "      <th>pressure</th>\n",
       "      <th>DoW</th>\n",
       "      <th>Time</th>\n",
       "      <th>Month</th>\n",
       "      <th>Year</th>\n",
       "    </tr>\n",
       "  </thead>\n",
       "  <tbody>\n",
       "    <tr>\n",
       "      <th>1161</th>\n",
       "      <td>2011-12-17 13:30:00</td>\n",
       "      <td>14.228</td>\n",
       "      <td>91.504</td>\n",
       "      <td>279</td>\n",
       "      <td>0.327971</td>\n",
       "      <td>0.0</td>\n",
       "      <td>2011-12-17</td>\n",
       "      <td>0</td>\n",
       "      <td>5.02</td>\n",
       "      <td>0.84</td>\n",
       "      <td>0.22</td>\n",
       "      <td>1008.78</td>\n",
       "      <td>Saturday</td>\n",
       "      <td>13:30:00</td>\n",
       "      <td>December</td>\n",
       "      <td>2011</td>\n",
       "    </tr>\n",
       "    <tr>\n",
       "      <th>50814</th>\n",
       "      <td>2013-11-24 01:30:00</td>\n",
       "      <td>11.760</td>\n",
       "      <td>139.300</td>\n",
       "      <td>1045</td>\n",
       "      <td>0.133301</td>\n",
       "      <td>1.0</td>\n",
       "      <td>2013-11-24</td>\n",
       "      <td>0</td>\n",
       "      <td>6.21</td>\n",
       "      <td>0.79</td>\n",
       "      <td>0.07</td>\n",
       "      <td>1026.92</td>\n",
       "      <td>Sunday</td>\n",
       "      <td>01:30:00</td>\n",
       "      <td>November</td>\n",
       "      <td>2013</td>\n",
       "    </tr>\n",
       "    <tr>\n",
       "      <th>18278</th>\n",
       "      <td>2012-12-08 05:00:00</td>\n",
       "      <td>14.228</td>\n",
       "      <td>769.883</td>\n",
       "      <td>5526</td>\n",
       "      <td>0.139320</td>\n",
       "      <td>0.0</td>\n",
       "      <td>2012-12-08</td>\n",
       "      <td>0</td>\n",
       "      <td>4.62</td>\n",
       "      <td>0.81</td>\n",
       "      <td>1.00</td>\n",
       "      <td>1020.83</td>\n",
       "      <td>Saturday</td>\n",
       "      <td>05:00:00</td>\n",
       "      <td>December</td>\n",
       "      <td>2012</td>\n",
       "    </tr>\n",
       "    <tr>\n",
       "      <th>17596</th>\n",
       "      <td>2012-11-24 00:00:00</td>\n",
       "      <td>14.228</td>\n",
       "      <td>1106.375</td>\n",
       "      <td>5527</td>\n",
       "      <td>0.200176</td>\n",
       "      <td>0.0</td>\n",
       "      <td>2012-11-24</td>\n",
       "      <td>0</td>\n",
       "      <td>4.92</td>\n",
       "      <td>0.99</td>\n",
       "      <td>0.09</td>\n",
       "      <td>1016.48</td>\n",
       "      <td>Saturday</td>\n",
       "      <td>00:00:00</td>\n",
       "      <td>November</td>\n",
       "      <td>2012</td>\n",
       "    </tr>\n",
       "    <tr>\n",
       "      <th>16135</th>\n",
       "      <td>2012-10-24 13:30:00</td>\n",
       "      <td>14.228</td>\n",
       "      <td>1018.698</td>\n",
       "      <td>5447</td>\n",
       "      <td>0.187020</td>\n",
       "      <td>0.0</td>\n",
       "      <td>2012-10-24</td>\n",
       "      <td>0</td>\n",
       "      <td>15.74</td>\n",
       "      <td>0.85</td>\n",
       "      <td>0.69</td>\n",
       "      <td>1018.91</td>\n",
       "      <td>Wednesday</td>\n",
       "      <td>13:30:00</td>\n",
       "      <td>October</td>\n",
       "      <td>2012</td>\n",
       "    </tr>\n",
       "  </tbody>\n",
       "</table>\n",
       "</div>"
      ],
      "text/plain": [
       "                 DateTime  Tariff_value       sum  count      mean  ToU  \\\n",
       "1161  2011-12-17 13:30:00        14.228    91.504    279  0.327971  0.0   \n",
       "50814 2013-11-24 01:30:00        11.760   139.300   1045  0.133301  1.0   \n",
       "18278 2012-12-08 05:00:00        14.228   769.883   5526  0.139320  0.0   \n",
       "17596 2012-11-24 00:00:00        14.228  1106.375   5527  0.200176  0.0   \n",
       "16135 2012-10-24 13:30:00        14.228  1018.698   5447  0.187020  0.0   \n",
       "\n",
       "            Date  Holiday  temperature  humidity  cloudCover  pressure  \\\n",
       "1161  2011-12-17        0         5.02      0.84        0.22   1008.78   \n",
       "50814 2013-11-24        0         6.21      0.79        0.07   1026.92   \n",
       "18278 2012-12-08        0         4.62      0.81        1.00   1020.83   \n",
       "17596 2012-11-24        0         4.92      0.99        0.09   1016.48   \n",
       "16135 2012-10-24        0        15.74      0.85        0.69   1018.91   \n",
       "\n",
       "             DoW      Time     Month  Year  \n",
       "1161    Saturday  13:30:00  December  2011  \n",
       "50814     Sunday  01:30:00  November  2013  \n",
       "18278   Saturday  05:00:00  December  2012  \n",
       "17596   Saturday  00:00:00  November  2012  \n",
       "16135  Wednesday  13:30:00   October  2012  "
      ]
     },
     "execution_count": 44,
     "metadata": {},
     "output_type": "execute_result"
    }
   ],
   "source": [
    "df.sample(5)"
   ]
  },
  {
   "cell_type": "markdown",
   "metadata": {},
   "source": [
    "###### Mean aggregate demand per hour in the previous day (1 variable).\n",
    "\n",
    "First, we will calculate the daily mean aggregating by 'Date'. Then we will add one day to the 'Date' variable of our new DataFrame and join it with the main DataFrame df."
   ]
  },
  {
   "cell_type": "code",
   "execution_count": 45,
   "metadata": {
    "collapsed": false
   },
   "outputs": [],
   "source": [
    "daily_mean = df.groupby(['Date', 'ToU']).agg({'mean': 'mean'}).reset_index()"
   ]
  },
  {
   "cell_type": "code",
   "execution_count": 46,
   "metadata": {
    "collapsed": true
   },
   "outputs": [],
   "source": [
    "daily_mean['Date'] = pd.to_datetime(daily_mean['Date'])"
   ]
  },
  {
   "cell_type": "code",
   "execution_count": 47,
   "metadata": {
    "collapsed": false
   },
   "outputs": [
    {
     "data": {
      "text/plain": [
       "pandas.tslib.Timestamp"
      ]
     },
     "execution_count": 47,
     "metadata": {},
     "output_type": "execute_result"
    }
   ],
   "source": [
    "type(daily_mean['Date'][2])"
   ]
  },
  {
   "cell_type": "code",
   "execution_count": 48,
   "metadata": {
    "collapsed": false
   },
   "outputs": [
    {
     "data": {
      "text/html": [
       "<div>\n",
       "<table border=\"1\" class=\"dataframe\">\n",
       "  <thead>\n",
       "    <tr style=\"text-align: right;\">\n",
       "      <th></th>\n",
       "      <th>Date</th>\n",
       "      <th>ToU</th>\n",
       "      <th>mean</th>\n",
       "    </tr>\n",
       "  </thead>\n",
       "  <tbody>\n",
       "    <tr>\n",
       "      <th>654</th>\n",
       "      <td>2013-05-05</td>\n",
       "      <td>1.0</td>\n",
       "      <td>0.172332</td>\n",
       "    </tr>\n",
       "    <tr>\n",
       "      <th>640</th>\n",
       "      <td>2013-04-28</td>\n",
       "      <td>1.0</td>\n",
       "      <td>0.191478</td>\n",
       "    </tr>\n",
       "    <tr>\n",
       "      <th>1068</th>\n",
       "      <td>2013-11-28</td>\n",
       "      <td>1.0</td>\n",
       "      <td>0.214057</td>\n",
       "    </tr>\n",
       "    <tr>\n",
       "      <th>629</th>\n",
       "      <td>2013-04-23</td>\n",
       "      <td>0.0</td>\n",
       "      <td>0.183648</td>\n",
       "    </tr>\n",
       "    <tr>\n",
       "      <th>908</th>\n",
       "      <td>2013-09-09</td>\n",
       "      <td>1.0</td>\n",
       "      <td>0.169568</td>\n",
       "    </tr>\n",
       "  </tbody>\n",
       "</table>\n",
       "</div>"
      ],
      "text/plain": [
       "           Date  ToU      mean\n",
       "654  2013-05-05  1.0  0.172332\n",
       "640  2013-04-28  1.0  0.191478\n",
       "1068 2013-11-28  1.0  0.214057\n",
       "629  2013-04-23  0.0  0.183648\n",
       "908  2013-09-09  1.0  0.169568"
      ]
     },
     "execution_count": 48,
     "metadata": {},
     "output_type": "execute_result"
    }
   ],
   "source": [
    "daily_mean.sample(5)"
   ]
  },
  {
   "cell_type": "code",
   "execution_count": 49,
   "metadata": {
    "collapsed": false
   },
   "outputs": [],
   "source": [
    "daily_mean['Date'] = daily_mean['Date'] + datetime.timedelta(days=1)"
   ]
  },
  {
   "cell_type": "code",
   "execution_count": 50,
   "metadata": {
    "collapsed": false
   },
   "outputs": [],
   "source": [
    "df = df.merge(daily_mean, how = 'left', on = ['Date','ToU'])"
   ]
  },
  {
   "cell_type": "code",
   "execution_count": 51,
   "metadata": {
    "collapsed": false
   },
   "outputs": [],
   "source": [
    "df = df.rename(columns = {'mean_x' : 'mean_cons',\n",
    "          'mean_y' : 'mean_prev_day'})"
   ]
  },
  {
   "cell_type": "code",
   "execution_count": 52,
   "metadata": {
    "collapsed": false
   },
   "outputs": [
    {
     "data": {
      "text/html": [
       "<div>\n",
       "<table border=\"1\" class=\"dataframe\">\n",
       "  <thead>\n",
       "    <tr style=\"text-align: right;\">\n",
       "      <th></th>\n",
       "      <th>DateTime</th>\n",
       "      <th>Tariff_value</th>\n",
       "      <th>sum</th>\n",
       "      <th>count</th>\n",
       "      <th>mean_cons</th>\n",
       "      <th>ToU</th>\n",
       "      <th>Date</th>\n",
       "      <th>Holiday</th>\n",
       "      <th>temperature</th>\n",
       "      <th>humidity</th>\n",
       "      <th>cloudCover</th>\n",
       "      <th>pressure</th>\n",
       "      <th>DoW</th>\n",
       "      <th>Time</th>\n",
       "      <th>Month</th>\n",
       "      <th>Year</th>\n",
       "      <th>mean_prev_day</th>\n",
       "    </tr>\n",
       "  </thead>\n",
       "  <tbody>\n",
       "    <tr>\n",
       "      <th>55862</th>\n",
       "      <td>2014-01-30 07:00:00</td>\n",
       "      <td>14.228</td>\n",
       "      <td>1030.818</td>\n",
       "      <td>5058</td>\n",
       "      <td>0.203800</td>\n",
       "      <td>0.0</td>\n",
       "      <td>2014-01-30</td>\n",
       "      <td>0</td>\n",
       "      <td>3.73</td>\n",
       "      <td>0.92</td>\n",
       "      <td>1.00</td>\n",
       "      <td>1000.72</td>\n",
       "      <td>Thursday</td>\n",
       "      <td>07:00:00</td>\n",
       "      <td>January</td>\n",
       "      <td>2014</td>\n",
       "      <td>0.246226</td>\n",
       "    </tr>\n",
       "    <tr>\n",
       "      <th>44040</th>\n",
       "      <td>2013-09-14 12:00:00</td>\n",
       "      <td>11.760</td>\n",
       "      <td>223.519</td>\n",
       "      <td>1057</td>\n",
       "      <td>0.211465</td>\n",
       "      <td>1.0</td>\n",
       "      <td>2013-09-14</td>\n",
       "      <td>0</td>\n",
       "      <td>12.66</td>\n",
       "      <td>0.88</td>\n",
       "      <td>1.00</td>\n",
       "      <td>1016.24</td>\n",
       "      <td>Saturday</td>\n",
       "      <td>12:00:00</td>\n",
       "      <td>September</td>\n",
       "      <td>2013</td>\n",
       "      <td>0.175593</td>\n",
       "    </tr>\n",
       "    <tr>\n",
       "      <th>34028</th>\n",
       "      <td>2013-06-02 05:00:00</td>\n",
       "      <td>11.760</td>\n",
       "      <td>103.525</td>\n",
       "      <td>1089</td>\n",
       "      <td>0.095064</td>\n",
       "      <td>1.0</td>\n",
       "      <td>2013-06-02</td>\n",
       "      <td>0</td>\n",
       "      <td>9.98</td>\n",
       "      <td>0.79</td>\n",
       "      <td>0.06</td>\n",
       "      <td>1027.83</td>\n",
       "      <td>Sunday</td>\n",
       "      <td>05:00:00</td>\n",
       "      <td>June</td>\n",
       "      <td>2013</td>\n",
       "      <td>0.164209</td>\n",
       "    </tr>\n",
       "    <tr>\n",
       "      <th>24802</th>\n",
       "      <td>2013-02-26 01:30:00</td>\n",
       "      <td>11.760</td>\n",
       "      <td>158.437</td>\n",
       "      <td>1106</td>\n",
       "      <td>0.143252</td>\n",
       "      <td>1.0</td>\n",
       "      <td>2013-02-26</td>\n",
       "      <td>0</td>\n",
       "      <td>3.01</td>\n",
       "      <td>0.90</td>\n",
       "      <td>0.90</td>\n",
       "      <td>1029.08</td>\n",
       "      <td>Tuesday</td>\n",
       "      <td>01:30:00</td>\n",
       "      <td>February</td>\n",
       "      <td>2013</td>\n",
       "      <td>0.253990</td>\n",
       "    </tr>\n",
       "    <tr>\n",
       "      <th>2912</th>\n",
       "      <td>2012-01-23 01:00:00</td>\n",
       "      <td>14.228</td>\n",
       "      <td>122.919</td>\n",
       "      <td>493</td>\n",
       "      <td>0.249329</td>\n",
       "      <td>0.0</td>\n",
       "      <td>2012-01-23</td>\n",
       "      <td>0</td>\n",
       "      <td>6.81</td>\n",
       "      <td>0.72</td>\n",
       "      <td>0.32</td>\n",
       "      <td>1018.08</td>\n",
       "      <td>Monday</td>\n",
       "      <td>01:00:00</td>\n",
       "      <td>January</td>\n",
       "      <td>2012</td>\n",
       "      <td>0.285867</td>\n",
       "    </tr>\n",
       "  </tbody>\n",
       "</table>\n",
       "</div>"
      ],
      "text/plain": [
       "                 DateTime  Tariff_value       sum  count  mean_cons  ToU  \\\n",
       "55862 2014-01-30 07:00:00        14.228  1030.818   5058   0.203800  0.0   \n",
       "44040 2013-09-14 12:00:00        11.760   223.519   1057   0.211465  1.0   \n",
       "34028 2013-06-02 05:00:00        11.760   103.525   1089   0.095064  1.0   \n",
       "24802 2013-02-26 01:30:00        11.760   158.437   1106   0.143252  1.0   \n",
       "2912  2012-01-23 01:00:00        14.228   122.919    493   0.249329  0.0   \n",
       "\n",
       "            Date  Holiday  temperature  humidity  cloudCover  pressure  \\\n",
       "55862 2014-01-30        0         3.73      0.92        1.00   1000.72   \n",
       "44040 2013-09-14        0        12.66      0.88        1.00   1016.24   \n",
       "34028 2013-06-02        0         9.98      0.79        0.06   1027.83   \n",
       "24802 2013-02-26        0         3.01      0.90        0.90   1029.08   \n",
       "2912  2012-01-23        0         6.81      0.72        0.32   1018.08   \n",
       "\n",
       "            DoW      Time      Month  Year  mean_prev_day  \n",
       "55862  Thursday  07:00:00    January  2014       0.246226  \n",
       "44040  Saturday  12:00:00  September  2013       0.175593  \n",
       "34028    Sunday  05:00:00       June  2013       0.164209  \n",
       "24802   Tuesday  01:30:00   February  2013       0.253990  \n",
       "2912     Monday  01:00:00    January  2012       0.285867  "
      ]
     },
     "execution_count": 52,
     "metadata": {},
     "output_type": "execute_result"
    }
   ],
   "source": [
    "df.sample(5)"
   ]
  },
  {
   "cell_type": "markdown",
   "metadata": {},
   "source": [
    "###### Aggregate demand in the previous day at the same time and at the previous 3 time steps (4 variables)."
   ]
  },
  {
   "cell_type": "code",
   "execution_count": 53,
   "metadata": {
    "collapsed": false
   },
   "outputs": [
    {
     "data": {
      "text/html": [
       "<div>\n",
       "<table border=\"1\" class=\"dataframe\">\n",
       "  <thead>\n",
       "    <tr style=\"text-align: right;\">\n",
       "      <th></th>\n",
       "      <th>DateTime</th>\n",
       "      <th>Tariff_value</th>\n",
       "      <th>sum</th>\n",
       "      <th>count</th>\n",
       "      <th>mean_cons</th>\n",
       "      <th>ToU</th>\n",
       "      <th>Date</th>\n",
       "      <th>Holiday</th>\n",
       "      <th>temperature</th>\n",
       "      <th>humidity</th>\n",
       "      <th>cloudCover</th>\n",
       "      <th>pressure</th>\n",
       "      <th>DoW</th>\n",
       "      <th>Time</th>\n",
       "      <th>Month</th>\n",
       "      <th>Year</th>\n",
       "      <th>mean_prev_day</th>\n",
       "    </tr>\n",
       "  </thead>\n",
       "  <tbody>\n",
       "    <tr>\n",
       "      <th>0</th>\n",
       "      <td>2011-11-23 09:00:00</td>\n",
       "      <td>14.228</td>\n",
       "      <td>0.569</td>\n",
       "      <td>2</td>\n",
       "      <td>0.284500</td>\n",
       "      <td>0.0</td>\n",
       "      <td>2011-11-23</td>\n",
       "      <td>0</td>\n",
       "      <td>4.84</td>\n",
       "      <td>0.99</td>\n",
       "      <td>0.32</td>\n",
       "      <td>1027.34</td>\n",
       "      <td>Wednesday</td>\n",
       "      <td>09:00:00</td>\n",
       "      <td>November</td>\n",
       "      <td>2011</td>\n",
       "      <td>NaN</td>\n",
       "    </tr>\n",
       "    <tr>\n",
       "      <th>1</th>\n",
       "      <td>2011-11-23 09:30:00</td>\n",
       "      <td>14.228</td>\n",
       "      <td>0.561</td>\n",
       "      <td>2</td>\n",
       "      <td>0.280500</td>\n",
       "      <td>0.0</td>\n",
       "      <td>2011-11-23</td>\n",
       "      <td>0</td>\n",
       "      <td>4.84</td>\n",
       "      <td>0.99</td>\n",
       "      <td>0.32</td>\n",
       "      <td>1027.34</td>\n",
       "      <td>Wednesday</td>\n",
       "      <td>09:30:00</td>\n",
       "      <td>November</td>\n",
       "      <td>2011</td>\n",
       "      <td>NaN</td>\n",
       "    </tr>\n",
       "    <tr>\n",
       "      <th>2</th>\n",
       "      <td>2011-11-23 10:00:00</td>\n",
       "      <td>14.228</td>\n",
       "      <td>0.920</td>\n",
       "      <td>6</td>\n",
       "      <td>0.153333</td>\n",
       "      <td>0.0</td>\n",
       "      <td>2011-11-23</td>\n",
       "      <td>0</td>\n",
       "      <td>5.69</td>\n",
       "      <td>0.98</td>\n",
       "      <td>0.56</td>\n",
       "      <td>1027.72</td>\n",
       "      <td>Wednesday</td>\n",
       "      <td>10:00:00</td>\n",
       "      <td>November</td>\n",
       "      <td>2011</td>\n",
       "      <td>NaN</td>\n",
       "    </tr>\n",
       "    <tr>\n",
       "      <th>3</th>\n",
       "      <td>2011-11-23 10:30:00</td>\n",
       "      <td>14.228</td>\n",
       "      <td>0.588</td>\n",
       "      <td>6</td>\n",
       "      <td>0.098000</td>\n",
       "      <td>0.0</td>\n",
       "      <td>2011-11-23</td>\n",
       "      <td>0</td>\n",
       "      <td>5.69</td>\n",
       "      <td>0.98</td>\n",
       "      <td>0.56</td>\n",
       "      <td>1027.72</td>\n",
       "      <td>Wednesday</td>\n",
       "      <td>10:30:00</td>\n",
       "      <td>November</td>\n",
       "      <td>2011</td>\n",
       "      <td>NaN</td>\n",
       "    </tr>\n",
       "    <tr>\n",
       "      <th>4</th>\n",
       "      <td>2011-11-23 11:00:00</td>\n",
       "      <td>14.228</td>\n",
       "      <td>0.772</td>\n",
       "      <td>7</td>\n",
       "      <td>0.110286</td>\n",
       "      <td>0.0</td>\n",
       "      <td>2011-11-23</td>\n",
       "      <td>0</td>\n",
       "      <td>7.66</td>\n",
       "      <td>0.88</td>\n",
       "      <td>0.32</td>\n",
       "      <td>1027.59</td>\n",
       "      <td>Wednesday</td>\n",
       "      <td>11:00:00</td>\n",
       "      <td>November</td>\n",
       "      <td>2011</td>\n",
       "      <td>NaN</td>\n",
       "    </tr>\n",
       "  </tbody>\n",
       "</table>\n",
       "</div>"
      ],
      "text/plain": [
       "             DateTime  Tariff_value    sum  count  mean_cons  ToU       Date  \\\n",
       "0 2011-11-23 09:00:00        14.228  0.569      2   0.284500  0.0 2011-11-23   \n",
       "1 2011-11-23 09:30:00        14.228  0.561      2   0.280500  0.0 2011-11-23   \n",
       "2 2011-11-23 10:00:00        14.228  0.920      6   0.153333  0.0 2011-11-23   \n",
       "3 2011-11-23 10:30:00        14.228  0.588      6   0.098000  0.0 2011-11-23   \n",
       "4 2011-11-23 11:00:00        14.228  0.772      7   0.110286  0.0 2011-11-23   \n",
       "\n",
       "   Holiday  temperature  humidity  cloudCover  pressure        DoW      Time  \\\n",
       "0        0         4.84      0.99        0.32   1027.34  Wednesday  09:00:00   \n",
       "1        0         4.84      0.99        0.32   1027.34  Wednesday  09:30:00   \n",
       "2        0         5.69      0.98        0.56   1027.72  Wednesday  10:00:00   \n",
       "3        0         5.69      0.98        0.56   1027.72  Wednesday  10:30:00   \n",
       "4        0         7.66      0.88        0.32   1027.59  Wednesday  11:00:00   \n",
       "\n",
       "      Month  Year  mean_prev_day  \n",
       "0  November  2011            NaN  \n",
       "1  November  2011            NaN  \n",
       "2  November  2011            NaN  \n",
       "3  November  2011            NaN  \n",
       "4  November  2011            NaN  "
      ]
     },
     "execution_count": 53,
     "metadata": {},
     "output_type": "execute_result"
    }
   ],
   "source": [
    "df.head()"
   ]
  },
  {
   "cell_type": "code",
   "execution_count": 54,
   "metadata": {
    "collapsed": true
   },
   "outputs": [],
   "source": [
    "def prev_ts(df_in, initial, final, step):\n",
    "    #Both initial and final are included in the loop\n",
    "    df_out = df_in[['DateTime', 'ToU']].copy()\n",
    "    for i in range(initial, final + 1, step):\n",
    "        aux = df_in[['DateTime', 'ToU', 'mean_cons']].copy()\n",
    "        aux['DateTime'] = aux['DateTime'] + datetime.timedelta(minutes = i)\n",
    "        df_out = df_out.\\\n",
    "            merge(aux, how = 'left', on = ['DateTime','ToU'], suffixes = ('','_-%d' %(i)))\n",
    "    return(df_out)"
   ]
  },
  {
   "cell_type": "code",
   "execution_count": 55,
   "metadata": {
    "collapsed": false
   },
   "outputs": [],
   "source": [
    "tmp = prev_ts(df, 22*60+30, 24*60, 30)\n",
    "df = df.merge(tmp[['DateTime','ToU','mean_cons_-1380', 'mean_cons_-1410', 'mean_cons_-1440']],\n",
    "         on = ['DateTime','ToU'], suffixes = ('',''))"
   ]
  },
  {
   "cell_type": "code",
   "execution_count": 56,
   "metadata": {
    "collapsed": false
   },
   "outputs": [
    {
     "data": {
      "text/html": [
       "<div>\n",
       "<table border=\"1\" class=\"dataframe\">\n",
       "  <thead>\n",
       "    <tr style=\"text-align: right;\">\n",
       "      <th></th>\n",
       "      <th>DateTime</th>\n",
       "      <th>Tariff_value</th>\n",
       "      <th>sum</th>\n",
       "      <th>count</th>\n",
       "      <th>mean_cons</th>\n",
       "      <th>ToU</th>\n",
       "      <th>Date</th>\n",
       "      <th>Holiday</th>\n",
       "      <th>temperature</th>\n",
       "      <th>humidity</th>\n",
       "      <th>cloudCover</th>\n",
       "      <th>pressure</th>\n",
       "      <th>DoW</th>\n",
       "      <th>Time</th>\n",
       "      <th>Month</th>\n",
       "      <th>Year</th>\n",
       "      <th>mean_prev_day</th>\n",
       "      <th>mean_cons_-1380</th>\n",
       "      <th>mean_cons_-1410</th>\n",
       "      <th>mean_cons_-1440</th>\n",
       "    </tr>\n",
       "  </thead>\n",
       "  <tbody>\n",
       "    <tr>\n",
       "      <th>49516</th>\n",
       "      <td>2013-11-10 13:00:00</td>\n",
       "      <td>11.760</td>\n",
       "      <td>291.675000</td>\n",
       "      <td>1050</td>\n",
       "      <td>0.277786</td>\n",
       "      <td>1.0</td>\n",
       "      <td>2013-11-10</td>\n",
       "      <td>0</td>\n",
       "      <td>9.17</td>\n",
       "      <td>0.56</td>\n",
       "      <td>0.31</td>\n",
       "      <td>1018.63</td>\n",
       "      <td>Sunday</td>\n",
       "      <td>13:00:00</td>\n",
       "      <td>November</td>\n",
       "      <td>2013</td>\n",
       "      <td>0.216511</td>\n",
       "      <td>0.249241</td>\n",
       "      <td>0.258339</td>\n",
       "      <td>0.270548</td>\n",
       "    </tr>\n",
       "    <tr>\n",
       "      <th>10267</th>\n",
       "      <td>2012-06-24 07:30:00</td>\n",
       "      <td>14.228</td>\n",
       "      <td>700.699000</td>\n",
       "      <td>4173</td>\n",
       "      <td>0.167913</td>\n",
       "      <td>0.0</td>\n",
       "      <td>2012-06-24</td>\n",
       "      <td>0</td>\n",
       "      <td>13.89</td>\n",
       "      <td>0.95</td>\n",
       "      <td>0.89</td>\n",
       "      <td>1008.89</td>\n",
       "      <td>Sunday</td>\n",
       "      <td>07:30:00</td>\n",
       "      <td>June</td>\n",
       "      <td>2012</td>\n",
       "      <td>0.179633</td>\n",
       "      <td>0.197776</td>\n",
       "      <td>0.184852</td>\n",
       "      <td>0.175956</td>\n",
       "    </tr>\n",
       "    <tr>\n",
       "      <th>7440</th>\n",
       "      <td>2012-04-26 10:00:00</td>\n",
       "      <td>14.228</td>\n",
       "      <td>381.664000</td>\n",
       "      <td>1929</td>\n",
       "      <td>0.197856</td>\n",
       "      <td>0.0</td>\n",
       "      <td>2012-04-26</td>\n",
       "      <td>0</td>\n",
       "      <td>11.60</td>\n",
       "      <td>0.77</td>\n",
       "      <td>0.49</td>\n",
       "      <td>993.71</td>\n",
       "      <td>Thursday</td>\n",
       "      <td>10:00:00</td>\n",
       "      <td>April</td>\n",
       "      <td>2012</td>\n",
       "      <td>0.221164</td>\n",
       "      <td>0.218806</td>\n",
       "      <td>0.222292</td>\n",
       "      <td>0.224264</td>\n",
       "    </tr>\n",
       "    <tr>\n",
       "      <th>33780</th>\n",
       "      <td>2013-05-30 15:00:00</td>\n",
       "      <td>11.760</td>\n",
       "      <td>197.468000</td>\n",
       "      <td>1089</td>\n",
       "      <td>0.181330</td>\n",
       "      <td>1.0</td>\n",
       "      <td>2013-05-30</td>\n",
       "      <td>0</td>\n",
       "      <td>14.03</td>\n",
       "      <td>0.79</td>\n",
       "      <td>0.81</td>\n",
       "      <td>1011.53</td>\n",
       "      <td>Thursday</td>\n",
       "      <td>15:00:00</td>\n",
       "      <td>May</td>\n",
       "      <td>2013</td>\n",
       "      <td>0.182254</td>\n",
       "      <td>0.212861</td>\n",
       "      <td>0.202480</td>\n",
       "      <td>0.192560</td>\n",
       "    </tr>\n",
       "    <tr>\n",
       "      <th>31301</th>\n",
       "      <td>2013-05-04 19:00:00</td>\n",
       "      <td>14.228</td>\n",
       "      <td>1087.188999</td>\n",
       "      <td>4273</td>\n",
       "      <td>0.254432</td>\n",
       "      <td>0.0</td>\n",
       "      <td>2013-05-04</td>\n",
       "      <td>0</td>\n",
       "      <td>14.07</td>\n",
       "      <td>0.50</td>\n",
       "      <td>0.33</td>\n",
       "      <td>1018.25</td>\n",
       "      <td>Saturday</td>\n",
       "      <td>19:00:00</td>\n",
       "      <td>May</td>\n",
       "      <td>2013</td>\n",
       "      <td>0.177542</td>\n",
       "      <td>0.257257</td>\n",
       "      <td>0.244308</td>\n",
       "      <td>0.233400</td>\n",
       "    </tr>\n",
       "  </tbody>\n",
       "</table>\n",
       "</div>"
      ],
      "text/plain": [
       "                 DateTime  Tariff_value          sum  count  mean_cons  ToU  \\\n",
       "49516 2013-11-10 13:00:00        11.760   291.675000   1050   0.277786  1.0   \n",
       "10267 2012-06-24 07:30:00        14.228   700.699000   4173   0.167913  0.0   \n",
       "7440  2012-04-26 10:00:00        14.228   381.664000   1929   0.197856  0.0   \n",
       "33780 2013-05-30 15:00:00        11.760   197.468000   1089   0.181330  1.0   \n",
       "31301 2013-05-04 19:00:00        14.228  1087.188999   4273   0.254432  0.0   \n",
       "\n",
       "            Date  Holiday  temperature  humidity  cloudCover  pressure  \\\n",
       "49516 2013-11-10        0         9.17      0.56        0.31   1018.63   \n",
       "10267 2012-06-24        0        13.89      0.95        0.89   1008.89   \n",
       "7440  2012-04-26        0        11.60      0.77        0.49    993.71   \n",
       "33780 2013-05-30        0        14.03      0.79        0.81   1011.53   \n",
       "31301 2013-05-04        0        14.07      0.50        0.33   1018.25   \n",
       "\n",
       "            DoW      Time     Month  Year  mean_prev_day  mean_cons_-1380  \\\n",
       "49516    Sunday  13:00:00  November  2013       0.216511         0.249241   \n",
       "10267    Sunday  07:30:00      June  2012       0.179633         0.197776   \n",
       "7440   Thursday  10:00:00     April  2012       0.221164         0.218806   \n",
       "33780  Thursday  15:00:00       May  2013       0.182254         0.212861   \n",
       "31301  Saturday  19:00:00       May  2013       0.177542         0.257257   \n",
       "\n",
       "       mean_cons_-1410  mean_cons_-1440  \n",
       "49516         0.258339         0.270548  \n",
       "10267         0.184852         0.175956  \n",
       "7440          0.222292         0.224264  \n",
       "33780         0.202480         0.192560  \n",
       "31301         0.244308         0.233400  "
      ]
     },
     "execution_count": 56,
     "metadata": {},
     "output_type": "execute_result"
    }
   ],
   "source": [
    "df.sample(5)"
   ]
  },
  {
   "cell_type": "markdown",
   "metadata": {},
   "source": [
    "###### Mean value of the aggregate demand of the previous 3 days at the same time and at the previous 3 time steps (4 variables)."
   ]
  },
  {
   "cell_type": "code",
   "execution_count": 57,
   "metadata": {
    "collapsed": false
   },
   "outputs": [],
   "source": [
    "aux2 = df[['DateTime', 'ToU']].copy()\n",
    "means_3d = pd.DataFrame(index=df.index)\n",
    "for h in range(0,4):\n",
    "    for d in range(1,4):\n",
    "        aux = df[['DateTime', 'ToU', 'mean_cons']].copy()\n",
    "        aux['DateTime'] = aux['DateTime'] + datetime.timedelta(minutes = d*24*60-h*30)\n",
    "        aux2 = aux2.\\\n",
    "            merge(aux, how = 'left', on = ['DateTime','ToU'])\n",
    "    means_3d = means_3d.join(aux2.mean(axis=1).rename('mean_last3d_-%d' %(h*30)))"
   ]
  },
  {
   "cell_type": "code",
   "execution_count": 58,
   "metadata": {
    "collapsed": false
   },
   "outputs": [],
   "source": [
    "df = df.join(means_3d)"
   ]
  },
  {
   "cell_type": "code",
   "execution_count": 59,
   "metadata": {
    "collapsed": false
   },
   "outputs": [
    {
     "data": {
      "text/html": [
       "<div>\n",
       "<table border=\"1\" class=\"dataframe\">\n",
       "  <thead>\n",
       "    <tr style=\"text-align: right;\">\n",
       "      <th></th>\n",
       "      <th>DateTime</th>\n",
       "      <th>Tariff_value</th>\n",
       "      <th>sum</th>\n",
       "      <th>count</th>\n",
       "      <th>mean_cons</th>\n",
       "      <th>ToU</th>\n",
       "      <th>Date</th>\n",
       "      <th>Holiday</th>\n",
       "      <th>temperature</th>\n",
       "      <th>humidity</th>\n",
       "      <th>cloudCover</th>\n",
       "      <th>pressure</th>\n",
       "      <th>DoW</th>\n",
       "      <th>Time</th>\n",
       "      <th>Month</th>\n",
       "      <th>Year</th>\n",
       "      <th>mean_prev_day</th>\n",
       "      <th>mean_cons_-1380</th>\n",
       "      <th>mean_cons_-1410</th>\n",
       "      <th>mean_cons_-1440</th>\n",
       "      <th>mean_last3d_-0</th>\n",
       "      <th>mean_last3d_-30</th>\n",
       "      <th>mean_last3d_-60</th>\n",
       "      <th>mean_last3d_-90</th>\n",
       "    </tr>\n",
       "  </thead>\n",
       "  <tbody>\n",
       "    <tr>\n",
       "      <th>25051</th>\n",
       "      <td>2013-02-28 15:30:00</td>\n",
       "      <td>14.228</td>\n",
       "      <td>1000.229</td>\n",
       "      <td>4333</td>\n",
       "      <td>0.230840</td>\n",
       "      <td>0.0</td>\n",
       "      <td>2013-02-28</td>\n",
       "      <td>0</td>\n",
       "      <td>7.34</td>\n",
       "      <td>0.69</td>\n",
       "      <td>0.68</td>\n",
       "      <td>1028.05</td>\n",
       "      <td>Thursday</td>\n",
       "      <td>15:30:00</td>\n",
       "      <td>February</td>\n",
       "      <td>2013</td>\n",
       "      <td>0.258202</td>\n",
       "      <td>0.254149</td>\n",
       "      <td>0.241016</td>\n",
       "      <td>0.227001</td>\n",
       "      <td>0.190855</td>\n",
       "      <td>0.224592</td>\n",
       "      <td>0.243375</td>\n",
       "      <td>0.258977</td>\n",
       "    </tr>\n",
       "    <tr>\n",
       "      <th>24096</th>\n",
       "      <td>2013-02-18 17:00:00</td>\n",
       "      <td>11.760</td>\n",
       "      <td>273.904</td>\n",
       "      <td>1103</td>\n",
       "      <td>0.248326</td>\n",
       "      <td>1.0</td>\n",
       "      <td>2013-02-18</td>\n",
       "      <td>0</td>\n",
       "      <td>5.78</td>\n",
       "      <td>0.73</td>\n",
       "      <td>0.43</td>\n",
       "      <td>1019.80</td>\n",
       "      <td>Monday</td>\n",
       "      <td>17:00:00</td>\n",
       "      <td>February</td>\n",
       "      <td>2013</td>\n",
       "      <td>0.236516</td>\n",
       "      <td>0.358004</td>\n",
       "      <td>0.326865</td>\n",
       "      <td>0.282129</td>\n",
       "      <td>0.455238</td>\n",
       "      <td>0.395348</td>\n",
       "      <td>0.382492</td>\n",
       "      <td>0.380767</td>\n",
       "    </tr>\n",
       "    <tr>\n",
       "      <th>14430</th>\n",
       "      <td>2012-09-19 01:00:00</td>\n",
       "      <td>14.228</td>\n",
       "      <td>548.903</td>\n",
       "      <td>4846</td>\n",
       "      <td>0.113269</td>\n",
       "      <td>0.0</td>\n",
       "      <td>2012-09-19</td>\n",
       "      <td>0</td>\n",
       "      <td>8.73</td>\n",
       "      <td>0.77</td>\n",
       "      <td>0.00</td>\n",
       "      <td>1020.20</td>\n",
       "      <td>Wednesday</td>\n",
       "      <td>01:00:00</td>\n",
       "      <td>September</td>\n",
       "      <td>2012</td>\n",
       "      <td>0.177089</td>\n",
       "      <td>0.097233</td>\n",
       "      <td>0.104080</td>\n",
       "      <td>0.112865</td>\n",
       "      <td>0.087024</td>\n",
       "      <td>0.094739</td>\n",
       "      <td>0.096186</td>\n",
       "      <td>0.096378</td>\n",
       "    </tr>\n",
       "  </tbody>\n",
       "</table>\n",
       "</div>"
      ],
      "text/plain": [
       "                 DateTime  Tariff_value       sum  count  mean_cons  ToU  \\\n",
       "25051 2013-02-28 15:30:00        14.228  1000.229   4333   0.230840  0.0   \n",
       "24096 2013-02-18 17:00:00        11.760   273.904   1103   0.248326  1.0   \n",
       "14430 2012-09-19 01:00:00        14.228   548.903   4846   0.113269  0.0   \n",
       "\n",
       "            Date  Holiday  temperature  humidity  cloudCover  pressure  \\\n",
       "25051 2013-02-28        0         7.34      0.69        0.68   1028.05   \n",
       "24096 2013-02-18        0         5.78      0.73        0.43   1019.80   \n",
       "14430 2012-09-19        0         8.73      0.77        0.00   1020.20   \n",
       "\n",
       "             DoW      Time      Month  Year  mean_prev_day  mean_cons_-1380  \\\n",
       "25051   Thursday  15:30:00   February  2013       0.258202         0.254149   \n",
       "24096     Monday  17:00:00   February  2013       0.236516         0.358004   \n",
       "14430  Wednesday  01:00:00  September  2012       0.177089         0.097233   \n",
       "\n",
       "       mean_cons_-1410  mean_cons_-1440  mean_last3d_-0  mean_last3d_-30  \\\n",
       "25051         0.241016         0.227001        0.190855         0.224592   \n",
       "24096         0.326865         0.282129        0.455238         0.395348   \n",
       "14430         0.104080         0.112865        0.087024         0.094739   \n",
       "\n",
       "       mean_last3d_-60  mean_last3d_-90  \n",
       "25051         0.243375         0.258977  \n",
       "24096         0.382492         0.380767  \n",
       "14430         0.096186         0.096378  "
      ]
     },
     "execution_count": 59,
     "metadata": {},
     "output_type": "execute_result"
    }
   ],
   "source": [
    "df.sample(3)"
   ]
  },
  {
   "cell_type": "markdown",
   "metadata": {},
   "source": [
    "###### Mean value of the aggregate demand on the same day of week of the previous 3 weeks at the same time and at the previous 3 time steps (4 variables)."
   ]
  },
  {
   "cell_type": "code",
   "execution_count": 60,
   "metadata": {
    "collapsed": false
   },
   "outputs": [],
   "source": [
    "aux2 = df[['DateTime', 'ToU']].copy()\n",
    "means_3w = pd.DataFrame(index=df.index)\n",
    "for h in range(0,4):\n",
    "    for w in range(1,4):\n",
    "        aux = df[['DateTime', 'ToU', 'mean_cons']].copy()\n",
    "        aux['DateTime'] = aux['DateTime'] + datetime.timedelta(minutes = w*7*24*60-h*30)\n",
    "        aux2 = aux2.\\\n",
    "            merge(aux, how = 'left', on = ['DateTime','ToU'])\n",
    "    means_3w = means_3w.join(aux2.mean(axis=1).rename('mean_last3w_-%d' %(h*30)))"
   ]
  },
  {
   "cell_type": "code",
   "execution_count": 61,
   "metadata": {
    "collapsed": true
   },
   "outputs": [],
   "source": [
    "df = df.join(means_3w)"
   ]
  },
  {
   "cell_type": "code",
   "execution_count": 62,
   "metadata": {
    "collapsed": false
   },
   "outputs": [
    {
     "data": {
      "text/html": [
       "<div>\n",
       "<table border=\"1\" class=\"dataframe\">\n",
       "  <thead>\n",
       "    <tr style=\"text-align: right;\">\n",
       "      <th></th>\n",
       "      <th>DateTime</th>\n",
       "      <th>Tariff_value</th>\n",
       "      <th>sum</th>\n",
       "      <th>count</th>\n",
       "      <th>mean_cons</th>\n",
       "      <th>ToU</th>\n",
       "      <th>Date</th>\n",
       "      <th>Holiday</th>\n",
       "      <th>temperature</th>\n",
       "      <th>humidity</th>\n",
       "      <th>cloudCover</th>\n",
       "      <th>pressure</th>\n",
       "      <th>DoW</th>\n",
       "      <th>Time</th>\n",
       "      <th>Month</th>\n",
       "      <th>Year</th>\n",
       "      <th>mean_prev_day</th>\n",
       "      <th>mean_cons_-1380</th>\n",
       "      <th>mean_cons_-1410</th>\n",
       "      <th>mean_cons_-1440</th>\n",
       "      <th>mean_last3d_-0</th>\n",
       "      <th>mean_last3d_-30</th>\n",
       "      <th>mean_last3d_-60</th>\n",
       "      <th>mean_last3d_-90</th>\n",
       "      <th>mean_last3w_-0</th>\n",
       "      <th>mean_last3w_-30</th>\n",
       "      <th>mean_last3w_-60</th>\n",
       "      <th>mean_last3w_-90</th>\n",
       "    </tr>\n",
       "  </thead>\n",
       "  <tbody>\n",
       "    <tr>\n",
       "      <th>12186</th>\n",
       "      <td>2012-08-03 07:00:00</td>\n",
       "      <td>14.228</td>\n",
       "      <td>755.137</td>\n",
       "      <td>4758</td>\n",
       "      <td>0.158709</td>\n",
       "      <td>0.0</td>\n",
       "      <td>2012-08-03</td>\n",
       "      <td>0</td>\n",
       "      <td>15.58</td>\n",
       "      <td>0.88</td>\n",
       "      <td>0.40</td>\n",
       "      <td>1013.10</td>\n",
       "      <td>Friday</td>\n",
       "      <td>07:00:00</td>\n",
       "      <td>August</td>\n",
       "      <td>2012</td>\n",
       "      <td>0.165985</td>\n",
       "      <td>0.174426</td>\n",
       "      <td>0.163972</td>\n",
       "      <td>0.163186</td>\n",
       "      <td>0.124002</td>\n",
       "      <td>0.142987</td>\n",
       "      <td>0.152077</td>\n",
       "      <td>0.157382</td>\n",
       "      <td>0.132612</td>\n",
       "      <td>0.153827</td>\n",
       "      <td>0.161793</td>\n",
       "      <td>0.165229</td>\n",
       "    </tr>\n",
       "    <tr>\n",
       "      <th>15585</th>\n",
       "      <td>2012-10-13 02:30:00</td>\n",
       "      <td>14.228</td>\n",
       "      <td>585.085</td>\n",
       "      <td>5258</td>\n",
       "      <td>0.111275</td>\n",
       "      <td>0.0</td>\n",
       "      <td>2012-10-13</td>\n",
       "      <td>0</td>\n",
       "      <td>7.89</td>\n",
       "      <td>0.89</td>\n",
       "      <td>0.33</td>\n",
       "      <td>1006.72</td>\n",
       "      <td>Saturday</td>\n",
       "      <td>02:30:00</td>\n",
       "      <td>October</td>\n",
       "      <td>2012</td>\n",
       "      <td>0.200887</td>\n",
       "      <td>0.105021</td>\n",
       "      <td>0.105890</td>\n",
       "      <td>0.107292</td>\n",
       "      <td>0.080645</td>\n",
       "      <td>0.091444</td>\n",
       "      <td>0.095743</td>\n",
       "      <td>0.098331</td>\n",
       "      <td>0.078329</td>\n",
       "      <td>0.088411</td>\n",
       "      <td>0.092363</td>\n",
       "      <td>0.094512</td>\n",
       "    </tr>\n",
       "    <tr>\n",
       "      <th>4837</th>\n",
       "      <td>2012-03-03 03:30:00</td>\n",
       "      <td>14.228</td>\n",
       "      <td>149.032</td>\n",
       "      <td>863</td>\n",
       "      <td>0.172691</td>\n",
       "      <td>0.0</td>\n",
       "      <td>2012-03-03</td>\n",
       "      <td>0</td>\n",
       "      <td>7.56</td>\n",
       "      <td>0.97</td>\n",
       "      <td>0.73</td>\n",
       "      <td>1018.72</td>\n",
       "      <td>Saturday</td>\n",
       "      <td>03:30:00</td>\n",
       "      <td>March</td>\n",
       "      <td>2012</td>\n",
       "      <td>0.248041</td>\n",
       "      <td>0.152221</td>\n",
       "      <td>0.155141</td>\n",
       "      <td>0.161457</td>\n",
       "      <td>0.120545</td>\n",
       "      <td>0.133285</td>\n",
       "      <td>0.137457</td>\n",
       "      <td>0.139172</td>\n",
       "      <td>0.149946</td>\n",
       "      <td>0.164244</td>\n",
       "      <td>0.166726</td>\n",
       "      <td>0.169035</td>\n",
       "    </tr>\n",
       "  </tbody>\n",
       "</table>\n",
       "</div>"
      ],
      "text/plain": [
       "                 DateTime  Tariff_value      sum  count  mean_cons  ToU  \\\n",
       "12186 2012-08-03 07:00:00        14.228  755.137   4758   0.158709  0.0   \n",
       "15585 2012-10-13 02:30:00        14.228  585.085   5258   0.111275  0.0   \n",
       "4837  2012-03-03 03:30:00        14.228  149.032    863   0.172691  0.0   \n",
       "\n",
       "            Date  Holiday  temperature  humidity  cloudCover  pressure  \\\n",
       "12186 2012-08-03        0        15.58      0.88        0.40   1013.10   \n",
       "15585 2012-10-13        0         7.89      0.89        0.33   1006.72   \n",
       "4837  2012-03-03        0         7.56      0.97        0.73   1018.72   \n",
       "\n",
       "            DoW      Time    Month  Year  mean_prev_day  mean_cons_-1380  \\\n",
       "12186    Friday  07:00:00   August  2012       0.165985         0.174426   \n",
       "15585  Saturday  02:30:00  October  2012       0.200887         0.105021   \n",
       "4837   Saturday  03:30:00    March  2012       0.248041         0.152221   \n",
       "\n",
       "       mean_cons_-1410  mean_cons_-1440  mean_last3d_-0  mean_last3d_-30  \\\n",
       "12186         0.163972         0.163186        0.124002         0.142987   \n",
       "15585         0.105890         0.107292        0.080645         0.091444   \n",
       "4837          0.155141         0.161457        0.120545         0.133285   \n",
       "\n",
       "       mean_last3d_-60  mean_last3d_-90  mean_last3w_-0  mean_last3w_-30  \\\n",
       "12186         0.152077         0.157382        0.132612         0.153827   \n",
       "15585         0.095743         0.098331        0.078329         0.088411   \n",
       "4837          0.137457         0.139172        0.149946         0.164244   \n",
       "\n",
       "       mean_last3w_-60  mean_last3w_-90  \n",
       "12186         0.161793         0.165229  \n",
       "15585         0.092363         0.094512  \n",
       "4837          0.166726         0.169035  "
      ]
     },
     "execution_count": 62,
     "metadata": {},
     "output_type": "execute_result"
    }
   ],
   "source": [
    "df.sample(3)"
   ]
  },
  {
   "cell_type": "markdown",
   "metadata": {},
   "source": [
    "Note that pandas.dataframe.mean skips NaN values by default. Therefore, if some values are missing, the mean is still calculated with the remaining ones. Nonetheless, in the first 3 weeks, none of the values needed to calculate some features will exist so there will be missing values. These values will be dropped from the model. This is not needed in dedicated time series algorithms."
   ]
  },
  {
   "cell_type": "code",
   "execution_count": 63,
   "metadata": {
    "collapsed": true
   },
   "outputs": [],
   "source": [
    "df = df.dropna().reset_index(drop=True)"
   ]
  },
  {
   "cell_type": "markdown",
   "metadata": {},
   "source": [
    "We will split the dataset into train and test samples: from the dataset start to 2013-09-31 will be included in the train set and from 2013-10-01 until the end of the time series in the test set. This means we will have 9 months of ToU in train and 3 in test. The limitation is not all months will be included in the test set and we will not have one whole year of ToU data in the train set."
   ]
  },
  {
   "cell_type": "code",
   "execution_count": 64,
   "metadata": {
    "collapsed": true
   },
   "outputs": [],
   "source": [
    "df.loc[df['DateTime'] < '2013-10-01 00:00:00','Set'] = 'Train'\n",
    "df.loc[df['DateTime'] >= '2013-10-01 00:00:00','Set'] = 'Test'"
   ]
  },
  {
   "cell_type": "markdown",
   "metadata": {},
   "source": [
    "Time can be encoded as a categorical variable or as a continuous numerical variable.\n",
    "\n",
    "Looking at the exploratory data analysis in Tableau, aggregating data by time, we can distinguish a plateau between 8:00 and 15:59 during weekdays, an increasing trend up to 19:00, then decreasing to 2:00 and a plateau between 2:00 and 5:59 before increasing to 8:00. During weekends, the midday plateau is not so constant and seems to start at 9:00.\n",
    "\n",
    "Considering time with 30-min frequency would result in a categorical variable with 48 levels. This resolution is probably to large for our purpose taking into account that we will derive features based on consumption in previous time steps and at the same time on previous comparable days, as we will see later. \n",
    "\n",
    "Considering time as a continuous numerical variable is probably a better approach, but from the exploratory data analysis we now its relationship with the target will be strongly non-linear.\n",
    "\n",
    "Therefore, we propose to use it as a numerical variable in the interval [0,24) in models which can grasp non-linearities and to drop it in linear models at is has been used to derived the features.\n",
    "\n",
    "We will also remove the year as we only have 2 complete years (2012 and 2013) and part of our test data is in 2014, which is absent from the train set."
   ]
  },
  {
   "cell_type": "code",
   "execution_count": 65,
   "metadata": {
    "collapsed": true
   },
   "outputs": [],
   "source": [
    "def time2float(time):\n",
    "    return time.hour + time.minute / 60.0"
   ]
  },
  {
   "cell_type": "code",
   "execution_count": 66,
   "metadata": {
    "collapsed": true
   },
   "outputs": [],
   "source": [
    "df['Time'] = df['Time'].apply(lambda t: time2float(t))"
   ]
  },
  {
   "cell_type": "markdown",
   "metadata": {},
   "source": [
    "Now that we have built all features we can save this model to a csv file for use in R."
   ]
  },
  {
   "cell_type": "code",
   "execution_count": 67,
   "metadata": {
    "collapsed": true
   },
   "outputs": [],
   "source": [
    "df.to_csv('outputs/features_model.csv', index = False)"
   ]
  }
 ],
 "metadata": {
  "kernelspec": {
   "display_name": "Python 3",
   "language": "python",
   "name": "python3"
  },
  "language_info": {
   "codemirror_mode": {
    "name": "ipython",
    "version": 3
   },
   "file_extension": ".py",
   "mimetype": "text/x-python",
   "name": "python",
   "nbconvert_exporter": "python",
   "pygments_lexer": "ipython3",
   "version": "3.6.0"
  }
 },
 "nbformat": 4,
 "nbformat_minor": 2
}
