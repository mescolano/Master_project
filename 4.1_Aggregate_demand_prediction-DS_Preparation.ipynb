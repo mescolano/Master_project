{
 "cells": [
  {
   "cell_type": "markdown",
   "metadata": {},
   "source": [
    "# 4 Prediction of the aggregate demand "
   ]
  },
  {
   "cell_type": "markdown",
   "metadata": {},
   "source": [
    "In this section, we will compare the performance of different algorithms in predicting the aggregate demand, separating standard and ToU users. First, we will use feature models and then exponential smoothing, which is a time-series dedicated algorithm.\n",
    "\n",
    "After adding the external variables (holidays, weather) we will use different algorithms to fit our feature model. Later, we will predict the aggregate demand with exponential smoothing models in R using the \"forecast\" package.\n",
    "\n",
    "In general we will train our model with Nov 2011- Nov 2013 data and validate it with Nov 2013 - Feb 2014 data.\n",
    "\n",
    "We will use the aggregate statistics we computed in Section 2 with Spark."
   ]
  },
  {
   "cell_type": "markdown",
   "metadata": {},
   "source": [
    "## 4.1 Preparing the dataset"
   ]
  },
  {
   "cell_type": "markdown",
   "metadata": {},
   "source": [
    "First, we will prepare our data so it can be use in the different algorithms proposed. We will start including time and weather variables as these are needed for all models and then we will add the engineered features for the feature models."
   ]
  },
  {
   "cell_type": "code",
   "execution_count": 1,
   "metadata": {
    "collapsed": true
   },
   "outputs": [],
   "source": [
    "import pandas as pd\n",
    "pd.options.display.max_columns = 999\n",
    "import datetime"
   ]
  },
  {
   "cell_type": "code",
   "execution_count": 2,
   "metadata": {
    "collapsed": true
   },
   "outputs": [],
   "source": [
    "df = pd.read_csv('outputs/agg_stats.csv', index_col=0)"
   ]
  },
  {
   "cell_type": "code",
   "execution_count": 3,
   "metadata": {
    "collapsed": false
   },
   "outputs": [
    {
     "data": {
      "text/html": [
       "<div>\n",
       "<table border=\"1\" class=\"dataframe\">\n",
       "  <thead>\n",
       "    <tr style=\"text-align: right;\">\n",
       "      <th></th>\n",
       "      <th>DateTime</th>\n",
       "      <th>Tariff</th>\n",
       "      <th>ToU_User</th>\n",
       "      <th>count</th>\n",
       "      <th>sum</th>\n",
       "      <th>min</th>\n",
       "      <th>mean</th>\n",
       "      <th>max</th>\n",
       "      <th>std_dev</th>\n",
       "    </tr>\n",
       "  </thead>\n",
       "  <tbody>\n",
       "    <tr>\n",
       "      <th>0</th>\n",
       "      <td>2012-10-15 21:00:00</td>\n",
       "      <td>Std</td>\n",
       "      <td>0</td>\n",
       "      <td>4210</td>\n",
       "      <td>1270.587000</td>\n",
       "      <td>0.0</td>\n",
       "      <td>0.301802</td>\n",
       "      <td>5.335</td>\n",
       "      <td>0.319130</td>\n",
       "    </tr>\n",
       "    <tr>\n",
       "      <th>1</th>\n",
       "      <td>2012-10-21 21:00:00</td>\n",
       "      <td>Std</td>\n",
       "      <td>0</td>\n",
       "      <td>4287</td>\n",
       "      <td>1239.813999</td>\n",
       "      <td>0.0</td>\n",
       "      <td>0.289203</td>\n",
       "      <td>6.095</td>\n",
       "      <td>0.320852</td>\n",
       "    </tr>\n",
       "    <tr>\n",
       "      <th>2</th>\n",
       "      <td>2012-10-27 13:00:00</td>\n",
       "      <td>Std</td>\n",
       "      <td>0</td>\n",
       "      <td>4402</td>\n",
       "      <td>1159.695000</td>\n",
       "      <td>0.0</td>\n",
       "      <td>0.263447</td>\n",
       "      <td>3.554</td>\n",
       "      <td>0.336398</td>\n",
       "    </tr>\n",
       "    <tr>\n",
       "      <th>3</th>\n",
       "      <td>2012-10-28 17:30:00</td>\n",
       "      <td>Std</td>\n",
       "      <td>0</td>\n",
       "      <td>4402</td>\n",
       "      <td>1665.008001</td>\n",
       "      <td>0.0</td>\n",
       "      <td>0.378239</td>\n",
       "      <td>8.040</td>\n",
       "      <td>0.447315</td>\n",
       "    </tr>\n",
       "    <tr>\n",
       "      <th>4</th>\n",
       "      <td>2012-11-04 00:30:00</td>\n",
       "      <td>Std</td>\n",
       "      <td>0</td>\n",
       "      <td>4403</td>\n",
       "      <td>994.769000</td>\n",
       "      <td>0.0</td>\n",
       "      <td>0.225930</td>\n",
       "      <td>6.072</td>\n",
       "      <td>0.424697</td>\n",
       "    </tr>\n",
       "  </tbody>\n",
       "</table>\n",
       "</div>"
      ],
      "text/plain": [
       "              DateTime Tariff  ToU_User  count          sum  min      mean  \\\n",
       "0  2012-10-15 21:00:00    Std         0   4210  1270.587000  0.0  0.301802   \n",
       "1  2012-10-21 21:00:00    Std         0   4287  1239.813999  0.0  0.289203   \n",
       "2  2012-10-27 13:00:00    Std         0   4402  1159.695000  0.0  0.263447   \n",
       "3  2012-10-28 17:30:00    Std         0   4402  1665.008001  0.0  0.378239   \n",
       "4  2012-11-04 00:30:00    Std         0   4403   994.769000  0.0  0.225930   \n",
       "\n",
       "     max   std_dev  \n",
       "0  5.335  0.319130  \n",
       "1  6.095  0.320852  \n",
       "2  3.554  0.336398  \n",
       "3  8.040  0.447315  \n",
       "4  6.072  0.424697  "
      ]
     },
     "execution_count": 3,
     "metadata": {},
     "output_type": "execute_result"
    }
   ],
   "source": [
    "df.head()"
   ]
  },
  {
   "cell_type": "markdown",
   "metadata": {},
   "source": [
    "We keep only the columns we need: DateTime, Tariff and mean consumption. We are interested in predicting the aggregate demand (i.e. the sum) but as the data count in each Timestamp is different, we will use the mean."
   ]
  },
  {
   "cell_type": "code",
   "execution_count": 4,
   "metadata": {
    "collapsed": true
   },
   "outputs": [],
   "source": [
    "df = df[['DateTime','Tariff','mean']]"
   ]
  },
  {
   "cell_type": "code",
   "execution_count": 5,
   "metadata": {
    "collapsed": true
   },
   "outputs": [],
   "source": [
    "df['DateTime'] = pd.to_datetime(df['DateTime'])"
   ]
  },
  {
   "cell_type": "code",
   "execution_count": 6,
   "metadata": {
    "collapsed": false
   },
   "outputs": [
    {
     "data": {
      "text/plain": [
       "pandas.tslib.Timestamp"
      ]
     },
     "execution_count": 6,
     "metadata": {},
     "output_type": "execute_result"
    }
   ],
   "source": [
    "type(df['DateTime'][2])"
   ]
  },
  {
   "cell_type": "code",
   "execution_count": 7,
   "metadata": {
    "collapsed": false
   },
   "outputs": [
    {
     "data": {
      "text/html": [
       "<div>\n",
       "<table border=\"1\" class=\"dataframe\">\n",
       "  <thead>\n",
       "    <tr style=\"text-align: right;\">\n",
       "      <th></th>\n",
       "      <th>DateTime</th>\n",
       "      <th>Tariff</th>\n",
       "      <th>mean</th>\n",
       "    </tr>\n",
       "  </thead>\n",
       "  <tbody>\n",
       "    <tr>\n",
       "      <th>67700</th>\n",
       "      <td>2013-10-26 02:00:00</td>\n",
       "      <td>Std</td>\n",
       "      <td>0.109328</td>\n",
       "    </tr>\n",
       "    <tr>\n",
       "      <th>75539</th>\n",
       "      <td>2014-01-06 18:00:00</td>\n",
       "      <td>Std</td>\n",
       "      <td>0.376058</td>\n",
       "    </tr>\n",
       "    <tr>\n",
       "      <th>70913</th>\n",
       "      <td>2012-07-04 22:00:00</td>\n",
       "      <td>ToU</td>\n",
       "      <td>0.214773</td>\n",
       "    </tr>\n",
       "    <tr>\n",
       "      <th>56670</th>\n",
       "      <td>2013-09-12 10:00:00</td>\n",
       "      <td>Std</td>\n",
       "      <td>0.179702</td>\n",
       "    </tr>\n",
       "    <tr>\n",
       "      <th>5260</th>\n",
       "      <td>2012-03-02 08:30:00</td>\n",
       "      <td>ToU</td>\n",
       "      <td>0.254258</td>\n",
       "    </tr>\n",
       "  </tbody>\n",
       "</table>\n",
       "</div>"
      ],
      "text/plain": [
       "                 DateTime Tariff      mean\n",
       "67700 2013-10-26 02:00:00    Std  0.109328\n",
       "75539 2014-01-06 18:00:00    Std  0.376058\n",
       "70913 2012-07-04 22:00:00    ToU  0.214773\n",
       "56670 2013-09-12 10:00:00    Std  0.179702\n",
       "5260  2012-03-02 08:30:00    ToU  0.254258"
      ]
     },
     "execution_count": 7,
     "metadata": {},
     "output_type": "execute_result"
    }
   ],
   "source": [
    "df.sample(5)"
   ]
  },
  {
   "cell_type": "markdown",
   "metadata": {},
   "source": [
    "Variable Tariff does not actually contain the Tariff the users are subject to in that timestamp, but the user group (whether they were included in dToU in 2013 or not). Therefore, we will change the variable name to User_group for clarity."
   ]
  },
  {
   "cell_type": "code",
   "execution_count": 8,
   "metadata": {
    "collapsed": true
   },
   "outputs": [],
   "source": [
    "df = df.rename(columns = {'Tariff' : 'User_group'})"
   ]
  },
  {
   "cell_type": "markdown",
   "metadata": {},
   "source": [
    "### 4.1.1 Tariff"
   ]
  },
  {
   "cell_type": "markdown",
   "metadata": {},
   "source": [
    "On of the main variables to include in our dataset is the price of electricity. We have grouped standard flat rate and dToU users in two different groups but we need the actual values of the tariff. \n",
    "\n",
    "For standard users, the price is always equal to 14.228 p/kWh.\n",
    "\n",
    "For ToU users, the tariff level for each 30-min interval is given in an Excel sheet we downloaded in Section 3.2. The corresponding values for each level are:\n",
    "\n",
    "-High = 67.20p/kWh\n",
    "\n",
    "-Normal = 11.76p/kWh\n",
    "\n",
    "-Low = 3.99p/kWh"
   ]
  },
  {
   "cell_type": "code",
   "execution_count": 9,
   "metadata": {
    "collapsed": true
   },
   "outputs": [],
   "source": [
    "tariffs = pd.read_excel('data/Tariffs.xlsx')"
   ]
  },
  {
   "cell_type": "code",
   "execution_count": 10,
   "metadata": {
    "collapsed": true
   },
   "outputs": [],
   "source": [
    "tariffs.loc[tariffs['Tariff'] == 'Normal', 'Tariff_value'] = 11.76\n",
    "tariffs.loc[tariffs['Tariff'] == 'High', 'Tariff_value'] = 67.20\n",
    "tariffs.loc[tariffs['Tariff'] == 'Low', 'Tariff_value'] = 3.99"
   ]
  },
  {
   "cell_type": "code",
   "execution_count": 11,
   "metadata": {
    "collapsed": true
   },
   "outputs": [],
   "source": [
    "tariffs = tariffs.rename(columns = {'TariffDateTime' : 'DateTime'})"
   ]
  },
  {
   "cell_type": "code",
   "execution_count": 12,
   "metadata": {
    "collapsed": false
   },
   "outputs": [
    {
     "data": {
      "text/html": [
       "<div>\n",
       "<table border=\"1\" class=\"dataframe\">\n",
       "  <thead>\n",
       "    <tr style=\"text-align: right;\">\n",
       "      <th></th>\n",
       "      <th>DateTime</th>\n",
       "      <th>Tariff</th>\n",
       "      <th>Tariff_value</th>\n",
       "    </tr>\n",
       "  </thead>\n",
       "  <tbody>\n",
       "    <tr>\n",
       "      <th>11221</th>\n",
       "      <td>2013-08-22 18:30:00</td>\n",
       "      <td>Normal</td>\n",
       "      <td>11.76</td>\n",
       "    </tr>\n",
       "    <tr>\n",
       "      <th>1724</th>\n",
       "      <td>2013-02-05 22:00:00</td>\n",
       "      <td>Low</td>\n",
       "      <td>3.99</td>\n",
       "    </tr>\n",
       "    <tr>\n",
       "      <th>13428</th>\n",
       "      <td>2013-10-07 18:00:00</td>\n",
       "      <td>Normal</td>\n",
       "      <td>11.76</td>\n",
       "    </tr>\n",
       "    <tr>\n",
       "      <th>3596</th>\n",
       "      <td>2013-03-16 22:00:00</td>\n",
       "      <td>High</td>\n",
       "      <td>67.20</td>\n",
       "    </tr>\n",
       "    <tr>\n",
       "      <th>3605</th>\n",
       "      <td>2013-03-17 02:30:00</td>\n",
       "      <td>Low</td>\n",
       "      <td>3.99</td>\n",
       "    </tr>\n",
       "  </tbody>\n",
       "</table>\n",
       "</div>"
      ],
      "text/plain": [
       "                 DateTime  Tariff  Tariff_value\n",
       "11221 2013-08-22 18:30:00  Normal         11.76\n",
       "1724  2013-02-05 22:00:00     Low          3.99\n",
       "13428 2013-10-07 18:00:00  Normal         11.76\n",
       "3596  2013-03-16 22:00:00    High         67.20\n",
       "3605  2013-03-17 02:30:00     Low          3.99"
      ]
     },
     "execution_count": 12,
     "metadata": {},
     "output_type": "execute_result"
    }
   ],
   "source": [
    "tariffs.sample(5)"
   ]
  },
  {
   "cell_type": "code",
   "execution_count": 13,
   "metadata": {
    "collapsed": false
   },
   "outputs": [],
   "source": [
    "tariffs = tariffs.drop('Tariff', axis=1)"
   ]
  },
  {
   "cell_type": "code",
   "execution_count": 14,
   "metadata": {
    "collapsed": false
   },
   "outputs": [],
   "source": [
    "df = df.merge(tariffs, how = 'left', on = 'DateTime')"
   ]
  },
  {
   "cell_type": "code",
   "execution_count": 15,
   "metadata": {
    "collapsed": false
   },
   "outputs": [],
   "source": [
    "df['Tariff_value'] = df['Tariff_value'].fillna(14.228) #This is the standard tariff"
   ]
  },
  {
   "cell_type": "code",
   "execution_count": 16,
   "metadata": {
    "collapsed": false
   },
   "outputs": [
    {
     "data": {
      "text/html": [
       "<div>\n",
       "<table border=\"1\" class=\"dataframe\">\n",
       "  <thead>\n",
       "    <tr style=\"text-align: right;\">\n",
       "      <th></th>\n",
       "      <th>DateTime</th>\n",
       "      <th>User_group</th>\n",
       "      <th>Tariff_value</th>\n",
       "    </tr>\n",
       "  </thead>\n",
       "  <tbody>\n",
       "    <tr>\n",
       "      <th>43033</th>\n",
       "      <td>2012-11-13 20:30:00</td>\n",
       "      <td>Std</td>\n",
       "      <td>14.228</td>\n",
       "    </tr>\n",
       "    <tr>\n",
       "      <th>13753</th>\n",
       "      <td>2012-06-05 17:00:00</td>\n",
       "      <td>ToU</td>\n",
       "      <td>14.228</td>\n",
       "    </tr>\n",
       "    <tr>\n",
       "      <th>43766</th>\n",
       "      <td>2012-01-10 16:30:00</td>\n",
       "      <td>ToU</td>\n",
       "      <td>14.228</td>\n",
       "    </tr>\n",
       "    <tr>\n",
       "      <th>72554</th>\n",
       "      <td>2012-09-04 23:00:00</td>\n",
       "      <td>ToU</td>\n",
       "      <td>14.228</td>\n",
       "    </tr>\n",
       "    <tr>\n",
       "      <th>22106</th>\n",
       "      <td>2012-02-21 09:00:00</td>\n",
       "      <td>Std</td>\n",
       "      <td>14.228</td>\n",
       "    </tr>\n",
       "  </tbody>\n",
       "</table>\n",
       "</div>"
      ],
      "text/plain": [
       "                 DateTime User_group  Tariff_value\n",
       "43033 2012-11-13 20:30:00        Std        14.228\n",
       "13753 2012-06-05 17:00:00        ToU        14.228\n",
       "43766 2012-01-10 16:30:00        ToU        14.228\n",
       "72554 2012-09-04 23:00:00        ToU        14.228\n",
       "22106 2012-02-21 09:00:00        Std        14.228"
      ]
     },
     "execution_count": 16,
     "metadata": {},
     "output_type": "execute_result"
    }
   ],
   "source": [
    "df[['DateTime','User_group','Tariff_value']].sample(5)"
   ]
  },
  {
   "cell_type": "markdown",
   "metadata": {
    "collapsed": true
   },
   "source": [
    "### 4.1.2. Bank Holidays"
   ]
  },
  {
   "cell_type": "markdown",
   "metadata": {},
   "source": [
    "Bank Holidays probably have an impact in household electricity consumption as it was discussed in Section 1. Bank Holidays will be treated separately from Sundays as a binary variable. \n",
    "\n",
    "Bank Holidays in England from 2011 to 2014 were downloaded in Section 1 using the Python holidays library (and cross-checked with the official information in www.gov.co.uk) and saved to a csv file."
   ]
  },
  {
   "cell_type": "code",
   "execution_count": 17,
   "metadata": {
    "collapsed": false
   },
   "outputs": [],
   "source": [
    "holidays = pd.Series.from_csv('data/bank_holidays.csv')"
   ]
  },
  {
   "cell_type": "code",
   "execution_count": 18,
   "metadata": {
    "collapsed": true
   },
   "outputs": [],
   "source": [
    "holidays = pd.to_datetime(holidays)"
   ]
  },
  {
   "cell_type": "code",
   "execution_count": 19,
   "metadata": {
    "collapsed": false
   },
   "outputs": [
    {
     "data": {
      "text/plain": [
       "0   2011-01-01\n",
       "1   2011-01-03\n",
       "2   2011-04-22\n",
       "3   2011-04-25\n",
       "4   2011-04-29\n",
       "dtype: datetime64[ns]"
      ]
     },
     "execution_count": 19,
     "metadata": {},
     "output_type": "execute_result"
    }
   ],
   "source": [
    "holidays.head()"
   ]
  },
  {
   "cell_type": "code",
   "execution_count": 20,
   "metadata": {
    "collapsed": true
   },
   "outputs": [],
   "source": [
    "df['Date'] = df['DateTime'].apply(lambda x: x.date())"
   ]
  },
  {
   "cell_type": "code",
   "execution_count": 21,
   "metadata": {
    "collapsed": true
   },
   "outputs": [],
   "source": [
    "df['Date'] = pd.to_datetime(df['Date'])"
   ]
  },
  {
   "cell_type": "code",
   "execution_count": 22,
   "metadata": {
    "collapsed": false
   },
   "outputs": [],
   "source": [
    "df['Holiday'] = 0\n",
    "df.loc[df['Date'].isin(holidays),'Holiday'] = 1"
   ]
  },
  {
   "cell_type": "code",
   "execution_count": 23,
   "metadata": {
    "collapsed": false
   },
   "outputs": [
    {
     "data": {
      "text/html": [
       "<div>\n",
       "<table border=\"1\" class=\"dataframe\">\n",
       "  <thead>\n",
       "    <tr style=\"text-align: right;\">\n",
       "      <th></th>\n",
       "      <th>DateTime</th>\n",
       "      <th>User_group</th>\n",
       "      <th>mean</th>\n",
       "      <th>Tariff_value</th>\n",
       "      <th>Date</th>\n",
       "      <th>Holiday</th>\n",
       "    </tr>\n",
       "  </thead>\n",
       "  <tbody>\n",
       "    <tr>\n",
       "      <th>61991</th>\n",
       "      <td>2014-01-16 23:30:00</td>\n",
       "      <td>ToU</td>\n",
       "      <td>0.211941</td>\n",
       "      <td>14.228</td>\n",
       "      <td>2014-01-16</td>\n",
       "      <td>0</td>\n",
       "    </tr>\n",
       "    <tr>\n",
       "      <th>67446</th>\n",
       "      <td>2012-07-20 16:30:00</td>\n",
       "      <td>ToU</td>\n",
       "      <td>0.199608</td>\n",
       "      <td>14.228</td>\n",
       "      <td>2012-07-20</td>\n",
       "      <td>0</td>\n",
       "    </tr>\n",
       "    <tr>\n",
       "      <th>63808</th>\n",
       "      <td>2012-03-07 18:30:00</td>\n",
       "      <td>Std</td>\n",
       "      <td>0.363820</td>\n",
       "      <td>14.228</td>\n",
       "      <td>2012-03-07</td>\n",
       "      <td>0</td>\n",
       "    </tr>\n",
       "    <tr>\n",
       "      <th>39054</th>\n",
       "      <td>2012-01-25 00:30:00</td>\n",
       "      <td>ToU</td>\n",
       "      <td>0.161405</td>\n",
       "      <td>14.228</td>\n",
       "      <td>2012-01-25</td>\n",
       "      <td>0</td>\n",
       "    </tr>\n",
       "    <tr>\n",
       "      <th>30817</th>\n",
       "      <td>2013-09-30 21:30:00</td>\n",
       "      <td>Std</td>\n",
       "      <td>0.248219</td>\n",
       "      <td>11.760</td>\n",
       "      <td>2013-09-30</td>\n",
       "      <td>0</td>\n",
       "    </tr>\n",
       "  </tbody>\n",
       "</table>\n",
       "</div>"
      ],
      "text/plain": [
       "                 DateTime User_group      mean  Tariff_value       Date  \\\n",
       "61991 2014-01-16 23:30:00        ToU  0.211941        14.228 2014-01-16   \n",
       "67446 2012-07-20 16:30:00        ToU  0.199608        14.228 2012-07-20   \n",
       "63808 2012-03-07 18:30:00        Std  0.363820        14.228 2012-03-07   \n",
       "39054 2012-01-25 00:30:00        ToU  0.161405        14.228 2012-01-25   \n",
       "30817 2013-09-30 21:30:00        Std  0.248219        11.760 2013-09-30   \n",
       "\n",
       "       Holiday  \n",
       "61991        0  \n",
       "67446        0  \n",
       "63808        0  \n",
       "39054        0  \n",
       "30817        0  "
      ]
     },
     "execution_count": 23,
     "metadata": {},
     "output_type": "execute_result"
    }
   ],
   "source": [
    "df.sample(5)"
   ]
  },
  {
   "cell_type": "code",
   "execution_count": 24,
   "metadata": {
    "collapsed": false
   },
   "outputs": [
    {
     "data": {
      "text/html": [
       "<div>\n",
       "<table border=\"1\" class=\"dataframe\">\n",
       "  <thead>\n",
       "    <tr style=\"text-align: right;\">\n",
       "      <th></th>\n",
       "      <th>DateTime</th>\n",
       "      <th>User_group</th>\n",
       "      <th>mean</th>\n",
       "      <th>Tariff_value</th>\n",
       "      <th>Date</th>\n",
       "      <th>Holiday</th>\n",
       "    </tr>\n",
       "  </thead>\n",
       "  <tbody>\n",
       "    <tr>\n",
       "      <th>19542</th>\n",
       "      <td>2012-12-26 23:00:00</td>\n",
       "      <td>Std</td>\n",
       "      <td>0.265504</td>\n",
       "      <td>14.228</td>\n",
       "      <td>2012-12-26</td>\n",
       "      <td>1</td>\n",
       "    </tr>\n",
       "    <tr>\n",
       "      <th>78647</th>\n",
       "      <td>2013-01-01 20:30:00</td>\n",
       "      <td>Std</td>\n",
       "      <td>0.359184</td>\n",
       "      <td>11.760</td>\n",
       "      <td>2013-01-01</td>\n",
       "      <td>1</td>\n",
       "    </tr>\n",
       "    <tr>\n",
       "      <th>60759</th>\n",
       "      <td>2013-05-06 12:30:00</td>\n",
       "      <td>ToU</td>\n",
       "      <td>0.179697</td>\n",
       "      <td>11.760</td>\n",
       "      <td>2013-05-06</td>\n",
       "      <td>1</td>\n",
       "    </tr>\n",
       "    <tr>\n",
       "      <th>74076</th>\n",
       "      <td>2011-12-25 06:00:00</td>\n",
       "      <td>Std</td>\n",
       "      <td>0.142732</td>\n",
       "      <td>14.228</td>\n",
       "      <td>2011-12-25</td>\n",
       "      <td>1</td>\n",
       "    </tr>\n",
       "    <tr>\n",
       "      <th>46890</th>\n",
       "      <td>2012-06-04 14:00:00</td>\n",
       "      <td>ToU</td>\n",
       "      <td>0.202942</td>\n",
       "      <td>14.228</td>\n",
       "      <td>2012-06-04</td>\n",
       "      <td>1</td>\n",
       "    </tr>\n",
       "  </tbody>\n",
       "</table>\n",
       "</div>"
      ],
      "text/plain": [
       "                 DateTime User_group      mean  Tariff_value       Date  \\\n",
       "19542 2012-12-26 23:00:00        Std  0.265504        14.228 2012-12-26   \n",
       "78647 2013-01-01 20:30:00        Std  0.359184        11.760 2013-01-01   \n",
       "60759 2013-05-06 12:30:00        ToU  0.179697        11.760 2013-05-06   \n",
       "74076 2011-12-25 06:00:00        Std  0.142732        14.228 2011-12-25   \n",
       "46890 2012-06-04 14:00:00        ToU  0.202942        14.228 2012-06-04   \n",
       "\n",
       "       Holiday  \n",
       "19542        1  \n",
       "78647        1  \n",
       "60759        1  \n",
       "74076        1  \n",
       "46890        1  "
      ]
     },
     "execution_count": 24,
     "metadata": {},
     "output_type": "execute_result"
    }
   ],
   "source": [
    "df[df['Holiday'] == 1].sample(5)"
   ]
  },
  {
   "cell_type": "markdown",
   "metadata": {},
   "source": [
    "### 4.1.3. Weather variables"
   ]
  },
  {
   "cell_type": "markdown",
   "metadata": {},
   "source": [
    "Now we have to add the weather variables, which will be used in any model. Weather variables were discussed, downloaded and treated in Section 1."
   ]
  },
  {
   "cell_type": "code",
   "execution_count": 25,
   "metadata": {
    "collapsed": true
   },
   "outputs": [],
   "source": [
    "weather = pd.read_csv('data/weather_no_na.csv')"
   ]
  },
  {
   "cell_type": "code",
   "execution_count": 26,
   "metadata": {
    "collapsed": false
   },
   "outputs": [
    {
     "data": {
      "text/plain": [
       "(20446, 13)"
      ]
     },
     "execution_count": 26,
     "metadata": {},
     "output_type": "execute_result"
    }
   ],
   "source": [
    "weather.shape"
   ]
  },
  {
   "cell_type": "markdown",
   "metadata": {},
   "source": [
    "We will use the following variables:\n",
    "\n",
    "-Temperature (ºC)\n",
    "\n",
    "-Relative Humidity (%)\n",
    "\n",
    "-Cloud cover (%)\n",
    "\n",
    "-Atmospheric Pressure (mbar)\n",
    "\n",
    "For a discussion on the reasons why these variables have been choosen and how NA values have been filled refer to Section 1."
   ]
  },
  {
   "cell_type": "code",
   "execution_count": 27,
   "metadata": {
    "collapsed": false
   },
   "outputs": [
    {
     "data": {
      "text/plain": [
       "Index(['time', 'apparentTemperature', 'cloudCover', 'dewPoint', 'humidity',\n",
       "       'icon', 'precipType', 'pressure', 'summary', 'temperature',\n",
       "       'visibility', 'windBearing', 'windSpeed'],\n",
       "      dtype='object')"
      ]
     },
     "execution_count": 27,
     "metadata": {},
     "output_type": "execute_result"
    }
   ],
   "source": [
    "weather.columns"
   ]
  },
  {
   "cell_type": "code",
   "execution_count": 28,
   "metadata": {
    "collapsed": true
   },
   "outputs": [],
   "source": [
    "weather = weather[['time','temperature','humidity','cloudCover','pressure']]\\\n",
    "    .rename(columns = {'time' : 'DateTime'})"
   ]
  },
  {
   "cell_type": "code",
   "execution_count": 29,
   "metadata": {
    "collapsed": true
   },
   "outputs": [],
   "source": [
    "weather['DateTime'] = pd.to_datetime(weather['DateTime'])"
   ]
  },
  {
   "cell_type": "code",
   "execution_count": 30,
   "metadata": {
    "collapsed": false,
    "scrolled": true
   },
   "outputs": [
    {
     "data": {
      "text/html": [
       "<div>\n",
       "<table border=\"1\" class=\"dataframe\">\n",
       "  <thead>\n",
       "    <tr style=\"text-align: right;\">\n",
       "      <th></th>\n",
       "      <th>DateTime</th>\n",
       "      <th>temperature</th>\n",
       "      <th>humidity</th>\n",
       "      <th>cloudCover</th>\n",
       "      <th>pressure</th>\n",
       "    </tr>\n",
       "  </thead>\n",
       "  <tbody>\n",
       "    <tr>\n",
       "      <th>0</th>\n",
       "      <td>2011-11-01 00:00:00</td>\n",
       "      <td>13.54</td>\n",
       "      <td>0.87</td>\n",
       "      <td>0.27</td>\n",
       "      <td>1008.01</td>\n",
       "    </tr>\n",
       "    <tr>\n",
       "      <th>1</th>\n",
       "      <td>2011-11-01 01:00:00</td>\n",
       "      <td>12.74</td>\n",
       "      <td>0.93</td>\n",
       "      <td>0.32</td>\n",
       "      <td>1007.76</td>\n",
       "    </tr>\n",
       "    <tr>\n",
       "      <th>2</th>\n",
       "      <td>2011-11-01 02:00:00</td>\n",
       "      <td>13.68</td>\n",
       "      <td>0.91</td>\n",
       "      <td>0.25</td>\n",
       "      <td>1006.97</td>\n",
       "    </tr>\n",
       "    <tr>\n",
       "      <th>3</th>\n",
       "      <td>2011-11-01 03:00:00</td>\n",
       "      <td>14.18</td>\n",
       "      <td>0.88</td>\n",
       "      <td>0.43</td>\n",
       "      <td>1006.40</td>\n",
       "    </tr>\n",
       "    <tr>\n",
       "      <th>4</th>\n",
       "      <td>2011-11-01 04:00:00</td>\n",
       "      <td>14.20</td>\n",
       "      <td>0.90</td>\n",
       "      <td>0.38</td>\n",
       "      <td>1006.05</td>\n",
       "    </tr>\n",
       "  </tbody>\n",
       "</table>\n",
       "</div>"
      ],
      "text/plain": [
       "             DateTime  temperature  humidity  cloudCover  pressure\n",
       "0 2011-11-01 00:00:00        13.54      0.87        0.27   1008.01\n",
       "1 2011-11-01 01:00:00        12.74      0.93        0.32   1007.76\n",
       "2 2011-11-01 02:00:00        13.68      0.91        0.25   1006.97\n",
       "3 2011-11-01 03:00:00        14.18      0.88        0.43   1006.40\n",
       "4 2011-11-01 04:00:00        14.20      0.90        0.38   1006.05"
      ]
     },
     "execution_count": 30,
     "metadata": {},
     "output_type": "execute_result"
    }
   ],
   "source": [
    "weather.head()"
   ]
  },
  {
   "cell_type": "markdown",
   "metadata": {},
   "source": [
    "The frequency of the weather data is of 1 hour while that of the consumption data is 30 minutes, thus we need to resample it. We will take the last valid observation (e.g. 2012-01-01 10:30 will have the same data as 2012-01-01 10:00) => method = 'ffill'."
   ]
  },
  {
   "cell_type": "code",
   "execution_count": 31,
   "metadata": {
    "collapsed": false
   },
   "outputs": [],
   "source": [
    "weather = weather.set_index('DateTime').resample('30min').fillna(method = 'ffill')\\\n",
    "    .reset_index()"
   ]
  },
  {
   "cell_type": "code",
   "execution_count": 32,
   "metadata": {
    "collapsed": false
   },
   "outputs": [
    {
     "data": {
      "text/html": [
       "<div>\n",
       "<table border=\"1\" class=\"dataframe\">\n",
       "  <thead>\n",
       "    <tr style=\"text-align: right;\">\n",
       "      <th></th>\n",
       "      <th>DateTime</th>\n",
       "      <th>temperature</th>\n",
       "      <th>humidity</th>\n",
       "      <th>cloudCover</th>\n",
       "      <th>pressure</th>\n",
       "    </tr>\n",
       "  </thead>\n",
       "  <tbody>\n",
       "    <tr>\n",
       "      <th>0</th>\n",
       "      <td>2011-11-01 00:00:00</td>\n",
       "      <td>13.54</td>\n",
       "      <td>0.87</td>\n",
       "      <td>0.27</td>\n",
       "      <td>1008.01</td>\n",
       "    </tr>\n",
       "    <tr>\n",
       "      <th>1</th>\n",
       "      <td>2011-11-01 00:30:00</td>\n",
       "      <td>13.54</td>\n",
       "      <td>0.87</td>\n",
       "      <td>0.27</td>\n",
       "      <td>1008.01</td>\n",
       "    </tr>\n",
       "    <tr>\n",
       "      <th>2</th>\n",
       "      <td>2011-11-01 01:00:00</td>\n",
       "      <td>12.74</td>\n",
       "      <td>0.93</td>\n",
       "      <td>0.32</td>\n",
       "      <td>1007.76</td>\n",
       "    </tr>\n",
       "    <tr>\n",
       "      <th>3</th>\n",
       "      <td>2011-11-01 01:30:00</td>\n",
       "      <td>12.74</td>\n",
       "      <td>0.93</td>\n",
       "      <td>0.32</td>\n",
       "      <td>1007.76</td>\n",
       "    </tr>\n",
       "    <tr>\n",
       "      <th>4</th>\n",
       "      <td>2011-11-01 02:00:00</td>\n",
       "      <td>13.68</td>\n",
       "      <td>0.91</td>\n",
       "      <td>0.25</td>\n",
       "      <td>1006.97</td>\n",
       "    </tr>\n",
       "  </tbody>\n",
       "</table>\n",
       "</div>"
      ],
      "text/plain": [
       "             DateTime  temperature  humidity  cloudCover  pressure\n",
       "0 2011-11-01 00:00:00        13.54      0.87        0.27   1008.01\n",
       "1 2011-11-01 00:30:00        13.54      0.87        0.27   1008.01\n",
       "2 2011-11-01 01:00:00        12.74      0.93        0.32   1007.76\n",
       "3 2011-11-01 01:30:00        12.74      0.93        0.32   1007.76\n",
       "4 2011-11-01 02:00:00        13.68      0.91        0.25   1006.97"
      ]
     },
     "execution_count": 32,
     "metadata": {},
     "output_type": "execute_result"
    }
   ],
   "source": [
    "weather.head()"
   ]
  },
  {
   "cell_type": "code",
   "execution_count": 33,
   "metadata": {
    "collapsed": false
   },
   "outputs": [],
   "source": [
    "df = df.merge(weather, how = 'left', on = 'DateTime')"
   ]
  },
  {
   "cell_type": "code",
   "execution_count": 34,
   "metadata": {
    "collapsed": false
   },
   "outputs": [
    {
     "data": {
      "text/html": [
       "<div>\n",
       "<table border=\"1\" class=\"dataframe\">\n",
       "  <thead>\n",
       "    <tr style=\"text-align: right;\">\n",
       "      <th></th>\n",
       "      <th>DateTime</th>\n",
       "      <th>User_group</th>\n",
       "      <th>mean</th>\n",
       "      <th>Tariff_value</th>\n",
       "      <th>Date</th>\n",
       "      <th>Holiday</th>\n",
       "      <th>temperature</th>\n",
       "      <th>humidity</th>\n",
       "      <th>cloudCover</th>\n",
       "      <th>pressure</th>\n",
       "    </tr>\n",
       "  </thead>\n",
       "  <tbody>\n",
       "    <tr>\n",
       "      <th>57972</th>\n",
       "      <td>2012-10-11 08:00:00</td>\n",
       "      <td>ToU</td>\n",
       "      <td>0.205669</td>\n",
       "      <td>14.228</td>\n",
       "      <td>2012-10-11</td>\n",
       "      <td>0</td>\n",
       "      <td>10.84</td>\n",
       "      <td>0.85</td>\n",
       "      <td>0.77</td>\n",
       "      <td>1005.95</td>\n",
       "    </tr>\n",
       "    <tr>\n",
       "      <th>13860</th>\n",
       "      <td>2013-08-22 21:00:00</td>\n",
       "      <td>ToU</td>\n",
       "      <td>0.228711</td>\n",
       "      <td>11.760</td>\n",
       "      <td>2013-08-22</td>\n",
       "      <td>0</td>\n",
       "      <td>18.03</td>\n",
       "      <td>0.91</td>\n",
       "      <td>0.12</td>\n",
       "      <td>1018.95</td>\n",
       "    </tr>\n",
       "    <tr>\n",
       "      <th>21548</th>\n",
       "      <td>2012-05-08 07:00:00</td>\n",
       "      <td>ToU</td>\n",
       "      <td>0.194039</td>\n",
       "      <td>14.228</td>\n",
       "      <td>2012-05-08</td>\n",
       "      <td>0</td>\n",
       "      <td>11.52</td>\n",
       "      <td>0.93</td>\n",
       "      <td>0.60</td>\n",
       "      <td>1007.43</td>\n",
       "    </tr>\n",
       "    <tr>\n",
       "      <th>49844</th>\n",
       "      <td>2012-04-14 18:30:00</td>\n",
       "      <td>ToU</td>\n",
       "      <td>0.335103</td>\n",
       "      <td>14.228</td>\n",
       "      <td>2012-04-14</td>\n",
       "      <td>0</td>\n",
       "      <td>9.98</td>\n",
       "      <td>0.56</td>\n",
       "      <td>0.32</td>\n",
       "      <td>1009.28</td>\n",
       "    </tr>\n",
       "    <tr>\n",
       "      <th>26817</th>\n",
       "      <td>2013-10-08 17:30:00</td>\n",
       "      <td>Std</td>\n",
       "      <td>0.273431</td>\n",
       "      <td>11.760</td>\n",
       "      <td>2013-10-08</td>\n",
       "      <td>0</td>\n",
       "      <td>18.08</td>\n",
       "      <td>0.79</td>\n",
       "      <td>0.75</td>\n",
       "      <td>1023.96</td>\n",
       "    </tr>\n",
       "  </tbody>\n",
       "</table>\n",
       "</div>"
      ],
      "text/plain": [
       "                 DateTime User_group      mean  Tariff_value       Date  \\\n",
       "57972 2012-10-11 08:00:00        ToU  0.205669        14.228 2012-10-11   \n",
       "13860 2013-08-22 21:00:00        ToU  0.228711        11.760 2013-08-22   \n",
       "21548 2012-05-08 07:00:00        ToU  0.194039        14.228 2012-05-08   \n",
       "49844 2012-04-14 18:30:00        ToU  0.335103        14.228 2012-04-14   \n",
       "26817 2013-10-08 17:30:00        Std  0.273431        11.760 2013-10-08   \n",
       "\n",
       "       Holiday  temperature  humidity  cloudCover  pressure  \n",
       "57972        0        10.84      0.85        0.77   1005.95  \n",
       "13860        0        18.03      0.91        0.12   1018.95  \n",
       "21548        0        11.52      0.93        0.60   1007.43  \n",
       "49844        0         9.98      0.56        0.32   1009.28  \n",
       "26817        0        18.08      0.79        0.75   1023.96  "
      ]
     },
     "execution_count": 34,
     "metadata": {},
     "output_type": "execute_result"
    }
   ],
   "source": [
    "df.sample(5)"
   ]
  },
  {
   "cell_type": "markdown",
   "metadata": {
    "collapsed": true
   },
   "source": [
    "Now that we have added all external variables our models need, we can save it to a csv file. "
   ]
  },
  {
   "cell_type": "code",
   "execution_count": 35,
   "metadata": {
    "collapsed": true
   },
   "outputs": [],
   "source": [
    "df.to_csv('outputs/tseries_model.csv')"
   ]
  },
  {
   "cell_type": "markdown",
   "metadata": {},
   "source": [
    "We will use this model as is in time series modelling. For feature models we need to add the features."
   ]
  },
  {
   "cell_type": "markdown",
   "metadata": {},
   "source": [
    "## 4.1.4. Feature engineering"
   ]
  },
  {
   "cell_type": "markdown",
   "metadata": {},
   "source": [
    "Feature models are an alternative for time series forecasting. They consist in applying conventional machine learning models to variables constructed from the data (e.g. mean consumption in the previous day). These are popular in the literature for electrical demand prediction [2], [4]."
   ]
  },
  {
   "cell_type": "markdown",
   "metadata": {},
   "source": [
    "We will derive the following features:\n",
    "\n",
    "-Mean aggregate demand per hour in the previous day (1 variable).\n",
    "\n",
    "-Aggregate demand in the previous day at the same time and at the previous 3 time steps (4 variables).\n",
    "\n",
    "-Mean value of the aggregate demand of the previous 3 days at the same time and at the previous 3 time steps (4 variables).\n",
    "\n",
    "-Mean value of the aggregate demand on the same day of week of the previous 3 weeks at the same time and at the previous 3 time steps (4 variables).\n",
    "\n",
    "In total we have 13 derived features.\n",
    "\n",
    "Furthermore, we will include weather and time variables in the model:\n",
    "\n",
    "-Time (30-min resolution)\n",
    "\n",
    "-Day of week (7 levels)\n",
    "\n",
    "-Month (12 levels)\n",
    "\n",
    "-Holiday (binary)\n",
    "\n",
    "-Temperature (ºC, continuous)\n",
    "\n",
    "-Relative Humidity (%, continuous)\n",
    "\n",
    "-Cloud cover (%, continuous)\n",
    "\n",
    "-Atmospheric Pressure (mbar, continuous)\n",
    "\n",
    "These variables have been calculated in Section 1 and stored in 'weather_no_na.csv'.\n",
    "\n",
    "And the last variable to be included in the model:\n",
    "-Tariff (p/kWh)\n",
    "\n",
    "Thus, in total we will have 22 variables in our models.\n"
   ]
  },
  {
   "cell_type": "markdown",
   "metadata": {},
   "source": [
    "First, we will build the time variables."
   ]
  },
  {
   "cell_type": "markdown",
   "metadata": {},
   "source": [
    "Now it is easier to derive the consumption features."
   ]
  },
  {
   "cell_type": "markdown",
   "metadata": {},
   "source": [
    "#### Adding time variables"
   ]
  },
  {
   "cell_type": "code",
   "execution_count": 36,
   "metadata": {
    "collapsed": false
   },
   "outputs": [],
   "source": [
    "df['DoW'] = df['DateTime'].apply(lambda x: x.weekday())"
   ]
  },
  {
   "cell_type": "code",
   "execution_count": 37,
   "metadata": {
    "collapsed": true
   },
   "outputs": [],
   "source": [
    "df['Time'] = df['DateTime'].apply(lambda x: x.time())"
   ]
  },
  {
   "cell_type": "code",
   "execution_count": 38,
   "metadata": {
    "collapsed": true
   },
   "outputs": [],
   "source": [
    "df['Day'] = df['DateTime'].apply(lambda x: x.day)"
   ]
  },
  {
   "cell_type": "code",
   "execution_count": 39,
   "metadata": {
    "collapsed": true
   },
   "outputs": [],
   "source": [
    "df['Month']= df['DateTime'].apply(lambda x: x.month)"
   ]
  },
  {
   "cell_type": "code",
   "execution_count": 40,
   "metadata": {
    "collapsed": true
   },
   "outputs": [],
   "source": [
    "df['Year']= df['DateTime'].apply(lambda x: x.year)"
   ]
  },
  {
   "cell_type": "code",
   "execution_count": 41,
   "metadata": {
    "collapsed": false
   },
   "outputs": [
    {
     "data": {
      "text/html": [
       "<div>\n",
       "<table border=\"1\" class=\"dataframe\">\n",
       "  <thead>\n",
       "    <tr style=\"text-align: right;\">\n",
       "      <th></th>\n",
       "      <th>DateTime</th>\n",
       "      <th>User_group</th>\n",
       "      <th>mean</th>\n",
       "      <th>Tariff_value</th>\n",
       "      <th>Date</th>\n",
       "      <th>Holiday</th>\n",
       "      <th>temperature</th>\n",
       "      <th>humidity</th>\n",
       "      <th>cloudCover</th>\n",
       "      <th>pressure</th>\n",
       "      <th>DoW</th>\n",
       "      <th>Time</th>\n",
       "      <th>Day</th>\n",
       "      <th>Month</th>\n",
       "      <th>Year</th>\n",
       "    </tr>\n",
       "  </thead>\n",
       "  <tbody>\n",
       "    <tr>\n",
       "      <th>71394</th>\n",
       "      <td>2013-06-12 15:00:00</td>\n",
       "      <td>ToU</td>\n",
       "      <td>0.202382</td>\n",
       "      <td>3.990</td>\n",
       "      <td>2013-06-12</td>\n",
       "      <td>0</td>\n",
       "      <td>16.44</td>\n",
       "      <td>0.86</td>\n",
       "      <td>1.00</td>\n",
       "      <td>1011.31</td>\n",
       "      <td>2</td>\n",
       "      <td>15:00:00</td>\n",
       "      <td>12</td>\n",
       "      <td>6</td>\n",
       "      <td>2013</td>\n",
       "    </tr>\n",
       "    <tr>\n",
       "      <th>36270</th>\n",
       "      <td>2013-07-10 15:00:00</td>\n",
       "      <td>ToU</td>\n",
       "      <td>0.144002</td>\n",
       "      <td>11.760</td>\n",
       "      <td>2013-07-10</td>\n",
       "      <td>0</td>\n",
       "      <td>22.62</td>\n",
       "      <td>0.54</td>\n",
       "      <td>0.31</td>\n",
       "      <td>1024.67</td>\n",
       "      <td>2</td>\n",
       "      <td>15:00:00</td>\n",
       "      <td>10</td>\n",
       "      <td>7</td>\n",
       "      <td>2013</td>\n",
       "    </tr>\n",
       "    <tr>\n",
       "      <th>42660</th>\n",
       "      <td>2013-04-04 02:00:00</td>\n",
       "      <td>Std</td>\n",
       "      <td>0.157437</td>\n",
       "      <td>11.760</td>\n",
       "      <td>2013-04-04</td>\n",
       "      <td>0</td>\n",
       "      <td>1.87</td>\n",
       "      <td>0.76</td>\n",
       "      <td>0.20</td>\n",
       "      <td>1014.82</td>\n",
       "      <td>3</td>\n",
       "      <td>02:00:00</td>\n",
       "      <td>4</td>\n",
       "      <td>4</td>\n",
       "      <td>2013</td>\n",
       "    </tr>\n",
       "    <tr>\n",
       "      <th>50504</th>\n",
       "      <td>2013-04-19 22:00:00</td>\n",
       "      <td>ToU</td>\n",
       "      <td>0.226941</td>\n",
       "      <td>11.760</td>\n",
       "      <td>2013-04-19</td>\n",
       "      <td>0</td>\n",
       "      <td>6.26</td>\n",
       "      <td>0.83</td>\n",
       "      <td>0.00</td>\n",
       "      <td>1032.81</td>\n",
       "      <td>4</td>\n",
       "      <td>22:00:00</td>\n",
       "      <td>19</td>\n",
       "      <td>4</td>\n",
       "      <td>2013</td>\n",
       "    </tr>\n",
       "    <tr>\n",
       "      <th>9380</th>\n",
       "      <td>2012-05-10 03:30:00</td>\n",
       "      <td>Std</td>\n",
       "      <td>0.109917</td>\n",
       "      <td>14.228</td>\n",
       "      <td>2012-05-10</td>\n",
       "      <td>0</td>\n",
       "      <td>15.35</td>\n",
       "      <td>0.93</td>\n",
       "      <td>0.85</td>\n",
       "      <td>1006.60</td>\n",
       "      <td>3</td>\n",
       "      <td>03:30:00</td>\n",
       "      <td>10</td>\n",
       "      <td>5</td>\n",
       "      <td>2012</td>\n",
       "    </tr>\n",
       "  </tbody>\n",
       "</table>\n",
       "</div>"
      ],
      "text/plain": [
       "                 DateTime User_group      mean  Tariff_value       Date  \\\n",
       "71394 2013-06-12 15:00:00        ToU  0.202382         3.990 2013-06-12   \n",
       "36270 2013-07-10 15:00:00        ToU  0.144002        11.760 2013-07-10   \n",
       "42660 2013-04-04 02:00:00        Std  0.157437        11.760 2013-04-04   \n",
       "50504 2013-04-19 22:00:00        ToU  0.226941        11.760 2013-04-19   \n",
       "9380  2012-05-10 03:30:00        Std  0.109917        14.228 2012-05-10   \n",
       "\n",
       "       Holiday  temperature  humidity  cloudCover  pressure  DoW      Time  \\\n",
       "71394        0        16.44      0.86        1.00   1011.31    2  15:00:00   \n",
       "36270        0        22.62      0.54        0.31   1024.67    2  15:00:00   \n",
       "42660        0         1.87      0.76        0.20   1014.82    3  02:00:00   \n",
       "50504        0         6.26      0.83        0.00   1032.81    4  22:00:00   \n",
       "9380         0        15.35      0.93        0.85   1006.60    3  03:30:00   \n",
       "\n",
       "       Day  Month  Year  \n",
       "71394   12      6  2013  \n",
       "36270   10      7  2013  \n",
       "42660    4      4  2013  \n",
       "50504   19      4  2013  \n",
       "9380    10      5  2012  "
      ]
     },
     "execution_count": 41,
     "metadata": {},
     "output_type": "execute_result"
    }
   ],
   "source": [
    "df.sample(5)"
   ]
  },
  {
   "cell_type": "markdown",
   "metadata": {},
   "source": [
    "###### Mean aggregate demand per hour in the previous day (1 variable).\n",
    "\n",
    "First, we will calculate the daily mean aggregating by 'Date'. Then we will add one day to the 'Date' variable of our new DataFrame and join it with the main DataFrame df."
   ]
  },
  {
   "cell_type": "code",
   "execution_count": 42,
   "metadata": {
    "collapsed": false
   },
   "outputs": [],
   "source": [
    "daily_mean = df.groupby(['Date', 'User_group']).agg({'mean': 'mean'}).reset_index()"
   ]
  },
  {
   "cell_type": "code",
   "execution_count": 43,
   "metadata": {
    "collapsed": true
   },
   "outputs": [],
   "source": [
    "daily_mean['Date'] = pd.to_datetime(daily_mean['Date'])"
   ]
  },
  {
   "cell_type": "code",
   "execution_count": 44,
   "metadata": {
    "collapsed": false
   },
   "outputs": [
    {
     "data": {
      "text/plain": [
       "pandas.tslib.Timestamp"
      ]
     },
     "execution_count": 44,
     "metadata": {},
     "output_type": "execute_result"
    }
   ],
   "source": [
    "type(daily_mean['Date'][2])"
   ]
  },
  {
   "cell_type": "code",
   "execution_count": 45,
   "metadata": {
    "collapsed": false
   },
   "outputs": [
    {
     "data": {
      "text/html": [
       "<div>\n",
       "<table border=\"1\" class=\"dataframe\">\n",
       "  <thead>\n",
       "    <tr style=\"text-align: right;\">\n",
       "      <th></th>\n",
       "      <th>Date</th>\n",
       "      <th>User_group</th>\n",
       "      <th>mean</th>\n",
       "    </tr>\n",
       "  </thead>\n",
       "  <tbody>\n",
       "    <tr>\n",
       "      <th>565</th>\n",
       "      <td>2012-08-31</td>\n",
       "      <td>ToU</td>\n",
       "      <td>0.161208</td>\n",
       "    </tr>\n",
       "    <tr>\n",
       "      <th>668</th>\n",
       "      <td>2012-10-22</td>\n",
       "      <td>Std</td>\n",
       "      <td>0.215742</td>\n",
       "    </tr>\n",
       "    <tr>\n",
       "      <th>427</th>\n",
       "      <td>2012-06-23</td>\n",
       "      <td>ToU</td>\n",
       "      <td>0.168983</td>\n",
       "    </tr>\n",
       "    <tr>\n",
       "      <th>495</th>\n",
       "      <td>2012-07-27</td>\n",
       "      <td>ToU</td>\n",
       "      <td>0.162748</td>\n",
       "    </tr>\n",
       "    <tr>\n",
       "      <th>1641</th>\n",
       "      <td>2014-02-20</td>\n",
       "      <td>ToU</td>\n",
       "      <td>0.204214</td>\n",
       "    </tr>\n",
       "  </tbody>\n",
       "</table>\n",
       "</div>"
      ],
      "text/plain": [
       "           Date User_group      mean\n",
       "565  2012-08-31        ToU  0.161208\n",
       "668  2012-10-22        Std  0.215742\n",
       "427  2012-06-23        ToU  0.168983\n",
       "495  2012-07-27        ToU  0.162748\n",
       "1641 2014-02-20        ToU  0.204214"
      ]
     },
     "execution_count": 45,
     "metadata": {},
     "output_type": "execute_result"
    }
   ],
   "source": [
    "daily_mean.sample(5)"
   ]
  },
  {
   "cell_type": "code",
   "execution_count": 46,
   "metadata": {
    "collapsed": false
   },
   "outputs": [],
   "source": [
    "daily_mean['Date'] = daily_mean['Date'] + datetime.timedelta(days=1)"
   ]
  },
  {
   "cell_type": "code",
   "execution_count": 47,
   "metadata": {
    "collapsed": false
   },
   "outputs": [],
   "source": [
    "df = df.merge(daily_mean, how = 'left', on = ['Date','User_group'])"
   ]
  },
  {
   "cell_type": "code",
   "execution_count": 48,
   "metadata": {
    "collapsed": false
   },
   "outputs": [],
   "source": [
    "df = df.rename(columns = {'mean_x' : 'mean_cons',\n",
    "          'mean_y' : 'mean_prev_day'})"
   ]
  },
  {
   "cell_type": "code",
   "execution_count": 49,
   "metadata": {
    "collapsed": false
   },
   "outputs": [
    {
     "data": {
      "text/html": [
       "<div>\n",
       "<table border=\"1\" class=\"dataframe\">\n",
       "  <thead>\n",
       "    <tr style=\"text-align: right;\">\n",
       "      <th></th>\n",
       "      <th>DateTime</th>\n",
       "      <th>User_group</th>\n",
       "      <th>mean_cons</th>\n",
       "      <th>Tariff_value</th>\n",
       "      <th>Date</th>\n",
       "      <th>Holiday</th>\n",
       "      <th>temperature</th>\n",
       "      <th>humidity</th>\n",
       "      <th>cloudCover</th>\n",
       "      <th>pressure</th>\n",
       "      <th>DoW</th>\n",
       "      <th>Time</th>\n",
       "      <th>Day</th>\n",
       "      <th>Month</th>\n",
       "      <th>Year</th>\n",
       "      <th>mean_prev_day</th>\n",
       "    </tr>\n",
       "  </thead>\n",
       "  <tbody>\n",
       "    <tr>\n",
       "      <th>15312</th>\n",
       "      <td>2012-05-13 15:00:00</td>\n",
       "      <td>Std</td>\n",
       "      <td>0.219380</td>\n",
       "      <td>14.228</td>\n",
       "      <td>2012-05-13</td>\n",
       "      <td>0</td>\n",
       "      <td>16.21</td>\n",
       "      <td>0.41</td>\n",
       "      <td>0.42</td>\n",
       "      <td>1027.68</td>\n",
       "      <td>6</td>\n",
       "      <td>15:00:00</td>\n",
       "      <td>13</td>\n",
       "      <td>5</td>\n",
       "      <td>2012</td>\n",
       "      <td>0.193864</td>\n",
       "    </tr>\n",
       "    <tr>\n",
       "      <th>37134</th>\n",
       "      <td>2012-05-21 15:30:00</td>\n",
       "      <td>ToU</td>\n",
       "      <td>0.189677</td>\n",
       "      <td>14.228</td>\n",
       "      <td>2012-05-21</td>\n",
       "      <td>0</td>\n",
       "      <td>15.49</td>\n",
       "      <td>0.72</td>\n",
       "      <td>0.43</td>\n",
       "      <td>1009.22</td>\n",
       "      <td>0</td>\n",
       "      <td>15:30:00</td>\n",
       "      <td>21</td>\n",
       "      <td>5</td>\n",
       "      <td>2012</td>\n",
       "      <td>0.195976</td>\n",
       "    </tr>\n",
       "    <tr>\n",
       "      <th>41180</th>\n",
       "      <td>2013-09-19 07:30:00</td>\n",
       "      <td>Std</td>\n",
       "      <td>0.208070</td>\n",
       "      <td>11.760</td>\n",
       "      <td>2013-09-19</td>\n",
       "      <td>0</td>\n",
       "      <td>9.60</td>\n",
       "      <td>0.82</td>\n",
       "      <td>0.75</td>\n",
       "      <td>1012.26</td>\n",
       "      <td>3</td>\n",
       "      <td>07:30:00</td>\n",
       "      <td>19</td>\n",
       "      <td>9</td>\n",
       "      <td>2013</td>\n",
       "      <td>0.188706</td>\n",
       "    </tr>\n",
       "    <tr>\n",
       "      <th>11533</th>\n",
       "      <td>2013-12-11 16:00:00</td>\n",
       "      <td>ToU</td>\n",
       "      <td>0.242378</td>\n",
       "      <td>11.760</td>\n",
       "      <td>2013-12-11</td>\n",
       "      <td>0</td>\n",
       "      <td>4.27</td>\n",
       "      <td>0.92</td>\n",
       "      <td>0.00</td>\n",
       "      <td>1028.16</td>\n",
       "      <td>2</td>\n",
       "      <td>16:00:00</td>\n",
       "      <td>11</td>\n",
       "      <td>12</td>\n",
       "      <td>2013</td>\n",
       "      <td>0.218056</td>\n",
       "    </tr>\n",
       "    <tr>\n",
       "      <th>37925</th>\n",
       "      <td>2012-10-28 05:30:00</td>\n",
       "      <td>Std</td>\n",
       "      <td>0.131853</td>\n",
       "      <td>14.228</td>\n",
       "      <td>2012-10-28</td>\n",
       "      <td>0</td>\n",
       "      <td>1.91</td>\n",
       "      <td>0.92</td>\n",
       "      <td>0.13</td>\n",
       "      <td>1018.52</td>\n",
       "      <td>6</td>\n",
       "      <td>05:30:00</td>\n",
       "      <td>28</td>\n",
       "      <td>10</td>\n",
       "      <td>2012</td>\n",
       "      <td>0.237870</td>\n",
       "    </tr>\n",
       "  </tbody>\n",
       "</table>\n",
       "</div>"
      ],
      "text/plain": [
       "                 DateTime User_group  mean_cons  Tariff_value       Date  \\\n",
       "15312 2012-05-13 15:00:00        Std   0.219380        14.228 2012-05-13   \n",
       "37134 2012-05-21 15:30:00        ToU   0.189677        14.228 2012-05-21   \n",
       "41180 2013-09-19 07:30:00        Std   0.208070        11.760 2013-09-19   \n",
       "11533 2013-12-11 16:00:00        ToU   0.242378        11.760 2013-12-11   \n",
       "37925 2012-10-28 05:30:00        Std   0.131853        14.228 2012-10-28   \n",
       "\n",
       "       Holiday  temperature  humidity  cloudCover  pressure  DoW      Time  \\\n",
       "15312        0        16.21      0.41        0.42   1027.68    6  15:00:00   \n",
       "37134        0        15.49      0.72        0.43   1009.22    0  15:30:00   \n",
       "41180        0         9.60      0.82        0.75   1012.26    3  07:30:00   \n",
       "11533        0         4.27      0.92        0.00   1028.16    2  16:00:00   \n",
       "37925        0         1.91      0.92        0.13   1018.52    6  05:30:00   \n",
       "\n",
       "       Day  Month  Year  mean_prev_day  \n",
       "15312   13      5  2012       0.193864  \n",
       "37134   21      5  2012       0.195976  \n",
       "41180   19      9  2013       0.188706  \n",
       "11533   11     12  2013       0.218056  \n",
       "37925   28     10  2012       0.237870  "
      ]
     },
     "execution_count": 49,
     "metadata": {},
     "output_type": "execute_result"
    }
   ],
   "source": [
    "df.sample(5)"
   ]
  },
  {
   "cell_type": "markdown",
   "metadata": {},
   "source": [
    "###### Aggregate demand in the previous day at the same time and at the previous 3 time steps (4 variables)."
   ]
  },
  {
   "cell_type": "code",
   "execution_count": 50,
   "metadata": {
    "collapsed": false
   },
   "outputs": [
    {
     "data": {
      "text/html": [
       "<div>\n",
       "<table border=\"1\" class=\"dataframe\">\n",
       "  <thead>\n",
       "    <tr style=\"text-align: right;\">\n",
       "      <th></th>\n",
       "      <th>DateTime</th>\n",
       "      <th>User_group</th>\n",
       "      <th>mean_cons</th>\n",
       "      <th>Tariff_value</th>\n",
       "      <th>Date</th>\n",
       "      <th>Holiday</th>\n",
       "      <th>temperature</th>\n",
       "      <th>humidity</th>\n",
       "      <th>cloudCover</th>\n",
       "      <th>pressure</th>\n",
       "      <th>DoW</th>\n",
       "      <th>Time</th>\n",
       "      <th>Day</th>\n",
       "      <th>Month</th>\n",
       "      <th>Year</th>\n",
       "      <th>mean_prev_day</th>\n",
       "    </tr>\n",
       "  </thead>\n",
       "  <tbody>\n",
       "    <tr>\n",
       "      <th>0</th>\n",
       "      <td>2012-10-15 21:00:00</td>\n",
       "      <td>Std</td>\n",
       "      <td>0.301802</td>\n",
       "      <td>14.228</td>\n",
       "      <td>2012-10-15</td>\n",
       "      <td>0</td>\n",
       "      <td>11.80</td>\n",
       "      <td>0.82</td>\n",
       "      <td>0.38</td>\n",
       "      <td>1000.87</td>\n",
       "      <td>0</td>\n",
       "      <td>21:00:00</td>\n",
       "      <td>15</td>\n",
       "      <td>10</td>\n",
       "      <td>2012</td>\n",
       "      <td>0.227159</td>\n",
       "    </tr>\n",
       "    <tr>\n",
       "      <th>1</th>\n",
       "      <td>2012-10-21 21:00:00</td>\n",
       "      <td>Std</td>\n",
       "      <td>0.289203</td>\n",
       "      <td>14.228</td>\n",
       "      <td>2012-10-21</td>\n",
       "      <td>0</td>\n",
       "      <td>12.00</td>\n",
       "      <td>0.96</td>\n",
       "      <td>0.87</td>\n",
       "      <td>1017.99</td>\n",
       "      <td>6</td>\n",
       "      <td>21:00:00</td>\n",
       "      <td>21</td>\n",
       "      <td>10</td>\n",
       "      <td>2012</td>\n",
       "      <td>0.214069</td>\n",
       "    </tr>\n",
       "    <tr>\n",
       "      <th>2</th>\n",
       "      <td>2012-10-27 13:00:00</td>\n",
       "      <td>Std</td>\n",
       "      <td>0.263447</td>\n",
       "      <td>14.228</td>\n",
       "      <td>2012-10-27</td>\n",
       "      <td>0</td>\n",
       "      <td>7.46</td>\n",
       "      <td>0.73</td>\n",
       "      <td>0.57</td>\n",
       "      <td>1016.85</td>\n",
       "      <td>5</td>\n",
       "      <td>13:00:00</td>\n",
       "      <td>27</td>\n",
       "      <td>10</td>\n",
       "      <td>2012</td>\n",
       "      <td>0.225192</td>\n",
       "    </tr>\n",
       "    <tr>\n",
       "      <th>3</th>\n",
       "      <td>2012-10-28 17:30:00</td>\n",
       "      <td>Std</td>\n",
       "      <td>0.378239</td>\n",
       "      <td>14.228</td>\n",
       "      <td>2012-10-28</td>\n",
       "      <td>0</td>\n",
       "      <td>9.09</td>\n",
       "      <td>0.86</td>\n",
       "      <td>0.43</td>\n",
       "      <td>1012.33</td>\n",
       "      <td>6</td>\n",
       "      <td>17:30:00</td>\n",
       "      <td>28</td>\n",
       "      <td>10</td>\n",
       "      <td>2012</td>\n",
       "      <td>0.237870</td>\n",
       "    </tr>\n",
       "    <tr>\n",
       "      <th>4</th>\n",
       "      <td>2012-11-04 00:30:00</td>\n",
       "      <td>Std</td>\n",
       "      <td>0.225930</td>\n",
       "      <td>14.228</td>\n",
       "      <td>2012-11-04</td>\n",
       "      <td>0</td>\n",
       "      <td>3.08</td>\n",
       "      <td>0.91</td>\n",
       "      <td>0.13</td>\n",
       "      <td>999.88</td>\n",
       "      <td>6</td>\n",
       "      <td>00:30:00</td>\n",
       "      <td>4</td>\n",
       "      <td>11</td>\n",
       "      <td>2012</td>\n",
       "      <td>0.240950</td>\n",
       "    </tr>\n",
       "  </tbody>\n",
       "</table>\n",
       "</div>"
      ],
      "text/plain": [
       "             DateTime User_group  mean_cons  Tariff_value       Date  Holiday  \\\n",
       "0 2012-10-15 21:00:00        Std   0.301802        14.228 2012-10-15        0   \n",
       "1 2012-10-21 21:00:00        Std   0.289203        14.228 2012-10-21        0   \n",
       "2 2012-10-27 13:00:00        Std   0.263447        14.228 2012-10-27        0   \n",
       "3 2012-10-28 17:30:00        Std   0.378239        14.228 2012-10-28        0   \n",
       "4 2012-11-04 00:30:00        Std   0.225930        14.228 2012-11-04        0   \n",
       "\n",
       "   temperature  humidity  cloudCover  pressure  DoW      Time  Day  Month  \\\n",
       "0        11.80      0.82        0.38   1000.87    0  21:00:00   15     10   \n",
       "1        12.00      0.96        0.87   1017.99    6  21:00:00   21     10   \n",
       "2         7.46      0.73        0.57   1016.85    5  13:00:00   27     10   \n",
       "3         9.09      0.86        0.43   1012.33    6  17:30:00   28     10   \n",
       "4         3.08      0.91        0.13    999.88    6  00:30:00    4     11   \n",
       "\n",
       "   Year  mean_prev_day  \n",
       "0  2012       0.227159  \n",
       "1  2012       0.214069  \n",
       "2  2012       0.225192  \n",
       "3  2012       0.237870  \n",
       "4  2012       0.240950  "
      ]
     },
     "execution_count": 50,
     "metadata": {},
     "output_type": "execute_result"
    }
   ],
   "source": [
    "df.head()"
   ]
  },
  {
   "cell_type": "code",
   "execution_count": 51,
   "metadata": {
    "collapsed": true
   },
   "outputs": [],
   "source": [
    "def prev_ts(df_in, initial, final, step):\n",
    "    #Both initial and final are included in the loop\n",
    "    df_out = df_in[['DateTime', 'User_group']].copy()\n",
    "    for i in range(initial, final + 1, step):\n",
    "        aux = df_in[['DateTime', 'User_group', 'mean_cons']].copy()\n",
    "        aux['DateTime'] = aux['DateTime'] + datetime.timedelta(minutes = i)\n",
    "        df_out = df_out.\\\n",
    "            merge(aux, how = 'left', on = ['DateTime','User_group'], suffixes = ('','_-%d' %(i)))\n",
    "    return(df_out)"
   ]
  },
  {
   "cell_type": "code",
   "execution_count": 52,
   "metadata": {
    "collapsed": false
   },
   "outputs": [],
   "source": [
    "tmp = prev_ts(df, 22*60+30, 24*60, 30)\n",
    "df = df.merge(tmp[['DateTime','User_group','mean_cons_-1380', 'mean_cons_-1410', 'mean_cons_-1440']],\n",
    "         on = ['DateTime','User_group'], suffixes = ('',''))"
   ]
  },
  {
   "cell_type": "code",
   "execution_count": 53,
   "metadata": {
    "collapsed": false
   },
   "outputs": [
    {
     "data": {
      "text/html": [
       "<div>\n",
       "<table border=\"1\" class=\"dataframe\">\n",
       "  <thead>\n",
       "    <tr style=\"text-align: right;\">\n",
       "      <th></th>\n",
       "      <th>DateTime</th>\n",
       "      <th>User_group</th>\n",
       "      <th>mean_cons</th>\n",
       "      <th>Tariff_value</th>\n",
       "      <th>Date</th>\n",
       "      <th>Holiday</th>\n",
       "      <th>temperature</th>\n",
       "      <th>humidity</th>\n",
       "      <th>cloudCover</th>\n",
       "      <th>pressure</th>\n",
       "      <th>DoW</th>\n",
       "      <th>Time</th>\n",
       "      <th>Day</th>\n",
       "      <th>Month</th>\n",
       "      <th>Year</th>\n",
       "      <th>mean_prev_day</th>\n",
       "      <th>mean_cons_-1380</th>\n",
       "      <th>mean_cons_-1410</th>\n",
       "      <th>mean_cons_-1440</th>\n",
       "    </tr>\n",
       "  </thead>\n",
       "  <tbody>\n",
       "    <tr>\n",
       "      <th>77739</th>\n",
       "      <td>2013-04-01 19:00:00</td>\n",
       "      <td>ToU</td>\n",
       "      <td>0.335453</td>\n",
       "      <td>11.760</td>\n",
       "      <td>2013-04-01</td>\n",
       "      <td>1</td>\n",
       "      <td>2.98</td>\n",
       "      <td>0.55</td>\n",
       "      <td>0.24</td>\n",
       "      <td>1011.30</td>\n",
       "      <td>0</td>\n",
       "      <td>19:00:00</td>\n",
       "      <td>1</td>\n",
       "      <td>4</td>\n",
       "      <td>2013</td>\n",
       "      <td>0.232052</td>\n",
       "      <td>0.327668</td>\n",
       "      <td>0.331465</td>\n",
       "      <td>0.312940</td>\n",
       "    </tr>\n",
       "    <tr>\n",
       "      <th>30016</th>\n",
       "      <td>2012-05-18 23:00:00</td>\n",
       "      <td>Std</td>\n",
       "      <td>0.170107</td>\n",
       "      <td>14.228</td>\n",
       "      <td>2012-05-18</td>\n",
       "      <td>0</td>\n",
       "      <td>12.46</td>\n",
       "      <td>0.87</td>\n",
       "      <td>0.80</td>\n",
       "      <td>1006.01</td>\n",
       "      <td>4</td>\n",
       "      <td>23:00:00</td>\n",
       "      <td>18</td>\n",
       "      <td>5</td>\n",
       "      <td>2012</td>\n",
       "      <td>0.187861</td>\n",
       "      <td>0.133632</td>\n",
       "      <td>0.147103</td>\n",
       "      <td>0.168100</td>\n",
       "    </tr>\n",
       "    <tr>\n",
       "      <th>74989</th>\n",
       "      <td>2013-11-06 18:00:00</td>\n",
       "      <td>ToU</td>\n",
       "      <td>0.324134</td>\n",
       "      <td>11.760</td>\n",
       "      <td>2013-11-06</td>\n",
       "      <td>0</td>\n",
       "      <td>14.75</td>\n",
       "      <td>0.89</td>\n",
       "      <td>1.00</td>\n",
       "      <td>998.79</td>\n",
       "      <td>2</td>\n",
       "      <td>18:00:00</td>\n",
       "      <td>6</td>\n",
       "      <td>11</td>\n",
       "      <td>2013</td>\n",
       "      <td>0.215806</td>\n",
       "      <td>0.343887</td>\n",
       "      <td>0.345528</td>\n",
       "      <td>0.317330</td>\n",
       "    </tr>\n",
       "    <tr>\n",
       "      <th>51400</th>\n",
       "      <td>2011-12-17 17:00:00</td>\n",
       "      <td>ToU</td>\n",
       "      <td>0.356791</td>\n",
       "      <td>14.228</td>\n",
       "      <td>2011-12-17</td>\n",
       "      <td>0</td>\n",
       "      <td>5.01</td>\n",
       "      <td>0.78</td>\n",
       "      <td>0.66</td>\n",
       "      <td>1009.74</td>\n",
       "      <td>5</td>\n",
       "      <td>17:00:00</td>\n",
       "      <td>17</td>\n",
       "      <td>12</td>\n",
       "      <td>2011</td>\n",
       "      <td>0.266792</td>\n",
       "      <td>0.434357</td>\n",
       "      <td>0.358881</td>\n",
       "      <td>0.306643</td>\n",
       "    </tr>\n",
       "    <tr>\n",
       "      <th>35304</th>\n",
       "      <td>2013-12-28 12:30:00</td>\n",
       "      <td>Std</td>\n",
       "      <td>0.262130</td>\n",
       "      <td>11.760</td>\n",
       "      <td>2013-12-28</td>\n",
       "      <td>0</td>\n",
       "      <td>7.68</td>\n",
       "      <td>0.67</td>\n",
       "      <td>0.31</td>\n",
       "      <td>997.99</td>\n",
       "      <td>5</td>\n",
       "      <td>12:30:00</td>\n",
       "      <td>28</td>\n",
       "      <td>12</td>\n",
       "      <td>2013</td>\n",
       "      <td>0.246842</td>\n",
       "      <td>0.286465</td>\n",
       "      <td>0.286564</td>\n",
       "      <td>0.283092</td>\n",
       "    </tr>\n",
       "  </tbody>\n",
       "</table>\n",
       "</div>"
      ],
      "text/plain": [
       "                 DateTime User_group  mean_cons  Tariff_value       Date  \\\n",
       "77739 2013-04-01 19:00:00        ToU   0.335453        11.760 2013-04-01   \n",
       "30016 2012-05-18 23:00:00        Std   0.170107        14.228 2012-05-18   \n",
       "74989 2013-11-06 18:00:00        ToU   0.324134        11.760 2013-11-06   \n",
       "51400 2011-12-17 17:00:00        ToU   0.356791        14.228 2011-12-17   \n",
       "35304 2013-12-28 12:30:00        Std   0.262130        11.760 2013-12-28   \n",
       "\n",
       "       Holiday  temperature  humidity  cloudCover  pressure  DoW      Time  \\\n",
       "77739        1         2.98      0.55        0.24   1011.30    0  19:00:00   \n",
       "30016        0        12.46      0.87        0.80   1006.01    4  23:00:00   \n",
       "74989        0        14.75      0.89        1.00    998.79    2  18:00:00   \n",
       "51400        0         5.01      0.78        0.66   1009.74    5  17:00:00   \n",
       "35304        0         7.68      0.67        0.31    997.99    5  12:30:00   \n",
       "\n",
       "       Day  Month  Year  mean_prev_day  mean_cons_-1380  mean_cons_-1410  \\\n",
       "77739    1      4  2013       0.232052         0.327668         0.331465   \n",
       "30016   18      5  2012       0.187861         0.133632         0.147103   \n",
       "74989    6     11  2013       0.215806         0.343887         0.345528   \n",
       "51400   17     12  2011       0.266792         0.434357         0.358881   \n",
       "35304   28     12  2013       0.246842         0.286465         0.286564   \n",
       "\n",
       "       mean_cons_-1440  \n",
       "77739         0.312940  \n",
       "30016         0.168100  \n",
       "74989         0.317330  \n",
       "51400         0.306643  \n",
       "35304         0.283092  "
      ]
     },
     "execution_count": 53,
     "metadata": {},
     "output_type": "execute_result"
    }
   ],
   "source": [
    "df.sample(5)"
   ]
  },
  {
   "cell_type": "markdown",
   "metadata": {},
   "source": [
    "###### Mean value of the aggregate demand of the previous 3 days at the same time and at the previous 3 time steps (4 variables)."
   ]
  },
  {
   "cell_type": "code",
   "execution_count": 54,
   "metadata": {
    "collapsed": false
   },
   "outputs": [],
   "source": [
    "aux2 = df[['DateTime', 'User_group']].copy()\n",
    "means_3d = pd.DataFrame(index=df.index)\n",
    "for h in range(0,4):\n",
    "    for d in range(1,4):\n",
    "        aux = df[['DateTime', 'User_group', 'mean_cons']].copy()\n",
    "        aux['DateTime'] = aux['DateTime'] + datetime.timedelta(minutes = d*24*60-h*30)\n",
    "        aux2 = aux2.\\\n",
    "            merge(aux, how = 'left', on = ['DateTime','User_group'])\n",
    "    means_3d = means_3d.join(aux2.mean(axis=1).rename('mean_last3d_-%d' %(h*30)))"
   ]
  },
  {
   "cell_type": "code",
   "execution_count": 55,
   "metadata": {
    "collapsed": false
   },
   "outputs": [
    {
     "data": {
      "text/html": [
       "<div>\n",
       "<table border=\"1\" class=\"dataframe\">\n",
       "  <thead>\n",
       "    <tr style=\"text-align: right;\">\n",
       "      <th></th>\n",
       "      <th>mean_last3d_-0</th>\n",
       "      <th>mean_last3d_-30</th>\n",
       "      <th>mean_last3d_-60</th>\n",
       "      <th>mean_last3d_-90</th>\n",
       "    </tr>\n",
       "  </thead>\n",
       "  <tbody>\n",
       "    <tr>\n",
       "      <th>0</th>\n",
       "      <td>0.286278</td>\n",
       "      <td>0.276157</td>\n",
       "      <td>0.264642</td>\n",
       "      <td>0.251189</td>\n",
       "    </tr>\n",
       "    <tr>\n",
       "      <th>1</th>\n",
       "      <td>0.276418</td>\n",
       "      <td>0.269546</td>\n",
       "      <td>0.258608</td>\n",
       "      <td>0.246133</td>\n",
       "    </tr>\n",
       "    <tr>\n",
       "      <th>2</th>\n",
       "      <td>0.209606</td>\n",
       "      <td>0.206111</td>\n",
       "      <td>0.204395</td>\n",
       "      <td>0.204098</td>\n",
       "    </tr>\n",
       "    <tr>\n",
       "      <th>3</th>\n",
       "      <td>0.348101</td>\n",
       "      <td>0.352302</td>\n",
       "      <td>0.352996</td>\n",
       "      <td>0.350607</td>\n",
       "    </tr>\n",
       "    <tr>\n",
       "      <th>4</th>\n",
       "      <td>0.203514</td>\n",
       "      <td>0.191968</td>\n",
       "      <td>0.181703</td>\n",
       "      <td>0.172780</td>\n",
       "    </tr>\n",
       "  </tbody>\n",
       "</table>\n",
       "</div>"
      ],
      "text/plain": [
       "   mean_last3d_-0  mean_last3d_-30  mean_last3d_-60  mean_last3d_-90\n",
       "0        0.286278         0.276157         0.264642         0.251189\n",
       "1        0.276418         0.269546         0.258608         0.246133\n",
       "2        0.209606         0.206111         0.204395         0.204098\n",
       "3        0.348101         0.352302         0.352996         0.350607\n",
       "4        0.203514         0.191968         0.181703         0.172780"
      ]
     },
     "execution_count": 55,
     "metadata": {},
     "output_type": "execute_result"
    }
   ],
   "source": [
    "means_3d.head()"
   ]
  },
  {
   "cell_type": "code",
   "execution_count": 56,
   "metadata": {
    "collapsed": false
   },
   "outputs": [],
   "source": [
    "df = df.join(means_3d)"
   ]
  },
  {
   "cell_type": "code",
   "execution_count": 57,
   "metadata": {
    "collapsed": false
   },
   "outputs": [
    {
     "data": {
      "text/html": [
       "<div>\n",
       "<table border=\"1\" class=\"dataframe\">\n",
       "  <thead>\n",
       "    <tr style=\"text-align: right;\">\n",
       "      <th></th>\n",
       "      <th>DateTime</th>\n",
       "      <th>User_group</th>\n",
       "      <th>mean_cons</th>\n",
       "      <th>Tariff_value</th>\n",
       "      <th>Date</th>\n",
       "      <th>Holiday</th>\n",
       "      <th>temperature</th>\n",
       "      <th>humidity</th>\n",
       "      <th>cloudCover</th>\n",
       "      <th>pressure</th>\n",
       "      <th>DoW</th>\n",
       "      <th>Time</th>\n",
       "      <th>Day</th>\n",
       "      <th>Month</th>\n",
       "      <th>Year</th>\n",
       "      <th>mean_prev_day</th>\n",
       "      <th>mean_cons_-1380</th>\n",
       "      <th>mean_cons_-1410</th>\n",
       "      <th>mean_cons_-1440</th>\n",
       "      <th>mean_last3d_-0</th>\n",
       "      <th>mean_last3d_-30</th>\n",
       "      <th>mean_last3d_-60</th>\n",
       "      <th>mean_last3d_-90</th>\n",
       "    </tr>\n",
       "  </thead>\n",
       "  <tbody>\n",
       "    <tr>\n",
       "      <th>7917</th>\n",
       "      <td>2013-01-17 10:00:00</td>\n",
       "      <td>ToU</td>\n",
       "      <td>0.245599</td>\n",
       "      <td>11.760</td>\n",
       "      <td>2013-01-17</td>\n",
       "      <td>0</td>\n",
       "      <td>-1.48</td>\n",
       "      <td>0.94</td>\n",
       "      <td>0.29</td>\n",
       "      <td>1019.05</td>\n",
       "      <td>3</td>\n",
       "      <td>10:00:00</td>\n",
       "      <td>17</td>\n",
       "      <td>1</td>\n",
       "      <td>2013</td>\n",
       "      <td>0.255242</td>\n",
       "      <td>0.241431</td>\n",
       "      <td>0.241380</td>\n",
       "      <td>0.245743</td>\n",
       "      <td>0.247607</td>\n",
       "      <td>0.249267</td>\n",
       "      <td>0.247726</td>\n",
       "      <td>0.244280</td>\n",
       "    </tr>\n",
       "    <tr>\n",
       "      <th>29390</th>\n",
       "      <td>2013-09-08 21:30:00</td>\n",
       "      <td>ToU</td>\n",
       "      <td>0.242798</td>\n",
       "      <td>3.990</td>\n",
       "      <td>2013-09-08</td>\n",
       "      <td>0</td>\n",
       "      <td>11.31</td>\n",
       "      <td>0.88</td>\n",
       "      <td>0.12</td>\n",
       "      <td>1018.01</td>\n",
       "      <td>6</td>\n",
       "      <td>21:30:00</td>\n",
       "      <td>8</td>\n",
       "      <td>9</td>\n",
       "      <td>2013</td>\n",
       "      <td>0.161068</td>\n",
       "      <td>0.171402</td>\n",
       "      <td>0.189144</td>\n",
       "      <td>0.208065</td>\n",
       "      <td>0.214351</td>\n",
       "      <td>0.204704</td>\n",
       "      <td>0.194844</td>\n",
       "      <td>0.184387</td>\n",
       "    </tr>\n",
       "    <tr>\n",
       "      <th>16137</th>\n",
       "      <td>2012-01-23 09:00:00</td>\n",
       "      <td>Std</td>\n",
       "      <td>0.246718</td>\n",
       "      <td>14.228</td>\n",
       "      <td>2012-01-23</td>\n",
       "      <td>0</td>\n",
       "      <td>5.44</td>\n",
       "      <td>0.81</td>\n",
       "      <td>0.67</td>\n",
       "      <td>1019.03</td>\n",
       "      <td>0</td>\n",
       "      <td>09:00:00</td>\n",
       "      <td>23</td>\n",
       "      <td>1</td>\n",
       "      <td>2012</td>\n",
       "      <td>0.286122</td>\n",
       "      <td>0.277311</td>\n",
       "      <td>0.270628</td>\n",
       "      <td>0.254351</td>\n",
       "      <td>0.251637</td>\n",
       "      <td>0.256738</td>\n",
       "      <td>0.257626</td>\n",
       "      <td>0.261012</td>\n",
       "    </tr>\n",
       "  </tbody>\n",
       "</table>\n",
       "</div>"
      ],
      "text/plain": [
       "                 DateTime User_group  mean_cons  Tariff_value       Date  \\\n",
       "7917  2013-01-17 10:00:00        ToU   0.245599        11.760 2013-01-17   \n",
       "29390 2013-09-08 21:30:00        ToU   0.242798         3.990 2013-09-08   \n",
       "16137 2012-01-23 09:00:00        Std   0.246718        14.228 2012-01-23   \n",
       "\n",
       "       Holiday  temperature  humidity  cloudCover  pressure  DoW      Time  \\\n",
       "7917         0        -1.48      0.94        0.29   1019.05    3  10:00:00   \n",
       "29390        0        11.31      0.88        0.12   1018.01    6  21:30:00   \n",
       "16137        0         5.44      0.81        0.67   1019.03    0  09:00:00   \n",
       "\n",
       "       Day  Month  Year  mean_prev_day  mean_cons_-1380  mean_cons_-1410  \\\n",
       "7917    17      1  2013       0.255242         0.241431         0.241380   \n",
       "29390    8      9  2013       0.161068         0.171402         0.189144   \n",
       "16137   23      1  2012       0.286122         0.277311         0.270628   \n",
       "\n",
       "       mean_cons_-1440  mean_last3d_-0  mean_last3d_-30  mean_last3d_-60  \\\n",
       "7917          0.245743        0.247607         0.249267         0.247726   \n",
       "29390         0.208065        0.214351         0.204704         0.194844   \n",
       "16137         0.254351        0.251637         0.256738         0.257626   \n",
       "\n",
       "       mean_last3d_-90  \n",
       "7917          0.244280  \n",
       "29390         0.184387  \n",
       "16137         0.261012  "
      ]
     },
     "execution_count": 57,
     "metadata": {},
     "output_type": "execute_result"
    }
   ],
   "source": [
    "df.sample(3)"
   ]
  },
  {
   "cell_type": "markdown",
   "metadata": {},
   "source": [
    "###### Mean value of the aggregate demand on the same day of week of the previous 3 weeks at the same time and at the previous 3 time steps (4 variables)."
   ]
  },
  {
   "cell_type": "code",
   "execution_count": 58,
   "metadata": {
    "collapsed": true
   },
   "outputs": [],
   "source": [
    "aux2 = df[['DateTime', 'User_group']].copy()\n",
    "means_3w = pd.DataFrame(index=df.index)\n",
    "for h in range(0,4):\n",
    "    for w in range(1,4):\n",
    "        aux = df[['DateTime', 'User_group', 'mean_cons']].copy()\n",
    "        aux['DateTime'] = aux['DateTime'] + datetime.timedelta(minutes = w*7*24*60-h*30)\n",
    "        aux2 = aux2.\\\n",
    "            merge(aux, how = 'left', on = ['DateTime','User_group'])\n",
    "    means_3w = means_3w.join(aux2.mean(axis=1).rename('mean_last3w_-%d' %(h*30)))"
   ]
  },
  {
   "cell_type": "code",
   "execution_count": 59,
   "metadata": {
    "collapsed": true
   },
   "outputs": [],
   "source": [
    "df = df.join(means_3w)"
   ]
  },
  {
   "cell_type": "code",
   "execution_count": 60,
   "metadata": {
    "collapsed": false
   },
   "outputs": [
    {
     "data": {
      "text/html": [
       "<div>\n",
       "<table border=\"1\" class=\"dataframe\">\n",
       "  <thead>\n",
       "    <tr style=\"text-align: right;\">\n",
       "      <th></th>\n",
       "      <th>DateTime</th>\n",
       "      <th>User_group</th>\n",
       "      <th>mean_cons</th>\n",
       "      <th>Tariff_value</th>\n",
       "      <th>Date</th>\n",
       "      <th>Holiday</th>\n",
       "      <th>temperature</th>\n",
       "      <th>humidity</th>\n",
       "      <th>cloudCover</th>\n",
       "      <th>pressure</th>\n",
       "      <th>DoW</th>\n",
       "      <th>Time</th>\n",
       "      <th>Day</th>\n",
       "      <th>Month</th>\n",
       "      <th>Year</th>\n",
       "      <th>mean_prev_day</th>\n",
       "      <th>mean_cons_-1380</th>\n",
       "      <th>mean_cons_-1410</th>\n",
       "      <th>mean_cons_-1440</th>\n",
       "      <th>mean_last3d_-0</th>\n",
       "      <th>mean_last3d_-30</th>\n",
       "      <th>mean_last3d_-60</th>\n",
       "      <th>mean_last3d_-90</th>\n",
       "      <th>mean_last3w_-0</th>\n",
       "      <th>mean_last3w_-30</th>\n",
       "      <th>mean_last3w_-60</th>\n",
       "      <th>mean_last3w_-90</th>\n",
       "    </tr>\n",
       "  </thead>\n",
       "  <tbody>\n",
       "    <tr>\n",
       "      <th>39328</th>\n",
       "      <td>2013-03-19 05:00:00</td>\n",
       "      <td>ToU</td>\n",
       "      <td>0.113938</td>\n",
       "      <td>11.76</td>\n",
       "      <td>2013-03-19</td>\n",
       "      <td>0</td>\n",
       "      <td>3.41</td>\n",
       "      <td>0.92</td>\n",
       "      <td>0.85</td>\n",
       "      <td>996.03</td>\n",
       "      <td>1</td>\n",
       "      <td>05:00:00</td>\n",
       "      <td>19</td>\n",
       "      <td>3</td>\n",
       "      <td>2013</td>\n",
       "      <td>0.230172</td>\n",
       "      <td>0.132957</td>\n",
       "      <td>0.125223</td>\n",
       "      <td>0.122639</td>\n",
       "      <td>0.116693</td>\n",
       "      <td>0.118908</td>\n",
       "      <td>0.123211</td>\n",
       "      <td>0.130759</td>\n",
       "      <td>0.124516</td>\n",
       "      <td>0.129489</td>\n",
       "      <td>0.135068</td>\n",
       "      <td>0.144665</td>\n",
       "    </tr>\n",
       "    <tr>\n",
       "      <th>11265</th>\n",
       "      <td>2013-03-14 16:00:00</td>\n",
       "      <td>Std</td>\n",
       "      <td>0.235265</td>\n",
       "      <td>11.76</td>\n",
       "      <td>2013-03-14</td>\n",
       "      <td>0</td>\n",
       "      <td>6.64</td>\n",
       "      <td>0.42</td>\n",
       "      <td>0.42</td>\n",
       "      <td>1015.35</td>\n",
       "      <td>3</td>\n",
       "      <td>16:00:00</td>\n",
       "      <td>14</td>\n",
       "      <td>3</td>\n",
       "      <td>2013</td>\n",
       "      <td>0.256019</td>\n",
       "      <td>0.276247</td>\n",
       "      <td>0.256562</td>\n",
       "      <td>0.244199</td>\n",
       "      <td>0.264173</td>\n",
       "      <td>0.272195</td>\n",
       "      <td>0.281919</td>\n",
       "      <td>0.294824</td>\n",
       "      <td>0.247574</td>\n",
       "      <td>0.255133</td>\n",
       "      <td>0.265479</td>\n",
       "      <td>0.278642</td>\n",
       "    </tr>\n",
       "    <tr>\n",
       "      <th>18036</th>\n",
       "      <td>2013-09-26 04:30:00</td>\n",
       "      <td>Std</td>\n",
       "      <td>0.105459</td>\n",
       "      <td>11.76</td>\n",
       "      <td>2013-09-26</td>\n",
       "      <td>0</td>\n",
       "      <td>14.67</td>\n",
       "      <td>0.91</td>\n",
       "      <td>0.00</td>\n",
       "      <td>1014.79</td>\n",
       "      <td>3</td>\n",
       "      <td>04:30:00</td>\n",
       "      <td>26</td>\n",
       "      <td>9</td>\n",
       "      <td>2013</td>\n",
       "      <td>0.180931</td>\n",
       "      <td>0.131999</td>\n",
       "      <td>0.114884</td>\n",
       "      <td>0.107164</td>\n",
       "      <td>0.106555</td>\n",
       "      <td>0.110063</td>\n",
       "      <td>0.117714</td>\n",
       "      <td>0.128857</td>\n",
       "      <td>0.108695</td>\n",
       "      <td>0.112720</td>\n",
       "      <td>0.120400</td>\n",
       "      <td>0.130938</td>\n",
       "    </tr>\n",
       "  </tbody>\n",
       "</table>\n",
       "</div>"
      ],
      "text/plain": [
       "                 DateTime User_group  mean_cons  Tariff_value       Date  \\\n",
       "39328 2013-03-19 05:00:00        ToU   0.113938         11.76 2013-03-19   \n",
       "11265 2013-03-14 16:00:00        Std   0.235265         11.76 2013-03-14   \n",
       "18036 2013-09-26 04:30:00        Std   0.105459         11.76 2013-09-26   \n",
       "\n",
       "       Holiday  temperature  humidity  cloudCover  pressure  DoW      Time  \\\n",
       "39328        0         3.41      0.92        0.85    996.03    1  05:00:00   \n",
       "11265        0         6.64      0.42        0.42   1015.35    3  16:00:00   \n",
       "18036        0        14.67      0.91        0.00   1014.79    3  04:30:00   \n",
       "\n",
       "       Day  Month  Year  mean_prev_day  mean_cons_-1380  mean_cons_-1410  \\\n",
       "39328   19      3  2013       0.230172         0.132957         0.125223   \n",
       "11265   14      3  2013       0.256019         0.276247         0.256562   \n",
       "18036   26      9  2013       0.180931         0.131999         0.114884   \n",
       "\n",
       "       mean_cons_-1440  mean_last3d_-0  mean_last3d_-30  mean_last3d_-60  \\\n",
       "39328         0.122639        0.116693         0.118908         0.123211   \n",
       "11265         0.244199        0.264173         0.272195         0.281919   \n",
       "18036         0.107164        0.106555         0.110063         0.117714   \n",
       "\n",
       "       mean_last3d_-90  mean_last3w_-0  mean_last3w_-30  mean_last3w_-60  \\\n",
       "39328         0.130759        0.124516         0.129489         0.135068   \n",
       "11265         0.294824        0.247574         0.255133         0.265479   \n",
       "18036         0.128857        0.108695         0.112720         0.120400   \n",
       "\n",
       "       mean_last3w_-90  \n",
       "39328         0.144665  \n",
       "11265         0.278642  \n",
       "18036         0.130938  "
      ]
     },
     "execution_count": 60,
     "metadata": {},
     "output_type": "execute_result"
    }
   ],
   "source": [
    "df.sample(3)"
   ]
  },
  {
   "cell_type": "markdown",
   "metadata": {},
   "source": [
    "Note that pandas.mean skips NaN values by default. Therefore, in the first days/weeks the means are calculated with the available data (1 or 2 values)."
   ]
  },
  {
   "cell_type": "markdown",
   "metadata": {},
   "source": [
    "Now that we have built all features we can save this model to a csv file for later use."
   ]
  },
  {
   "cell_type": "code",
   "execution_count": 61,
   "metadata": {
    "collapsed": true
   },
   "outputs": [],
   "source": [
    "df.to_csv('outputs/features_model.csv')"
   ]
  }
 ],
 "metadata": {
  "kernelspec": {
   "display_name": "Python 3",
   "language": "python",
   "name": "python3"
  },
  "language_info": {
   "codemirror_mode": {
    "name": "ipython",
    "version": 3
   },
   "file_extension": ".py",
   "mimetype": "text/x-python",
   "name": "python",
   "nbconvert_exporter": "python",
   "pygments_lexer": "ipython3",
   "version": "3.6.0"
  }
 },
 "nbformat": 4,
 "nbformat_minor": 2
}
