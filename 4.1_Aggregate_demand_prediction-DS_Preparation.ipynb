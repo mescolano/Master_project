{
 "cells": [
  {
   "cell_type": "markdown",
   "metadata": {},
   "source": [
    "# 4 Prediction of the aggregate demand "
   ]
  },
  {
   "cell_type": "markdown",
   "metadata": {},
   "source": [
    "In this section, we will compare the performance of different algorithms in predicting the aggregate demand, separating standard and ToU users. First, we will use feature models and then exponential smoothing, which is a time-series dedicated algorithm.\n",
    "\n",
    "After adding the external variables (holidays, weather) we will use different algorithms to fit our feature model. Later, we will predict the aggregate demand with exponential smoothing models in R using the \"forecast\" package.\n",
    "\n",
    "In general we will train our model with Nov 2011- Nov 2013 data and validate it with Nov 2013 - Feb 2014 data.\n",
    "\n",
    "We will use the aggregate statistics we computed in Section 2 with Spark."
   ]
  },
  {
   "cell_type": "markdown",
   "metadata": {},
   "source": [
    "## 4.1 Preparing the dataset"
   ]
  },
  {
   "cell_type": "markdown",
   "metadata": {},
   "source": [
    "First, we will prepare our data so it can be use in the different algorithms proposed. We will start including time and weather variables as these are needed for all models and then we will add the engineered features for the feature models."
   ]
  },
  {
   "cell_type": "code",
   "execution_count": 15,
   "metadata": {
    "collapsed": true
   },
   "outputs": [],
   "source": [
    "import pandas as pd\n",
    "pd.options.display.max_columns = 999\n",
    "import datetime"
   ]
  },
  {
   "cell_type": "code",
   "execution_count": 16,
   "metadata": {
    "collapsed": true
   },
   "outputs": [],
   "source": [
    "df = pd.read_csv('outputs/agg_stats.csv', index_col=0)"
   ]
  },
  {
   "cell_type": "code",
   "execution_count": 17,
   "metadata": {
    "collapsed": false
   },
   "outputs": [
    {
     "data": {
      "text/html": [
       "<div>\n",
       "<table border=\"1\" class=\"dataframe\">\n",
       "  <thead>\n",
       "    <tr style=\"text-align: right;\">\n",
       "      <th></th>\n",
       "      <th>DateTime</th>\n",
       "      <th>Tariff</th>\n",
       "      <th>ToU_User</th>\n",
       "      <th>count</th>\n",
       "      <th>sum</th>\n",
       "      <th>min</th>\n",
       "      <th>mean</th>\n",
       "      <th>max</th>\n",
       "      <th>std_dev</th>\n",
       "    </tr>\n",
       "  </thead>\n",
       "  <tbody>\n",
       "    <tr>\n",
       "      <th>0</th>\n",
       "      <td>2012-10-15 21:00:00</td>\n",
       "      <td>Std</td>\n",
       "      <td>0</td>\n",
       "      <td>4210</td>\n",
       "      <td>1270.587000</td>\n",
       "      <td>0.0</td>\n",
       "      <td>0.301802</td>\n",
       "      <td>5.335</td>\n",
       "      <td>0.319130</td>\n",
       "    </tr>\n",
       "    <tr>\n",
       "      <th>1</th>\n",
       "      <td>2012-10-21 21:00:00</td>\n",
       "      <td>Std</td>\n",
       "      <td>0</td>\n",
       "      <td>4287</td>\n",
       "      <td>1239.813999</td>\n",
       "      <td>0.0</td>\n",
       "      <td>0.289203</td>\n",
       "      <td>6.095</td>\n",
       "      <td>0.320852</td>\n",
       "    </tr>\n",
       "    <tr>\n",
       "      <th>2</th>\n",
       "      <td>2012-10-27 13:00:00</td>\n",
       "      <td>Std</td>\n",
       "      <td>0</td>\n",
       "      <td>4402</td>\n",
       "      <td>1159.695000</td>\n",
       "      <td>0.0</td>\n",
       "      <td>0.263447</td>\n",
       "      <td>3.554</td>\n",
       "      <td>0.336398</td>\n",
       "    </tr>\n",
       "    <tr>\n",
       "      <th>3</th>\n",
       "      <td>2012-10-28 17:30:00</td>\n",
       "      <td>Std</td>\n",
       "      <td>0</td>\n",
       "      <td>4402</td>\n",
       "      <td>1665.008001</td>\n",
       "      <td>0.0</td>\n",
       "      <td>0.378239</td>\n",
       "      <td>8.040</td>\n",
       "      <td>0.447315</td>\n",
       "    </tr>\n",
       "    <tr>\n",
       "      <th>4</th>\n",
       "      <td>2012-11-04 00:30:00</td>\n",
       "      <td>Std</td>\n",
       "      <td>0</td>\n",
       "      <td>4403</td>\n",
       "      <td>994.769000</td>\n",
       "      <td>0.0</td>\n",
       "      <td>0.225930</td>\n",
       "      <td>6.072</td>\n",
       "      <td>0.424697</td>\n",
       "    </tr>\n",
       "  </tbody>\n",
       "</table>\n",
       "</div>"
      ],
      "text/plain": [
       "              DateTime Tariff  ToU_User  count          sum  min      mean  \\\n",
       "0  2012-10-15 21:00:00    Std         0   4210  1270.587000  0.0  0.301802   \n",
       "1  2012-10-21 21:00:00    Std         0   4287  1239.813999  0.0  0.289203   \n",
       "2  2012-10-27 13:00:00    Std         0   4402  1159.695000  0.0  0.263447   \n",
       "3  2012-10-28 17:30:00    Std         0   4402  1665.008001  0.0  0.378239   \n",
       "4  2012-11-04 00:30:00    Std         0   4403   994.769000  0.0  0.225930   \n",
       "\n",
       "     max   std_dev  \n",
       "0  5.335  0.319130  \n",
       "1  6.095  0.320852  \n",
       "2  3.554  0.336398  \n",
       "3  8.040  0.447315  \n",
       "4  6.072  0.424697  "
      ]
     },
     "execution_count": 17,
     "metadata": {},
     "output_type": "execute_result"
    }
   ],
   "source": [
    "df.head()"
   ]
  },
  {
   "cell_type": "markdown",
   "metadata": {},
   "source": [
    "We keep only the columns we need: DateTime, Tariff and mean consumption. We are interested in predicting the aggregate demand (i.e. the sum) but as the data count in each Timestamp is different, we will use the mean."
   ]
  },
  {
   "cell_type": "code",
   "execution_count": 18,
   "metadata": {
    "collapsed": true
   },
   "outputs": [],
   "source": [
    "df = df[['DateTime','Tariff','mean']]"
   ]
  },
  {
   "cell_type": "code",
   "execution_count": 19,
   "metadata": {
    "collapsed": true
   },
   "outputs": [],
   "source": [
    "df['DateTime'] = pd.to_datetime(df['DateTime'])"
   ]
  },
  {
   "cell_type": "code",
   "execution_count": 20,
   "metadata": {
    "collapsed": false
   },
   "outputs": [
    {
     "data": {
      "text/plain": [
       "pandas.tslib.Timestamp"
      ]
     },
     "execution_count": 20,
     "metadata": {},
     "output_type": "execute_result"
    }
   ],
   "source": [
    "type(df['DateTime'][2])"
   ]
  },
  {
   "cell_type": "code",
   "execution_count": 21,
   "metadata": {
    "collapsed": false
   },
   "outputs": [
    {
     "data": {
      "text/html": [
       "<div>\n",
       "<table border=\"1\" class=\"dataframe\">\n",
       "  <thead>\n",
       "    <tr style=\"text-align: right;\">\n",
       "      <th></th>\n",
       "      <th>DateTime</th>\n",
       "      <th>Tariff</th>\n",
       "      <th>mean</th>\n",
       "    </tr>\n",
       "  </thead>\n",
       "  <tbody>\n",
       "    <tr>\n",
       "      <th>69664</th>\n",
       "      <td>2014-02-09 10:30:00</td>\n",
       "      <td>Std</td>\n",
       "      <td>0.274834</td>\n",
       "    </tr>\n",
       "    <tr>\n",
       "      <th>32885</th>\n",
       "      <td>2014-02-20 02:30:00</td>\n",
       "      <td>Std</td>\n",
       "      <td>0.132424</td>\n",
       "    </tr>\n",
       "    <tr>\n",
       "      <th>75045</th>\n",
       "      <td>2012-04-09 05:00:00</td>\n",
       "      <td>ToU</td>\n",
       "      <td>0.100082</td>\n",
       "    </tr>\n",
       "    <tr>\n",
       "      <th>29813</th>\n",
       "      <td>2012-01-01 20:00:00</td>\n",
       "      <td>ToU</td>\n",
       "      <td>0.359456</td>\n",
       "    </tr>\n",
       "    <tr>\n",
       "      <th>28597</th>\n",
       "      <td>2013-11-20 06:00:00</td>\n",
       "      <td>ToU</td>\n",
       "      <td>0.130753</td>\n",
       "    </tr>\n",
       "  </tbody>\n",
       "</table>\n",
       "</div>"
      ],
      "text/plain": [
       "                 DateTime Tariff      mean\n",
       "69664 2014-02-09 10:30:00    Std  0.274834\n",
       "32885 2014-02-20 02:30:00    Std  0.132424\n",
       "75045 2012-04-09 05:00:00    ToU  0.100082\n",
       "29813 2012-01-01 20:00:00    ToU  0.359456\n",
       "28597 2013-11-20 06:00:00    ToU  0.130753"
      ]
     },
     "execution_count": 21,
     "metadata": {},
     "output_type": "execute_result"
    }
   ],
   "source": [
    "df.sample(5)"
   ]
  },
  {
   "cell_type": "markdown",
   "metadata": {
    "collapsed": true
   },
   "source": [
    "### 4.1.1. Bank Holidays"
   ]
  },
  {
   "cell_type": "markdown",
   "metadata": {},
   "source": [
    "Bank Holidays probably have an impact in household electricity consumption as it was discussed in Section 1. Bank Holidays will be treated separately from Sundays as a binary variable. \n",
    "\n",
    "Bank Holidays in England from 2011 to 2014 were downloaded in Section 1 using the Python holidays library (and cross-checked with the official information in www.gov.co.uk) and saved to a csv file."
   ]
  },
  {
   "cell_type": "code",
   "execution_count": 22,
   "metadata": {
    "collapsed": false
   },
   "outputs": [],
   "source": [
    "holidays = pd.Series.from_csv('data/bank_holidays.csv')"
   ]
  },
  {
   "cell_type": "code",
   "execution_count": 23,
   "metadata": {
    "collapsed": true
   },
   "outputs": [],
   "source": [
    "holidays = pd.to_datetime(holidays)"
   ]
  },
  {
   "cell_type": "code",
   "execution_count": 24,
   "metadata": {
    "collapsed": false
   },
   "outputs": [
    {
     "data": {
      "text/plain": [
       "0   2011-01-01\n",
       "1   2011-01-03\n",
       "2   2011-04-22\n",
       "3   2011-04-25\n",
       "4   2011-04-29\n",
       "dtype: datetime64[ns]"
      ]
     },
     "execution_count": 24,
     "metadata": {},
     "output_type": "execute_result"
    }
   ],
   "source": [
    "holidays.head()"
   ]
  },
  {
   "cell_type": "code",
   "execution_count": 28,
   "metadata": {
    "collapsed": true
   },
   "outputs": [],
   "source": [
    "df['Date'] = df['DateTime'].apply(lambda x: x.date())"
   ]
  },
  {
   "cell_type": "code",
   "execution_count": 29,
   "metadata": {
    "collapsed": true
   },
   "outputs": [],
   "source": [
    "df['Date'] = pd.to_datetime(df['Date'])"
   ]
  },
  {
   "cell_type": "code",
   "execution_count": 31,
   "metadata": {
    "collapsed": false
   },
   "outputs": [],
   "source": [
    "df['Holiday'] = 0\n",
    "df.loc[df['Date'].isin(holidays),'Holiday'] = 1"
   ]
  },
  {
   "cell_type": "code",
   "execution_count": 32,
   "metadata": {
    "collapsed": false
   },
   "outputs": [
    {
     "data": {
      "text/html": [
       "<div>\n",
       "<table border=\"1\" class=\"dataframe\">\n",
       "  <thead>\n",
       "    <tr style=\"text-align: right;\">\n",
       "      <th></th>\n",
       "      <th>DateTime</th>\n",
       "      <th>Tariff</th>\n",
       "      <th>mean</th>\n",
       "      <th>Holiday</th>\n",
       "      <th>Date</th>\n",
       "    </tr>\n",
       "  </thead>\n",
       "  <tbody>\n",
       "    <tr>\n",
       "      <th>34367</th>\n",
       "      <td>2011-12-13 22:00:00</td>\n",
       "      <td>ToU</td>\n",
       "      <td>0.364237</td>\n",
       "      <td>0</td>\n",
       "      <td>2011-12-13</td>\n",
       "    </tr>\n",
       "    <tr>\n",
       "      <th>60551</th>\n",
       "      <td>2013-05-31 00:30:00</td>\n",
       "      <td>Std</td>\n",
       "      <td>0.137393</td>\n",
       "      <td>0</td>\n",
       "      <td>2013-05-31</td>\n",
       "    </tr>\n",
       "    <tr>\n",
       "      <th>21706</th>\n",
       "      <td>2012-06-16 00:30:00</td>\n",
       "      <td>Std</td>\n",
       "      <td>0.156315</td>\n",
       "      <td>0</td>\n",
       "      <td>2012-06-16</td>\n",
       "    </tr>\n",
       "    <tr>\n",
       "      <th>5813</th>\n",
       "      <td>2012-02-24 19:30:00</td>\n",
       "      <td>Std</td>\n",
       "      <td>0.375746</td>\n",
       "      <td>0</td>\n",
       "      <td>2012-02-24</td>\n",
       "    </tr>\n",
       "    <tr>\n",
       "      <th>18028</th>\n",
       "      <td>2013-09-03 13:00:00</td>\n",
       "      <td>Std</td>\n",
       "      <td>0.162294</td>\n",
       "      <td>0</td>\n",
       "      <td>2013-09-03</td>\n",
       "    </tr>\n",
       "  </tbody>\n",
       "</table>\n",
       "</div>"
      ],
      "text/plain": [
       "                 DateTime Tariff      mean  Holiday       Date\n",
       "34367 2011-12-13 22:00:00    ToU  0.364237        0 2011-12-13\n",
       "60551 2013-05-31 00:30:00    Std  0.137393        0 2013-05-31\n",
       "21706 2012-06-16 00:30:00    Std  0.156315        0 2012-06-16\n",
       "5813  2012-02-24 19:30:00    Std  0.375746        0 2012-02-24\n",
       "18028 2013-09-03 13:00:00    Std  0.162294        0 2013-09-03"
      ]
     },
     "execution_count": 32,
     "metadata": {},
     "output_type": "execute_result"
    }
   ],
   "source": [
    "df.sample(5)"
   ]
  },
  {
   "cell_type": "code",
   "execution_count": 33,
   "metadata": {
    "collapsed": false
   },
   "outputs": [
    {
     "data": {
      "text/html": [
       "<div>\n",
       "<table border=\"1\" class=\"dataframe\">\n",
       "  <thead>\n",
       "    <tr style=\"text-align: right;\">\n",
       "      <th></th>\n",
       "      <th>DateTime</th>\n",
       "      <th>Tariff</th>\n",
       "      <th>mean</th>\n",
       "      <th>Holiday</th>\n",
       "      <th>Date</th>\n",
       "    </tr>\n",
       "  </thead>\n",
       "  <tbody>\n",
       "    <tr>\n",
       "      <th>44888</th>\n",
       "      <td>2013-08-26 04:30:00</td>\n",
       "      <td>ToU</td>\n",
       "      <td>0.088565</td>\n",
       "      <td>1</td>\n",
       "      <td>2013-08-26</td>\n",
       "    </tr>\n",
       "    <tr>\n",
       "      <th>31348</th>\n",
       "      <td>2012-01-02 03:00:00</td>\n",
       "      <td>Std</td>\n",
       "      <td>0.163754</td>\n",
       "      <td>1</td>\n",
       "      <td>2012-01-02</td>\n",
       "    </tr>\n",
       "    <tr>\n",
       "      <th>52370</th>\n",
       "      <td>2013-08-26 11:30:00</td>\n",
       "      <td>Std</td>\n",
       "      <td>0.185649</td>\n",
       "      <td>1</td>\n",
       "      <td>2013-08-26</td>\n",
       "    </tr>\n",
       "    <tr>\n",
       "      <th>69442</th>\n",
       "      <td>2013-05-06 22:30:00</td>\n",
       "      <td>ToU</td>\n",
       "      <td>0.178713</td>\n",
       "      <td>1</td>\n",
       "      <td>2013-05-06</td>\n",
       "    </tr>\n",
       "    <tr>\n",
       "      <th>22814</th>\n",
       "      <td>2013-05-06 17:00:00</td>\n",
       "      <td>Std</td>\n",
       "      <td>0.224420</td>\n",
       "      <td>1</td>\n",
       "      <td>2013-05-06</td>\n",
       "    </tr>\n",
       "  </tbody>\n",
       "</table>\n",
       "</div>"
      ],
      "text/plain": [
       "                 DateTime Tariff      mean  Holiday       Date\n",
       "44888 2013-08-26 04:30:00    ToU  0.088565        1 2013-08-26\n",
       "31348 2012-01-02 03:00:00    Std  0.163754        1 2012-01-02\n",
       "52370 2013-08-26 11:30:00    Std  0.185649        1 2013-08-26\n",
       "69442 2013-05-06 22:30:00    ToU  0.178713        1 2013-05-06\n",
       "22814 2013-05-06 17:00:00    Std  0.224420        1 2013-05-06"
      ]
     },
     "execution_count": 33,
     "metadata": {},
     "output_type": "execute_result"
    }
   ],
   "source": [
    "df[df['Holiday'] == 1].sample(5)"
   ]
  },
  {
   "cell_type": "markdown",
   "metadata": {},
   "source": [
    "### 4.1.3 Weather variables"
   ]
  },
  {
   "cell_type": "markdown",
   "metadata": {},
   "source": [
    "Now we have to add the weather variables, which will be used in any model. Weather variables were discussed, downloaded and treated in Section 1."
   ]
  },
  {
   "cell_type": "code",
   "execution_count": 34,
   "metadata": {
    "collapsed": true
   },
   "outputs": [],
   "source": [
    "weather = pd.read_csv('data/weather_no_na.csv')"
   ]
  },
  {
   "cell_type": "code",
   "execution_count": 35,
   "metadata": {
    "collapsed": false
   },
   "outputs": [
    {
     "data": {
      "text/plain": [
       "(20446, 13)"
      ]
     },
     "execution_count": 35,
     "metadata": {},
     "output_type": "execute_result"
    }
   ],
   "source": [
    "weather.shape"
   ]
  },
  {
   "cell_type": "markdown",
   "metadata": {},
   "source": [
    "We will use the following variables:\n",
    "\n",
    "-Temperature (ºC)\n",
    "\n",
    "-Relative Humidity (%)\n",
    "\n",
    "-Cloud cover (%)\n",
    "\n",
    "-Atmospheric Pressure (mbar)\n",
    "\n",
    "For a discussion on the reasons why these variables have been choosen and how NA values have been filled refer to Section 1."
   ]
  },
  {
   "cell_type": "code",
   "execution_count": 36,
   "metadata": {
    "collapsed": false
   },
   "outputs": [
    {
     "data": {
      "text/plain": [
       "Index(['time', 'apparentTemperature', 'cloudCover', 'dewPoint', 'humidity',\n",
       "       'icon', 'precipType', 'pressure', 'summary', 'temperature',\n",
       "       'visibility', 'windBearing', 'windSpeed'],\n",
       "      dtype='object')"
      ]
     },
     "execution_count": 36,
     "metadata": {},
     "output_type": "execute_result"
    }
   ],
   "source": [
    "weather.columns"
   ]
  },
  {
   "cell_type": "code",
   "execution_count": 37,
   "metadata": {
    "collapsed": true
   },
   "outputs": [],
   "source": [
    "weather = weather[['time','temperature','humidity','cloudCover','pressure']]\\\n",
    "    .rename(columns = {'time' : 'DateTime'})"
   ]
  },
  {
   "cell_type": "code",
   "execution_count": 38,
   "metadata": {
    "collapsed": true
   },
   "outputs": [],
   "source": [
    "weather['DateTime'] = pd.to_datetime(weather['DateTime'])"
   ]
  },
  {
   "cell_type": "code",
   "execution_count": 39,
   "metadata": {
    "collapsed": false,
    "scrolled": true
   },
   "outputs": [
    {
     "data": {
      "text/html": [
       "<div>\n",
       "<table border=\"1\" class=\"dataframe\">\n",
       "  <thead>\n",
       "    <tr style=\"text-align: right;\">\n",
       "      <th></th>\n",
       "      <th>DateTime</th>\n",
       "      <th>temperature</th>\n",
       "      <th>humidity</th>\n",
       "      <th>cloudCover</th>\n",
       "      <th>pressure</th>\n",
       "    </tr>\n",
       "  </thead>\n",
       "  <tbody>\n",
       "    <tr>\n",
       "      <th>0</th>\n",
       "      <td>2011-11-01 00:00:00</td>\n",
       "      <td>13.54</td>\n",
       "      <td>0.87</td>\n",
       "      <td>0.27</td>\n",
       "      <td>1008.01</td>\n",
       "    </tr>\n",
       "    <tr>\n",
       "      <th>1</th>\n",
       "      <td>2011-11-01 01:00:00</td>\n",
       "      <td>12.74</td>\n",
       "      <td>0.93</td>\n",
       "      <td>0.32</td>\n",
       "      <td>1007.76</td>\n",
       "    </tr>\n",
       "    <tr>\n",
       "      <th>2</th>\n",
       "      <td>2011-11-01 02:00:00</td>\n",
       "      <td>13.68</td>\n",
       "      <td>0.91</td>\n",
       "      <td>0.25</td>\n",
       "      <td>1006.97</td>\n",
       "    </tr>\n",
       "    <tr>\n",
       "      <th>3</th>\n",
       "      <td>2011-11-01 03:00:00</td>\n",
       "      <td>14.18</td>\n",
       "      <td>0.88</td>\n",
       "      <td>0.43</td>\n",
       "      <td>1006.40</td>\n",
       "    </tr>\n",
       "    <tr>\n",
       "      <th>4</th>\n",
       "      <td>2011-11-01 04:00:00</td>\n",
       "      <td>14.20</td>\n",
       "      <td>0.90</td>\n",
       "      <td>0.38</td>\n",
       "      <td>1006.05</td>\n",
       "    </tr>\n",
       "  </tbody>\n",
       "</table>\n",
       "</div>"
      ],
      "text/plain": [
       "             DateTime  temperature  humidity  cloudCover  pressure\n",
       "0 2011-11-01 00:00:00        13.54      0.87        0.27   1008.01\n",
       "1 2011-11-01 01:00:00        12.74      0.93        0.32   1007.76\n",
       "2 2011-11-01 02:00:00        13.68      0.91        0.25   1006.97\n",
       "3 2011-11-01 03:00:00        14.18      0.88        0.43   1006.40\n",
       "4 2011-11-01 04:00:00        14.20      0.90        0.38   1006.05"
      ]
     },
     "execution_count": 39,
     "metadata": {},
     "output_type": "execute_result"
    }
   ],
   "source": [
    "weather.head()"
   ]
  },
  {
   "cell_type": "markdown",
   "metadata": {},
   "source": [
    "The frequency of the weather data is of 1 hour while that of the consumption data is 30 minutes, thus we need to resample it. We will take the last valid observation (e.g. 2012-01-01 10:30 will have the same data as 2012-01-01 10:00) => method = 'ffill'."
   ]
  },
  {
   "cell_type": "code",
   "execution_count": 40,
   "metadata": {
    "collapsed": false
   },
   "outputs": [],
   "source": [
    "weather = weather.set_index('DateTime').resample('30min').fillna(method = 'ffill')\\\n",
    "    .reset_index()"
   ]
  },
  {
   "cell_type": "code",
   "execution_count": 41,
   "metadata": {
    "collapsed": false
   },
   "outputs": [
    {
     "data": {
      "text/html": [
       "<div>\n",
       "<table border=\"1\" class=\"dataframe\">\n",
       "  <thead>\n",
       "    <tr style=\"text-align: right;\">\n",
       "      <th></th>\n",
       "      <th>DateTime</th>\n",
       "      <th>temperature</th>\n",
       "      <th>humidity</th>\n",
       "      <th>cloudCover</th>\n",
       "      <th>pressure</th>\n",
       "    </tr>\n",
       "  </thead>\n",
       "  <tbody>\n",
       "    <tr>\n",
       "      <th>0</th>\n",
       "      <td>2011-11-01 00:00:00</td>\n",
       "      <td>13.54</td>\n",
       "      <td>0.87</td>\n",
       "      <td>0.27</td>\n",
       "      <td>1008.01</td>\n",
       "    </tr>\n",
       "    <tr>\n",
       "      <th>1</th>\n",
       "      <td>2011-11-01 00:30:00</td>\n",
       "      <td>13.54</td>\n",
       "      <td>0.87</td>\n",
       "      <td>0.27</td>\n",
       "      <td>1008.01</td>\n",
       "    </tr>\n",
       "    <tr>\n",
       "      <th>2</th>\n",
       "      <td>2011-11-01 01:00:00</td>\n",
       "      <td>12.74</td>\n",
       "      <td>0.93</td>\n",
       "      <td>0.32</td>\n",
       "      <td>1007.76</td>\n",
       "    </tr>\n",
       "    <tr>\n",
       "      <th>3</th>\n",
       "      <td>2011-11-01 01:30:00</td>\n",
       "      <td>12.74</td>\n",
       "      <td>0.93</td>\n",
       "      <td>0.32</td>\n",
       "      <td>1007.76</td>\n",
       "    </tr>\n",
       "    <tr>\n",
       "      <th>4</th>\n",
       "      <td>2011-11-01 02:00:00</td>\n",
       "      <td>13.68</td>\n",
       "      <td>0.91</td>\n",
       "      <td>0.25</td>\n",
       "      <td>1006.97</td>\n",
       "    </tr>\n",
       "  </tbody>\n",
       "</table>\n",
       "</div>"
      ],
      "text/plain": [
       "             DateTime  temperature  humidity  cloudCover  pressure\n",
       "0 2011-11-01 00:00:00        13.54      0.87        0.27   1008.01\n",
       "1 2011-11-01 00:30:00        13.54      0.87        0.27   1008.01\n",
       "2 2011-11-01 01:00:00        12.74      0.93        0.32   1007.76\n",
       "3 2011-11-01 01:30:00        12.74      0.93        0.32   1007.76\n",
       "4 2011-11-01 02:00:00        13.68      0.91        0.25   1006.97"
      ]
     },
     "execution_count": 41,
     "metadata": {},
     "output_type": "execute_result"
    }
   ],
   "source": [
    "weather.head()"
   ]
  },
  {
   "cell_type": "code",
   "execution_count": 42,
   "metadata": {
    "collapsed": false
   },
   "outputs": [],
   "source": [
    "df = df.merge(weather, how = 'left', on = 'DateTime')"
   ]
  },
  {
   "cell_type": "code",
   "execution_count": 43,
   "metadata": {
    "collapsed": false
   },
   "outputs": [
    {
     "data": {
      "text/html": [
       "<div>\n",
       "<table border=\"1\" class=\"dataframe\">\n",
       "  <thead>\n",
       "    <tr style=\"text-align: right;\">\n",
       "      <th></th>\n",
       "      <th>DateTime</th>\n",
       "      <th>Tariff</th>\n",
       "      <th>mean</th>\n",
       "      <th>Holiday</th>\n",
       "      <th>Date</th>\n",
       "      <th>temperature</th>\n",
       "      <th>humidity</th>\n",
       "      <th>cloudCover</th>\n",
       "      <th>pressure</th>\n",
       "    </tr>\n",
       "  </thead>\n",
       "  <tbody>\n",
       "    <tr>\n",
       "      <th>1687</th>\n",
       "      <td>2013-08-03 08:00:00</td>\n",
       "      <td>Std</td>\n",
       "      <td>0.163616</td>\n",
       "      <td>0</td>\n",
       "      <td>2013-08-03</td>\n",
       "      <td>17.35</td>\n",
       "      <td>0.79</td>\n",
       "      <td>0.64</td>\n",
       "      <td>1014.18</td>\n",
       "    </tr>\n",
       "    <tr>\n",
       "      <th>40225</th>\n",
       "      <td>2012-03-29 06:00:00</td>\n",
       "      <td>ToU</td>\n",
       "      <td>0.173429</td>\n",
       "      <td>0</td>\n",
       "      <td>2012-03-29</td>\n",
       "      <td>7.02</td>\n",
       "      <td>0.83</td>\n",
       "      <td>0.20</td>\n",
       "      <td>1028.81</td>\n",
       "    </tr>\n",
       "    <tr>\n",
       "      <th>19891</th>\n",
       "      <td>2012-03-13 01:30:00</td>\n",
       "      <td>ToU</td>\n",
       "      <td>0.127986</td>\n",
       "      <td>0</td>\n",
       "      <td>2012-03-13</td>\n",
       "      <td>7.48</td>\n",
       "      <td>0.94</td>\n",
       "      <td>0.89</td>\n",
       "      <td>1035.00</td>\n",
       "    </tr>\n",
       "    <tr>\n",
       "      <th>58240</th>\n",
       "      <td>2013-10-30 07:30:00</td>\n",
       "      <td>Std</td>\n",
       "      <td>0.196863</td>\n",
       "      <td>0</td>\n",
       "      <td>2013-10-30</td>\n",
       "      <td>4.46</td>\n",
       "      <td>0.92</td>\n",
       "      <td>0.22</td>\n",
       "      <td>1020.98</td>\n",
       "    </tr>\n",
       "    <tr>\n",
       "      <th>49474</th>\n",
       "      <td>2012-05-10 23:30:00</td>\n",
       "      <td>ToU</td>\n",
       "      <td>0.135004</td>\n",
       "      <td>0</td>\n",
       "      <td>2012-05-10</td>\n",
       "      <td>14.22</td>\n",
       "      <td>0.88</td>\n",
       "      <td>0.75</td>\n",
       "      <td>1013.28</td>\n",
       "    </tr>\n",
       "  </tbody>\n",
       "</table>\n",
       "</div>"
      ],
      "text/plain": [
       "                 DateTime Tariff      mean  Holiday       Date  temperature  \\\n",
       "1687  2013-08-03 08:00:00    Std  0.163616        0 2013-08-03        17.35   \n",
       "40225 2012-03-29 06:00:00    ToU  0.173429        0 2012-03-29         7.02   \n",
       "19891 2012-03-13 01:30:00    ToU  0.127986        0 2012-03-13         7.48   \n",
       "58240 2013-10-30 07:30:00    Std  0.196863        0 2013-10-30         4.46   \n",
       "49474 2012-05-10 23:30:00    ToU  0.135004        0 2012-05-10        14.22   \n",
       "\n",
       "       humidity  cloudCover  pressure  \n",
       "1687       0.79        0.64   1014.18  \n",
       "40225      0.83        0.20   1028.81  \n",
       "19891      0.94        0.89   1035.00  \n",
       "58240      0.92        0.22   1020.98  \n",
       "49474      0.88        0.75   1013.28  "
      ]
     },
     "execution_count": 43,
     "metadata": {},
     "output_type": "execute_result"
    }
   ],
   "source": [
    "df.sample(5)"
   ]
  },
  {
   "cell_type": "markdown",
   "metadata": {
    "collapsed": true
   },
   "source": [
    "Now that we have added all external variables our models need, we can save it to a csv file. "
   ]
  },
  {
   "cell_type": "code",
   "execution_count": 44,
   "metadata": {
    "collapsed": true
   },
   "outputs": [],
   "source": [
    "df.to_csv('outputs/tseries_model.csv')"
   ]
  },
  {
   "cell_type": "markdown",
   "metadata": {},
   "source": [
    "We will use this model as is in time series modelling. For feature models we need to add the features."
   ]
  },
  {
   "cell_type": "markdown",
   "metadata": {},
   "source": [
    "## 4.1.4. Feature engineering"
   ]
  },
  {
   "cell_type": "markdown",
   "metadata": {},
   "source": [
    "Feature models are an alternative for time series forecasting. They consist in applying conventional machine learning models to variables constructed from the data (e.g. mean consumption in the previous day). These are popular in the literature for electrical demand prediction [2], [4]."
   ]
  },
  {
   "cell_type": "markdown",
   "metadata": {},
   "source": [
    "We will derive the following features:\n",
    "\n",
    "-Mean aggregate demand per hour in the previous day (1 variable).\n",
    "\n",
    "-Aggregate demand in the previous day at the same time and at the previous 3 time steps (4 variables).\n",
    "\n",
    "-Mean value of the aggregate demand of the previous 3 days at the same time and at the previous 3 time steps (4 variables).\n",
    "\n",
    "-Mean value of the aggregate demand on the same day of week of the previous 3 weeks at the same time and at the previous 3 time steps (4 variables).\n",
    "\n",
    "In total we have 13 derived features.\n",
    "\n",
    "Furthermore, we will include weather and time variables in the model:\n",
    "\n",
    "-Time (30-min resolution)\n",
    "\n",
    "-Day of week (7 levels)\n",
    "\n",
    "-Month (12 levels)\n",
    "\n",
    "-Holiday (binary)\n",
    "\n",
    "-Temperature (ºC, continuous)\n",
    "\n",
    "-Relative Humidity (%, continuous)\n",
    "\n",
    "-Cloud cover (%, continuous)\n",
    "\n",
    "-Atmospheric Pressure (mbar, continuous)\n",
    "\n",
    "These variables have been calculated in Section 1 and stored in 'weather_no_na.csv'.\n",
    "\n",
    "And the last variable to be included in the model:\n",
    "-Tariff (p/kWh)\n",
    "\n",
    "Thus, in total we will have 22 variables in our models.\n"
   ]
  },
  {
   "cell_type": "markdown",
   "metadata": {},
   "source": [
    "First, we will build the time variables."
   ]
  },
  {
   "cell_type": "markdown",
   "metadata": {},
   "source": [
    "Now it is easier to derive the consumption features."
   ]
  },
  {
   "cell_type": "markdown",
   "metadata": {},
   "source": [
    "#### Adding time variables"
   ]
  },
  {
   "cell_type": "code",
   "execution_count": 45,
   "metadata": {
    "collapsed": false
   },
   "outputs": [],
   "source": [
    "df['DoW'] = df['DateTime'].apply(lambda x: x.weekday())"
   ]
  },
  {
   "cell_type": "code",
   "execution_count": 46,
   "metadata": {
    "collapsed": true
   },
   "outputs": [],
   "source": [
    "df['Time'] = df['DateTime'].apply(lambda x: x.time())"
   ]
  },
  {
   "cell_type": "code",
   "execution_count": 47,
   "metadata": {
    "collapsed": true
   },
   "outputs": [],
   "source": [
    "df['Month']= df['DateTime'].apply(lambda x: x.month)"
   ]
  },
  {
   "cell_type": "code",
   "execution_count": 48,
   "metadata": {
    "collapsed": true
   },
   "outputs": [],
   "source": [
    "df['Year']= df['DateTime'].apply(lambda x: x.year)"
   ]
  },
  {
   "cell_type": "code",
   "execution_count": 49,
   "metadata": {
    "collapsed": false
   },
   "outputs": [
    {
     "data": {
      "text/html": [
       "<div>\n",
       "<table border=\"1\" class=\"dataframe\">\n",
       "  <thead>\n",
       "    <tr style=\"text-align: right;\">\n",
       "      <th></th>\n",
       "      <th>DateTime</th>\n",
       "      <th>Tariff</th>\n",
       "      <th>mean</th>\n",
       "      <th>Holiday</th>\n",
       "      <th>Date</th>\n",
       "      <th>temperature</th>\n",
       "      <th>humidity</th>\n",
       "      <th>cloudCover</th>\n",
       "      <th>pressure</th>\n",
       "      <th>DoW</th>\n",
       "      <th>Time</th>\n",
       "      <th>Month</th>\n",
       "      <th>Year</th>\n",
       "    </tr>\n",
       "  </thead>\n",
       "  <tbody>\n",
       "    <tr>\n",
       "      <th>46081</th>\n",
       "      <td>2012-09-25 21:00:00</td>\n",
       "      <td>ToU</td>\n",
       "      <td>0.271262</td>\n",
       "      <td>0</td>\n",
       "      <td>2012-09-25</td>\n",
       "      <td>11.76</td>\n",
       "      <td>0.84</td>\n",
       "      <td>0.33</td>\n",
       "      <td>988.92</td>\n",
       "      <td>1</td>\n",
       "      <td>21:00:00</td>\n",
       "      <td>9</td>\n",
       "      <td>2012</td>\n",
       "    </tr>\n",
       "    <tr>\n",
       "      <th>9795</th>\n",
       "      <td>2012-07-13 03:00:00</td>\n",
       "      <td>Std</td>\n",
       "      <td>0.099904</td>\n",
       "      <td>0</td>\n",
       "      <td>2012-07-13</td>\n",
       "      <td>14.34</td>\n",
       "      <td>0.95</td>\n",
       "      <td>0.85</td>\n",
       "      <td>1003.32</td>\n",
       "      <td>4</td>\n",
       "      <td>03:00:00</td>\n",
       "      <td>7</td>\n",
       "      <td>2012</td>\n",
       "    </tr>\n",
       "    <tr>\n",
       "      <th>60584</th>\n",
       "      <td>2013-11-19 01:30:00</td>\n",
       "      <td>Std</td>\n",
       "      <td>0.151778</td>\n",
       "      <td>0</td>\n",
       "      <td>2013-11-19</td>\n",
       "      <td>6.29</td>\n",
       "      <td>0.81</td>\n",
       "      <td>0.00</td>\n",
       "      <td>1009.46</td>\n",
       "      <td>1</td>\n",
       "      <td>01:30:00</td>\n",
       "      <td>11</td>\n",
       "      <td>2013</td>\n",
       "    </tr>\n",
       "    <tr>\n",
       "      <th>23199</th>\n",
       "      <td>2013-04-19 20:00:00</td>\n",
       "      <td>Std</td>\n",
       "      <td>0.303767</td>\n",
       "      <td>0</td>\n",
       "      <td>2013-04-19</td>\n",
       "      <td>8.03</td>\n",
       "      <td>0.76</td>\n",
       "      <td>0.37</td>\n",
       "      <td>1031.83</td>\n",
       "      <td>4</td>\n",
       "      <td>20:00:00</td>\n",
       "      <td>4</td>\n",
       "      <td>2013</td>\n",
       "    </tr>\n",
       "    <tr>\n",
       "      <th>73239</th>\n",
       "      <td>2014-02-14 20:00:00</td>\n",
       "      <td>Std</td>\n",
       "      <td>0.368049</td>\n",
       "      <td>0</td>\n",
       "      <td>2014-02-14</td>\n",
       "      <td>11.75</td>\n",
       "      <td>0.68</td>\n",
       "      <td>0.75</td>\n",
       "      <td>978.16</td>\n",
       "      <td>4</td>\n",
       "      <td>20:00:00</td>\n",
       "      <td>2</td>\n",
       "      <td>2014</td>\n",
       "    </tr>\n",
       "  </tbody>\n",
       "</table>\n",
       "</div>"
      ],
      "text/plain": [
       "                 DateTime Tariff      mean  Holiday       Date  temperature  \\\n",
       "46081 2012-09-25 21:00:00    ToU  0.271262        0 2012-09-25        11.76   \n",
       "9795  2012-07-13 03:00:00    Std  0.099904        0 2012-07-13        14.34   \n",
       "60584 2013-11-19 01:30:00    Std  0.151778        0 2013-11-19         6.29   \n",
       "23199 2013-04-19 20:00:00    Std  0.303767        0 2013-04-19         8.03   \n",
       "73239 2014-02-14 20:00:00    Std  0.368049        0 2014-02-14        11.75   \n",
       "\n",
       "       humidity  cloudCover  pressure  DoW      Time  Month  Year  \n",
       "46081      0.84        0.33    988.92    1  21:00:00      9  2012  \n",
       "9795       0.95        0.85   1003.32    4  03:00:00      7  2012  \n",
       "60584      0.81        0.00   1009.46    1  01:30:00     11  2013  \n",
       "23199      0.76        0.37   1031.83    4  20:00:00      4  2013  \n",
       "73239      0.68        0.75    978.16    4  20:00:00      2  2014  "
      ]
     },
     "execution_count": 49,
     "metadata": {},
     "output_type": "execute_result"
    }
   ],
   "source": [
    "df.sample(5)"
   ]
  },
  {
   "cell_type": "markdown",
   "metadata": {},
   "source": [
    "###### Mean aggregate demand per hour in the previous day (1 variable).\n",
    "\n",
    "First, we will calculate the daily mean aggregating by 'Date'. Then we will add one day to the 'Date' variable of our new DataFrame and join it with the main DataFrame df."
   ]
  },
  {
   "cell_type": "code",
   "execution_count": 50,
   "metadata": {
    "collapsed": false
   },
   "outputs": [],
   "source": [
    "daily_mean = df.groupby(['Date', 'Tariff']).agg({'mean': 'mean'}).reset_index()"
   ]
  },
  {
   "cell_type": "code",
   "execution_count": 51,
   "metadata": {
    "collapsed": true
   },
   "outputs": [],
   "source": [
    "daily_mean['Date'] = pd.to_datetime(daily_mean['Date'])"
   ]
  },
  {
   "cell_type": "code",
   "execution_count": 52,
   "metadata": {
    "collapsed": false
   },
   "outputs": [
    {
     "data": {
      "text/plain": [
       "pandas.tslib.Timestamp"
      ]
     },
     "execution_count": 52,
     "metadata": {},
     "output_type": "execute_result"
    }
   ],
   "source": [
    "type(daily_mean['Date'][2])"
   ]
  },
  {
   "cell_type": "code",
   "execution_count": 53,
   "metadata": {
    "collapsed": false
   },
   "outputs": [
    {
     "data": {
      "text/html": [
       "<div>\n",
       "<table border=\"1\" class=\"dataframe\">\n",
       "  <thead>\n",
       "    <tr style=\"text-align: right;\">\n",
       "      <th></th>\n",
       "      <th>Date</th>\n",
       "      <th>Tariff</th>\n",
       "      <th>mean</th>\n",
       "    </tr>\n",
       "  </thead>\n",
       "  <tbody>\n",
       "    <tr>\n",
       "      <th>538</th>\n",
       "      <td>2012-08-18</td>\n",
       "      <td>Std</td>\n",
       "      <td>0.169564</td>\n",
       "    </tr>\n",
       "    <tr>\n",
       "      <th>191</th>\n",
       "      <td>2012-02-26</td>\n",
       "      <td>ToU</td>\n",
       "      <td>0.239881</td>\n",
       "    </tr>\n",
       "    <tr>\n",
       "      <th>956</th>\n",
       "      <td>2013-03-15</td>\n",
       "      <td>Std</td>\n",
       "      <td>0.245509</td>\n",
       "    </tr>\n",
       "    <tr>\n",
       "      <th>1556</th>\n",
       "      <td>2014-01-09</td>\n",
       "      <td>Std</td>\n",
       "      <td>0.235771</td>\n",
       "    </tr>\n",
       "    <tr>\n",
       "      <th>590</th>\n",
       "      <td>2012-09-13</td>\n",
       "      <td>Std</td>\n",
       "      <td>0.174227</td>\n",
       "    </tr>\n",
       "  </tbody>\n",
       "</table>\n",
       "</div>"
      ],
      "text/plain": [
       "           Date Tariff      mean\n",
       "538  2012-08-18    Std  0.169564\n",
       "191  2012-02-26    ToU  0.239881\n",
       "956  2013-03-15    Std  0.245509\n",
       "1556 2014-01-09    Std  0.235771\n",
       "590  2012-09-13    Std  0.174227"
      ]
     },
     "execution_count": 53,
     "metadata": {},
     "output_type": "execute_result"
    }
   ],
   "source": [
    "daily_mean.sample(5)"
   ]
  },
  {
   "cell_type": "code",
   "execution_count": 54,
   "metadata": {
    "collapsed": false
   },
   "outputs": [],
   "source": [
    "daily_mean['Date'] = daily_mean['Date'] + datetime.timedelta(days=1)"
   ]
  },
  {
   "cell_type": "code",
   "execution_count": 55,
   "metadata": {
    "collapsed": false
   },
   "outputs": [],
   "source": [
    "df = df.merge(daily_mean, how = 'left', on = ['Date','Tariff'])"
   ]
  },
  {
   "cell_type": "code",
   "execution_count": 56,
   "metadata": {
    "collapsed": false
   },
   "outputs": [],
   "source": [
    "df = df.rename(columns = {'mean_x' : 'mean_cons',\n",
    "          'mean_y' : 'mean_prev_day'})"
   ]
  },
  {
   "cell_type": "code",
   "execution_count": 57,
   "metadata": {
    "collapsed": false
   },
   "outputs": [
    {
     "data": {
      "text/html": [
       "<div>\n",
       "<table border=\"1\" class=\"dataframe\">\n",
       "  <thead>\n",
       "    <tr style=\"text-align: right;\">\n",
       "      <th></th>\n",
       "      <th>DateTime</th>\n",
       "      <th>Tariff</th>\n",
       "      <th>mean_cons</th>\n",
       "      <th>Holiday</th>\n",
       "      <th>Date</th>\n",
       "      <th>temperature</th>\n",
       "      <th>humidity</th>\n",
       "      <th>cloudCover</th>\n",
       "      <th>pressure</th>\n",
       "      <th>DoW</th>\n",
       "      <th>Time</th>\n",
       "      <th>Month</th>\n",
       "      <th>Year</th>\n",
       "      <th>mean_prev_day</th>\n",
       "    </tr>\n",
       "  </thead>\n",
       "  <tbody>\n",
       "    <tr>\n",
       "      <th>68505</th>\n",
       "      <td>2014-01-18 09:00:00</td>\n",
       "      <td>Std</td>\n",
       "      <td>0.241734</td>\n",
       "      <td>0</td>\n",
       "      <td>2014-01-18</td>\n",
       "      <td>8.12</td>\n",
       "      <td>0.82</td>\n",
       "      <td>1.00</td>\n",
       "      <td>991.83</td>\n",
       "      <td>5</td>\n",
       "      <td>09:00:00</td>\n",
       "      <td>1</td>\n",
       "      <td>2014</td>\n",
       "      <td>0.236838</td>\n",
       "    </tr>\n",
       "    <tr>\n",
       "      <th>56254</th>\n",
       "      <td>2013-09-04 03:30:00</td>\n",
       "      <td>Std</td>\n",
       "      <td>0.097991</td>\n",
       "      <td>0</td>\n",
       "      <td>2013-09-04</td>\n",
       "      <td>14.56</td>\n",
       "      <td>0.95</td>\n",
       "      <td>0.00</td>\n",
       "      <td>1024.28</td>\n",
       "      <td>2</td>\n",
       "      <td>03:30:00</td>\n",
       "      <td>9</td>\n",
       "      <td>2013</td>\n",
       "      <td>0.169922</td>\n",
       "    </tr>\n",
       "    <tr>\n",
       "      <th>34701</th>\n",
       "      <td>2013-03-08 14:30:00</td>\n",
       "      <td>ToU</td>\n",
       "      <td>0.197770</td>\n",
       "      <td>0</td>\n",
       "      <td>2013-03-08</td>\n",
       "      <td>9.64</td>\n",
       "      <td>0.95</td>\n",
       "      <td>0.86</td>\n",
       "      <td>998.00</td>\n",
       "      <td>4</td>\n",
       "      <td>14:30:00</td>\n",
       "      <td>3</td>\n",
       "      <td>2013</td>\n",
       "      <td>0.219322</td>\n",
       "    </tr>\n",
       "    <tr>\n",
       "      <th>46003</th>\n",
       "      <td>2012-08-22 22:30:00</td>\n",
       "      <td>Std</td>\n",
       "      <td>0.184515</td>\n",
       "      <td>0</td>\n",
       "      <td>2012-08-22</td>\n",
       "      <td>16.11</td>\n",
       "      <td>0.74</td>\n",
       "      <td>0.28</td>\n",
       "      <td>1017.89</td>\n",
       "      <td>2</td>\n",
       "      <td>22:30:00</td>\n",
       "      <td>8</td>\n",
       "      <td>2012</td>\n",
       "      <td>0.167222</td>\n",
       "    </tr>\n",
       "    <tr>\n",
       "      <th>21347</th>\n",
       "      <td>2012-01-05 00:00:00</td>\n",
       "      <td>Std</td>\n",
       "      <td>0.227402</td>\n",
       "      <td>0</td>\n",
       "      <td>2012-01-05</td>\n",
       "      <td>9.83</td>\n",
       "      <td>0.80</td>\n",
       "      <td>0.67</td>\n",
       "      <td>1002.92</td>\n",
       "      <td>3</td>\n",
       "      <td>00:00:00</td>\n",
       "      <td>1</td>\n",
       "      <td>2012</td>\n",
       "      <td>0.265686</td>\n",
       "    </tr>\n",
       "  </tbody>\n",
       "</table>\n",
       "</div>"
      ],
      "text/plain": [
       "                 DateTime Tariff  mean_cons  Holiday       Date  temperature  \\\n",
       "68505 2014-01-18 09:00:00    Std   0.241734        0 2014-01-18         8.12   \n",
       "56254 2013-09-04 03:30:00    Std   0.097991        0 2013-09-04        14.56   \n",
       "34701 2013-03-08 14:30:00    ToU   0.197770        0 2013-03-08         9.64   \n",
       "46003 2012-08-22 22:30:00    Std   0.184515        0 2012-08-22        16.11   \n",
       "21347 2012-01-05 00:00:00    Std   0.227402        0 2012-01-05         9.83   \n",
       "\n",
       "       humidity  cloudCover  pressure  DoW      Time  Month  Year  \\\n",
       "68505      0.82        1.00    991.83    5  09:00:00      1  2014   \n",
       "56254      0.95        0.00   1024.28    2  03:30:00      9  2013   \n",
       "34701      0.95        0.86    998.00    4  14:30:00      3  2013   \n",
       "46003      0.74        0.28   1017.89    2  22:30:00      8  2012   \n",
       "21347      0.80        0.67   1002.92    3  00:00:00      1  2012   \n",
       "\n",
       "       mean_prev_day  \n",
       "68505       0.236838  \n",
       "56254       0.169922  \n",
       "34701       0.219322  \n",
       "46003       0.167222  \n",
       "21347       0.265686  "
      ]
     },
     "execution_count": 57,
     "metadata": {},
     "output_type": "execute_result"
    }
   ],
   "source": [
    "df.sample(5)"
   ]
  },
  {
   "cell_type": "markdown",
   "metadata": {},
   "source": [
    "###### Aggregate demand in the previous day at the same time and at the previous 3 time steps (4 variables)."
   ]
  },
  {
   "cell_type": "code",
   "execution_count": 58,
   "metadata": {
    "collapsed": false
   },
   "outputs": [
    {
     "data": {
      "text/html": [
       "<div>\n",
       "<table border=\"1\" class=\"dataframe\">\n",
       "  <thead>\n",
       "    <tr style=\"text-align: right;\">\n",
       "      <th></th>\n",
       "      <th>DateTime</th>\n",
       "      <th>Tariff</th>\n",
       "      <th>mean_cons</th>\n",
       "      <th>Holiday</th>\n",
       "      <th>Date</th>\n",
       "      <th>temperature</th>\n",
       "      <th>humidity</th>\n",
       "      <th>cloudCover</th>\n",
       "      <th>pressure</th>\n",
       "      <th>DoW</th>\n",
       "      <th>Time</th>\n",
       "      <th>Month</th>\n",
       "      <th>Year</th>\n",
       "      <th>mean_prev_day</th>\n",
       "    </tr>\n",
       "  </thead>\n",
       "  <tbody>\n",
       "    <tr>\n",
       "      <th>0</th>\n",
       "      <td>2012-10-15 21:00:00</td>\n",
       "      <td>Std</td>\n",
       "      <td>0.301802</td>\n",
       "      <td>0</td>\n",
       "      <td>2012-10-15</td>\n",
       "      <td>11.80</td>\n",
       "      <td>0.82</td>\n",
       "      <td>0.38</td>\n",
       "      <td>1000.87</td>\n",
       "      <td>0</td>\n",
       "      <td>21:00:00</td>\n",
       "      <td>10</td>\n",
       "      <td>2012</td>\n",
       "      <td>0.227159</td>\n",
       "    </tr>\n",
       "    <tr>\n",
       "      <th>1</th>\n",
       "      <td>2012-10-21 21:00:00</td>\n",
       "      <td>Std</td>\n",
       "      <td>0.289203</td>\n",
       "      <td>0</td>\n",
       "      <td>2012-10-21</td>\n",
       "      <td>12.00</td>\n",
       "      <td>0.96</td>\n",
       "      <td>0.87</td>\n",
       "      <td>1017.99</td>\n",
       "      <td>6</td>\n",
       "      <td>21:00:00</td>\n",
       "      <td>10</td>\n",
       "      <td>2012</td>\n",
       "      <td>0.214069</td>\n",
       "    </tr>\n",
       "    <tr>\n",
       "      <th>2</th>\n",
       "      <td>2012-10-27 13:00:00</td>\n",
       "      <td>Std</td>\n",
       "      <td>0.263447</td>\n",
       "      <td>0</td>\n",
       "      <td>2012-10-27</td>\n",
       "      <td>7.46</td>\n",
       "      <td>0.73</td>\n",
       "      <td>0.57</td>\n",
       "      <td>1016.85</td>\n",
       "      <td>5</td>\n",
       "      <td>13:00:00</td>\n",
       "      <td>10</td>\n",
       "      <td>2012</td>\n",
       "      <td>0.225192</td>\n",
       "    </tr>\n",
       "    <tr>\n",
       "      <th>3</th>\n",
       "      <td>2012-10-28 17:30:00</td>\n",
       "      <td>Std</td>\n",
       "      <td>0.378239</td>\n",
       "      <td>0</td>\n",
       "      <td>2012-10-28</td>\n",
       "      <td>9.09</td>\n",
       "      <td>0.86</td>\n",
       "      <td>0.43</td>\n",
       "      <td>1012.33</td>\n",
       "      <td>6</td>\n",
       "      <td>17:30:00</td>\n",
       "      <td>10</td>\n",
       "      <td>2012</td>\n",
       "      <td>0.237870</td>\n",
       "    </tr>\n",
       "    <tr>\n",
       "      <th>4</th>\n",
       "      <td>2012-11-04 00:30:00</td>\n",
       "      <td>Std</td>\n",
       "      <td>0.225930</td>\n",
       "      <td>0</td>\n",
       "      <td>2012-11-04</td>\n",
       "      <td>3.08</td>\n",
       "      <td>0.91</td>\n",
       "      <td>0.13</td>\n",
       "      <td>999.88</td>\n",
       "      <td>6</td>\n",
       "      <td>00:30:00</td>\n",
       "      <td>11</td>\n",
       "      <td>2012</td>\n",
       "      <td>0.240950</td>\n",
       "    </tr>\n",
       "  </tbody>\n",
       "</table>\n",
       "</div>"
      ],
      "text/plain": [
       "             DateTime Tariff  mean_cons  Holiday       Date  temperature  \\\n",
       "0 2012-10-15 21:00:00    Std   0.301802        0 2012-10-15        11.80   \n",
       "1 2012-10-21 21:00:00    Std   0.289203        0 2012-10-21        12.00   \n",
       "2 2012-10-27 13:00:00    Std   0.263447        0 2012-10-27         7.46   \n",
       "3 2012-10-28 17:30:00    Std   0.378239        0 2012-10-28         9.09   \n",
       "4 2012-11-04 00:30:00    Std   0.225930        0 2012-11-04         3.08   \n",
       "\n",
       "   humidity  cloudCover  pressure  DoW      Time  Month  Year  mean_prev_day  \n",
       "0      0.82        0.38   1000.87    0  21:00:00     10  2012       0.227159  \n",
       "1      0.96        0.87   1017.99    6  21:00:00     10  2012       0.214069  \n",
       "2      0.73        0.57   1016.85    5  13:00:00     10  2012       0.225192  \n",
       "3      0.86        0.43   1012.33    6  17:30:00     10  2012       0.237870  \n",
       "4      0.91        0.13    999.88    6  00:30:00     11  2012       0.240950  "
      ]
     },
     "execution_count": 58,
     "metadata": {},
     "output_type": "execute_result"
    }
   ],
   "source": [
    "df.head()"
   ]
  },
  {
   "cell_type": "code",
   "execution_count": 59,
   "metadata": {
    "collapsed": true
   },
   "outputs": [],
   "source": [
    "def prev_ts(df_in, initial, final, step):\n",
    "    #Both initial and final are included in the loop\n",
    "    df_out = df_in[['DateTime', 'Tariff']].copy()\n",
    "    for i in range(initial, final + 1, step):\n",
    "        aux = df_in[['DateTime', 'Tariff', 'mean_cons']].copy()\n",
    "        aux['DateTime'] = aux['DateTime'] + datetime.timedelta(minutes = i)\n",
    "        df_out = df_out.\\\n",
    "            merge(aux, how = 'left', on = ['DateTime','Tariff'], suffixes = ('','_-%d' %(i)))\n",
    "    return(df_out)"
   ]
  },
  {
   "cell_type": "code",
   "execution_count": 60,
   "metadata": {
    "collapsed": false
   },
   "outputs": [],
   "source": [
    "tmp = prev_ts(df, 22*60+30, 24*60, 30)\n",
    "df = df.merge(tmp[['DateTime','Tariff','mean_cons_-1380', 'mean_cons_-1410', 'mean_cons_-1440']],\n",
    "         on = ['DateTime','Tariff'], suffixes = ('',''))"
   ]
  },
  {
   "cell_type": "code",
   "execution_count": 61,
   "metadata": {
    "collapsed": false
   },
   "outputs": [
    {
     "data": {
      "text/html": [
       "<div>\n",
       "<table border=\"1\" class=\"dataframe\">\n",
       "  <thead>\n",
       "    <tr style=\"text-align: right;\">\n",
       "      <th></th>\n",
       "      <th>DateTime</th>\n",
       "      <th>Tariff</th>\n",
       "      <th>mean_cons</th>\n",
       "      <th>Holiday</th>\n",
       "      <th>Date</th>\n",
       "      <th>temperature</th>\n",
       "      <th>humidity</th>\n",
       "      <th>cloudCover</th>\n",
       "      <th>pressure</th>\n",
       "      <th>DoW</th>\n",
       "      <th>Time</th>\n",
       "      <th>Month</th>\n",
       "      <th>Year</th>\n",
       "      <th>mean_prev_day</th>\n",
       "      <th>mean_cons_-1380</th>\n",
       "      <th>mean_cons_-1410</th>\n",
       "      <th>mean_cons_-1440</th>\n",
       "    </tr>\n",
       "  </thead>\n",
       "  <tbody>\n",
       "    <tr>\n",
       "      <th>30618</th>\n",
       "      <td>2013-08-15 22:30:00</td>\n",
       "      <td>ToU</td>\n",
       "      <td>0.173125</td>\n",
       "      <td>0</td>\n",
       "      <td>2013-08-15</td>\n",
       "      <td>18.00</td>\n",
       "      <td>0.80</td>\n",
       "      <td>0.33</td>\n",
       "      <td>1017.02</td>\n",
       "      <td>3</td>\n",
       "      <td>22:30:00</td>\n",
       "      <td>8</td>\n",
       "      <td>2013</td>\n",
       "      <td>0.152033</td>\n",
       "      <td>0.125588</td>\n",
       "      <td>0.143171</td>\n",
       "      <td>0.165840</td>\n",
       "    </tr>\n",
       "    <tr>\n",
       "      <th>17245</th>\n",
       "      <td>2014-01-01 13:30:00</td>\n",
       "      <td>Std</td>\n",
       "      <td>0.325700</td>\n",
       "      <td>1</td>\n",
       "      <td>2014-01-01</td>\n",
       "      <td>8.74</td>\n",
       "      <td>0.90</td>\n",
       "      <td>0.07</td>\n",
       "      <td>990.23</td>\n",
       "      <td>2</td>\n",
       "      <td>13:30:00</td>\n",
       "      <td>1</td>\n",
       "      <td>2014</td>\n",
       "      <td>0.252249</td>\n",
       "      <td>0.287366</td>\n",
       "      <td>0.288366</td>\n",
       "      <td>0.290529</td>\n",
       "    </tr>\n",
       "    <tr>\n",
       "      <th>31051</th>\n",
       "      <td>2013-08-25 08:30:00</td>\n",
       "      <td>ToU</td>\n",
       "      <td>0.183269</td>\n",
       "      <td>0</td>\n",
       "      <td>2013-08-25</td>\n",
       "      <td>15.42</td>\n",
       "      <td>0.96</td>\n",
       "      <td>1.00</td>\n",
       "      <td>1011.28</td>\n",
       "      <td>6</td>\n",
       "      <td>08:30:00</td>\n",
       "      <td>8</td>\n",
       "      <td>2013</td>\n",
       "      <td>0.164833</td>\n",
       "      <td>0.172518</td>\n",
       "      <td>0.177876</td>\n",
       "      <td>0.170593</td>\n",
       "    </tr>\n",
       "    <tr>\n",
       "      <th>65833</th>\n",
       "      <td>2011-12-17 22:00:00</td>\n",
       "      <td>Std</td>\n",
       "      <td>0.346586</td>\n",
       "      <td>0</td>\n",
       "      <td>2011-12-17</td>\n",
       "      <td>3.64</td>\n",
       "      <td>0.80</td>\n",
       "      <td>0.48</td>\n",
       "      <td>1012.41</td>\n",
       "      <td>5</td>\n",
       "      <td>22:00:00</td>\n",
       "      <td>12</td>\n",
       "      <td>2011</td>\n",
       "      <td>0.285098</td>\n",
       "      <td>0.341941</td>\n",
       "      <td>0.366468</td>\n",
       "      <td>0.376191</td>\n",
       "    </tr>\n",
       "    <tr>\n",
       "      <th>2356</th>\n",
       "      <td>2013-04-17 18:30:00</td>\n",
       "      <td>ToU</td>\n",
       "      <td>0.240286</td>\n",
       "      <td>0</td>\n",
       "      <td>2013-04-17</td>\n",
       "      <td>17.46</td>\n",
       "      <td>0.59</td>\n",
       "      <td>0.39</td>\n",
       "      <td>1009.15</td>\n",
       "      <td>2</td>\n",
       "      <td>18:30:00</td>\n",
       "      <td>4</td>\n",
       "      <td>2013</td>\n",
       "      <td>0.184304</td>\n",
       "      <td>0.280125</td>\n",
       "      <td>0.263716</td>\n",
       "      <td>0.259550</td>\n",
       "    </tr>\n",
       "  </tbody>\n",
       "</table>\n",
       "</div>"
      ],
      "text/plain": [
       "                 DateTime Tariff  mean_cons  Holiday       Date  temperature  \\\n",
       "30618 2013-08-15 22:30:00    ToU   0.173125        0 2013-08-15        18.00   \n",
       "17245 2014-01-01 13:30:00    Std   0.325700        1 2014-01-01         8.74   \n",
       "31051 2013-08-25 08:30:00    ToU   0.183269        0 2013-08-25        15.42   \n",
       "65833 2011-12-17 22:00:00    Std   0.346586        0 2011-12-17         3.64   \n",
       "2356  2013-04-17 18:30:00    ToU   0.240286        0 2013-04-17        17.46   \n",
       "\n",
       "       humidity  cloudCover  pressure  DoW      Time  Month  Year  \\\n",
       "30618      0.80        0.33   1017.02    3  22:30:00      8  2013   \n",
       "17245      0.90        0.07    990.23    2  13:30:00      1  2014   \n",
       "31051      0.96        1.00   1011.28    6  08:30:00      8  2013   \n",
       "65833      0.80        0.48   1012.41    5  22:00:00     12  2011   \n",
       "2356       0.59        0.39   1009.15    2  18:30:00      4  2013   \n",
       "\n",
       "       mean_prev_day  mean_cons_-1380  mean_cons_-1410  mean_cons_-1440  \n",
       "30618       0.152033         0.125588         0.143171         0.165840  \n",
       "17245       0.252249         0.287366         0.288366         0.290529  \n",
       "31051       0.164833         0.172518         0.177876         0.170593  \n",
       "65833       0.285098         0.341941         0.366468         0.376191  \n",
       "2356        0.184304         0.280125         0.263716         0.259550  "
      ]
     },
     "execution_count": 61,
     "metadata": {},
     "output_type": "execute_result"
    }
   ],
   "source": [
    "df.sample(5)"
   ]
  },
  {
   "cell_type": "markdown",
   "metadata": {},
   "source": [
    "###### Mean value of the aggregate demand of the previous 3 days at the same time and at the previous 3 time steps (4 variables)."
   ]
  },
  {
   "cell_type": "code",
   "execution_count": 62,
   "metadata": {
    "collapsed": false
   },
   "outputs": [],
   "source": [
    "aux2 = df[['DateTime', 'Tariff']].copy()\n",
    "means_3d = pd.DataFrame(index=df.index)\n",
    "for h in range(0,4):\n",
    "    for d in range(1,4):\n",
    "        aux = df[['DateTime', 'Tariff', 'mean_cons']].copy()\n",
    "        aux['DateTime'] = aux['DateTime'] + datetime.timedelta(minutes = d*24*60-h*30)\n",
    "        aux2 = aux2.\\\n",
    "            merge(aux, how = 'left', on = ['DateTime','Tariff'])\n",
    "    means_3d = means_3d.join(aux2.mean(axis=1).rename('mean_last3d_-%d' %(h*30)))"
   ]
  },
  {
   "cell_type": "code",
   "execution_count": 63,
   "metadata": {
    "collapsed": false
   },
   "outputs": [
    {
     "data": {
      "text/html": [
       "<div>\n",
       "<table border=\"1\" class=\"dataframe\">\n",
       "  <thead>\n",
       "    <tr style=\"text-align: right;\">\n",
       "      <th></th>\n",
       "      <th>mean_last3d_-0</th>\n",
       "      <th>mean_last3d_-30</th>\n",
       "      <th>mean_last3d_-60</th>\n",
       "      <th>mean_last3d_-90</th>\n",
       "    </tr>\n",
       "  </thead>\n",
       "  <tbody>\n",
       "    <tr>\n",
       "      <th>0</th>\n",
       "      <td>0.286278</td>\n",
       "      <td>0.276157</td>\n",
       "      <td>0.264642</td>\n",
       "      <td>0.251189</td>\n",
       "    </tr>\n",
       "    <tr>\n",
       "      <th>1</th>\n",
       "      <td>0.276418</td>\n",
       "      <td>0.269546</td>\n",
       "      <td>0.258608</td>\n",
       "      <td>0.246133</td>\n",
       "    </tr>\n",
       "    <tr>\n",
       "      <th>2</th>\n",
       "      <td>0.209606</td>\n",
       "      <td>0.206111</td>\n",
       "      <td>0.204395</td>\n",
       "      <td>0.204098</td>\n",
       "    </tr>\n",
       "    <tr>\n",
       "      <th>3</th>\n",
       "      <td>0.348101</td>\n",
       "      <td>0.352302</td>\n",
       "      <td>0.352996</td>\n",
       "      <td>0.350607</td>\n",
       "    </tr>\n",
       "    <tr>\n",
       "      <th>4</th>\n",
       "      <td>0.203514</td>\n",
       "      <td>0.191968</td>\n",
       "      <td>0.181703</td>\n",
       "      <td>0.172780</td>\n",
       "    </tr>\n",
       "  </tbody>\n",
       "</table>\n",
       "</div>"
      ],
      "text/plain": [
       "   mean_last3d_-0  mean_last3d_-30  mean_last3d_-60  mean_last3d_-90\n",
       "0        0.286278         0.276157         0.264642         0.251189\n",
       "1        0.276418         0.269546         0.258608         0.246133\n",
       "2        0.209606         0.206111         0.204395         0.204098\n",
       "3        0.348101         0.352302         0.352996         0.350607\n",
       "4        0.203514         0.191968         0.181703         0.172780"
      ]
     },
     "execution_count": 63,
     "metadata": {},
     "output_type": "execute_result"
    }
   ],
   "source": [
    "means_3d.head()"
   ]
  },
  {
   "cell_type": "code",
   "execution_count": 64,
   "metadata": {
    "collapsed": false
   },
   "outputs": [],
   "source": [
    "df = df.join(means_3d)"
   ]
  },
  {
   "cell_type": "code",
   "execution_count": 65,
   "metadata": {
    "collapsed": false
   },
   "outputs": [
    {
     "data": {
      "text/html": [
       "<div>\n",
       "<table border=\"1\" class=\"dataframe\">\n",
       "  <thead>\n",
       "    <tr style=\"text-align: right;\">\n",
       "      <th></th>\n",
       "      <th>DateTime</th>\n",
       "      <th>Tariff</th>\n",
       "      <th>mean_cons</th>\n",
       "      <th>Holiday</th>\n",
       "      <th>Date</th>\n",
       "      <th>temperature</th>\n",
       "      <th>humidity</th>\n",
       "      <th>cloudCover</th>\n",
       "      <th>pressure</th>\n",
       "      <th>DoW</th>\n",
       "      <th>Time</th>\n",
       "      <th>Month</th>\n",
       "      <th>Year</th>\n",
       "      <th>mean_prev_day</th>\n",
       "      <th>mean_cons_-1380</th>\n",
       "      <th>mean_cons_-1410</th>\n",
       "      <th>mean_cons_-1440</th>\n",
       "      <th>mean_last3d_-0</th>\n",
       "      <th>mean_last3d_-30</th>\n",
       "      <th>mean_last3d_-60</th>\n",
       "      <th>mean_last3d_-90</th>\n",
       "    </tr>\n",
       "  </thead>\n",
       "  <tbody>\n",
       "    <tr>\n",
       "      <th>49044</th>\n",
       "      <td>2012-03-12 07:00:00</td>\n",
       "      <td>ToU</td>\n",
       "      <td>0.194819</td>\n",
       "      <td>0</td>\n",
       "      <td>2012-03-12</td>\n",
       "      <td>5.93</td>\n",
       "      <td>0.96</td>\n",
       "      <td>0.47</td>\n",
       "      <td>1035.29</td>\n",
       "      <td>0</td>\n",
       "      <td>07:00:00</td>\n",
       "      <td>3</td>\n",
       "      <td>2012</td>\n",
       "      <td>0.239020</td>\n",
       "      <td>0.214299</td>\n",
       "      <td>0.184868</td>\n",
       "      <td>0.118326</td>\n",
       "      <td>0.159968</td>\n",
       "      <td>0.185190</td>\n",
       "      <td>0.205788</td>\n",
       "      <td>0.218541</td>\n",
       "    </tr>\n",
       "    <tr>\n",
       "      <th>43381</th>\n",
       "      <td>2011-12-09 13:00:00</td>\n",
       "      <td>ToU</td>\n",
       "      <td>0.260400</td>\n",
       "      <td>0</td>\n",
       "      <td>2011-12-09</td>\n",
       "      <td>7.68</td>\n",
       "      <td>0.62</td>\n",
       "      <td>0.31</td>\n",
       "      <td>1010.92</td>\n",
       "      <td>4</td>\n",
       "      <td>13:00:00</td>\n",
       "      <td>12</td>\n",
       "      <td>2011</td>\n",
       "      <td>0.257634</td>\n",
       "      <td>0.273115</td>\n",
       "      <td>0.292962</td>\n",
       "      <td>0.309731</td>\n",
       "      <td>0.266072</td>\n",
       "      <td>0.252653</td>\n",
       "      <td>0.247568</td>\n",
       "      <td>0.245618</td>\n",
       "    </tr>\n",
       "    <tr>\n",
       "      <th>71943</th>\n",
       "      <td>2013-01-05 05:30:00</td>\n",
       "      <td>Std</td>\n",
       "      <td>0.128027</td>\n",
       "      <td>0</td>\n",
       "      <td>2013-01-05</td>\n",
       "      <td>8.17</td>\n",
       "      <td>0.94</td>\n",
       "      <td>0.86</td>\n",
       "      <td>1035.38</td>\n",
       "      <td>5</td>\n",
       "      <td>05:30:00</td>\n",
       "      <td>1</td>\n",
       "      <td>2013</td>\n",
       "      <td>0.240086</td>\n",
       "      <td>0.155742</td>\n",
       "      <td>0.140181</td>\n",
       "      <td>0.128496</td>\n",
       "      <td>0.133038</td>\n",
       "      <td>0.138189</td>\n",
       "      <td>0.145585</td>\n",
       "      <td>0.151697</td>\n",
       "    </tr>\n",
       "  </tbody>\n",
       "</table>\n",
       "</div>"
      ],
      "text/plain": [
       "                 DateTime Tariff  mean_cons  Holiday       Date  temperature  \\\n",
       "49044 2012-03-12 07:00:00    ToU   0.194819        0 2012-03-12         5.93   \n",
       "43381 2011-12-09 13:00:00    ToU   0.260400        0 2011-12-09         7.68   \n",
       "71943 2013-01-05 05:30:00    Std   0.128027        0 2013-01-05         8.17   \n",
       "\n",
       "       humidity  cloudCover  pressure  DoW      Time  Month  Year  \\\n",
       "49044      0.96        0.47   1035.29    0  07:00:00      3  2012   \n",
       "43381      0.62        0.31   1010.92    4  13:00:00     12  2011   \n",
       "71943      0.94        0.86   1035.38    5  05:30:00      1  2013   \n",
       "\n",
       "       mean_prev_day  mean_cons_-1380  mean_cons_-1410  mean_cons_-1440  \\\n",
       "49044       0.239020         0.214299         0.184868         0.118326   \n",
       "43381       0.257634         0.273115         0.292962         0.309731   \n",
       "71943       0.240086         0.155742         0.140181         0.128496   \n",
       "\n",
       "       mean_last3d_-0  mean_last3d_-30  mean_last3d_-60  mean_last3d_-90  \n",
       "49044        0.159968         0.185190         0.205788         0.218541  \n",
       "43381        0.266072         0.252653         0.247568         0.245618  \n",
       "71943        0.133038         0.138189         0.145585         0.151697  "
      ]
     },
     "execution_count": 65,
     "metadata": {},
     "output_type": "execute_result"
    }
   ],
   "source": [
    "df.sample(3)"
   ]
  },
  {
   "cell_type": "markdown",
   "metadata": {},
   "source": [
    "###### Mean value of the aggregate demand on the same day of week of the previous 3 weeks at the same time and at the previous 3 time steps (4 variables)."
   ]
  },
  {
   "cell_type": "code",
   "execution_count": 66,
   "metadata": {
    "collapsed": true
   },
   "outputs": [],
   "source": [
    "aux2 = df[['DateTime', 'Tariff']].copy()\n",
    "means_3w = pd.DataFrame(index=df.index)\n",
    "for h in range(0,4):\n",
    "    for w in range(1,4):\n",
    "        aux = df[['DateTime', 'Tariff', 'mean_cons']].copy()\n",
    "        aux['DateTime'] = aux['DateTime'] + datetime.timedelta(minutes = w*7*24*60-h*30)\n",
    "        aux2 = aux2.\\\n",
    "            merge(aux, how = 'left', on = ['DateTime','Tariff'])\n",
    "    means_3w = means_3w.join(aux2.mean(axis=1).rename('mean_last3w_-%d' %(h*30)))"
   ]
  },
  {
   "cell_type": "code",
   "execution_count": 67,
   "metadata": {
    "collapsed": true
   },
   "outputs": [],
   "source": [
    "df = df.join(means_3w)"
   ]
  },
  {
   "cell_type": "code",
   "execution_count": 68,
   "metadata": {
    "collapsed": false
   },
   "outputs": [
    {
     "data": {
      "text/html": [
       "<div>\n",
       "<table border=\"1\" class=\"dataframe\">\n",
       "  <thead>\n",
       "    <tr style=\"text-align: right;\">\n",
       "      <th></th>\n",
       "      <th>DateTime</th>\n",
       "      <th>Tariff</th>\n",
       "      <th>mean_cons</th>\n",
       "      <th>Holiday</th>\n",
       "      <th>Date</th>\n",
       "      <th>temperature</th>\n",
       "      <th>humidity</th>\n",
       "      <th>cloudCover</th>\n",
       "      <th>pressure</th>\n",
       "      <th>DoW</th>\n",
       "      <th>Time</th>\n",
       "      <th>Month</th>\n",
       "      <th>Year</th>\n",
       "      <th>mean_prev_day</th>\n",
       "      <th>mean_cons_-1380</th>\n",
       "      <th>mean_cons_-1410</th>\n",
       "      <th>mean_cons_-1440</th>\n",
       "      <th>mean_last3d_-0</th>\n",
       "      <th>mean_last3d_-30</th>\n",
       "      <th>mean_last3d_-60</th>\n",
       "      <th>mean_last3d_-90</th>\n",
       "      <th>mean_last3w_-0</th>\n",
       "      <th>mean_last3w_-30</th>\n",
       "      <th>mean_last3w_-60</th>\n",
       "      <th>mean_last3w_-90</th>\n",
       "    </tr>\n",
       "  </thead>\n",
       "  <tbody>\n",
       "    <tr>\n",
       "      <th>26278</th>\n",
       "      <td>2014-02-18 00:30:00</td>\n",
       "      <td>ToU</td>\n",
       "      <td>0.153197</td>\n",
       "      <td>0</td>\n",
       "      <td>2014-02-18</td>\n",
       "      <td>8.13</td>\n",
       "      <td>0.87</td>\n",
       "      <td>0.07</td>\n",
       "      <td>1009.44</td>\n",
       "      <td>1</td>\n",
       "      <td>00:30:00</td>\n",
       "      <td>2</td>\n",
       "      <td>2014</td>\n",
       "      <td>0.215931</td>\n",
       "      <td>0.121131</td>\n",
       "      <td>0.136476</td>\n",
       "      <td>0.154438</td>\n",
       "      <td>0.165929</td>\n",
       "      <td>0.156137</td>\n",
       "      <td>0.147634</td>\n",
       "      <td>0.141069</td>\n",
       "      <td>0.159337</td>\n",
       "      <td>0.148464</td>\n",
       "      <td>0.139922</td>\n",
       "      <td>0.133518</td>\n",
       "    </tr>\n",
       "    <tr>\n",
       "      <th>73166</th>\n",
       "      <td>2013-05-01 20:30:00</td>\n",
       "      <td>Std</td>\n",
       "      <td>0.300039</td>\n",
       "      <td>0</td>\n",
       "      <td>2013-05-01</td>\n",
       "      <td>10.58</td>\n",
       "      <td>0.48</td>\n",
       "      <td>0.31</td>\n",
       "      <td>1022.83</td>\n",
       "      <td>2</td>\n",
       "      <td>20:30:00</td>\n",
       "      <td>5</td>\n",
       "      <td>2013</td>\n",
       "      <td>0.188458</td>\n",
       "      <td>0.266500</td>\n",
       "      <td>0.290514</td>\n",
       "      <td>0.303346</td>\n",
       "      <td>0.305720</td>\n",
       "      <td>0.298633</td>\n",
       "      <td>0.288665</td>\n",
       "      <td>0.275618</td>\n",
       "      <td>0.305824</td>\n",
       "      <td>0.297761</td>\n",
       "      <td>0.289023</td>\n",
       "      <td>0.276853</td>\n",
       "    </tr>\n",
       "    <tr>\n",
       "      <th>8180</th>\n",
       "      <td>2014-01-28 05:00:00</td>\n",
       "      <td>Std</td>\n",
       "      <td>0.129436</td>\n",
       "      <td>0</td>\n",
       "      <td>2014-01-28</td>\n",
       "      <td>5.81</td>\n",
       "      <td>0.87</td>\n",
       "      <td>0.07</td>\n",
       "      <td>985.22</td>\n",
       "      <td>1</td>\n",
       "      <td>05:00:00</td>\n",
       "      <td>1</td>\n",
       "      <td>2014</td>\n",
       "      <td>0.249824</td>\n",
       "      <td>0.154049</td>\n",
       "      <td>0.142309</td>\n",
       "      <td>0.133349</td>\n",
       "      <td>0.129292</td>\n",
       "      <td>0.131501</td>\n",
       "      <td>0.134825</td>\n",
       "      <td>0.140999</td>\n",
       "      <td>0.127401</td>\n",
       "      <td>0.131363</td>\n",
       "      <td>0.136468</td>\n",
       "      <td>0.145630</td>\n",
       "    </tr>\n",
       "  </tbody>\n",
       "</table>\n",
       "</div>"
      ],
      "text/plain": [
       "                 DateTime Tariff  mean_cons  Holiday       Date  temperature  \\\n",
       "26278 2014-02-18 00:30:00    ToU   0.153197        0 2014-02-18         8.13   \n",
       "73166 2013-05-01 20:30:00    Std   0.300039        0 2013-05-01        10.58   \n",
       "8180  2014-01-28 05:00:00    Std   0.129436        0 2014-01-28         5.81   \n",
       "\n",
       "       humidity  cloudCover  pressure  DoW      Time  Month  Year  \\\n",
       "26278      0.87        0.07   1009.44    1  00:30:00      2  2014   \n",
       "73166      0.48        0.31   1022.83    2  20:30:00      5  2013   \n",
       "8180       0.87        0.07    985.22    1  05:00:00      1  2014   \n",
       "\n",
       "       mean_prev_day  mean_cons_-1380  mean_cons_-1410  mean_cons_-1440  \\\n",
       "26278       0.215931         0.121131         0.136476         0.154438   \n",
       "73166       0.188458         0.266500         0.290514         0.303346   \n",
       "8180        0.249824         0.154049         0.142309         0.133349   \n",
       "\n",
       "       mean_last3d_-0  mean_last3d_-30  mean_last3d_-60  mean_last3d_-90  \\\n",
       "26278        0.165929         0.156137         0.147634         0.141069   \n",
       "73166        0.305720         0.298633         0.288665         0.275618   \n",
       "8180         0.129292         0.131501         0.134825         0.140999   \n",
       "\n",
       "       mean_last3w_-0  mean_last3w_-30  mean_last3w_-60  mean_last3w_-90  \n",
       "26278        0.159337         0.148464         0.139922         0.133518  \n",
       "73166        0.305824         0.297761         0.289023         0.276853  \n",
       "8180         0.127401         0.131363         0.136468         0.145630  "
      ]
     },
     "execution_count": 68,
     "metadata": {},
     "output_type": "execute_result"
    }
   ],
   "source": [
    "df.sample(3)"
   ]
  },
  {
   "cell_type": "markdown",
   "metadata": {},
   "source": [
    "Note that pandas.mean skips NaN values by default. Therefore, in the first days/weeks the means are calculated with the available data (1 or 2 values)."
   ]
  },
  {
   "cell_type": "markdown",
   "metadata": {},
   "source": [
    "Now that we have built all features we can save this model to a csv file for later use."
   ]
  },
  {
   "cell_type": "code",
   "execution_count": 69,
   "metadata": {
    "collapsed": true
   },
   "outputs": [],
   "source": [
    "df.to_csv('outputs/features_model.csv')"
   ]
  }
 ],
 "metadata": {
  "kernelspec": {
   "display_name": "Python 3",
   "language": "python",
   "name": "python3"
  },
  "language_info": {
   "codemirror_mode": {
    "name": "ipython",
    "version": 3
   },
   "file_extension": ".py",
   "mimetype": "text/x-python",
   "name": "python",
   "nbconvert_exporter": "python",
   "pygments_lexer": "ipython3",
   "version": "3.6.0"
  }
 },
 "nbformat": 4,
 "nbformat_minor": 2
}
