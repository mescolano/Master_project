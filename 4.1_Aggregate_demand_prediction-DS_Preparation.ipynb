{
 "cells": [
  {
   "cell_type": "markdown",
   "metadata": {},
   "source": [
    "# 4 Prediction of the aggregate demand "
   ]
  },
  {
   "cell_type": "markdown",
   "metadata": {},
   "source": [
    "In this section, we will compare the performance of different algorithms in predicting the aggregate demand, separating standard and ToU users. First, we will use feature models and then exponential smoothing, which is a time-series dedicated algorithm.\n",
    "\n",
    "After adding the external variables (holidays, weather) we will use different algorithms to fit our feature model. Later, we will predict the aggregate demand with exponential smoothing models in R using the \"forecast\" package.\n",
    "\n",
    "In general we will train our model with Nov 2011- Nov 2013 data and validate it with Nov 2013 - Feb 2014 data.\n",
    "\n",
    "We will use the aggregate statistics we computed in Section 2 with Spark."
   ]
  },
  {
   "cell_type": "markdown",
   "metadata": {},
   "source": [
    "## 4.1 Preparing the dataset"
   ]
  },
  {
   "cell_type": "markdown",
   "metadata": {},
   "source": [
    "First, we will prepare our data so it can be use in the different algorithms proposed. We will start including time and weather variables as these are needed for all models and then we will add the engineered features for the feature models."
   ]
  },
  {
   "cell_type": "code",
   "execution_count": 1,
   "metadata": {
    "collapsed": true
   },
   "outputs": [],
   "source": [
    "import pandas as pd\n",
    "pd.options.display.max_columns = 999\n",
    "import datetime"
   ]
  },
  {
   "cell_type": "code",
   "execution_count": 2,
   "metadata": {
    "collapsed": true
   },
   "outputs": [],
   "source": [
    "df = pd.read_csv('outputs/agg_stats.csv', index_col=0)"
   ]
  },
  {
   "cell_type": "code",
   "execution_count": 3,
   "metadata": {
    "collapsed": false
   },
   "outputs": [
    {
     "data": {
      "text/html": [
       "<div>\n",
       "<table border=\"1\" class=\"dataframe\">\n",
       "  <thead>\n",
       "    <tr style=\"text-align: right;\">\n",
       "      <th></th>\n",
       "      <th>DateTime</th>\n",
       "      <th>Tariff</th>\n",
       "      <th>ToU_User</th>\n",
       "      <th>count</th>\n",
       "      <th>sum</th>\n",
       "      <th>min</th>\n",
       "      <th>mean</th>\n",
       "      <th>max</th>\n",
       "      <th>std_dev</th>\n",
       "    </tr>\n",
       "  </thead>\n",
       "  <tbody>\n",
       "    <tr>\n",
       "      <th>0</th>\n",
       "      <td>2012-10-15 21:00:00</td>\n",
       "      <td>Std</td>\n",
       "      <td>0</td>\n",
       "      <td>4210</td>\n",
       "      <td>1270.587000</td>\n",
       "      <td>0.0</td>\n",
       "      <td>0.301802</td>\n",
       "      <td>5.335</td>\n",
       "      <td>0.319130</td>\n",
       "    </tr>\n",
       "    <tr>\n",
       "      <th>1</th>\n",
       "      <td>2012-10-21 21:00:00</td>\n",
       "      <td>Std</td>\n",
       "      <td>0</td>\n",
       "      <td>4287</td>\n",
       "      <td>1239.813999</td>\n",
       "      <td>0.0</td>\n",
       "      <td>0.289203</td>\n",
       "      <td>6.095</td>\n",
       "      <td>0.320852</td>\n",
       "    </tr>\n",
       "    <tr>\n",
       "      <th>2</th>\n",
       "      <td>2012-10-27 13:00:00</td>\n",
       "      <td>Std</td>\n",
       "      <td>0</td>\n",
       "      <td>4402</td>\n",
       "      <td>1159.695000</td>\n",
       "      <td>0.0</td>\n",
       "      <td>0.263447</td>\n",
       "      <td>3.554</td>\n",
       "      <td>0.336398</td>\n",
       "    </tr>\n",
       "    <tr>\n",
       "      <th>3</th>\n",
       "      <td>2012-10-28 17:30:00</td>\n",
       "      <td>Std</td>\n",
       "      <td>0</td>\n",
       "      <td>4402</td>\n",
       "      <td>1665.008001</td>\n",
       "      <td>0.0</td>\n",
       "      <td>0.378239</td>\n",
       "      <td>8.040</td>\n",
       "      <td>0.447315</td>\n",
       "    </tr>\n",
       "    <tr>\n",
       "      <th>4</th>\n",
       "      <td>2012-11-04 00:30:00</td>\n",
       "      <td>Std</td>\n",
       "      <td>0</td>\n",
       "      <td>4403</td>\n",
       "      <td>994.769000</td>\n",
       "      <td>0.0</td>\n",
       "      <td>0.225930</td>\n",
       "      <td>6.072</td>\n",
       "      <td>0.424697</td>\n",
       "    </tr>\n",
       "  </tbody>\n",
       "</table>\n",
       "</div>"
      ],
      "text/plain": [
       "              DateTime Tariff  ToU_User  count          sum  min      mean  \\\n",
       "0  2012-10-15 21:00:00    Std         0   4210  1270.587000  0.0  0.301802   \n",
       "1  2012-10-21 21:00:00    Std         0   4287  1239.813999  0.0  0.289203   \n",
       "2  2012-10-27 13:00:00    Std         0   4402  1159.695000  0.0  0.263447   \n",
       "3  2012-10-28 17:30:00    Std         0   4402  1665.008001  0.0  0.378239   \n",
       "4  2012-11-04 00:30:00    Std         0   4403   994.769000  0.0  0.225930   \n",
       "\n",
       "     max   std_dev  \n",
       "0  5.335  0.319130  \n",
       "1  6.095  0.320852  \n",
       "2  3.554  0.336398  \n",
       "3  8.040  0.447315  \n",
       "4  6.072  0.424697  "
      ]
     },
     "execution_count": 3,
     "metadata": {},
     "output_type": "execute_result"
    }
   ],
   "source": [
    "df.head()"
   ]
  },
  {
   "cell_type": "markdown",
   "metadata": {},
   "source": [
    "We keep only the columns we need: DateTime, Tariff and mean consumption. We are interested in predicting the aggregate demand (i.e. the sum) but as the data count in each Timestamp is different, we will use the mean. However, we cannot take the mean column directly as the value of Tariff is the user group rather than the tariff applied. In 2011, 2012 and 2014 we are interested in the aggregate demand of both groups combined so we will group and calculate the mean with sum and count."
   ]
  },
  {
   "cell_type": "code",
   "execution_count": 4,
   "metadata": {
    "collapsed": false
   },
   "outputs": [],
   "source": [
    "df = df[['DateTime','Tariff','sum','count']]"
   ]
  },
  {
   "cell_type": "code",
   "execution_count": 5,
   "metadata": {
    "collapsed": true
   },
   "outputs": [],
   "source": [
    "df['DateTime'] = pd.to_datetime(df['DateTime'])"
   ]
  },
  {
   "cell_type": "code",
   "execution_count": 6,
   "metadata": {
    "collapsed": false
   },
   "outputs": [
    {
     "data": {
      "text/plain": [
       "pandas.tslib.Timestamp"
      ]
     },
     "execution_count": 6,
     "metadata": {},
     "output_type": "execute_result"
    }
   ],
   "source": [
    "type(df['DateTime'][2])"
   ]
  },
  {
   "cell_type": "markdown",
   "metadata": {},
   "source": [
    "Column Tariff actually represents the user group, not the tariff applied in that timestamp so we will rename it for clarity."
   ]
  },
  {
   "cell_type": "code",
   "execution_count": 7,
   "metadata": {
    "collapsed": true
   },
   "outputs": [],
   "source": [
    "df = df.rename(columns={'Tariff':'User_group'})"
   ]
  },
  {
   "cell_type": "code",
   "execution_count": 8,
   "metadata": {
    "collapsed": false
   },
   "outputs": [
    {
     "data": {
      "text/html": [
       "<div>\n",
       "<table border=\"1\" class=\"dataframe\">\n",
       "  <thead>\n",
       "    <tr style=\"text-align: right;\">\n",
       "      <th></th>\n",
       "      <th>DateTime</th>\n",
       "      <th>User_group</th>\n",
       "      <th>sum</th>\n",
       "      <th>count</th>\n",
       "    </tr>\n",
       "  </thead>\n",
       "  <tbody>\n",
       "    <tr>\n",
       "      <th>66886</th>\n",
       "      <td>2013-06-02 03:30:00</td>\n",
       "      <td>Std</td>\n",
       "      <td>425.513</td>\n",
       "      <td>4261</td>\n",
       "    </tr>\n",
       "    <tr>\n",
       "      <th>73156</th>\n",
       "      <td>2013-04-01 12:00:00</td>\n",
       "      <td>Std</td>\n",
       "      <td>1312.155</td>\n",
       "      <td>4303</td>\n",
       "    </tr>\n",
       "    <tr>\n",
       "      <th>66217</th>\n",
       "      <td>2012-08-14 11:30:00</td>\n",
       "      <td>Std</td>\n",
       "      <td>642.326</td>\n",
       "      <td>3739</td>\n",
       "    </tr>\n",
       "    <tr>\n",
       "      <th>56372</th>\n",
       "      <td>2012-06-02 23:30:00</td>\n",
       "      <td>ToU</td>\n",
       "      <td>106.372</td>\n",
       "      <td>739</td>\n",
       "    </tr>\n",
       "    <tr>\n",
       "      <th>31743</th>\n",
       "      <td>2012-01-08 20:00:00</td>\n",
       "      <td>Std</td>\n",
       "      <td>138.970</td>\n",
       "      <td>365</td>\n",
       "    </tr>\n",
       "  </tbody>\n",
       "</table>\n",
       "</div>"
      ],
      "text/plain": [
       "                 DateTime User_group       sum  count\n",
       "66886 2013-06-02 03:30:00        Std   425.513   4261\n",
       "73156 2013-04-01 12:00:00        Std  1312.155   4303\n",
       "66217 2012-08-14 11:30:00        Std   642.326   3739\n",
       "56372 2012-06-02 23:30:00        ToU   106.372    739\n",
       "31743 2012-01-08 20:00:00        Std   138.970    365"
      ]
     },
     "execution_count": 8,
     "metadata": {},
     "output_type": "execute_result"
    }
   ],
   "source": [
    "df.sample(5)"
   ]
  },
  {
   "cell_type": "markdown",
   "metadata": {},
   "source": [
    "### 4.1.1 Tariff"
   ]
  },
  {
   "cell_type": "markdown",
   "metadata": {},
   "source": [
    "On of the main variables to include in our dataset is the price of electricity. We have grouped standard flat rate and dToU users in two different groups but we need the actual values of the tariff. \n",
    "\n",
    "For standard users, the price is always equal to 14.228 p/kWh.\n",
    "\n",
    "For ToU users, the tariff level for each 30-min interval is given in an Excel sheet we downloaded in Section 3.2. The corresponding values for each level are:\n",
    "\n",
    "-High = 67.20p/kWh\n",
    "\n",
    "-Normal = 11.76p/kWh\n",
    "\n",
    "-Low = 3.99p/kWh"
   ]
  },
  {
   "cell_type": "code",
   "execution_count": 9,
   "metadata": {
    "collapsed": true
   },
   "outputs": [],
   "source": [
    "tariffs = pd.read_excel('data/Tariffs.xlsx')"
   ]
  },
  {
   "cell_type": "code",
   "execution_count": 10,
   "metadata": {
    "collapsed": true
   },
   "outputs": [],
   "source": [
    "tariffs.loc[tariffs['Tariff'] == 'Normal', 'Tariff_value'] = 11.76\n",
    "tariffs.loc[tariffs['Tariff'] == 'High', 'Tariff_value'] = 67.20\n",
    "tariffs.loc[tariffs['Tariff'] == 'Low', 'Tariff_value'] = 3.99"
   ]
  },
  {
   "cell_type": "code",
   "execution_count": 11,
   "metadata": {
    "collapsed": true
   },
   "outputs": [],
   "source": [
    "tariffs = tariffs.rename(columns = {'TariffDateTime' : 'DateTime'})"
   ]
  },
  {
   "cell_type": "code",
   "execution_count": 12,
   "metadata": {
    "collapsed": false
   },
   "outputs": [
    {
     "data": {
      "text/html": [
       "<div>\n",
       "<table border=\"1\" class=\"dataframe\">\n",
       "  <thead>\n",
       "    <tr style=\"text-align: right;\">\n",
       "      <th></th>\n",
       "      <th>DateTime</th>\n",
       "      <th>Tariff</th>\n",
       "      <th>Tariff_value</th>\n",
       "    </tr>\n",
       "  </thead>\n",
       "  <tbody>\n",
       "    <tr>\n",
       "      <th>14895</th>\n",
       "      <td>2013-11-07 07:30:00</td>\n",
       "      <td>Normal</td>\n",
       "      <td>11.76</td>\n",
       "    </tr>\n",
       "    <tr>\n",
       "      <th>11845</th>\n",
       "      <td>2013-09-04 18:30:00</td>\n",
       "      <td>Normal</td>\n",
       "      <td>11.76</td>\n",
       "    </tr>\n",
       "    <tr>\n",
       "      <th>15087</th>\n",
       "      <td>2013-11-11 07:30:00</td>\n",
       "      <td>Normal</td>\n",
       "      <td>11.76</td>\n",
       "    </tr>\n",
       "    <tr>\n",
       "      <th>1335</th>\n",
       "      <td>2013-01-28 19:30:00</td>\n",
       "      <td>Low</td>\n",
       "      <td>3.99</td>\n",
       "    </tr>\n",
       "    <tr>\n",
       "      <th>2725</th>\n",
       "      <td>2013-02-26 18:30:00</td>\n",
       "      <td>Normal</td>\n",
       "      <td>11.76</td>\n",
       "    </tr>\n",
       "  </tbody>\n",
       "</table>\n",
       "</div>"
      ],
      "text/plain": [
       "                 DateTime  Tariff  Tariff_value\n",
       "14895 2013-11-07 07:30:00  Normal         11.76\n",
       "11845 2013-09-04 18:30:00  Normal         11.76\n",
       "15087 2013-11-11 07:30:00  Normal         11.76\n",
       "1335  2013-01-28 19:30:00     Low          3.99\n",
       "2725  2013-02-26 18:30:00  Normal         11.76"
      ]
     },
     "execution_count": 12,
     "metadata": {},
     "output_type": "execute_result"
    }
   ],
   "source": [
    "tariffs.sample(5)"
   ]
  },
  {
   "cell_type": "code",
   "execution_count": 13,
   "metadata": {
    "collapsed": false
   },
   "outputs": [],
   "source": [
    "tariffs = tariffs.drop('Tariff', axis=1)"
   ]
  },
  {
   "cell_type": "code",
   "execution_count": 14,
   "metadata": {
    "collapsed": false
   },
   "outputs": [],
   "source": [
    "df = df.merge(tariffs, how = 'left', on = 'DateTime')"
   ]
  },
  {
   "cell_type": "code",
   "execution_count": 15,
   "metadata": {
    "collapsed": false
   },
   "outputs": [],
   "source": [
    "df['Tariff_value'] = df['Tariff_value'].fillna(14.228) #This is the standard tariff"
   ]
  },
  {
   "cell_type": "code",
   "execution_count": 16,
   "metadata": {
    "collapsed": false
   },
   "outputs": [],
   "source": [
    "df['Tariff_value'] = df['Tariff_value'].fillna(14.228) #This is the standard tariff\n",
    "df.loc[df['User_group'] == 'Std','Tariff_value'] = 14.228"
   ]
  },
  {
   "cell_type": "code",
   "execution_count": 17,
   "metadata": {
    "collapsed": false
   },
   "outputs": [
    {
     "data": {
      "text/html": [
       "<div>\n",
       "<table border=\"1\" class=\"dataframe\">\n",
       "  <thead>\n",
       "    <tr style=\"text-align: right;\">\n",
       "      <th></th>\n",
       "      <th>DateTime</th>\n",
       "      <th>User_group</th>\n",
       "      <th>sum</th>\n",
       "      <th>count</th>\n",
       "      <th>Tariff_value</th>\n",
       "    </tr>\n",
       "  </thead>\n",
       "  <tbody>\n",
       "    <tr>\n",
       "      <th>61954</th>\n",
       "      <td>2013-09-05 07:00:00</td>\n",
       "      <td>ToU</td>\n",
       "      <td>181.446000</td>\n",
       "      <td>1061</td>\n",
       "      <td>11.760</td>\n",
       "    </tr>\n",
       "    <tr>\n",
       "      <th>71883</th>\n",
       "      <td>2012-02-03 01:00:00</td>\n",
       "      <td>ToU</td>\n",
       "      <td>18.620000</td>\n",
       "      <td>92</td>\n",
       "      <td>14.228</td>\n",
       "    </tr>\n",
       "    <tr>\n",
       "      <th>77058</th>\n",
       "      <td>2013-02-14 07:30:00</td>\n",
       "      <td>Std</td>\n",
       "      <td>1139.262000</td>\n",
       "      <td>4367</td>\n",
       "      <td>14.228</td>\n",
       "    </tr>\n",
       "    <tr>\n",
       "      <th>61667</th>\n",
       "      <td>2013-02-01 23:00:00</td>\n",
       "      <td>Std</td>\n",
       "      <td>1204.893999</td>\n",
       "      <td>4374</td>\n",
       "      <td>14.228</td>\n",
       "    </tr>\n",
       "    <tr>\n",
       "      <th>2580</th>\n",
       "      <td>2013-12-10 13:00:00</td>\n",
       "      <td>Std</td>\n",
       "      <td>870.163000</td>\n",
       "      <td>4066</td>\n",
       "      <td>14.228</td>\n",
       "    </tr>\n",
       "  </tbody>\n",
       "</table>\n",
       "</div>"
      ],
      "text/plain": [
       "                 DateTime User_group          sum  count  Tariff_value\n",
       "61954 2013-09-05 07:00:00        ToU   181.446000   1061        11.760\n",
       "71883 2012-02-03 01:00:00        ToU    18.620000     92        14.228\n",
       "77058 2013-02-14 07:30:00        Std  1139.262000   4367        14.228\n",
       "61667 2013-02-01 23:00:00        Std  1204.893999   4374        14.228\n",
       "2580  2013-12-10 13:00:00        Std   870.163000   4066        14.228"
      ]
     },
     "execution_count": 17,
     "metadata": {},
     "output_type": "execute_result"
    }
   ],
   "source": [
    "df.sample(5)"
   ]
  },
  {
   "cell_type": "code",
   "execution_count": 18,
   "metadata": {
    "collapsed": false
   },
   "outputs": [],
   "source": [
    "df = df.groupby(['DateTime', 'Tariff_value']).agg({'sum': 'sum',\n",
    "                                            'count': 'sum'}).reset_index()"
   ]
  },
  {
   "cell_type": "markdown",
   "metadata": {},
   "source": [
    "Now we can calculate the mean for each data point."
   ]
  },
  {
   "cell_type": "code",
   "execution_count": 19,
   "metadata": {
    "collapsed": true
   },
   "outputs": [],
   "source": [
    "df['mean'] = df['sum']/df['count']"
   ]
  },
  {
   "cell_type": "markdown",
   "metadata": {},
   "source": [
    "We also add a new variable \"ToU\" which indicates whether a consumption data point is for a user in which ToU was applied. As 14.228 p/kWh is the flat rate tariff (and this is not a possible value of ToU tariff), we know that if Tariff_value = 14.228, this is a standard point, and otherwise a ToU point."
   ]
  },
  {
   "cell_type": "code",
   "execution_count": 20,
   "metadata": {
    "collapsed": false
   },
   "outputs": [],
   "source": [
    "df.loc[df['Tariff_value'] == 14.228,'ToU'] = 0\n",
    "df.loc[df['Tariff_value'] != 14.228,'ToU'] = 1"
   ]
  },
  {
   "cell_type": "code",
   "execution_count": 21,
   "metadata": {
    "collapsed": false
   },
   "outputs": [
    {
     "data": {
      "text/html": [
       "<div>\n",
       "<table border=\"1\" class=\"dataframe\">\n",
       "  <thead>\n",
       "    <tr style=\"text-align: right;\">\n",
       "      <th></th>\n",
       "      <th>DateTime</th>\n",
       "      <th>Tariff_value</th>\n",
       "      <th>sum</th>\n",
       "      <th>count</th>\n",
       "      <th>mean</th>\n",
       "      <th>ToU</th>\n",
       "    </tr>\n",
       "  </thead>\n",
       "  <tbody>\n",
       "    <tr>\n",
       "      <th>19797</th>\n",
       "      <td>2013-01-04 22:00:00</td>\n",
       "      <td>14.228</td>\n",
       "      <td>1374.838999</td>\n",
       "      <td>4397</td>\n",
       "      <td>0.312677</td>\n",
       "      <td>0.0</td>\n",
       "    </tr>\n",
       "    <tr>\n",
       "      <th>2004</th>\n",
       "      <td>2012-01-04 03:00:00</td>\n",
       "      <td>14.228</td>\n",
       "      <td>65.535000</td>\n",
       "      <td>418</td>\n",
       "      <td>0.156782</td>\n",
       "      <td>0.0</td>\n",
       "    </tr>\n",
       "    <tr>\n",
       "      <th>16056</th>\n",
       "      <td>2012-10-22 22:00:00</td>\n",
       "      <td>14.228</td>\n",
       "      <td>1295.035000</td>\n",
       "      <td>5411</td>\n",
       "      <td>0.239334</td>\n",
       "      <td>0.0</td>\n",
       "    </tr>\n",
       "    <tr>\n",
       "      <th>37194</th>\n",
       "      <td>2013-07-05 04:30:00</td>\n",
       "      <td>11.760</td>\n",
       "      <td>120.076000</td>\n",
       "      <td>1084</td>\n",
       "      <td>0.110771</td>\n",
       "      <td>1.0</td>\n",
       "    </tr>\n",
       "    <tr>\n",
       "      <th>16866</th>\n",
       "      <td>2012-11-08 19:00:00</td>\n",
       "      <td>14.228</td>\n",
       "      <td>2043.925001</td>\n",
       "      <td>5503</td>\n",
       "      <td>0.371420</td>\n",
       "      <td>0.0</td>\n",
       "    </tr>\n",
       "  </tbody>\n",
       "</table>\n",
       "</div>"
      ],
      "text/plain": [
       "                 DateTime  Tariff_value          sum  count      mean  ToU\n",
       "19797 2013-01-04 22:00:00        14.228  1374.838999   4397  0.312677  0.0\n",
       "2004  2012-01-04 03:00:00        14.228    65.535000    418  0.156782  0.0\n",
       "16056 2012-10-22 22:00:00        14.228  1295.035000   5411  0.239334  0.0\n",
       "37194 2013-07-05 04:30:00        11.760   120.076000   1084  0.110771  1.0\n",
       "16866 2012-11-08 19:00:00        14.228  2043.925001   5503  0.371420  0.0"
      ]
     },
     "execution_count": 21,
     "metadata": {},
     "output_type": "execute_result"
    }
   ],
   "source": [
    "df.sample(5)"
   ]
  },
  {
   "cell_type": "markdown",
   "metadata": {
    "collapsed": true
   },
   "source": [
    "### 4.1.2. Bank Holidays"
   ]
  },
  {
   "cell_type": "markdown",
   "metadata": {},
   "source": [
    "Bank Holidays probably have an impact in household electricity consumption as it was discussed in Section 1. Bank Holidays will be treated separately from Sundays as a binary variable. \n",
    "\n",
    "Bank Holidays in England from 2011 to 2014 were downloaded in Section 1 using the Python holidays library (and cross-checked with the official information in www.gov.co.uk) and saved to a csv file."
   ]
  },
  {
   "cell_type": "code",
   "execution_count": 22,
   "metadata": {
    "collapsed": false
   },
   "outputs": [],
   "source": [
    "holidays = pd.Series.from_csv('data/bank_holidays.csv')"
   ]
  },
  {
   "cell_type": "code",
   "execution_count": 23,
   "metadata": {
    "collapsed": true
   },
   "outputs": [],
   "source": [
    "holidays = pd.to_datetime(holidays)"
   ]
  },
  {
   "cell_type": "code",
   "execution_count": 24,
   "metadata": {
    "collapsed": false
   },
   "outputs": [
    {
     "data": {
      "text/plain": [
       "0   2011-01-01\n",
       "1   2011-01-03\n",
       "2   2011-04-22\n",
       "3   2011-04-25\n",
       "4   2011-04-29\n",
       "dtype: datetime64[ns]"
      ]
     },
     "execution_count": 24,
     "metadata": {},
     "output_type": "execute_result"
    }
   ],
   "source": [
    "holidays.head()"
   ]
  },
  {
   "cell_type": "code",
   "execution_count": 25,
   "metadata": {
    "collapsed": true
   },
   "outputs": [],
   "source": [
    "df['Date'] = df['DateTime'].apply(lambda x: x.date())"
   ]
  },
  {
   "cell_type": "code",
   "execution_count": 26,
   "metadata": {
    "collapsed": true
   },
   "outputs": [],
   "source": [
    "df['Date'] = pd.to_datetime(df['Date'])"
   ]
  },
  {
   "cell_type": "code",
   "execution_count": 27,
   "metadata": {
    "collapsed": false
   },
   "outputs": [],
   "source": [
    "df['Holiday'] = 0\n",
    "df.loc[df['Date'].isin(holidays),'Holiday'] = 1"
   ]
  },
  {
   "cell_type": "code",
   "execution_count": 28,
   "metadata": {
    "collapsed": false
   },
   "outputs": [
    {
     "data": {
      "text/html": [
       "<div>\n",
       "<table border=\"1\" class=\"dataframe\">\n",
       "  <thead>\n",
       "    <tr style=\"text-align: right;\">\n",
       "      <th></th>\n",
       "      <th>DateTime</th>\n",
       "      <th>Tariff_value</th>\n",
       "      <th>sum</th>\n",
       "      <th>count</th>\n",
       "      <th>mean</th>\n",
       "      <th>ToU</th>\n",
       "      <th>Date</th>\n",
       "      <th>Holiday</th>\n",
       "    </tr>\n",
       "  </thead>\n",
       "  <tbody>\n",
       "    <tr>\n",
       "      <th>2392</th>\n",
       "      <td>2012-01-12 05:00:00</td>\n",
       "      <td>14.228</td>\n",
       "      <td>60.286</td>\n",
       "      <td>429</td>\n",
       "      <td>0.140527</td>\n",
       "      <td>0.0</td>\n",
       "      <td>2012-01-12</td>\n",
       "      <td>0</td>\n",
       "    </tr>\n",
       "    <tr>\n",
       "      <th>18130</th>\n",
       "      <td>2012-12-05 03:00:00</td>\n",
       "      <td>14.228</td>\n",
       "      <td>802.139</td>\n",
       "      <td>5525</td>\n",
       "      <td>0.145184</td>\n",
       "      <td>0.0</td>\n",
       "      <td>2012-12-05</td>\n",
       "      <td>0</td>\n",
       "    </tr>\n",
       "    <tr>\n",
       "      <th>6078</th>\n",
       "      <td>2012-03-29 01:00:00</td>\n",
       "      <td>14.228</td>\n",
       "      <td>237.630</td>\n",
       "      <td>1226</td>\n",
       "      <td>0.193825</td>\n",
       "      <td>0.0</td>\n",
       "      <td>2012-03-29</td>\n",
       "      <td>0</td>\n",
       "    </tr>\n",
       "    <tr>\n",
       "      <th>17660</th>\n",
       "      <td>2012-11-25 08:00:00</td>\n",
       "      <td>14.228</td>\n",
       "      <td>1047.084</td>\n",
       "      <td>5529</td>\n",
       "      <td>0.189380</td>\n",
       "      <td>0.0</td>\n",
       "      <td>2012-11-25</td>\n",
       "      <td>0</td>\n",
       "    </tr>\n",
       "    <tr>\n",
       "      <th>53923</th>\n",
       "      <td>2013-12-26 10:30:00</td>\n",
       "      <td>14.228</td>\n",
       "      <td>1051.565</td>\n",
       "      <td>4058</td>\n",
       "      <td>0.259134</td>\n",
       "      <td>0.0</td>\n",
       "      <td>2013-12-26</td>\n",
       "      <td>1</td>\n",
       "    </tr>\n",
       "  </tbody>\n",
       "</table>\n",
       "</div>"
      ],
      "text/plain": [
       "                 DateTime  Tariff_value       sum  count      mean  ToU  \\\n",
       "2392  2012-01-12 05:00:00        14.228    60.286    429  0.140527  0.0   \n",
       "18130 2012-12-05 03:00:00        14.228   802.139   5525  0.145184  0.0   \n",
       "6078  2012-03-29 01:00:00        14.228   237.630   1226  0.193825  0.0   \n",
       "17660 2012-11-25 08:00:00        14.228  1047.084   5529  0.189380  0.0   \n",
       "53923 2013-12-26 10:30:00        14.228  1051.565   4058  0.259134  0.0   \n",
       "\n",
       "            Date  Holiday  \n",
       "2392  2012-01-12        0  \n",
       "18130 2012-12-05        0  \n",
       "6078  2012-03-29        0  \n",
       "17660 2012-11-25        0  \n",
       "53923 2013-12-26        1  "
      ]
     },
     "execution_count": 28,
     "metadata": {},
     "output_type": "execute_result"
    }
   ],
   "source": [
    "df.sample(5)"
   ]
  },
  {
   "cell_type": "code",
   "execution_count": 29,
   "metadata": {
    "collapsed": false
   },
   "outputs": [
    {
     "data": {
      "text/html": [
       "<div>\n",
       "<table border=\"1\" class=\"dataframe\">\n",
       "  <thead>\n",
       "    <tr style=\"text-align: right;\">\n",
       "      <th></th>\n",
       "      <th>DateTime</th>\n",
       "      <th>Tariff_value</th>\n",
       "      <th>sum</th>\n",
       "      <th>count</th>\n",
       "      <th>mean</th>\n",
       "      <th>ToU</th>\n",
       "      <th>Date</th>\n",
       "      <th>Holiday</th>\n",
       "    </tr>\n",
       "  </thead>\n",
       "  <tbody>\n",
       "    <tr>\n",
       "      <th>33438</th>\n",
       "      <td>2013-05-27 01:30:00</td>\n",
       "      <td>11.760</td>\n",
       "      <td>105.686</td>\n",
       "      <td>1091</td>\n",
       "      <td>0.096871</td>\n",
       "      <td>1.0</td>\n",
       "      <td>2013-05-27</td>\n",
       "      <td>1</td>\n",
       "    </tr>\n",
       "    <tr>\n",
       "      <th>28074</th>\n",
       "      <td>2013-04-01 04:30:00</td>\n",
       "      <td>11.760</td>\n",
       "      <td>128.100</td>\n",
       "      <td>1099</td>\n",
       "      <td>0.116561</td>\n",
       "      <td>1.0</td>\n",
       "      <td>2013-04-01</td>\n",
       "      <td>1</td>\n",
       "    </tr>\n",
       "    <tr>\n",
       "      <th>19476</th>\n",
       "      <td>2013-01-01 14:00:00</td>\n",
       "      <td>11.760</td>\n",
       "      <td>272.567</td>\n",
       "      <td>1111</td>\n",
       "      <td>0.245335</td>\n",
       "      <td>1.0</td>\n",
       "      <td>2013-01-01</td>\n",
       "      <td>1</td>\n",
       "    </tr>\n",
       "    <tr>\n",
       "      <th>53841</th>\n",
       "      <td>2013-12-25 14:00:00</td>\n",
       "      <td>14.228</td>\n",
       "      <td>1494.554</td>\n",
       "      <td>4057</td>\n",
       "      <td>0.368389</td>\n",
       "      <td>0.0</td>\n",
       "      <td>2013-12-25</td>\n",
       "      <td>1</td>\n",
       "    </tr>\n",
       "    <tr>\n",
       "      <th>53904</th>\n",
       "      <td>2013-12-26 06:00:00</td>\n",
       "      <td>11.760</td>\n",
       "      <td>119.834</td>\n",
       "      <td>1041</td>\n",
       "      <td>0.115114</td>\n",
       "      <td>1.0</td>\n",
       "      <td>2013-12-26</td>\n",
       "      <td>1</td>\n",
       "    </tr>\n",
       "  </tbody>\n",
       "</table>\n",
       "</div>"
      ],
      "text/plain": [
       "                 DateTime  Tariff_value       sum  count      mean  ToU  \\\n",
       "33438 2013-05-27 01:30:00        11.760   105.686   1091  0.096871  1.0   \n",
       "28074 2013-04-01 04:30:00        11.760   128.100   1099  0.116561  1.0   \n",
       "19476 2013-01-01 14:00:00        11.760   272.567   1111  0.245335  1.0   \n",
       "53841 2013-12-25 14:00:00        14.228  1494.554   4057  0.368389  0.0   \n",
       "53904 2013-12-26 06:00:00        11.760   119.834   1041  0.115114  1.0   \n",
       "\n",
       "            Date  Holiday  \n",
       "33438 2013-05-27        1  \n",
       "28074 2013-04-01        1  \n",
       "19476 2013-01-01        1  \n",
       "53841 2013-12-25        1  \n",
       "53904 2013-12-26        1  "
      ]
     },
     "execution_count": 29,
     "metadata": {},
     "output_type": "execute_result"
    }
   ],
   "source": [
    "df[df['Holiday'] == 1].sample(5)"
   ]
  },
  {
   "cell_type": "markdown",
   "metadata": {},
   "source": [
    "### 4.1.3. Weather variables"
   ]
  },
  {
   "cell_type": "markdown",
   "metadata": {},
   "source": [
    "Now we have to add the weather variables, which will be used in any model. Weather variables were discussed, downloaded and treated in Section 1."
   ]
  },
  {
   "cell_type": "code",
   "execution_count": 30,
   "metadata": {
    "collapsed": true
   },
   "outputs": [],
   "source": [
    "weather = pd.read_csv('data/weather_no_na.csv')"
   ]
  },
  {
   "cell_type": "code",
   "execution_count": 31,
   "metadata": {
    "collapsed": false
   },
   "outputs": [
    {
     "data": {
      "text/plain": [
       "(20446, 13)"
      ]
     },
     "execution_count": 31,
     "metadata": {},
     "output_type": "execute_result"
    }
   ],
   "source": [
    "weather.shape"
   ]
  },
  {
   "cell_type": "markdown",
   "metadata": {},
   "source": [
    "We will use the following variables:\n",
    "\n",
    "-Temperature (ºC)\n",
    "\n",
    "-Relative Humidity (%)\n",
    "\n",
    "-Cloud cover (%)\n",
    "\n",
    "-Atmospheric Pressure (mbar)\n",
    "\n",
    "For a discussion on the reasons why these variables have been choosen and how NA values have been filled refer to Section 1."
   ]
  },
  {
   "cell_type": "code",
   "execution_count": 32,
   "metadata": {
    "collapsed": false
   },
   "outputs": [
    {
     "data": {
      "text/plain": [
       "Index(['time', 'apparentTemperature', 'cloudCover', 'dewPoint', 'humidity',\n",
       "       'icon', 'precipType', 'pressure', 'summary', 'temperature',\n",
       "       'visibility', 'windBearing', 'windSpeed'],\n",
       "      dtype='object')"
      ]
     },
     "execution_count": 32,
     "metadata": {},
     "output_type": "execute_result"
    }
   ],
   "source": [
    "weather.columns"
   ]
  },
  {
   "cell_type": "code",
   "execution_count": 33,
   "metadata": {
    "collapsed": true
   },
   "outputs": [],
   "source": [
    "weather = weather[['time','temperature','humidity','cloudCover','pressure']]\\\n",
    "    .rename(columns = {'time' : 'DateTime'})"
   ]
  },
  {
   "cell_type": "code",
   "execution_count": 34,
   "metadata": {
    "collapsed": true
   },
   "outputs": [],
   "source": [
    "weather['DateTime'] = pd.to_datetime(weather['DateTime'])"
   ]
  },
  {
   "cell_type": "code",
   "execution_count": 35,
   "metadata": {
    "collapsed": false,
    "scrolled": true
   },
   "outputs": [
    {
     "data": {
      "text/html": [
       "<div>\n",
       "<table border=\"1\" class=\"dataframe\">\n",
       "  <thead>\n",
       "    <tr style=\"text-align: right;\">\n",
       "      <th></th>\n",
       "      <th>DateTime</th>\n",
       "      <th>temperature</th>\n",
       "      <th>humidity</th>\n",
       "      <th>cloudCover</th>\n",
       "      <th>pressure</th>\n",
       "    </tr>\n",
       "  </thead>\n",
       "  <tbody>\n",
       "    <tr>\n",
       "      <th>0</th>\n",
       "      <td>2011-11-01 00:00:00</td>\n",
       "      <td>13.54</td>\n",
       "      <td>0.87</td>\n",
       "      <td>0.27</td>\n",
       "      <td>1008.01</td>\n",
       "    </tr>\n",
       "    <tr>\n",
       "      <th>1</th>\n",
       "      <td>2011-11-01 01:00:00</td>\n",
       "      <td>12.74</td>\n",
       "      <td>0.93</td>\n",
       "      <td>0.32</td>\n",
       "      <td>1007.76</td>\n",
       "    </tr>\n",
       "    <tr>\n",
       "      <th>2</th>\n",
       "      <td>2011-11-01 02:00:00</td>\n",
       "      <td>13.68</td>\n",
       "      <td>0.91</td>\n",
       "      <td>0.25</td>\n",
       "      <td>1006.97</td>\n",
       "    </tr>\n",
       "    <tr>\n",
       "      <th>3</th>\n",
       "      <td>2011-11-01 03:00:00</td>\n",
       "      <td>14.18</td>\n",
       "      <td>0.88</td>\n",
       "      <td>0.43</td>\n",
       "      <td>1006.40</td>\n",
       "    </tr>\n",
       "    <tr>\n",
       "      <th>4</th>\n",
       "      <td>2011-11-01 04:00:00</td>\n",
       "      <td>14.20</td>\n",
       "      <td>0.90</td>\n",
       "      <td>0.38</td>\n",
       "      <td>1006.05</td>\n",
       "    </tr>\n",
       "  </tbody>\n",
       "</table>\n",
       "</div>"
      ],
      "text/plain": [
       "             DateTime  temperature  humidity  cloudCover  pressure\n",
       "0 2011-11-01 00:00:00        13.54      0.87        0.27   1008.01\n",
       "1 2011-11-01 01:00:00        12.74      0.93        0.32   1007.76\n",
       "2 2011-11-01 02:00:00        13.68      0.91        0.25   1006.97\n",
       "3 2011-11-01 03:00:00        14.18      0.88        0.43   1006.40\n",
       "4 2011-11-01 04:00:00        14.20      0.90        0.38   1006.05"
      ]
     },
     "execution_count": 35,
     "metadata": {},
     "output_type": "execute_result"
    }
   ],
   "source": [
    "weather.head()"
   ]
  },
  {
   "cell_type": "markdown",
   "metadata": {},
   "source": [
    "The frequency of the weather data is of 1 hour while that of the consumption data is 30 minutes, thus we need to resample it. We will take the last valid observation (e.g. 2012-01-01 10:30 will have the same data as 2012-01-01 10:00) => method = 'ffill'."
   ]
  },
  {
   "cell_type": "code",
   "execution_count": 36,
   "metadata": {
    "collapsed": false
   },
   "outputs": [],
   "source": [
    "weather = weather.set_index('DateTime').resample('30min').fillna(method = 'ffill')\\\n",
    "    .reset_index()"
   ]
  },
  {
   "cell_type": "code",
   "execution_count": 37,
   "metadata": {
    "collapsed": false
   },
   "outputs": [
    {
     "data": {
      "text/html": [
       "<div>\n",
       "<table border=\"1\" class=\"dataframe\">\n",
       "  <thead>\n",
       "    <tr style=\"text-align: right;\">\n",
       "      <th></th>\n",
       "      <th>DateTime</th>\n",
       "      <th>temperature</th>\n",
       "      <th>humidity</th>\n",
       "      <th>cloudCover</th>\n",
       "      <th>pressure</th>\n",
       "    </tr>\n",
       "  </thead>\n",
       "  <tbody>\n",
       "    <tr>\n",
       "      <th>0</th>\n",
       "      <td>2011-11-01 00:00:00</td>\n",
       "      <td>13.54</td>\n",
       "      <td>0.87</td>\n",
       "      <td>0.27</td>\n",
       "      <td>1008.01</td>\n",
       "    </tr>\n",
       "    <tr>\n",
       "      <th>1</th>\n",
       "      <td>2011-11-01 00:30:00</td>\n",
       "      <td>13.54</td>\n",
       "      <td>0.87</td>\n",
       "      <td>0.27</td>\n",
       "      <td>1008.01</td>\n",
       "    </tr>\n",
       "    <tr>\n",
       "      <th>2</th>\n",
       "      <td>2011-11-01 01:00:00</td>\n",
       "      <td>12.74</td>\n",
       "      <td>0.93</td>\n",
       "      <td>0.32</td>\n",
       "      <td>1007.76</td>\n",
       "    </tr>\n",
       "    <tr>\n",
       "      <th>3</th>\n",
       "      <td>2011-11-01 01:30:00</td>\n",
       "      <td>12.74</td>\n",
       "      <td>0.93</td>\n",
       "      <td>0.32</td>\n",
       "      <td>1007.76</td>\n",
       "    </tr>\n",
       "    <tr>\n",
       "      <th>4</th>\n",
       "      <td>2011-11-01 02:00:00</td>\n",
       "      <td>13.68</td>\n",
       "      <td>0.91</td>\n",
       "      <td>0.25</td>\n",
       "      <td>1006.97</td>\n",
       "    </tr>\n",
       "  </tbody>\n",
       "</table>\n",
       "</div>"
      ],
      "text/plain": [
       "             DateTime  temperature  humidity  cloudCover  pressure\n",
       "0 2011-11-01 00:00:00        13.54      0.87        0.27   1008.01\n",
       "1 2011-11-01 00:30:00        13.54      0.87        0.27   1008.01\n",
       "2 2011-11-01 01:00:00        12.74      0.93        0.32   1007.76\n",
       "3 2011-11-01 01:30:00        12.74      0.93        0.32   1007.76\n",
       "4 2011-11-01 02:00:00        13.68      0.91        0.25   1006.97"
      ]
     },
     "execution_count": 37,
     "metadata": {},
     "output_type": "execute_result"
    }
   ],
   "source": [
    "weather.head()"
   ]
  },
  {
   "cell_type": "code",
   "execution_count": 38,
   "metadata": {
    "collapsed": false
   },
   "outputs": [],
   "source": [
    "df = df.merge(weather, how = 'left', on = 'DateTime')"
   ]
  },
  {
   "cell_type": "code",
   "execution_count": 39,
   "metadata": {
    "collapsed": false
   },
   "outputs": [
    {
     "data": {
      "text/html": [
       "<div>\n",
       "<table border=\"1\" class=\"dataframe\">\n",
       "  <thead>\n",
       "    <tr style=\"text-align: right;\">\n",
       "      <th></th>\n",
       "      <th>DateTime</th>\n",
       "      <th>Tariff_value</th>\n",
       "      <th>sum</th>\n",
       "      <th>count</th>\n",
       "      <th>mean</th>\n",
       "      <th>ToU</th>\n",
       "      <th>Date</th>\n",
       "      <th>Holiday</th>\n",
       "      <th>temperature</th>\n",
       "      <th>humidity</th>\n",
       "      <th>cloudCover</th>\n",
       "      <th>pressure</th>\n",
       "    </tr>\n",
       "  </thead>\n",
       "  <tbody>\n",
       "    <tr>\n",
       "      <th>38687</th>\n",
       "      <td>2013-07-20 17:30:00</td>\n",
       "      <td>14.228</td>\n",
       "      <td>874.772</td>\n",
       "      <td>4225</td>\n",
       "      <td>0.207047</td>\n",
       "      <td>0.0</td>\n",
       "      <td>2013-07-20</td>\n",
       "      <td>0</td>\n",
       "      <td>22.19</td>\n",
       "      <td>0.62</td>\n",
       "      <td>0.64</td>\n",
       "      <td>1021.76</td>\n",
       "    </tr>\n",
       "    <tr>\n",
       "      <th>50334</th>\n",
       "      <td>2013-11-19 01:30:00</td>\n",
       "      <td>11.760</td>\n",
       "      <td>120.305</td>\n",
       "      <td>1047</td>\n",
       "      <td>0.114904</td>\n",
       "      <td>1.0</td>\n",
       "      <td>2013-11-19</td>\n",
       "      <td>0</td>\n",
       "      <td>6.29</td>\n",
       "      <td>0.81</td>\n",
       "      <td>0.00</td>\n",
       "      <td>1009.46</td>\n",
       "    </tr>\n",
       "    <tr>\n",
       "      <th>552</th>\n",
       "      <td>2011-12-04 21:00:00</td>\n",
       "      <td>14.228</td>\n",
       "      <td>33.436</td>\n",
       "      <td>110</td>\n",
       "      <td>0.303964</td>\n",
       "      <td>0.0</td>\n",
       "      <td>2011-12-04</td>\n",
       "      <td>0</td>\n",
       "      <td>5.34</td>\n",
       "      <td>0.85</td>\n",
       "      <td>0.31</td>\n",
       "      <td>999.53</td>\n",
       "    </tr>\n",
       "    <tr>\n",
       "      <th>23674</th>\n",
       "      <td>2013-02-14 07:30:00</td>\n",
       "      <td>11.760</td>\n",
       "      <td>265.491</td>\n",
       "      <td>1105</td>\n",
       "      <td>0.240263</td>\n",
       "      <td>1.0</td>\n",
       "      <td>2013-02-14</td>\n",
       "      <td>0</td>\n",
       "      <td>7.63</td>\n",
       "      <td>0.94</td>\n",
       "      <td>0.63</td>\n",
       "      <td>1007.47</td>\n",
       "    </tr>\n",
       "    <tr>\n",
       "      <th>1880</th>\n",
       "      <td>2012-01-01 13:00:00</td>\n",
       "      <td>14.228</td>\n",
       "      <td>112.841</td>\n",
       "      <td>411</td>\n",
       "      <td>0.274552</td>\n",
       "      <td>0.0</td>\n",
       "      <td>2012-01-01</td>\n",
       "      <td>1</td>\n",
       "      <td>12.46</td>\n",
       "      <td>0.81</td>\n",
       "      <td>0.63</td>\n",
       "      <td>1003.86</td>\n",
       "    </tr>\n",
       "  </tbody>\n",
       "</table>\n",
       "</div>"
      ],
      "text/plain": [
       "                 DateTime  Tariff_value      sum  count      mean  ToU  \\\n",
       "38687 2013-07-20 17:30:00        14.228  874.772   4225  0.207047  0.0   \n",
       "50334 2013-11-19 01:30:00        11.760  120.305   1047  0.114904  1.0   \n",
       "552   2011-12-04 21:00:00        14.228   33.436    110  0.303964  0.0   \n",
       "23674 2013-02-14 07:30:00        11.760  265.491   1105  0.240263  1.0   \n",
       "1880  2012-01-01 13:00:00        14.228  112.841    411  0.274552  0.0   \n",
       "\n",
       "            Date  Holiday  temperature  humidity  cloudCover  pressure  \n",
       "38687 2013-07-20        0        22.19      0.62        0.64   1021.76  \n",
       "50334 2013-11-19        0         6.29      0.81        0.00   1009.46  \n",
       "552   2011-12-04        0         5.34      0.85        0.31    999.53  \n",
       "23674 2013-02-14        0         7.63      0.94        0.63   1007.47  \n",
       "1880  2012-01-01        1        12.46      0.81        0.63   1003.86  "
      ]
     },
     "execution_count": 39,
     "metadata": {},
     "output_type": "execute_result"
    }
   ],
   "source": [
    "df.sample(5)"
   ]
  },
  {
   "cell_type": "markdown",
   "metadata": {
    "collapsed": true
   },
   "source": [
    "Now that we have added all external variables our models need, we can save it to a csv file. "
   ]
  },
  {
   "cell_type": "markdown",
   "metadata": {},
   "source": [
    "We will split the dataset into train and test samples: from the dataset start to 2013-09-31 will be included in the train set and from 2013-10-01 until the end of the time series in the test set. This means we will have 9 months of ToU in train and 3 in test. The limitation is not all months will be included in the test set and we will not have one whole year of ToU data in the train set."
   ]
  },
  {
   "cell_type": "code",
   "execution_count": 40,
   "metadata": {
    "collapsed": true
   },
   "outputs": [],
   "source": [
    "df.loc[df['DateTime'] < '2013-10-01 00:00:00','Set'] = 'Train'\n",
    "df.loc[df['DateTime'] >= '2013-10-01 00:00:00','Set'] = 'Test'"
   ]
  },
  {
   "cell_type": "code",
   "execution_count": 41,
   "metadata": {
    "collapsed": true
   },
   "outputs": [],
   "source": [
    "df.to_csv('outputs/tseries_model.csv', index = False)"
   ]
  },
  {
   "cell_type": "markdown",
   "metadata": {},
   "source": [
    "We will use this model as is in time series modelling. For feature models we need to add the features."
   ]
  },
  {
   "cell_type": "markdown",
   "metadata": {},
   "source": [
    "## 4.1.4. Feature engineering"
   ]
  },
  {
   "cell_type": "markdown",
   "metadata": {},
   "source": [
    "Feature models are an alternative for time series forecasting. They consist in applying conventional machine learning models to variables constructed from the data (e.g. mean consumption in the previous day). These are popular in the literature for electrical demand prediction [2], [4]."
   ]
  },
  {
   "cell_type": "markdown",
   "metadata": {},
   "source": [
    "We will derive the following features:\n",
    "\n",
    "-Mean aggregate demand per hour in the previous day (1 variable).\n",
    "\n",
    "-Aggregate demand in the previous day at the same time and at the previous 3 time steps (4 variables).\n",
    "\n",
    "-Mean value of the aggregate demand of the previous 3 days at the same time and at the previous 3 time steps (4 variables).\n",
    "\n",
    "-Mean value of the aggregate demand on the same day of week of the previous 3 weeks at the same time and at the previous 3 time steps (4 variables).\n",
    "\n",
    "In total we have 13 derived features.\n",
    "\n",
    "Furthermore, we will include weather and time variables in the model:\n",
    "\n",
    "-Day of week (7 levels)\n",
    "\n",
    "-Holiday (binary)\n",
    "\n",
    "-Temperature (ºC, continuous)\n",
    "\n",
    "-Relative Humidity (%, continuous)\n",
    "\n",
    "-Cloud cover (%, continuous)\n",
    "\n",
    "-Atmospheric Pressure (mbar, continuous)\n",
    "\n",
    "These variables have been calculated in Section 1 and stored in 'weather_no_na.csv'.\n",
    "\n",
    "And the last variable to be included in the model:\n",
    "\n",
    "-Tariff (p/kWh)\n",
    "\n",
    "Thus, in total we will have 22 variables in our models.\n"
   ]
  },
  {
   "cell_type": "markdown",
   "metadata": {},
   "source": [
    "First, we will build the time variables."
   ]
  },
  {
   "cell_type": "markdown",
   "metadata": {},
   "source": [
    "Now it is easier to derive the consumption features."
   ]
  },
  {
   "cell_type": "markdown",
   "metadata": {},
   "source": [
    "#### Adding time variables"
   ]
  },
  {
   "cell_type": "markdown",
   "metadata": {},
   "source": [
    "Let us add the time variables to be used in lieu of DateTime in our prediction model: time, day of week, month, year.\n",
    "\n",
    "We will not use the day of the month as it would introduce a categorical variable with 31 levels and it does not seem relevant in the exploratory data analysis in Tableau."
   ]
  },
  {
   "cell_type": "code",
   "execution_count": 42,
   "metadata": {
    "collapsed": false
   },
   "outputs": [],
   "source": [
    "df['DoW'] = df['DateTime'].apply(lambda x: x.strftime(\"%A\"))"
   ]
  },
  {
   "cell_type": "code",
   "execution_count": 43,
   "metadata": {
    "collapsed": true
   },
   "outputs": [],
   "source": [
    "df['Time'] = df['DateTime'].apply(lambda x: x.time())"
   ]
  },
  {
   "cell_type": "code",
   "execution_count": 44,
   "metadata": {
    "collapsed": true
   },
   "outputs": [],
   "source": [
    "df['Month']= df['DateTime'].apply(lambda x: x.strftime(\"%B\"))"
   ]
  },
  {
   "cell_type": "code",
   "execution_count": 45,
   "metadata": {
    "collapsed": true
   },
   "outputs": [],
   "source": [
    "df['Year']= df['DateTime'].apply(lambda x: x.year)"
   ]
  },
  {
   "cell_type": "code",
   "execution_count": 46,
   "metadata": {
    "collapsed": false
   },
   "outputs": [
    {
     "data": {
      "text/html": [
       "<div>\n",
       "<table border=\"1\" class=\"dataframe\">\n",
       "  <thead>\n",
       "    <tr style=\"text-align: right;\">\n",
       "      <th></th>\n",
       "      <th>DateTime</th>\n",
       "      <th>Tariff_value</th>\n",
       "      <th>sum</th>\n",
       "      <th>count</th>\n",
       "      <th>mean</th>\n",
       "      <th>ToU</th>\n",
       "      <th>Date</th>\n",
       "      <th>Holiday</th>\n",
       "      <th>temperature</th>\n",
       "      <th>humidity</th>\n",
       "      <th>cloudCover</th>\n",
       "      <th>pressure</th>\n",
       "      <th>Set</th>\n",
       "      <th>DoW</th>\n",
       "      <th>Time</th>\n",
       "      <th>Month</th>\n",
       "      <th>Year</th>\n",
       "    </tr>\n",
       "  </thead>\n",
       "  <tbody>\n",
       "    <tr>\n",
       "      <th>27152</th>\n",
       "      <td>2013-03-22 13:00:00</td>\n",
       "      <td>11.760</td>\n",
       "      <td>257.836000</td>\n",
       "      <td>1100</td>\n",
       "      <td>0.234396</td>\n",
       "      <td>1.0</td>\n",
       "      <td>2013-03-22</td>\n",
       "      <td>0</td>\n",
       "      <td>5.04</td>\n",
       "      <td>0.73</td>\n",
       "      <td>0.37</td>\n",
       "      <td>1008.29</td>\n",
       "      <td>Train</td>\n",
       "      <td>Friday</td>\n",
       "      <td>13:00:00</td>\n",
       "      <td>March</td>\n",
       "      <td>2013</td>\n",
       "    </tr>\n",
       "    <tr>\n",
       "      <th>12690</th>\n",
       "      <td>2012-08-13 19:00:00</td>\n",
       "      <td>14.228</td>\n",
       "      <td>1139.832001</td>\n",
       "      <td>4761</td>\n",
       "      <td>0.239410</td>\n",
       "      <td>0.0</td>\n",
       "      <td>2012-08-13</td>\n",
       "      <td>0</td>\n",
       "      <td>18.88</td>\n",
       "      <td>0.84</td>\n",
       "      <td>0.50</td>\n",
       "      <td>1010.62</td>\n",
       "      <td>Train</td>\n",
       "      <td>Monday</td>\n",
       "      <td>19:00:00</td>\n",
       "      <td>August</td>\n",
       "      <td>2012</td>\n",
       "    </tr>\n",
       "    <tr>\n",
       "      <th>34813</th>\n",
       "      <td>2013-06-10 09:00:00</td>\n",
       "      <td>14.228</td>\n",
       "      <td>806.840999</td>\n",
       "      <td>4251</td>\n",
       "      <td>0.189800</td>\n",
       "      <td>0.0</td>\n",
       "      <td>2013-06-10</td>\n",
       "      <td>0</td>\n",
       "      <td>11.47</td>\n",
       "      <td>0.70</td>\n",
       "      <td>1.00</td>\n",
       "      <td>1016.17</td>\n",
       "      <td>Train</td>\n",
       "      <td>Monday</td>\n",
       "      <td>09:00:00</td>\n",
       "      <td>June</td>\n",
       "      <td>2013</td>\n",
       "    </tr>\n",
       "    <tr>\n",
       "      <th>1738</th>\n",
       "      <td>2011-12-29 14:00:00</td>\n",
       "      <td>14.228</td>\n",
       "      <td>110.374000</td>\n",
       "      <td>398</td>\n",
       "      <td>0.277322</td>\n",
       "      <td>0.0</td>\n",
       "      <td>2011-12-29</td>\n",
       "      <td>0</td>\n",
       "      <td>9.49</td>\n",
       "      <td>0.71</td>\n",
       "      <td>0.77</td>\n",
       "      <td>1018.43</td>\n",
       "      <td>Train</td>\n",
       "      <td>Thursday</td>\n",
       "      <td>14:00:00</td>\n",
       "      <td>December</td>\n",
       "      <td>2011</td>\n",
       "    </tr>\n",
       "    <tr>\n",
       "      <th>41687</th>\n",
       "      <td>2013-08-20 23:30:00</td>\n",
       "      <td>14.228</td>\n",
       "      <td>576.522000</td>\n",
       "      <td>4193</td>\n",
       "      <td>0.137496</td>\n",
       "      <td>0.0</td>\n",
       "      <td>2013-08-20</td>\n",
       "      <td>0</td>\n",
       "      <td>16.09</td>\n",
       "      <td>0.73</td>\n",
       "      <td>0.00</td>\n",
       "      <td>1026.73</td>\n",
       "      <td>Train</td>\n",
       "      <td>Tuesday</td>\n",
       "      <td>23:30:00</td>\n",
       "      <td>August</td>\n",
       "      <td>2013</td>\n",
       "    </tr>\n",
       "  </tbody>\n",
       "</table>\n",
       "</div>"
      ],
      "text/plain": [
       "                 DateTime  Tariff_value          sum  count      mean  ToU  \\\n",
       "27152 2013-03-22 13:00:00        11.760   257.836000   1100  0.234396  1.0   \n",
       "12690 2012-08-13 19:00:00        14.228  1139.832001   4761  0.239410  0.0   \n",
       "34813 2013-06-10 09:00:00        14.228   806.840999   4251  0.189800  0.0   \n",
       "1738  2011-12-29 14:00:00        14.228   110.374000    398  0.277322  0.0   \n",
       "41687 2013-08-20 23:30:00        14.228   576.522000   4193  0.137496  0.0   \n",
       "\n",
       "            Date  Holiday  temperature  humidity  cloudCover  pressure    Set  \\\n",
       "27152 2013-03-22        0         5.04      0.73        0.37   1008.29  Train   \n",
       "12690 2012-08-13        0        18.88      0.84        0.50   1010.62  Train   \n",
       "34813 2013-06-10        0        11.47      0.70        1.00   1016.17  Train   \n",
       "1738  2011-12-29        0         9.49      0.71        0.77   1018.43  Train   \n",
       "41687 2013-08-20        0        16.09      0.73        0.00   1026.73  Train   \n",
       "\n",
       "            DoW      Time     Month  Year  \n",
       "27152    Friday  13:00:00     March  2013  \n",
       "12690    Monday  19:00:00    August  2012  \n",
       "34813    Monday  09:00:00      June  2013  \n",
       "1738   Thursday  14:00:00  December  2011  \n",
       "41687   Tuesday  23:30:00    August  2013  "
      ]
     },
     "execution_count": 46,
     "metadata": {},
     "output_type": "execute_result"
    }
   ],
   "source": [
    "df.sample(5)"
   ]
  },
  {
   "cell_type": "markdown",
   "metadata": {},
   "source": [
    "###### Mean aggregate demand per hour in the previous day (1 variable).\n",
    "\n",
    "First, we will calculate the daily mean aggregating by 'Date'. Then we will add one day to the 'Date' variable of our new DataFrame and join it with the main DataFrame df."
   ]
  },
  {
   "cell_type": "code",
   "execution_count": 47,
   "metadata": {
    "collapsed": false
   },
   "outputs": [],
   "source": [
    "daily_mean = df.groupby(['Date', 'ToU']).agg({'mean': 'mean'}).reset_index()"
   ]
  },
  {
   "cell_type": "code",
   "execution_count": 48,
   "metadata": {
    "collapsed": true
   },
   "outputs": [],
   "source": [
    "daily_mean['Date'] = pd.to_datetime(daily_mean['Date'])"
   ]
  },
  {
   "cell_type": "code",
   "execution_count": 49,
   "metadata": {
    "collapsed": false
   },
   "outputs": [
    {
     "data": {
      "text/plain": [
       "pandas.tslib.Timestamp"
      ]
     },
     "execution_count": 49,
     "metadata": {},
     "output_type": "execute_result"
    }
   ],
   "source": [
    "type(daily_mean['Date'][2])"
   ]
  },
  {
   "cell_type": "code",
   "execution_count": 50,
   "metadata": {
    "collapsed": false
   },
   "outputs": [
    {
     "data": {
      "text/html": [
       "<div>\n",
       "<table border=\"1\" class=\"dataframe\">\n",
       "  <thead>\n",
       "    <tr style=\"text-align: right;\">\n",
       "      <th></th>\n",
       "      <th>Date</th>\n",
       "      <th>ToU</th>\n",
       "      <th>mean</th>\n",
       "    </tr>\n",
       "  </thead>\n",
       "  <tbody>\n",
       "    <tr>\n",
       "      <th>980</th>\n",
       "      <td>2013-10-15</td>\n",
       "      <td>1.0</td>\n",
       "      <td>0.182846</td>\n",
       "    </tr>\n",
       "    <tr>\n",
       "      <th>430</th>\n",
       "      <td>2013-01-13</td>\n",
       "      <td>1.0</td>\n",
       "      <td>0.260546</td>\n",
       "    </tr>\n",
       "    <tr>\n",
       "      <th>1174</th>\n",
       "      <td>2014-02-09</td>\n",
       "      <td>0.0</td>\n",
       "      <td>0.254605</td>\n",
       "    </tr>\n",
       "    <tr>\n",
       "      <th>495</th>\n",
       "      <td>2013-02-15</td>\n",
       "      <td>0.0</td>\n",
       "      <td>0.244258</td>\n",
       "    </tr>\n",
       "    <tr>\n",
       "      <th>371</th>\n",
       "      <td>2012-11-28</td>\n",
       "      <td>0.0</td>\n",
       "      <td>0.249383</td>\n",
       "    </tr>\n",
       "  </tbody>\n",
       "</table>\n",
       "</div>"
      ],
      "text/plain": [
       "           Date  ToU      mean\n",
       "980  2013-10-15  1.0  0.182846\n",
       "430  2013-01-13  1.0  0.260546\n",
       "1174 2014-02-09  0.0  0.254605\n",
       "495  2013-02-15  0.0  0.244258\n",
       "371  2012-11-28  0.0  0.249383"
      ]
     },
     "execution_count": 50,
     "metadata": {},
     "output_type": "execute_result"
    }
   ],
   "source": [
    "daily_mean.sample(5)"
   ]
  },
  {
   "cell_type": "code",
   "execution_count": 51,
   "metadata": {
    "collapsed": false
   },
   "outputs": [],
   "source": [
    "daily_mean['Date'] = daily_mean['Date'] + datetime.timedelta(days=1)"
   ]
  },
  {
   "cell_type": "code",
   "execution_count": 52,
   "metadata": {
    "collapsed": false
   },
   "outputs": [],
   "source": [
    "df = df.merge(daily_mean, how = 'left', on = ['Date','ToU'])"
   ]
  },
  {
   "cell_type": "code",
   "execution_count": 53,
   "metadata": {
    "collapsed": false
   },
   "outputs": [],
   "source": [
    "df = df.rename(columns = {'mean_x' : 'mean_cons',\n",
    "          'mean_y' : 'mean_prev_day'})"
   ]
  },
  {
   "cell_type": "code",
   "execution_count": 54,
   "metadata": {
    "collapsed": false
   },
   "outputs": [
    {
     "data": {
      "text/html": [
       "<div>\n",
       "<table border=\"1\" class=\"dataframe\">\n",
       "  <thead>\n",
       "    <tr style=\"text-align: right;\">\n",
       "      <th></th>\n",
       "      <th>DateTime</th>\n",
       "      <th>Tariff_value</th>\n",
       "      <th>sum</th>\n",
       "      <th>count</th>\n",
       "      <th>mean_cons</th>\n",
       "      <th>ToU</th>\n",
       "      <th>Date</th>\n",
       "      <th>Holiday</th>\n",
       "      <th>temperature</th>\n",
       "      <th>humidity</th>\n",
       "      <th>cloudCover</th>\n",
       "      <th>pressure</th>\n",
       "      <th>Set</th>\n",
       "      <th>DoW</th>\n",
       "      <th>Time</th>\n",
       "      <th>Month</th>\n",
       "      <th>Year</th>\n",
       "      <th>mean_prev_day</th>\n",
       "    </tr>\n",
       "  </thead>\n",
       "  <tbody>\n",
       "    <tr>\n",
       "      <th>6958</th>\n",
       "      <td>2012-04-16 09:00:00</td>\n",
       "      <td>14.228</td>\n",
       "      <td>313.720</td>\n",
       "      <td>1516</td>\n",
       "      <td>0.206939</td>\n",
       "      <td>0.0</td>\n",
       "      <td>2012-04-16</td>\n",
       "      <td>0</td>\n",
       "      <td>7.50</td>\n",
       "      <td>0.48</td>\n",
       "      <td>0.31</td>\n",
       "      <td>1026.99</td>\n",
       "      <td>Train</td>\n",
       "      <td>Monday</td>\n",
       "      <td>09:00:00</td>\n",
       "      <td>April</td>\n",
       "      <td>2012</td>\n",
       "      <td>0.231841</td>\n",
       "    </tr>\n",
       "    <tr>\n",
       "      <th>5479</th>\n",
       "      <td>2012-03-16 12:30:00</td>\n",
       "      <td>14.228</td>\n",
       "      <td>230.458</td>\n",
       "      <td>1026</td>\n",
       "      <td>0.224618</td>\n",
       "      <td>0.0</td>\n",
       "      <td>2012-03-16</td>\n",
       "      <td>0</td>\n",
       "      <td>9.26</td>\n",
       "      <td>0.76</td>\n",
       "      <td>0.89</td>\n",
       "      <td>1019.24</td>\n",
       "      <td>Train</td>\n",
       "      <td>Friday</td>\n",
       "      <td>12:30:00</td>\n",
       "      <td>March</td>\n",
       "      <td>2012</td>\n",
       "      <td>0.230902</td>\n",
       "    </tr>\n",
       "    <tr>\n",
       "      <th>1001</th>\n",
       "      <td>2011-12-14 05:30:00</td>\n",
       "      <td>14.228</td>\n",
       "      <td>30.982</td>\n",
       "      <td>223</td>\n",
       "      <td>0.138933</td>\n",
       "      <td>0.0</td>\n",
       "      <td>2011-12-14</td>\n",
       "      <td>0</td>\n",
       "      <td>5.06</td>\n",
       "      <td>0.78</td>\n",
       "      <td>0.20</td>\n",
       "      <td>990.84</td>\n",
       "      <td>Train</td>\n",
       "      <td>Wednesday</td>\n",
       "      <td>05:30:00</td>\n",
       "      <td>December</td>\n",
       "      <td>2011</td>\n",
       "      <td>0.253518</td>\n",
       "    </tr>\n",
       "    <tr>\n",
       "      <th>6375</th>\n",
       "      <td>2012-04-04 05:30:00</td>\n",
       "      <td>14.228</td>\n",
       "      <td>208.212</td>\n",
       "      <td>1290</td>\n",
       "      <td>0.161405</td>\n",
       "      <td>0.0</td>\n",
       "      <td>2012-04-04</td>\n",
       "      <td>0</td>\n",
       "      <td>4.13</td>\n",
       "      <td>0.92</td>\n",
       "      <td>0.35</td>\n",
       "      <td>1002.59</td>\n",
       "      <td>Train</td>\n",
       "      <td>Wednesday</td>\n",
       "      <td>05:30:00</td>\n",
       "      <td>April</td>\n",
       "      <td>2012</td>\n",
       "      <td>0.213136</td>\n",
       "    </tr>\n",
       "    <tr>\n",
       "      <th>28781</th>\n",
       "      <td>2013-04-08 13:00:00</td>\n",
       "      <td>67.200</td>\n",
       "      <td>195.924</td>\n",
       "      <td>1099</td>\n",
       "      <td>0.178275</td>\n",
       "      <td>1.0</td>\n",
       "      <td>2013-04-08</td>\n",
       "      <td>0</td>\n",
       "      <td>10.08</td>\n",
       "      <td>0.47</td>\n",
       "      <td>0.55</td>\n",
       "      <td>1004.06</td>\n",
       "      <td>Train</td>\n",
       "      <td>Monday</td>\n",
       "      <td>13:00:00</td>\n",
       "      <td>April</td>\n",
       "      <td>2013</td>\n",
       "      <td>0.213706</td>\n",
       "    </tr>\n",
       "  </tbody>\n",
       "</table>\n",
       "</div>"
      ],
      "text/plain": [
       "                 DateTime  Tariff_value      sum  count  mean_cons  ToU  \\\n",
       "6958  2012-04-16 09:00:00        14.228  313.720   1516   0.206939  0.0   \n",
       "5479  2012-03-16 12:30:00        14.228  230.458   1026   0.224618  0.0   \n",
       "1001  2011-12-14 05:30:00        14.228   30.982    223   0.138933  0.0   \n",
       "6375  2012-04-04 05:30:00        14.228  208.212   1290   0.161405  0.0   \n",
       "28781 2013-04-08 13:00:00        67.200  195.924   1099   0.178275  1.0   \n",
       "\n",
       "            Date  Holiday  temperature  humidity  cloudCover  pressure    Set  \\\n",
       "6958  2012-04-16        0         7.50      0.48        0.31   1026.99  Train   \n",
       "5479  2012-03-16        0         9.26      0.76        0.89   1019.24  Train   \n",
       "1001  2011-12-14        0         5.06      0.78        0.20    990.84  Train   \n",
       "6375  2012-04-04        0         4.13      0.92        0.35   1002.59  Train   \n",
       "28781 2013-04-08        0        10.08      0.47        0.55   1004.06  Train   \n",
       "\n",
       "             DoW      Time     Month  Year  mean_prev_day  \n",
       "6958      Monday  09:00:00     April  2012       0.231841  \n",
       "5479      Friday  12:30:00     March  2012       0.230902  \n",
       "1001   Wednesday  05:30:00  December  2011       0.253518  \n",
       "6375   Wednesday  05:30:00     April  2012       0.213136  \n",
       "28781     Monday  13:00:00     April  2013       0.213706  "
      ]
     },
     "execution_count": 54,
     "metadata": {},
     "output_type": "execute_result"
    }
   ],
   "source": [
    "df.sample(5)"
   ]
  },
  {
   "cell_type": "markdown",
   "metadata": {},
   "source": [
    "###### Aggregate demand in the previous day at the same time and at the previous 3 time steps (4 variables)."
   ]
  },
  {
   "cell_type": "code",
   "execution_count": 55,
   "metadata": {
    "collapsed": false
   },
   "outputs": [
    {
     "data": {
      "text/html": [
       "<div>\n",
       "<table border=\"1\" class=\"dataframe\">\n",
       "  <thead>\n",
       "    <tr style=\"text-align: right;\">\n",
       "      <th></th>\n",
       "      <th>DateTime</th>\n",
       "      <th>Tariff_value</th>\n",
       "      <th>sum</th>\n",
       "      <th>count</th>\n",
       "      <th>mean_cons</th>\n",
       "      <th>ToU</th>\n",
       "      <th>Date</th>\n",
       "      <th>Holiday</th>\n",
       "      <th>temperature</th>\n",
       "      <th>humidity</th>\n",
       "      <th>cloudCover</th>\n",
       "      <th>pressure</th>\n",
       "      <th>Set</th>\n",
       "      <th>DoW</th>\n",
       "      <th>Time</th>\n",
       "      <th>Month</th>\n",
       "      <th>Year</th>\n",
       "      <th>mean_prev_day</th>\n",
       "    </tr>\n",
       "  </thead>\n",
       "  <tbody>\n",
       "    <tr>\n",
       "      <th>0</th>\n",
       "      <td>2011-11-23 09:00:00</td>\n",
       "      <td>14.228</td>\n",
       "      <td>0.569</td>\n",
       "      <td>2</td>\n",
       "      <td>0.284500</td>\n",
       "      <td>0.0</td>\n",
       "      <td>2011-11-23</td>\n",
       "      <td>0</td>\n",
       "      <td>4.84</td>\n",
       "      <td>0.99</td>\n",
       "      <td>0.32</td>\n",
       "      <td>1027.34</td>\n",
       "      <td>Train</td>\n",
       "      <td>Wednesday</td>\n",
       "      <td>09:00:00</td>\n",
       "      <td>November</td>\n",
       "      <td>2011</td>\n",
       "      <td>NaN</td>\n",
       "    </tr>\n",
       "    <tr>\n",
       "      <th>1</th>\n",
       "      <td>2011-11-23 09:30:00</td>\n",
       "      <td>14.228</td>\n",
       "      <td>0.561</td>\n",
       "      <td>2</td>\n",
       "      <td>0.280500</td>\n",
       "      <td>0.0</td>\n",
       "      <td>2011-11-23</td>\n",
       "      <td>0</td>\n",
       "      <td>4.84</td>\n",
       "      <td>0.99</td>\n",
       "      <td>0.32</td>\n",
       "      <td>1027.34</td>\n",
       "      <td>Train</td>\n",
       "      <td>Wednesday</td>\n",
       "      <td>09:30:00</td>\n",
       "      <td>November</td>\n",
       "      <td>2011</td>\n",
       "      <td>NaN</td>\n",
       "    </tr>\n",
       "    <tr>\n",
       "      <th>2</th>\n",
       "      <td>2011-11-23 10:00:00</td>\n",
       "      <td>14.228</td>\n",
       "      <td>0.920</td>\n",
       "      <td>6</td>\n",
       "      <td>0.153333</td>\n",
       "      <td>0.0</td>\n",
       "      <td>2011-11-23</td>\n",
       "      <td>0</td>\n",
       "      <td>5.69</td>\n",
       "      <td>0.98</td>\n",
       "      <td>0.56</td>\n",
       "      <td>1027.72</td>\n",
       "      <td>Train</td>\n",
       "      <td>Wednesday</td>\n",
       "      <td>10:00:00</td>\n",
       "      <td>November</td>\n",
       "      <td>2011</td>\n",
       "      <td>NaN</td>\n",
       "    </tr>\n",
       "    <tr>\n",
       "      <th>3</th>\n",
       "      <td>2011-11-23 10:30:00</td>\n",
       "      <td>14.228</td>\n",
       "      <td>0.588</td>\n",
       "      <td>6</td>\n",
       "      <td>0.098000</td>\n",
       "      <td>0.0</td>\n",
       "      <td>2011-11-23</td>\n",
       "      <td>0</td>\n",
       "      <td>5.69</td>\n",
       "      <td>0.98</td>\n",
       "      <td>0.56</td>\n",
       "      <td>1027.72</td>\n",
       "      <td>Train</td>\n",
       "      <td>Wednesday</td>\n",
       "      <td>10:30:00</td>\n",
       "      <td>November</td>\n",
       "      <td>2011</td>\n",
       "      <td>NaN</td>\n",
       "    </tr>\n",
       "    <tr>\n",
       "      <th>4</th>\n",
       "      <td>2011-11-23 11:00:00</td>\n",
       "      <td>14.228</td>\n",
       "      <td>0.772</td>\n",
       "      <td>7</td>\n",
       "      <td>0.110286</td>\n",
       "      <td>0.0</td>\n",
       "      <td>2011-11-23</td>\n",
       "      <td>0</td>\n",
       "      <td>7.66</td>\n",
       "      <td>0.88</td>\n",
       "      <td>0.32</td>\n",
       "      <td>1027.59</td>\n",
       "      <td>Train</td>\n",
       "      <td>Wednesday</td>\n",
       "      <td>11:00:00</td>\n",
       "      <td>November</td>\n",
       "      <td>2011</td>\n",
       "      <td>NaN</td>\n",
       "    </tr>\n",
       "  </tbody>\n",
       "</table>\n",
       "</div>"
      ],
      "text/plain": [
       "             DateTime  Tariff_value    sum  count  mean_cons  ToU       Date  \\\n",
       "0 2011-11-23 09:00:00        14.228  0.569      2   0.284500  0.0 2011-11-23   \n",
       "1 2011-11-23 09:30:00        14.228  0.561      2   0.280500  0.0 2011-11-23   \n",
       "2 2011-11-23 10:00:00        14.228  0.920      6   0.153333  0.0 2011-11-23   \n",
       "3 2011-11-23 10:30:00        14.228  0.588      6   0.098000  0.0 2011-11-23   \n",
       "4 2011-11-23 11:00:00        14.228  0.772      7   0.110286  0.0 2011-11-23   \n",
       "\n",
       "   Holiday  temperature  humidity  cloudCover  pressure    Set        DoW  \\\n",
       "0        0         4.84      0.99        0.32   1027.34  Train  Wednesday   \n",
       "1        0         4.84      0.99        0.32   1027.34  Train  Wednesday   \n",
       "2        0         5.69      0.98        0.56   1027.72  Train  Wednesday   \n",
       "3        0         5.69      0.98        0.56   1027.72  Train  Wednesday   \n",
       "4        0         7.66      0.88        0.32   1027.59  Train  Wednesday   \n",
       "\n",
       "       Time     Month  Year  mean_prev_day  \n",
       "0  09:00:00  November  2011            NaN  \n",
       "1  09:30:00  November  2011            NaN  \n",
       "2  10:00:00  November  2011            NaN  \n",
       "3  10:30:00  November  2011            NaN  \n",
       "4  11:00:00  November  2011            NaN  "
      ]
     },
     "execution_count": 55,
     "metadata": {},
     "output_type": "execute_result"
    }
   ],
   "source": [
    "df.head()"
   ]
  },
  {
   "cell_type": "code",
   "execution_count": 56,
   "metadata": {
    "collapsed": true
   },
   "outputs": [],
   "source": [
    "def prev_ts(df_in, initial, final, step):\n",
    "    #Both initial and final are included in the loop\n",
    "    df_out = df_in[['DateTime', 'ToU']].copy()\n",
    "    for i in range(initial, final + 1, step):\n",
    "        aux = df_in[['DateTime', 'ToU', 'mean_cons']].copy()\n",
    "        aux['DateTime'] = aux['DateTime'] + datetime.timedelta(minutes = i)\n",
    "        df_out = df_out.\\\n",
    "            merge(aux, how = 'left', on = ['DateTime','ToU'], suffixes = ('','_-%d' %(i)))\n",
    "    return(df_out)"
   ]
  },
  {
   "cell_type": "code",
   "execution_count": 57,
   "metadata": {
    "collapsed": false
   },
   "outputs": [],
   "source": [
    "tmp = prev_ts(df, 22*60+30, 24*60, 30)\n",
    "df = df.merge(tmp[['DateTime','ToU','mean_cons_-1380', 'mean_cons_-1410', 'mean_cons_-1440']],\n",
    "         on = ['DateTime','ToU'], suffixes = ('',''))"
   ]
  },
  {
   "cell_type": "code",
   "execution_count": 58,
   "metadata": {
    "collapsed": false
   },
   "outputs": [
    {
     "data": {
      "text/html": [
       "<div>\n",
       "<table border=\"1\" class=\"dataframe\">\n",
       "  <thead>\n",
       "    <tr style=\"text-align: right;\">\n",
       "      <th></th>\n",
       "      <th>DateTime</th>\n",
       "      <th>Tariff_value</th>\n",
       "      <th>sum</th>\n",
       "      <th>count</th>\n",
       "      <th>mean_cons</th>\n",
       "      <th>ToU</th>\n",
       "      <th>Date</th>\n",
       "      <th>Holiday</th>\n",
       "      <th>temperature</th>\n",
       "      <th>humidity</th>\n",
       "      <th>cloudCover</th>\n",
       "      <th>pressure</th>\n",
       "      <th>Set</th>\n",
       "      <th>DoW</th>\n",
       "      <th>Time</th>\n",
       "      <th>Month</th>\n",
       "      <th>Year</th>\n",
       "      <th>mean_prev_day</th>\n",
       "      <th>mean_cons_-1380</th>\n",
       "      <th>mean_cons_-1410</th>\n",
       "      <th>mean_cons_-1440</th>\n",
       "    </tr>\n",
       "  </thead>\n",
       "  <tbody>\n",
       "    <tr>\n",
       "      <th>19181</th>\n",
       "      <td>2012-12-27 00:30:00</td>\n",
       "      <td>14.228</td>\n",
       "      <td>1165.175000</td>\n",
       "      <td>5505</td>\n",
       "      <td>0.211658</td>\n",
       "      <td>0.0</td>\n",
       "      <td>2012-12-27</td>\n",
       "      <td>0</td>\n",
       "      <td>7.73</td>\n",
       "      <td>0.82</td>\n",
       "      <td>0.27</td>\n",
       "      <td>1003.06</td>\n",
       "      <td>Train</td>\n",
       "      <td>Thursday</td>\n",
       "      <td>00:30:00</td>\n",
       "      <td>December</td>\n",
       "      <td>2012</td>\n",
       "      <td>0.243411</td>\n",
       "      <td>0.168923</td>\n",
       "      <td>0.191019</td>\n",
       "      <td>0.218676</td>\n",
       "    </tr>\n",
       "    <tr>\n",
       "      <th>9603</th>\n",
       "      <td>2012-06-10 11:30:00</td>\n",
       "      <td>14.228</td>\n",
       "      <td>863.077000</td>\n",
       "      <td>3903</td>\n",
       "      <td>0.221132</td>\n",
       "      <td>0.0</td>\n",
       "      <td>2012-06-10</td>\n",
       "      <td>0</td>\n",
       "      <td>16.83</td>\n",
       "      <td>0.49</td>\n",
       "      <td>0.41</td>\n",
       "      <td>1008.60</td>\n",
       "      <td>Train</td>\n",
       "      <td>Sunday</td>\n",
       "      <td>11:30:00</td>\n",
       "      <td>June</td>\n",
       "      <td>2012</td>\n",
       "      <td>0.178811</td>\n",
       "      <td>0.205025</td>\n",
       "      <td>0.211188</td>\n",
       "      <td>0.210592</td>\n",
       "    </tr>\n",
       "    <tr>\n",
       "      <th>11484</th>\n",
       "      <td>2012-07-19 16:00:00</td>\n",
       "      <td>14.228</td>\n",
       "      <td>899.899001</td>\n",
       "      <td>4732</td>\n",
       "      <td>0.190173</td>\n",
       "      <td>0.0</td>\n",
       "      <td>2012-07-19</td>\n",
       "      <td>0</td>\n",
       "      <td>20.27</td>\n",
       "      <td>0.50</td>\n",
       "      <td>0.42</td>\n",
       "      <td>1011.91</td>\n",
       "      <td>Train</td>\n",
       "      <td>Thursday</td>\n",
       "      <td>16:00:00</td>\n",
       "      <td>July</td>\n",
       "      <td>2012</td>\n",
       "      <td>0.172349</td>\n",
       "      <td>0.217391</td>\n",
       "      <td>0.209560</td>\n",
       "      <td>0.196699</td>\n",
       "    </tr>\n",
       "    <tr>\n",
       "      <th>47930</th>\n",
       "      <td>2013-10-25 00:30:00</td>\n",
       "      <td>11.760</td>\n",
       "      <td>109.611000</td>\n",
       "      <td>1050</td>\n",
       "      <td>0.104391</td>\n",
       "      <td>1.0</td>\n",
       "      <td>2013-10-25</td>\n",
       "      <td>0</td>\n",
       "      <td>13.18</td>\n",
       "      <td>0.93</td>\n",
       "      <td>0.00</td>\n",
       "      <td>1009.45</td>\n",
       "      <td>Test</td>\n",
       "      <td>Friday</td>\n",
       "      <td>00:30:00</td>\n",
       "      <td>October</td>\n",
       "      <td>2013</td>\n",
       "      <td>0.180342</td>\n",
       "      <td>0.097941</td>\n",
       "      <td>0.099941</td>\n",
       "      <td>0.107938</td>\n",
       "    </tr>\n",
       "    <tr>\n",
       "      <th>22407</th>\n",
       "      <td>2013-02-01 02:30:00</td>\n",
       "      <td>14.228</td>\n",
       "      <td>615.995000</td>\n",
       "      <td>4374</td>\n",
       "      <td>0.140831</td>\n",
       "      <td>0.0</td>\n",
       "      <td>2013-02-01</td>\n",
       "      <td>0</td>\n",
       "      <td>8.03</td>\n",
       "      <td>0.80</td>\n",
       "      <td>0.26</td>\n",
       "      <td>1009.66</td>\n",
       "      <td>Train</td>\n",
       "      <td>Friday</td>\n",
       "      <td>02:30:00</td>\n",
       "      <td>February</td>\n",
       "      <td>2013</td>\n",
       "      <td>0.239651</td>\n",
       "      <td>0.130583</td>\n",
       "      <td>0.135504</td>\n",
       "      <td>0.144816</td>\n",
       "    </tr>\n",
       "  </tbody>\n",
       "</table>\n",
       "</div>"
      ],
      "text/plain": [
       "                 DateTime  Tariff_value          sum  count  mean_cons  ToU  \\\n",
       "19181 2012-12-27 00:30:00        14.228  1165.175000   5505   0.211658  0.0   \n",
       "9603  2012-06-10 11:30:00        14.228   863.077000   3903   0.221132  0.0   \n",
       "11484 2012-07-19 16:00:00        14.228   899.899001   4732   0.190173  0.0   \n",
       "47930 2013-10-25 00:30:00        11.760   109.611000   1050   0.104391  1.0   \n",
       "22407 2013-02-01 02:30:00        14.228   615.995000   4374   0.140831  0.0   \n",
       "\n",
       "            Date  Holiday  temperature  humidity  cloudCover  pressure    Set  \\\n",
       "19181 2012-12-27        0         7.73      0.82        0.27   1003.06  Train   \n",
       "9603  2012-06-10        0        16.83      0.49        0.41   1008.60  Train   \n",
       "11484 2012-07-19        0        20.27      0.50        0.42   1011.91  Train   \n",
       "47930 2013-10-25        0        13.18      0.93        0.00   1009.45   Test   \n",
       "22407 2013-02-01        0         8.03      0.80        0.26   1009.66  Train   \n",
       "\n",
       "            DoW      Time     Month  Year  mean_prev_day  mean_cons_-1380  \\\n",
       "19181  Thursday  00:30:00  December  2012       0.243411         0.168923   \n",
       "9603     Sunday  11:30:00      June  2012       0.178811         0.205025   \n",
       "11484  Thursday  16:00:00      July  2012       0.172349         0.217391   \n",
       "47930    Friday  00:30:00   October  2013       0.180342         0.097941   \n",
       "22407    Friday  02:30:00  February  2013       0.239651         0.130583   \n",
       "\n",
       "       mean_cons_-1410  mean_cons_-1440  \n",
       "19181         0.191019         0.218676  \n",
       "9603          0.211188         0.210592  \n",
       "11484         0.209560         0.196699  \n",
       "47930         0.099941         0.107938  \n",
       "22407         0.135504         0.144816  "
      ]
     },
     "execution_count": 58,
     "metadata": {},
     "output_type": "execute_result"
    }
   ],
   "source": [
    "df.sample(5)"
   ]
  },
  {
   "cell_type": "markdown",
   "metadata": {},
   "source": [
    "###### Mean value of the aggregate demand of the previous 3 days at the same time and at the previous 3 time steps (4 variables)."
   ]
  },
  {
   "cell_type": "code",
   "execution_count": 59,
   "metadata": {
    "collapsed": false
   },
   "outputs": [],
   "source": [
    "aux2 = df[['DateTime', 'ToU']].copy()\n",
    "means_3d = pd.DataFrame(index=df.index)\n",
    "for h in range(0,4):\n",
    "    for d in range(1,4):\n",
    "        aux = df[['DateTime', 'ToU', 'mean_cons']].copy()\n",
    "        aux['DateTime'] = aux['DateTime'] + datetime.timedelta(minutes = d*24*60-h*30)\n",
    "        aux2 = aux2.\\\n",
    "            merge(aux, how = 'left', on = ['DateTime','ToU'])\n",
    "    means_3d = means_3d.join(aux2.mean(axis=1).rename('mean_last3d_-%d' %(h*30)))"
   ]
  },
  {
   "cell_type": "code",
   "execution_count": 60,
   "metadata": {
    "collapsed": false
   },
   "outputs": [],
   "source": [
    "df = df.join(means_3d)"
   ]
  },
  {
   "cell_type": "code",
   "execution_count": 61,
   "metadata": {
    "collapsed": false
   },
   "outputs": [
    {
     "data": {
      "text/html": [
       "<div>\n",
       "<table border=\"1\" class=\"dataframe\">\n",
       "  <thead>\n",
       "    <tr style=\"text-align: right;\">\n",
       "      <th></th>\n",
       "      <th>DateTime</th>\n",
       "      <th>Tariff_value</th>\n",
       "      <th>sum</th>\n",
       "      <th>count</th>\n",
       "      <th>mean_cons</th>\n",
       "      <th>ToU</th>\n",
       "      <th>Date</th>\n",
       "      <th>Holiday</th>\n",
       "      <th>temperature</th>\n",
       "      <th>humidity</th>\n",
       "      <th>cloudCover</th>\n",
       "      <th>pressure</th>\n",
       "      <th>Set</th>\n",
       "      <th>DoW</th>\n",
       "      <th>Time</th>\n",
       "      <th>Month</th>\n",
       "      <th>Year</th>\n",
       "      <th>mean_prev_day</th>\n",
       "      <th>mean_cons_-1380</th>\n",
       "      <th>mean_cons_-1410</th>\n",
       "      <th>mean_cons_-1440</th>\n",
       "      <th>mean_last3d_-0</th>\n",
       "      <th>mean_last3d_-30</th>\n",
       "      <th>mean_last3d_-60</th>\n",
       "      <th>mean_last3d_-90</th>\n",
       "    </tr>\n",
       "  </thead>\n",
       "  <tbody>\n",
       "    <tr>\n",
       "      <th>26740</th>\n",
       "      <td>2013-03-18 06:00:00</td>\n",
       "      <td>11.76</td>\n",
       "      <td>146.386</td>\n",
       "      <td>1101</td>\n",
       "      <td>0.132957</td>\n",
       "      <td>1.0</td>\n",
       "      <td>2013-03-18</td>\n",
       "      <td>0</td>\n",
       "      <td>0.26</td>\n",
       "      <td>0.99</td>\n",
       "      <td>0.39</td>\n",
       "      <td>989.94</td>\n",
       "      <td>Train</td>\n",
       "      <td>Monday</td>\n",
       "      <td>06:00:00</td>\n",
       "      <td>March</td>\n",
       "      <td>2013</td>\n",
       "      <td>0.248919</td>\n",
       "      <td>0.159280</td>\n",
       "      <td>0.140001</td>\n",
       "      <td>0.124374</td>\n",
       "      <td>0.349582</td>\n",
       "      <td>0.265628</td>\n",
       "      <td>0.239471</td>\n",
       "      <td>0.232349</td>\n",
       "    </tr>\n",
       "    <tr>\n",
       "      <th>52774</th>\n",
       "      <td>2013-12-14 11:30:00</td>\n",
       "      <td>11.76</td>\n",
       "      <td>236.137</td>\n",
       "      <td>1042</td>\n",
       "      <td>0.226619</td>\n",
       "      <td>1.0</td>\n",
       "      <td>2013-12-14</td>\n",
       "      <td>0</td>\n",
       "      <td>9.57</td>\n",
       "      <td>0.77</td>\n",
       "      <td>0.75</td>\n",
       "      <td>1025.91</td>\n",
       "      <td>Test</td>\n",
       "      <td>Saturday</td>\n",
       "      <td>11:30:00</td>\n",
       "      <td>December</td>\n",
       "      <td>2013</td>\n",
       "      <td>0.224444</td>\n",
       "      <td>0.218281</td>\n",
       "      <td>0.206332</td>\n",
       "      <td>0.207092</td>\n",
       "      <td>0.406390</td>\n",
       "      <td>0.323074</td>\n",
       "      <td>0.291731</td>\n",
       "      <td>0.273723</td>\n",
       "    </tr>\n",
       "    <tr>\n",
       "      <th>48894</th>\n",
       "      <td>2013-11-04 01:30:00</td>\n",
       "      <td>11.76</td>\n",
       "      <td>110.779</td>\n",
       "      <td>1047</td>\n",
       "      <td>0.105806</td>\n",
       "      <td>1.0</td>\n",
       "      <td>2013-11-04</td>\n",
       "      <td>0</td>\n",
       "      <td>8.84</td>\n",
       "      <td>0.96</td>\n",
       "      <td>0.07</td>\n",
       "      <td>983.07</td>\n",
       "      <td>Test</td>\n",
       "      <td>Monday</td>\n",
       "      <td>01:30:00</td>\n",
       "      <td>November</td>\n",
       "      <td>2013</td>\n",
       "      <td>0.220749</td>\n",
       "      <td>0.103288</td>\n",
       "      <td>0.108940</td>\n",
       "      <td>0.116290</td>\n",
       "      <td>0.336013</td>\n",
       "      <td>0.238084</td>\n",
       "      <td>0.197292</td>\n",
       "      <td>0.174420</td>\n",
       "    </tr>\n",
       "  </tbody>\n",
       "</table>\n",
       "</div>"
      ],
      "text/plain": [
       "                 DateTime  Tariff_value      sum  count  mean_cons  ToU  \\\n",
       "26740 2013-03-18 06:00:00         11.76  146.386   1101   0.132957  1.0   \n",
       "52774 2013-12-14 11:30:00         11.76  236.137   1042   0.226619  1.0   \n",
       "48894 2013-11-04 01:30:00         11.76  110.779   1047   0.105806  1.0   \n",
       "\n",
       "            Date  Holiday  temperature  humidity  cloudCover  pressure    Set  \\\n",
       "26740 2013-03-18        0         0.26      0.99        0.39    989.94  Train   \n",
       "52774 2013-12-14        0         9.57      0.77        0.75   1025.91   Test   \n",
       "48894 2013-11-04        0         8.84      0.96        0.07    983.07   Test   \n",
       "\n",
       "            DoW      Time     Month  Year  mean_prev_day  mean_cons_-1380  \\\n",
       "26740    Monday  06:00:00     March  2013       0.248919         0.159280   \n",
       "52774  Saturday  11:30:00  December  2013       0.224444         0.218281   \n",
       "48894    Monday  01:30:00  November  2013       0.220749         0.103288   \n",
       "\n",
       "       mean_cons_-1410  mean_cons_-1440  mean_last3d_-0  mean_last3d_-30  \\\n",
       "26740         0.140001         0.124374        0.349582         0.265628   \n",
       "52774         0.206332         0.207092        0.406390         0.323074   \n",
       "48894         0.108940         0.116290        0.336013         0.238084   \n",
       "\n",
       "       mean_last3d_-60  mean_last3d_-90  \n",
       "26740         0.239471         0.232349  \n",
       "52774         0.291731         0.273723  \n",
       "48894         0.197292         0.174420  "
      ]
     },
     "execution_count": 61,
     "metadata": {},
     "output_type": "execute_result"
    }
   ],
   "source": [
    "df.sample(3)"
   ]
  },
  {
   "cell_type": "markdown",
   "metadata": {},
   "source": [
    "###### Mean value of the aggregate demand on the same day of week of the previous 3 weeks at the same time and at the previous 3 time steps (4 variables)."
   ]
  },
  {
   "cell_type": "code",
   "execution_count": 62,
   "metadata": {
    "collapsed": false
   },
   "outputs": [],
   "source": [
    "aux2 = df[['DateTime', 'ToU']].copy()\n",
    "means_3w = pd.DataFrame(index=df.index)\n",
    "for h in range(0,4):\n",
    "    for w in range(1,4):\n",
    "        aux = df[['DateTime', 'ToU', 'mean_cons']].copy()\n",
    "        aux['DateTime'] = aux['DateTime'] + datetime.timedelta(minutes = w*7*24*60-h*30)\n",
    "        aux2 = aux2.\\\n",
    "            merge(aux, how = 'left', on = ['DateTime','ToU'])\n",
    "    means_3w = means_3w.join(aux2.mean(axis=1).rename('mean_last3w_-%d' %(h*30)))"
   ]
  },
  {
   "cell_type": "code",
   "execution_count": 63,
   "metadata": {
    "collapsed": true
   },
   "outputs": [],
   "source": [
    "df = df.join(means_3w)"
   ]
  },
  {
   "cell_type": "code",
   "execution_count": 64,
   "metadata": {
    "collapsed": false
   },
   "outputs": [
    {
     "data": {
      "text/html": [
       "<div>\n",
       "<table border=\"1\" class=\"dataframe\">\n",
       "  <thead>\n",
       "    <tr style=\"text-align: right;\">\n",
       "      <th></th>\n",
       "      <th>DateTime</th>\n",
       "      <th>Tariff_value</th>\n",
       "      <th>sum</th>\n",
       "      <th>count</th>\n",
       "      <th>mean_cons</th>\n",
       "      <th>ToU</th>\n",
       "      <th>Date</th>\n",
       "      <th>Holiday</th>\n",
       "      <th>temperature</th>\n",
       "      <th>humidity</th>\n",
       "      <th>cloudCover</th>\n",
       "      <th>pressure</th>\n",
       "      <th>Set</th>\n",
       "      <th>DoW</th>\n",
       "      <th>Time</th>\n",
       "      <th>Month</th>\n",
       "      <th>Year</th>\n",
       "      <th>mean_prev_day</th>\n",
       "      <th>mean_cons_-1380</th>\n",
       "      <th>mean_cons_-1410</th>\n",
       "      <th>mean_cons_-1440</th>\n",
       "      <th>mean_last3d_-0</th>\n",
       "      <th>mean_last3d_-30</th>\n",
       "      <th>mean_last3d_-60</th>\n",
       "      <th>mean_last3d_-90</th>\n",
       "      <th>mean_last3w_-0</th>\n",
       "      <th>mean_last3w_-30</th>\n",
       "      <th>mean_last3w_-60</th>\n",
       "      <th>mean_last3w_-90</th>\n",
       "    </tr>\n",
       "  </thead>\n",
       "  <tbody>\n",
       "    <tr>\n",
       "      <th>17549</th>\n",
       "      <td>2012-11-23 00:30:00</td>\n",
       "      <td>14.228</td>\n",
       "      <td>1060.851999</td>\n",
       "      <td>5517</td>\n",
       "      <td>0.192288</td>\n",
       "      <td>0.0</td>\n",
       "      <td>2012-11-23</td>\n",
       "      <td>0</td>\n",
       "      <td>8.89</td>\n",
       "      <td>0.90</td>\n",
       "      <td>0.70</td>\n",
       "      <td>1006.03</td>\n",
       "      <td>Train</td>\n",
       "      <td>Friday</td>\n",
       "      <td>00:30:00</td>\n",
       "      <td>November</td>\n",
       "      <td>2012</td>\n",
       "      <td>0.229276</td>\n",
       "      <td>0.157621</td>\n",
       "      <td>0.173250</td>\n",
       "      <td>0.194312</td>\n",
       "      <td>0.142922</td>\n",
       "      <td>0.154024</td>\n",
       "      <td>0.153316</td>\n",
       "      <td>0.149413</td>\n",
       "      <td>0.144864</td>\n",
       "      <td>0.155881</td>\n",
       "      <td>0.154600</td>\n",
       "      <td>0.150727</td>\n",
       "    </tr>\n",
       "    <tr>\n",
       "      <th>51691</th>\n",
       "      <td>2013-12-03 04:30:00</td>\n",
       "      <td>14.228</td>\n",
       "      <td>496.815000</td>\n",
       "      <td>4078</td>\n",
       "      <td>0.121828</td>\n",
       "      <td>0.0</td>\n",
       "      <td>2013-12-03</td>\n",
       "      <td>0</td>\n",
       "      <td>6.92</td>\n",
       "      <td>0.73</td>\n",
       "      <td>0.07</td>\n",
       "      <td>1030.53</td>\n",
       "      <td>Test</td>\n",
       "      <td>Tuesday</td>\n",
       "      <td>04:30:00</td>\n",
       "      <td>December</td>\n",
       "      <td>2013</td>\n",
       "      <td>0.239061</td>\n",
       "      <td>0.130004</td>\n",
       "      <td>0.121593</td>\n",
       "      <td>0.119379</td>\n",
       "      <td>0.094642</td>\n",
       "      <td>0.108695</td>\n",
       "      <td>0.115891</td>\n",
       "      <td>0.121118</td>\n",
       "      <td>0.090920</td>\n",
       "      <td>0.104996</td>\n",
       "      <td>0.112908</td>\n",
       "      <td>0.119902</td>\n",
       "    </tr>\n",
       "    <tr>\n",
       "      <th>12565</th>\n",
       "      <td>2012-08-11 04:30:00</td>\n",
       "      <td>14.228</td>\n",
       "      <td>476.461000</td>\n",
       "      <td>4756</td>\n",
       "      <td>0.100181</td>\n",
       "      <td>0.0</td>\n",
       "      <td>2012-08-11</td>\n",
       "      <td>0</td>\n",
       "      <td>15.71</td>\n",
       "      <td>0.83</td>\n",
       "      <td>0.09</td>\n",
       "      <td>1023.48</td>\n",
       "      <td>Train</td>\n",
       "      <td>Saturday</td>\n",
       "      <td>04:30:00</td>\n",
       "      <td>August</td>\n",
       "      <td>2012</td>\n",
       "      <td>0.166081</td>\n",
       "      <td>0.120835</td>\n",
       "      <td>0.106896</td>\n",
       "      <td>0.100350</td>\n",
       "      <td>0.075134</td>\n",
       "      <td>0.088692</td>\n",
       "      <td>0.097879</td>\n",
       "      <td>0.105719</td>\n",
       "      <td>0.074422</td>\n",
       "      <td>0.086245</td>\n",
       "      <td>0.093618</td>\n",
       "      <td>0.099686</td>\n",
       "    </tr>\n",
       "  </tbody>\n",
       "</table>\n",
       "</div>"
      ],
      "text/plain": [
       "                 DateTime  Tariff_value          sum  count  mean_cons  ToU  \\\n",
       "17549 2012-11-23 00:30:00        14.228  1060.851999   5517   0.192288  0.0   \n",
       "51691 2013-12-03 04:30:00        14.228   496.815000   4078   0.121828  0.0   \n",
       "12565 2012-08-11 04:30:00        14.228   476.461000   4756   0.100181  0.0   \n",
       "\n",
       "            Date  Holiday  temperature  humidity  cloudCover  pressure    Set  \\\n",
       "17549 2012-11-23        0         8.89      0.90        0.70   1006.03  Train   \n",
       "51691 2013-12-03        0         6.92      0.73        0.07   1030.53   Test   \n",
       "12565 2012-08-11        0        15.71      0.83        0.09   1023.48  Train   \n",
       "\n",
       "            DoW      Time     Month  Year  mean_prev_day  mean_cons_-1380  \\\n",
       "17549    Friday  00:30:00  November  2012       0.229276         0.157621   \n",
       "51691   Tuesday  04:30:00  December  2013       0.239061         0.130004   \n",
       "12565  Saturday  04:30:00    August  2012       0.166081         0.120835   \n",
       "\n",
       "       mean_cons_-1410  mean_cons_-1440  mean_last3d_-0  mean_last3d_-30  \\\n",
       "17549         0.173250         0.194312        0.142922         0.154024   \n",
       "51691         0.121593         0.119379        0.094642         0.108695   \n",
       "12565         0.106896         0.100350        0.075134         0.088692   \n",
       "\n",
       "       mean_last3d_-60  mean_last3d_-90  mean_last3w_-0  mean_last3w_-30  \\\n",
       "17549         0.153316         0.149413        0.144864         0.155881   \n",
       "51691         0.115891         0.121118        0.090920         0.104996   \n",
       "12565         0.097879         0.105719        0.074422         0.086245   \n",
       "\n",
       "       mean_last3w_-60  mean_last3w_-90  \n",
       "17549         0.154600         0.150727  \n",
       "51691         0.112908         0.119902  \n",
       "12565         0.093618         0.099686  "
      ]
     },
     "execution_count": 64,
     "metadata": {},
     "output_type": "execute_result"
    }
   ],
   "source": [
    "df.sample(3)"
   ]
  },
  {
   "cell_type": "markdown",
   "metadata": {},
   "source": [
    "Note that pandas.dataframe.mean skips NaN values by default. Therefore, if some values are missing, the mean is still calculated with the remaining ones. Nonetheless, in the first 3 weeks, none of the values needed to calculate some features will exist so there will be missing values. These values will be dropped from the model. This is not needed in dedicated time series algorithms."
   ]
  },
  {
   "cell_type": "code",
   "execution_count": 65,
   "metadata": {
    "collapsed": true
   },
   "outputs": [],
   "source": [
    "df = df.dropna().reset_index(drop=True)"
   ]
  },
  {
   "cell_type": "markdown",
   "metadata": {},
   "source": [
    "Time can be encoded as a categorical variable or as a continuous numerical variable.\n",
    "\n",
    "Looking at the exploratory data analysis in Tableau, aggregating data by time, we can distinguish a plateau between 8:00 and 15:59 during weekdays, an increasing trend up to 19:00, then decreasing to 2:00 and a plateau between 2:00 and 5:59 before increasing to 8:00. During weekends, the midday plateau is not so constant and seems to start at 9:00.\n",
    "\n",
    "Considering time with 30-min frequency would result in a categorical variable with 48 levels. This resolution is probably to large for our purpose taking into account that we will derive features based on consumption in previous time steps and at the same time on previous comparable days, as we will see later. \n",
    "\n",
    "Considering time as a continuous numerical variable is probably a better approach, but from the exploratory data analysis we now its relationship with the target will be strongly non-linear.\n",
    "\n",
    "Therefore, we propose to use it as a numerical variable in the interval [0,24) in models which can grasp non-linearities and to drop it in linear models at is has been used to derived the features.\n",
    "\n",
    "We will also remove the year as we only have 2 complete years (2012 and 2013) and part of our test data is in 2014, which is absent from the train set."
   ]
  },
  {
   "cell_type": "code",
   "execution_count": 66,
   "metadata": {
    "collapsed": true
   },
   "outputs": [],
   "source": [
    "def time2float(time):\n",
    "    return time.hour + time.minute / 60.0"
   ]
  },
  {
   "cell_type": "code",
   "execution_count": 67,
   "metadata": {
    "collapsed": true
   },
   "outputs": [],
   "source": [
    "df['Time'] = df['Time'].apply(lambda t: time2float(t))"
   ]
  },
  {
   "cell_type": "markdown",
   "metadata": {},
   "source": [
    "Now that we have built all features we can save this model to a csv file for use in R."
   ]
  },
  {
   "cell_type": "code",
   "execution_count": 68,
   "metadata": {
    "collapsed": true
   },
   "outputs": [],
   "source": [
    "df.to_csv('outputs/features_model.csv', index = False)"
   ]
  }
 ],
 "metadata": {
  "kernelspec": {
   "display_name": "Python 3",
   "language": "python",
   "name": "python3"
  },
  "language_info": {
   "codemirror_mode": {
    "name": "ipython",
    "version": 3
   },
   "file_extension": ".py",
   "mimetype": "text/x-python",
   "name": "python",
   "nbconvert_exporter": "python",
   "pygments_lexer": "ipython3",
   "version": "3.6.0"
  }
 },
 "nbformat": 4,
 "nbformat_minor": 2
}
