{
 "cells": [
  {
   "cell_type": "markdown",
   "metadata": {},
   "source": [
    "## 3.2  Calculating the price of electricity for each dToU User"
   ]
  },
  {
   "cell_type": "markdown",
   "metadata": {},
   "source": [
    "In this section we will calculate the consumption and price of electricity paid by each dToU user in 2013. We will also calculate both values for each user in 2012 to know how each individual user has changed his electricity consumption behaviour:\n",
    "\n",
    "-Total consumption\n",
    "\n",
    "-Price paid per kWh: a lower mean price would indicate that the user has indeed tried to increase his consumption when prices were low and decrease if when the tariff was high."
   ]
  },
  {
   "cell_type": "markdown",
   "metadata": {},
   "source": [
    "The commented lines are not necessary with the configuration in our Virtual Machine."
   ]
  },
  {
   "cell_type": "code",
   "execution_count": 1,
   "metadata": {
    "collapsed": false
   },
   "outputs": [
    {
     "data": {
      "text/plain": [
       "<pyspark.context.SparkContext at 0x7f0c53583d90>"
      ]
     },
     "execution_count": 1,
     "metadata": {},
     "output_type": "execute_result"
    }
   ],
   "source": [
    "#from pyspark import SparkContext\n",
    "#sc = SparkContext()\n",
    "#from pyspark import sqlContext\n",
    "from datetime import datetime\n",
    "import numpy as np\n",
    "from pyspark import Row\n",
    "sc"
   ]
  },
  {
   "cell_type": "code",
   "execution_count": 2,
   "metadata": {
    "collapsed": true
   },
   "outputs": [],
   "source": [
    "path = 'Power-Networks-LCL-June2015.bz2'"
   ]
  },
  {
   "cell_type": "code",
   "execution_count": 3,
   "metadata": {
    "collapsed": true
   },
   "outputs": [],
   "source": [
    "data = sc.textFile(path)"
   ]
  },
  {
   "cell_type": "code",
   "execution_count": 73,
   "metadata": {
    "collapsed": false
   },
   "outputs": [
    {
     "data": {
      "text/plain": [
       "[u'Archive:  Power-Networks-LCL-June2015(withAcornGps).zip',\n",
       " u'  inflating: Power-Networks-LCL-June2015(withAcornGps)v2.csv  ',\n",
       " u'LCLid,stdorToU,DateTime,KWH/hh (per half hour) ,Acorn,Acorn_grouped',\n",
       " u'MAC000002,Std,2012-10-12 00:30:00.0000000, 0 ,ACORN-A,Affluent',\n",
       " u'MAC000002,Std,2012-10-12 01:00:00.0000000, 0 ,ACORN-A,Affluent']"
      ]
     },
     "execution_count": 73,
     "metadata": {},
     "output_type": "execute_result"
    }
   ],
   "source": [
    "data.take(5)"
   ]
  },
  {
   "cell_type": "code",
   "execution_count": 4,
   "metadata": {
    "collapsed": true
   },
   "outputs": [],
   "source": [
    "data_no_header = data.zipWithIndex().filter(lambda x: x[1] > 2).keys()"
   ]
  },
  {
   "cell_type": "code",
   "execution_count": 5,
   "metadata": {
    "collapsed": true
   },
   "outputs": [],
   "source": [
    "def line2tuple(l):\n",
    "    fields = l.split(',')\n",
    "    if len(fields) == 6: \n",
    "\n",
    "#We have seen that there is at least one line in the file that does not follow the format.\n",
    "#This condition is to avoid an \"Index out of range\" error. \n",
    "        ID = fields[0]\n",
    "        tariff = fields[1]\n",
    "        DateTime = fields[2]\n",
    "        ACORN = fields[4]\n",
    "        try:\n",
    "            consumption = float(fields[3])\n",
    "        except ValueError:\n",
    "            consumption = np.nan\n",
    "        return (ID, tariff, DateTime, consumption,ACORN)\n",
    "    else:\n",
    "        return (np.nan,np.nan,np.nan,np.nan,np.nan)\n",
    "   \n",
    "#We treat any line that does not follow the general format as NaN. \n",
    "#We will remove them afterwards"
   ]
  },
  {
   "cell_type": "code",
   "execution_count": 6,
   "metadata": {
    "collapsed": false
   },
   "outputs": [],
   "source": [
    "rows = data_no_header.map(line2tuple).filter(lambda (_1,t,_2,_3,_4): t == 'ToU')\\\n",
    ".map(lambda x: Row(ID = x[0], DateTime = x[2], kWh_30min = x[3], ACORN = x[4]))"
   ]
  },
  {
   "cell_type": "markdown",
   "metadata": {
    "collapsed": false
   },
   "source": [
    "df = rows.toDF()\n",
    "df.printSchema"
   ]
  },
  {
   "cell_type": "code",
   "execution_count": 8,
   "metadata": {
    "collapsed": true
   },
   "outputs": [],
   "source": [
    "from pyspark.sql.types import TimestampType\n",
    "df = df.withColumn('DateTime', df['DateTime'].cast(TimestampType()))"
   ]
  },
  {
   "cell_type": "code",
   "execution_count": 7,
   "metadata": {
    "collapsed": false
   },
   "outputs": [
    {
     "name": "stdout",
     "output_type": "stream",
     "text": [
      "--2017-04-23 12:40:47--  https://files.datapress.com/london/dataset/smartmeter-energy-use-data-in-london-households/Tariffs.xlsx\n",
      "Resolving files.datapress.com (files.datapress.com)... 54.230.79.118, 54.230.79.137, 54.230.79.21, ...\n",
      "Connecting to files.datapress.com (files.datapress.com)|54.230.79.118|:443... connected.\n",
      "HTTP request sent, awaiting response... 200 OK\n",
      "Length: 245384 (240K) [application/vnd.openxmlformats-officedocument.spreadsheetml.sheet]\n",
      "Saving to: ‘Tariffs.xlsx’\n",
      "\n",
      "Tariffs.xlsx        100%[===================>] 239.63K  1.54MB/s    in 0.2s    \n",
      "\n",
      "2017-04-23 12:40:48 (1.54 MB/s) - ‘Tariffs.xlsx’ saved [245384/245384]\n",
      "\n"
     ]
    }
   ],
   "source": [
    "#Download tariffs\n",
    "!wget 'https://files.datapress.com/london/dataset/smartmeter-energy-use-data-in-london-households/Tariffs.xlsx'"
   ]
  },
  {
   "cell_type": "code",
   "execution_count": 9,
   "metadata": {
    "collapsed": false
   },
   "outputs": [],
   "source": [
    "import pandas as pd\n",
    "tariffs = pd.read_excel('Tariffs.xlsx')"
   ]
  },
  {
   "cell_type": "code",
   "execution_count": 51,
   "metadata": {
    "collapsed": false
   },
   "outputs": [
    {
     "data": {
      "text/html": [
       "<div>\n",
       "<table border=\"1\" class=\"dataframe\">\n",
       "  <thead>\n",
       "    <tr style=\"text-align: right;\">\n",
       "      <th></th>\n",
       "      <th>TariffDateTime</th>\n",
       "      <th>Tariff</th>\n",
       "    </tr>\n",
       "  </thead>\n",
       "  <tbody>\n",
       "    <tr>\n",
       "      <th>0</th>\n",
       "      <td>2013-01-01 00:00:00</td>\n",
       "      <td>Normal</td>\n",
       "    </tr>\n",
       "    <tr>\n",
       "      <th>1</th>\n",
       "      <td>2013-01-01 00:30:00</td>\n",
       "      <td>Normal</td>\n",
       "    </tr>\n",
       "    <tr>\n",
       "      <th>2</th>\n",
       "      <td>2013-01-01 01:00:00</td>\n",
       "      <td>Normal</td>\n",
       "    </tr>\n",
       "    <tr>\n",
       "      <th>3</th>\n",
       "      <td>2013-01-01 01:30:00</td>\n",
       "      <td>Normal</td>\n",
       "    </tr>\n",
       "    <tr>\n",
       "      <th>4</th>\n",
       "      <td>2013-01-01 02:00:00</td>\n",
       "      <td>Normal</td>\n",
       "    </tr>\n",
       "  </tbody>\n",
       "</table>\n",
       "</div>"
      ],
      "text/plain": [
       "       TariffDateTime  Tariff\n",
       "0 2013-01-01 00:00:00  Normal\n",
       "1 2013-01-01 00:30:00  Normal\n",
       "2 2013-01-01 01:00:00  Normal\n",
       "3 2013-01-01 01:30:00  Normal\n",
       "4 2013-01-01 02:00:00  Normal"
      ]
     },
     "execution_count": 51,
     "metadata": {},
     "output_type": "execute_result"
    }
   ],
   "source": [
    "tariffs.head(5)"
   ]
  },
  {
   "cell_type": "markdown",
   "metadata": {},
   "source": [
    "We need the actual values of the tariff, so High = 67.20p/kWh, Low = 3.99p/kWh and Normal = 11.76p/kWh."
   ]
  },
  {
   "cell_type": "code",
   "execution_count": 10,
   "metadata": {
    "collapsed": false
   },
   "outputs": [],
   "source": [
    "tariffs.ix[tariffs['Tariff'] == 'Normal', 'Tariff_value'] = 11.76\n",
    "tariffs.ix[tariffs['Tariff'] == 'High', 'Tariff_value'] = 67.20\n",
    "tariffs.ix[tariffs['Tariff'] == 'Low', 'Tariff_value'] = 3.99"
   ]
  },
  {
   "cell_type": "code",
   "execution_count": 11,
   "metadata": {
    "collapsed": false
   },
   "outputs": [],
   "source": [
    "tariffs = tariffs.rename(columns = {'TariffDateTime' : 'DateTime'})"
   ]
  },
  {
   "cell_type": "code",
   "execution_count": 60,
   "metadata": {
    "collapsed": false
   },
   "outputs": [
    {
     "data": {
      "text/html": [
       "<div>\n",
       "<table border=\"1\" class=\"dataframe\">\n",
       "  <thead>\n",
       "    <tr style=\"text-align: right;\">\n",
       "      <th></th>\n",
       "      <th>DateTime</th>\n",
       "      <th>Tariff</th>\n",
       "      <th>Tariff_value</th>\n",
       "    </tr>\n",
       "  </thead>\n",
       "  <tbody>\n",
       "    <tr>\n",
       "      <th>1060</th>\n",
       "      <td>2013-01-23 02:00:00</td>\n",
       "      <td>Normal</td>\n",
       "      <td>11.76</td>\n",
       "    </tr>\n",
       "    <tr>\n",
       "      <th>12343</th>\n",
       "      <td>2013-09-15 03:30:00</td>\n",
       "      <td>Normal</td>\n",
       "      <td>11.76</td>\n",
       "    </tr>\n",
       "    <tr>\n",
       "      <th>13061</th>\n",
       "      <td>2013-09-30 02:30:00</td>\n",
       "      <td>High</td>\n",
       "      <td>67.20</td>\n",
       "    </tr>\n",
       "    <tr>\n",
       "      <th>14604</th>\n",
       "      <td>2013-11-01 06:00:00</td>\n",
       "      <td>Normal</td>\n",
       "      <td>11.76</td>\n",
       "    </tr>\n",
       "    <tr>\n",
       "      <th>15</th>\n",
       "      <td>2013-01-01 07:30:00</td>\n",
       "      <td>Normal</td>\n",
       "      <td>11.76</td>\n",
       "    </tr>\n",
       "  </tbody>\n",
       "</table>\n",
       "</div>"
      ],
      "text/plain": [
       "                 DateTime  Tariff  Tariff_value\n",
       "1060  2013-01-23 02:00:00  Normal         11.76\n",
       "12343 2013-09-15 03:30:00  Normal         11.76\n",
       "13061 2013-09-30 02:30:00    High         67.20\n",
       "14604 2013-11-01 06:00:00  Normal         11.76\n",
       "15    2013-01-01 07:30:00  Normal         11.76"
      ]
     },
     "execution_count": 60,
     "metadata": {},
     "output_type": "execute_result"
    }
   ],
   "source": [
    "tariffs.sample(5)"
   ]
  },
  {
   "cell_type": "code",
   "execution_count": 12,
   "metadata": {
    "collapsed": false
   },
   "outputs": [],
   "source": [
    "tariffs = tariffs.drop('Tariff', axis = 1)"
   ]
  },
  {
   "cell_type": "code",
   "execution_count": 13,
   "metadata": {
    "collapsed": false
   },
   "outputs": [],
   "source": [
    "tariffs['DateTime'] = tariffs['DateTime'].astype(str)"
   ]
  },
  {
   "cell_type": "code",
   "execution_count": 14,
   "metadata": {
    "collapsed": false
   },
   "outputs": [],
   "source": [
    "t = sqlContext.createDataFrame(tariffs) "
   ]
  },
  {
   "cell_type": "code",
   "execution_count": 15,
   "metadata": {
    "collapsed": false
   },
   "outputs": [],
   "source": [
    "t = t.withColumn('DateTime', t['DateTime'].cast(TimestampType()))"
   ]
  },
  {
   "cell_type": "code",
   "execution_count": 16,
   "metadata": {
    "collapsed": false
   },
   "outputs": [
    {
     "name": "stdout",
     "output_type": "stream",
     "text": [
      "+--------------------+------------+\n",
      "|            DateTime|Tariff_value|\n",
      "+--------------------+------------+\n",
      "|2013-01-01 00:00:...|       11.76|\n",
      "|2013-01-01 00:30:...|       11.76|\n",
      "|2013-01-01 01:00:...|       11.76|\n",
      "+--------------------+------------+\n",
      "only showing top 3 rows\n",
      "\n"
     ]
    }
   ],
   "source": [
    "t.show(3)"
   ]
  },
  {
   "cell_type": "markdown",
   "metadata": {},
   "source": [
    "Now we can join consumption and tariff data and calculate the price paid for each measurement point: Consumption * Tariff "
   ]
  },
  {
   "cell_type": "code",
   "execution_count": 20,
   "metadata": {
    "collapsed": true
   },
   "outputs": [],
   "source": [
    "import pyspark.sql.functions as F"
   ]
  },
  {
   "cell_type": "code",
   "execution_count": 21,
   "metadata": {
    "collapsed": false
   },
   "outputs": [],
   "source": [
    "joined = df.filter(F.year('DateTime') == 2013).join(t, 'DateTime', 'left_outer')\\\n",
    "    .withColumn('price', df.kWh_30min*t.Tariff_value)"
   ]
  },
  {
   "cell_type": "code",
   "execution_count": 22,
   "metadata": {
    "collapsed": true
   },
   "outputs": [],
   "source": [
    "ToU_by_ID = joined.dropna().groupBy('ID', 'ACORN')\\\n",
    "    .agg(F.count('kWh_30min').alias('count'),\n",
    "         F.mean('kWh_30min').alias('mean_consumption'),\n",
    "         F.sum('kWh_30min').alias('sum_consumption'),\n",
    "         F.sum('price').alias('sum_price')\n",
    "        )"
   ]
  },
  {
   "cell_type": "code",
   "execution_count": 23,
   "metadata": {
    "collapsed": false
   },
   "outputs": [],
   "source": [
    "ToU_by_ID.toPandas().to_csv('ToU_by_ID.csv')"
   ]
  },
  {
   "cell_type": "code",
   "execution_count": 26,
   "metadata": {
    "collapsed": true
   },
   "outputs": [],
   "source": [
    "ToU_by_ID_Tariff = joined.dropna()\\\n",
    "    .groupBy('ID', 'ACORN', 'Tariff_value')\\\n",
    "    .agg(F.count('kWh_30min').alias('count'),\n",
    "         F.mean('kWh_30min').alias('mean_consumption'),\n",
    "         F.sum('kWh_30min').alias('sum_consumption'),\n",
    "         F.min('kWh_30min').alias('min_consumption'),\n",
    "         F.max('kWh_30min').alias('max_consumption'),\n",
    "         F.stddev('kWh_30min').alias('stddev_consumption'),\n",
    "         F.sum('price').alias('sum_price')\n",
    "        )"
   ]
  },
  {
   "cell_type": "code",
   "execution_count": 27,
   "metadata": {
    "collapsed": false
   },
   "outputs": [],
   "source": [
    "ToU_by_ID_Tariff.toPandas().to_csv('ToU_by_ID_Tariff.csv')"
   ]
  },
  {
   "cell_type": "markdown",
   "metadata": {},
   "source": [
    "Let us calculate the consumption of standard users during 2013 and that of ToU users during 2012."
   ]
  },
  {
   "cell_type": "code",
   "execution_count": 29,
   "metadata": {
    "collapsed": false
   },
   "outputs": [],
   "source": [
    "Std_by_ID_2013 = data_no_header.map(line2tuple).filter(lambda (_1,t,_2,_3,_4): t == 'Std')\\\n",
    ".map(lambda x: Row(ID = x[0], DateTime = x[2], kWh_30min = x[3], ACORN = x[4])).toDF()"
   ]
  },
  {
   "cell_type": "code",
   "execution_count": 31,
   "metadata": {
    "collapsed": false
   },
   "outputs": [],
   "source": [
    "Std_by_ID_2013 = \\\n",
    "Std_by_ID_2013.withColumn('DateTime', Std_by_ID_2013['DateTime'].cast(TimestampType()))\\\n",
    ".filter(year('DateTime') == 2013).groupBy('ID', 'ACORN')\\\n",
    "    .agg(F.count('kWh_30min').alias('count'),\n",
    "         F.mean('kWh_30min').alias('mean_consumption'),\n",
    "        )"
   ]
  },
  {
   "cell_type": "code",
   "execution_count": 32,
   "metadata": {
    "collapsed": true
   },
   "outputs": [],
   "source": [
    "Std_by_ID_2013.toPandas().to_csv('Std_by_ID_2013.csv')"
   ]
  },
  {
   "cell_type": "code",
   "execution_count": 37,
   "metadata": {
    "collapsed": true
   },
   "outputs": [],
   "source": [
    "ToU_by_ID_2012 = data_no_header.map(line2tuple).filter(lambda (_1,t,_2,_3,_4): t == 'ToU')\\\n",
    ".map(lambda x: Row(ID = x[0], DateTime = x[2], kWh_30min = x[3], ACORN = x[4])).toDF()"
   ]
  },
  {
   "cell_type": "code",
   "execution_count": 38,
   "metadata": {
    "collapsed": false
   },
   "outputs": [],
   "source": [
    "ToU_by_ID_2012_a = ToU_by_ID_2012\\\n",
    ".withColumn('DateTime', ToU_by_ID_2012['DateTime'].cast(TimestampType()))\\\n",
    ".filter(year('DateTime') == 2012).groupBy('ID', 'ACORN')\\\n",
    "    .agg(F.count('kWh_30min').alias('count'),\n",
    "         F.mean('kWh_30min').alias('mean_consumption')\n",
    "        )"
   ]
  },
  {
   "cell_type": "code",
   "execution_count": 40,
   "metadata": {
    "collapsed": false
   },
   "outputs": [],
   "source": [
    "ToU_by_ID_2012_a.toPandas().to_csv('ToU_by_ID_2012.csv')"
   ]
  },
  {
   "cell_type": "markdown",
   "metadata": {},
   "source": [
    "#### Exploring and drawing aggregate data"
   ]
  },
  {
   "cell_type": "markdown",
   "metadata": {},
   "source": [
    "Now we can use Python (pandas and matplotlib/seaborn) to answer some questions."
   ]
  },
  {
   "cell_type": "code",
   "execution_count": 2,
   "metadata": {
    "collapsed": true
   },
   "outputs": [],
   "source": [
    "import pandas as pd\n",
    "import matplotlib.pyplot as plt\n",
    "%matplotlib inline\n",
    "import seaborn as sns"
   ]
  },
  {
   "cell_type": "code",
   "execution_count": 3,
   "metadata": {
    "collapsed": false
   },
   "outputs": [],
   "source": [
    "ToU_users = pd.read_csv('ToU_by_ID.csv', index_col=0)"
   ]
  },
  {
   "cell_type": "code",
   "execution_count": 4,
   "metadata": {
    "collapsed": false
   },
   "outputs": [
    {
     "data": {
      "text/html": [
       "<div>\n",
       "<table border=\"1\" class=\"dataframe\">\n",
       "  <thead>\n",
       "    <tr style=\"text-align: right;\">\n",
       "      <th></th>\n",
       "      <th>ID</th>\n",
       "      <th>ACORN</th>\n",
       "      <th>count</th>\n",
       "      <th>mean_consumption</th>\n",
       "      <th>sum_consumption</th>\n",
       "      <th>sum_price</th>\n",
       "    </tr>\n",
       "  </thead>\n",
       "  <tbody>\n",
       "    <tr>\n",
       "      <th>993</th>\n",
       "      <td>MAC000198</td>\n",
       "      <td>ACORN-F</td>\n",
       "      <td>17535</td>\n",
       "      <td>0.349777</td>\n",
       "      <td>6133.340</td>\n",
       "      <td>84209.727859</td>\n",
       "    </tr>\n",
       "    <tr>\n",
       "      <th>546</th>\n",
       "      <td>MAC004668</td>\n",
       "      <td>ACORN-E</td>\n",
       "      <td>17536</td>\n",
       "      <td>0.075373</td>\n",
       "      <td>1321.737</td>\n",
       "      <td>18234.399124</td>\n",
       "    </tr>\n",
       "    <tr>\n",
       "      <th>963</th>\n",
       "      <td>MAC003043</td>\n",
       "      <td>ACORN-E</td>\n",
       "      <td>17535</td>\n",
       "      <td>0.119853</td>\n",
       "      <td>2101.627</td>\n",
       "      <td>29292.776939</td>\n",
       "    </tr>\n",
       "    <tr>\n",
       "      <th>339</th>\n",
       "      <td>MAC000845</td>\n",
       "      <td>ACORN-F</td>\n",
       "      <td>17535</td>\n",
       "      <td>0.109983</td>\n",
       "      <td>1928.544</td>\n",
       "      <td>26577.377610</td>\n",
       "    </tr>\n",
       "    <tr>\n",
       "      <th>73</th>\n",
       "      <td>MAC005445</td>\n",
       "      <td>ACORN-E</td>\n",
       "      <td>17535</td>\n",
       "      <td>0.046355</td>\n",
       "      <td>812.841</td>\n",
       "      <td>10154.075400</td>\n",
       "    </tr>\n",
       "  </tbody>\n",
       "</table>\n",
       "</div>"
      ],
      "text/plain": [
       "            ID    ACORN  count  mean_consumption  sum_consumption  \\\n",
       "993  MAC000198  ACORN-F  17535          0.349777         6133.340   \n",
       "546  MAC004668  ACORN-E  17536          0.075373         1321.737   \n",
       "963  MAC003043  ACORN-E  17535          0.119853         2101.627   \n",
       "339  MAC000845  ACORN-F  17535          0.109983         1928.544   \n",
       "73   MAC005445  ACORN-E  17535          0.046355          812.841   \n",
       "\n",
       "        sum_price  \n",
       "993  84209.727859  \n",
       "546  18234.399124  \n",
       "963  29292.776939  \n",
       "339  26577.377610  \n",
       "73   10154.075400  "
      ]
     },
     "execution_count": 4,
     "metadata": {},
     "output_type": "execute_result"
    }
   ],
   "source": [
    "ToU_users.sample(5)"
   ]
  },
  {
   "cell_type": "markdown",
   "metadata": {},
   "source": [
    "We can calculate the mean price paid by each user as:\n",
    "\n",
    "$$\\frac{\\sum_{i=t_1}^{i=t_N} Consumption*Price}{\\sum_{i=t_1}^{i=t_N} Consumption}$$\n",
    "\n",
    "with t_1 and t_N the first and last timestamp of the time series, respectively.\n",
    "\n",
    "We have calculated the numerator in the \"sum_price\" variable."
   ]
  },
  {
   "cell_type": "code",
   "execution_count": 5,
   "metadata": {
    "collapsed": true
   },
   "outputs": [],
   "source": [
    "ToU_users['mean_price'] = ToU_users['sum_price']/ToU_users['sum_consumption']"
   ]
  },
  {
   "cell_type": "code",
   "execution_count": 6,
   "metadata": {
    "collapsed": false
   },
   "outputs": [
    {
     "data": {
      "text/html": [
       "<div>\n",
       "<table border=\"1\" class=\"dataframe\">\n",
       "  <thead>\n",
       "    <tr style=\"text-align: right;\">\n",
       "      <th></th>\n",
       "      <th>ID</th>\n",
       "      <th>ACORN</th>\n",
       "      <th>count</th>\n",
       "      <th>mean_consumption</th>\n",
       "      <th>sum_consumption</th>\n",
       "      <th>sum_price</th>\n",
       "      <th>mean_price</th>\n",
       "    </tr>\n",
       "  </thead>\n",
       "  <tbody>\n",
       "    <tr>\n",
       "      <th>566</th>\n",
       "      <td>MAC002264</td>\n",
       "      <td>ACORN-E</td>\n",
       "      <td>17528</td>\n",
       "      <td>0.251804</td>\n",
       "      <td>4413.615997</td>\n",
       "      <td>60388.995810</td>\n",
       "      <td>13.682431</td>\n",
       "    </tr>\n",
       "    <tr>\n",
       "      <th>347</th>\n",
       "      <td>MAC005279</td>\n",
       "      <td>ACORN-E</td>\n",
       "      <td>17536</td>\n",
       "      <td>0.141116</td>\n",
       "      <td>2474.614001</td>\n",
       "      <td>33674.656892</td>\n",
       "      <td>13.608044</td>\n",
       "    </tr>\n",
       "    <tr>\n",
       "      <th>1021</th>\n",
       "      <td>MAC001116</td>\n",
       "      <td>ACORN-D</td>\n",
       "      <td>15469</td>\n",
       "      <td>0.371877</td>\n",
       "      <td>5752.573000</td>\n",
       "      <td>79888.701726</td>\n",
       "      <td>13.887473</td>\n",
       "    </tr>\n",
       "    <tr>\n",
       "      <th>1053</th>\n",
       "      <td>MAC002672</td>\n",
       "      <td>ACORN-F</td>\n",
       "      <td>17533</td>\n",
       "      <td>0.447031</td>\n",
       "      <td>7837.790999</td>\n",
       "      <td>109318.682740</td>\n",
       "      <td>13.947639</td>\n",
       "    </tr>\n",
       "    <tr>\n",
       "      <th>972</th>\n",
       "      <td>MAC001030</td>\n",
       "      <td>ACORN-E</td>\n",
       "      <td>17535</td>\n",
       "      <td>0.051217</td>\n",
       "      <td>898.086000</td>\n",
       "      <td>12631.254930</td>\n",
       "      <td>14.064638</td>\n",
       "    </tr>\n",
       "  </tbody>\n",
       "</table>\n",
       "</div>"
      ],
      "text/plain": [
       "             ID    ACORN  count  mean_consumption  sum_consumption  \\\n",
       "566   MAC002264  ACORN-E  17528          0.251804      4413.615997   \n",
       "347   MAC005279  ACORN-E  17536          0.141116      2474.614001   \n",
       "1021  MAC001116  ACORN-D  15469          0.371877      5752.573000   \n",
       "1053  MAC002672  ACORN-F  17533          0.447031      7837.790999   \n",
       "972   MAC001030  ACORN-E  17535          0.051217       898.086000   \n",
       "\n",
       "          sum_price  mean_price  \n",
       "566    60388.995810   13.682431  \n",
       "347    33674.656892   13.608044  \n",
       "1021   79888.701726   13.887473  \n",
       "1053  109318.682740   13.947639  \n",
       "972    12631.254930   14.064638  "
      ]
     },
     "execution_count": 6,
     "metadata": {},
     "output_type": "execute_result"
    }
   ],
   "source": [
    "ToU_users.sample(5)"
   ]
  },
  {
   "cell_type": "markdown",
   "metadata": {},
   "source": [
    "It is worth reminding that the standard flat rate tariff is 14.228pence/kWh. That means that all users who have paid a lower mean price than this value have profited from dToU tariff and responded positively to its stimuli."
   ]
  },
  {
   "cell_type": "code",
   "execution_count": 12,
   "metadata": {
    "collapsed": true
   },
   "outputs": [],
   "source": [
    "std_price = 14.228"
   ]
  },
  {
   "cell_type": "code",
   "execution_count": 9,
   "metadata": {
    "collapsed": false
   },
   "outputs": [
    {
     "data": {
      "text/plain": [
       "count    1117.000000\n",
       "mean       13.817777\n",
       "std         0.493073\n",
       "min        11.080637\n",
       "25%        13.602893\n",
       "50%        13.839240\n",
       "75%        14.086855\n",
       "max        17.182524\n",
       "Name: mean_price, dtype: float64"
      ]
     },
     "execution_count": 9,
     "metadata": {},
     "output_type": "execute_result"
    }
   ],
   "source": [
    "ToU_users['mean_price'].describe()"
   ]
  },
  {
   "cell_type": "code",
   "execution_count": 8,
   "metadata": {
    "collapsed": false
   },
   "outputs": [
    {
     "data": {
      "image/png": "[encoded data removed]",
      "text/plain": [
       "<matplotlib.figure.Figure at 0x7f163865fc90>"
      ]
     },
     "metadata": {},
     "output_type": "display_data"
    }
   ],
   "source": [
    "_ = sns.boxplot(x=ToU_users['mean_price'])"
   ]
  },
  {
   "cell_type": "code",
   "execution_count": 11,
   "metadata": {
    "collapsed": false
   },
   "outputs": [
    {
     "data": {
      "text/plain": [
       "85.317815577439575"
      ]
     },
     "execution_count": 11,
     "metadata": {},
     "output_type": "execute_result"
    }
   ],
   "source": [
    "from scipy import stats\n",
    "stats.percentileofscore(ToU_users['mean_price'],14.228)"
   ]
  },
  {
   "cell_type": "markdown",
   "metadata": {},
   "source": [
    "85% of the users paid less for their kWh than the standard flat rate tariff user. It is possible than some of these did not really react to tariff changes, but it is clear that the remaining 15% did not react to dToU."
   ]
  },
  {
   "cell_type": "code",
   "execution_count": 14,
   "metadata": {
    "collapsed": false
   },
   "outputs": [
    {
     "data": {
      "text/plain": [
       "count    78.507169\n",
       "mean      0.971168\n",
       "std       0.034655\n",
       "min       0.778791\n",
       "25%       0.956065\n",
       "50%       0.972676\n",
       "75%       0.990080\n",
       "max       1.207656\n",
       "Name: mean_price, dtype: float64"
      ]
     },
     "execution_count": 14,
     "metadata": {},
     "output_type": "execute_result"
    }
   ],
   "source": [
    "ToU_users['mean_price'].describe()/std_price"
   ]
  },
  {
   "cell_type": "markdown",
   "metadata": {},
   "source": [
    "The median dToU user paid 2.7% per kWh. Mean and median values are close to each other, but there are more outliers in the lower range than in the upper one. The smartest user paid over 28% less for his consumption!"
   ]
  },
  {
   "cell_type": "markdown",
   "metadata": {},
   "source": [
    "##### Now we will investigate whether different socioeconomic consumer groups respond in different ways to the same dynamic tariff."
   ]
  },
  {
   "cell_type": "markdown",
   "metadata": {},
   "source": [
    "ACORN is a socioeconomic segmentation which attempts to describe customer behaviour used in the UK. There are 6 top-level groups which are further segregated into the lower-level segments defined by a letter as we have in our dataset. These are defined as follows:\n",
    "\n",
    "Affluent Achievers:\n",
    "\n",
    "-A: Lavish Lifestyles\n",
    "\n",
    "-B: Executive Wealth\n",
    "\n",
    "-C: Mature Money\n",
    "\n",
    "\n",
    "Rising Prosperity:\n",
    "\n",
    "-D: City Sophisticates\n",
    "\n",
    "-E: Career Climbers\n",
    "\n",
    "\n",
    "Comfortable Communities:\n",
    "\n",
    "-F: Countryside Communities\n",
    "\n",
    "-G: Successful Suburbs\n",
    "\n",
    "-H: Steady Neighbourhoods\n",
    "\n",
    "-I: Comfortable Seniors\n",
    "\n",
    "-J: Starting Out\n",
    "\n",
    "\n",
    "Financially Stretched:\n",
    "\n",
    "-K: Student Life\n",
    "\n",
    "-L: Modest means\n",
    "\n",
    "-M: Striving Families\n",
    "\n",
    "-N: Poorer Pensioners\n",
    "\n",
    "\n",
    "Urban Adversity\n",
    "\n",
    "-O: Young Hardship\n",
    "\n",
    "-P: Struggling Estates\n",
    "\n",
    "-Q: Difficult Circumstances\n",
    "\n",
    "\n",
    "Not Private Households:\n",
    "\n",
    "-R: Not Private Households\n",
    "\n",
    "For more information refer to:\n",
    "http://acorn.caci.co.uk/downloads/Acorn-User-guide.pdf"
   ]
  },
  {
   "cell_type": "code",
   "execution_count": 26,
   "metadata": {
    "collapsed": false
   },
   "outputs": [],
   "source": [
    "ACORN_levels = ToU_users['ACORN'].unique()"
   ]
  },
  {
   "cell_type": "code",
   "execution_count": 28,
   "metadata": {
    "collapsed": false
   },
   "outputs": [
    {
     "data": {
      "text/plain": [
       "array(['ACORN-', 'ACORN-A', 'ACORN-B', 'ACORN-C', 'ACORN-D', 'ACORN-E',\n",
       "       'ACORN-F', 'ACORN-G', 'ACORN-H', 'ACORN-I', 'ACORN-J', 'ACORN-K',\n",
       "       'ACORN-L', 'ACORN-M', 'ACORN-N', 'ACORN-O', 'ACORN-P', 'ACORN-Q',\n",
       "       'ACORN-U'], dtype=object)"
      ]
     },
     "execution_count": 28,
     "metadata": {},
     "output_type": "execute_result"
    }
   ],
   "source": [
    "ACORN_levels.sort()\n",
    "ACORN_levels"
   ]
  },
  {
   "cell_type": "code",
   "execution_count": 29,
   "metadata": {
    "collapsed": false
   },
   "outputs": [
    {
     "data": {
      "image/png": "[encoded data removed]",
      "text/plain": [
       "<matplotlib.figure.Figure at 0x7f1637f1b610>"
      ]
     },
     "metadata": {},
     "output_type": "display_data"
    }
   ],
   "source": [
    "_ = sns.boxplot(x='mean_price', y='ACORN', data=ToU_users, order = ACORN_levels, notch = True)"
   ]
  },
  {
   "cell_type": "code",
   "execution_count": 61,
   "metadata": {
    "collapsed": false
   },
   "outputs": [
    {
     "data": {
      "text/html": [
       "<div>\n",
       "<table border=\"1\" class=\"dataframe\">\n",
       "  <thead>\n",
       "    <tr style=\"text-align: right;\">\n",
       "      <th></th>\n",
       "      <th>count</th>\n",
       "      <th>mean</th>\n",
       "      <th>std</th>\n",
       "      <th>min</th>\n",
       "      <th>25%</th>\n",
       "      <th>50%</th>\n",
       "      <th>75%</th>\n",
       "      <th>max</th>\n",
       "    </tr>\n",
       "    <tr>\n",
       "      <th>ACORN</th>\n",
       "      <th></th>\n",
       "      <th></th>\n",
       "      <th></th>\n",
       "      <th></th>\n",
       "      <th></th>\n",
       "      <th></th>\n",
       "      <th></th>\n",
       "      <th></th>\n",
       "    </tr>\n",
       "  </thead>\n",
       "  <tbody>\n",
       "    <tr>\n",
       "      <th>ACORN-</th>\n",
       "      <td>1.0</td>\n",
       "      <td>14.106420</td>\n",
       "      <td>NaN</td>\n",
       "      <td>14.106420</td>\n",
       "      <td>14.106420</td>\n",
       "      <td>14.106420</td>\n",
       "      <td>14.106420</td>\n",
       "      <td>14.106420</td>\n",
       "    </tr>\n",
       "    <tr>\n",
       "      <th>ACORN-A</th>\n",
       "      <td>39.0</td>\n",
       "      <td>13.895414</td>\n",
       "      <td>0.519119</td>\n",
       "      <td>12.368000</td>\n",
       "      <td>13.656511</td>\n",
       "      <td>13.913826</td>\n",
       "      <td>14.053020</td>\n",
       "      <td>15.408785</td>\n",
       "    </tr>\n",
       "    <tr>\n",
       "      <th>ACORN-B</th>\n",
       "      <td>4.0</td>\n",
       "      <td>13.951253</td>\n",
       "      <td>0.411142</td>\n",
       "      <td>13.461324</td>\n",
       "      <td>13.793319</td>\n",
       "      <td>13.939159</td>\n",
       "      <td>14.097093</td>\n",
       "      <td>14.465370</td>\n",
       "    </tr>\n",
       "    <tr>\n",
       "      <th>ACORN-C</th>\n",
       "      <td>34.0</td>\n",
       "      <td>13.798230</td>\n",
       "      <td>0.547480</td>\n",
       "      <td>12.621159</td>\n",
       "      <td>13.456766</td>\n",
       "      <td>13.875074</td>\n",
       "      <td>14.133313</td>\n",
       "      <td>15.498438</td>\n",
       "    </tr>\n",
       "    <tr>\n",
       "      <th>ACORN-D</th>\n",
       "      <td>73.0</td>\n",
       "      <td>13.835792</td>\n",
       "      <td>0.411399</td>\n",
       "      <td>12.595315</td>\n",
       "      <td>13.628556</td>\n",
       "      <td>13.859890</td>\n",
       "      <td>14.051135</td>\n",
       "      <td>14.928961</td>\n",
       "    </tr>\n",
       "    <tr>\n",
       "      <th>ACORN-E</th>\n",
       "      <td>338.0</td>\n",
       "      <td>13.865832</td>\n",
       "      <td>0.460832</td>\n",
       "      <td>11.711281</td>\n",
       "      <td>13.620310</td>\n",
       "      <td>13.884152</td>\n",
       "      <td>14.142797</td>\n",
       "      <td>15.179523</td>\n",
       "    </tr>\n",
       "    <tr>\n",
       "      <th>ACORN-F</th>\n",
       "      <td>151.0</td>\n",
       "      <td>13.813675</td>\n",
       "      <td>0.516405</td>\n",
       "      <td>11.775736</td>\n",
       "      <td>13.617926</td>\n",
       "      <td>13.789527</td>\n",
       "      <td>14.027534</td>\n",
       "      <td>17.182524</td>\n",
       "    </tr>\n",
       "    <tr>\n",
       "      <th>ACORN-G</th>\n",
       "      <td>47.0</td>\n",
       "      <td>13.788401</td>\n",
       "      <td>0.338923</td>\n",
       "      <td>12.952387</td>\n",
       "      <td>13.572028</td>\n",
       "      <td>13.795620</td>\n",
       "      <td>14.052287</td>\n",
       "      <td>14.846828</td>\n",
       "    </tr>\n",
       "    <tr>\n",
       "      <th>ACORN-H</th>\n",
       "      <td>83.0</td>\n",
       "      <td>13.737643</td>\n",
       "      <td>0.522644</td>\n",
       "      <td>11.080637</td>\n",
       "      <td>13.534704</td>\n",
       "      <td>13.825183</td>\n",
       "      <td>14.017218</td>\n",
       "      <td>14.639255</td>\n",
       "    </tr>\n",
       "    <tr>\n",
       "      <th>ACORN-I</th>\n",
       "      <td>8.0</td>\n",
       "      <td>13.823055</td>\n",
       "      <td>0.609306</td>\n",
       "      <td>12.889759</td>\n",
       "      <td>13.583683</td>\n",
       "      <td>13.848606</td>\n",
       "      <td>14.109145</td>\n",
       "      <td>14.880336</td>\n",
       "    </tr>\n",
       "    <tr>\n",
       "      <th>ACORN-J</th>\n",
       "      <td>31.0</td>\n",
       "      <td>13.723183</td>\n",
       "      <td>0.699752</td>\n",
       "      <td>11.562192</td>\n",
       "      <td>13.579230</td>\n",
       "      <td>13.798531</td>\n",
       "      <td>13.999242</td>\n",
       "      <td>14.746091</td>\n",
       "    </tr>\n",
       "    <tr>\n",
       "      <th>ACORN-K</th>\n",
       "      <td>22.0</td>\n",
       "      <td>13.836219</td>\n",
       "      <td>0.463910</td>\n",
       "      <td>12.682516</td>\n",
       "      <td>13.622867</td>\n",
       "      <td>13.803849</td>\n",
       "      <td>14.118521</td>\n",
       "      <td>14.733184</td>\n",
       "    </tr>\n",
       "    <tr>\n",
       "      <th>ACORN-L</th>\n",
       "      <td>76.0</td>\n",
       "      <td>13.751310</td>\n",
       "      <td>0.555139</td>\n",
       "      <td>11.307295</td>\n",
       "      <td>13.497138</td>\n",
       "      <td>13.859965</td>\n",
       "      <td>14.107241</td>\n",
       "      <td>14.668781</td>\n",
       "    </tr>\n",
       "    <tr>\n",
       "      <th>ACORN-M</th>\n",
       "      <td>17.0</td>\n",
       "      <td>13.873534</td>\n",
       "      <td>0.559435</td>\n",
       "      <td>12.653939</td>\n",
       "      <td>13.625071</td>\n",
       "      <td>14.049996</td>\n",
       "      <td>14.127046</td>\n",
       "      <td>14.704421</td>\n",
       "    </tr>\n",
       "    <tr>\n",
       "      <th>ACORN-N</th>\n",
       "      <td>26.0</td>\n",
       "      <td>13.823010</td>\n",
       "      <td>0.408561</td>\n",
       "      <td>12.430037</td>\n",
       "      <td>13.691875</td>\n",
       "      <td>13.876503</td>\n",
       "      <td>13.996473</td>\n",
       "      <td>14.958667</td>\n",
       "    </tr>\n",
       "    <tr>\n",
       "      <th>ACORN-O</th>\n",
       "      <td>16.0</td>\n",
       "      <td>13.980712</td>\n",
       "      <td>0.360146</td>\n",
       "      <td>13.356648</td>\n",
       "      <td>13.801162</td>\n",
       "      <td>13.952387</td>\n",
       "      <td>14.180596</td>\n",
       "      <td>14.858816</td>\n",
       "    </tr>\n",
       "    <tr>\n",
       "      <th>ACORN-P</th>\n",
       "      <td>22.0</td>\n",
       "      <td>13.765669</td>\n",
       "      <td>0.510984</td>\n",
       "      <td>12.401077</td>\n",
       "      <td>13.523571</td>\n",
       "      <td>13.780527</td>\n",
       "      <td>14.074375</td>\n",
       "      <td>14.615948</td>\n",
       "    </tr>\n",
       "    <tr>\n",
       "      <th>ACORN-Q</th>\n",
       "      <td>119.0</td>\n",
       "      <td>13.755048</td>\n",
       "      <td>0.535037</td>\n",
       "      <td>11.486705</td>\n",
       "      <td>13.612465</td>\n",
       "      <td>13.783004</td>\n",
       "      <td>14.059177</td>\n",
       "      <td>14.799599</td>\n",
       "    </tr>\n",
       "    <tr>\n",
       "      <th>ACORN-U</th>\n",
       "      <td>10.0</td>\n",
       "      <td>13.854127</td>\n",
       "      <td>0.239074</td>\n",
       "      <td>13.481105</td>\n",
       "      <td>13.731143</td>\n",
       "      <td>13.838245</td>\n",
       "      <td>13.922001</td>\n",
       "      <td>14.237949</td>\n",
       "    </tr>\n",
       "  </tbody>\n",
       "</table>\n",
       "</div>"
      ],
      "text/plain": [
       "         count       mean       std        min        25%        50%  \\\n",
       "ACORN                                                                  \n",
       "ACORN-     1.0  14.106420       NaN  14.106420  14.106420  14.106420   \n",
       "ACORN-A   39.0  13.895414  0.519119  12.368000  13.656511  13.913826   \n",
       "ACORN-B    4.0  13.951253  0.411142  13.461324  13.793319  13.939159   \n",
       "ACORN-C   34.0  13.798230  0.547480  12.621159  13.456766  13.875074   \n",
       "ACORN-D   73.0  13.835792  0.411399  12.595315  13.628556  13.859890   \n",
       "ACORN-E  338.0  13.865832  0.460832  11.711281  13.620310  13.884152   \n",
       "ACORN-F  151.0  13.813675  0.516405  11.775736  13.617926  13.789527   \n",
       "ACORN-G   47.0  13.788401  0.338923  12.952387  13.572028  13.795620   \n",
       "ACORN-H   83.0  13.737643  0.522644  11.080637  13.534704  13.825183   \n",
       "ACORN-I    8.0  13.823055  0.609306  12.889759  13.583683  13.848606   \n",
       "ACORN-J   31.0  13.723183  0.699752  11.562192  13.579230  13.798531   \n",
       "ACORN-K   22.0  13.836219  0.463910  12.682516  13.622867  13.803849   \n",
       "ACORN-L   76.0  13.751310  0.555139  11.307295  13.497138  13.859965   \n",
       "ACORN-M   17.0  13.873534  0.559435  12.653939  13.625071  14.049996   \n",
       "ACORN-N   26.0  13.823010  0.408561  12.430037  13.691875  13.876503   \n",
       "ACORN-O   16.0  13.980712  0.360146  13.356648  13.801162  13.952387   \n",
       "ACORN-P   22.0  13.765669  0.510984  12.401077  13.523571  13.780527   \n",
       "ACORN-Q  119.0  13.755048  0.535037  11.486705  13.612465  13.783004   \n",
       "ACORN-U   10.0  13.854127  0.239074  13.481105  13.731143  13.838245   \n",
       "\n",
       "               75%        max  \n",
       "ACORN                          \n",
       "ACORN-   14.106420  14.106420  \n",
       "ACORN-A  14.053020  15.408785  \n",
       "ACORN-B  14.097093  14.465370  \n",
       "ACORN-C  14.133313  15.498438  \n",
       "ACORN-D  14.051135  14.928961  \n",
       "ACORN-E  14.142797  15.179523  \n",
       "ACORN-F  14.027534  17.182524  \n",
       "ACORN-G  14.052287  14.846828  \n",
       "ACORN-H  14.017218  14.639255  \n",
       "ACORN-I  14.109145  14.880336  \n",
       "ACORN-J  13.999242  14.746091  \n",
       "ACORN-K  14.118521  14.733184  \n",
       "ACORN-L  14.107241  14.668781  \n",
       "ACORN-M  14.127046  14.704421  \n",
       "ACORN-N  13.996473  14.958667  \n",
       "ACORN-O  14.180596  14.858816  \n",
       "ACORN-P  14.074375  14.615948  \n",
       "ACORN-Q  14.059177  14.799599  \n",
       "ACORN-U  13.922001  14.237949  "
      ]
     },
     "execution_count": 61,
     "metadata": {},
     "output_type": "execute_result"
    }
   ],
   "source": [
    "ACORN_price = ToU_users.groupby('ACORN')['mean_price'].describe().unstack(level=1)\n",
    "ACORN_price"
   ]
  },
  {
   "cell_type": "code",
   "execution_count": 46,
   "metadata": {
    "collapsed": false
   },
   "outputs": [
    {
     "data": {
      "text/plain": [
       "ACORN\n",
       "ACORN-J    13.723183\n",
       "ACORN-H    13.737643\n",
       "ACORN-L    13.751310\n",
       "Name: mean, dtype: float64"
      ]
     },
     "execution_count": 46,
     "metadata": {},
     "output_type": "execute_result"
    }
   ],
   "source": [
    "ACORN_stats['mean'].sort_values()[:3]"
   ]
  },
  {
   "cell_type": "code",
   "execution_count": 56,
   "metadata": {
    "collapsed": false
   },
   "outputs": [
    {
     "data": {
      "text/plain": [
       "ACORN\n",
       "ACORN-P    13.780527\n",
       "ACORN-Q    13.783004\n",
       "ACORN-F    13.789527\n",
       "Name: 50%, dtype: float64"
      ]
     },
     "execution_count": 56,
     "metadata": {},
     "output_type": "execute_result"
    }
   ],
   "source": [
    "ACORN_stats['50%'].sort_values()[:3]"
   ]
  },
  {
   "cell_type": "code",
   "execution_count": 57,
   "metadata": {
    "collapsed": false
   },
   "outputs": [
    {
     "data": {
      "text/plain": [
       "ACORN\n",
       "ACORN-     14.106420\n",
       "ACORN-M    14.049996\n",
       "ACORN-O    13.952387\n",
       "Name: 50%, dtype: float64"
      ]
     },
     "execution_count": 57,
     "metadata": {},
     "output_type": "execute_result"
    }
   ],
   "source": [
    "ACORN_stats['50%'].sort_values(ascending=False)[:3]"
   ]
  },
  {
   "cell_type": "code",
   "execution_count": 54,
   "metadata": {
    "collapsed": false
   },
   "outputs": [
    {
     "data": {
      "text/plain": [
       "ACORN\n",
       "ACORN-C    13.456766\n",
       "ACORN-L    13.497138\n",
       "ACORN-P    13.523571\n",
       "Name: 25%, dtype: float64"
      ]
     },
     "execution_count": 54,
     "metadata": {},
     "output_type": "execute_result"
    }
   ],
   "source": [
    "ACORN_stats['25%'].sort_values()[:3]"
   ]
  },
  {
   "cell_type": "code",
   "execution_count": 59,
   "metadata": {
    "collapsed": false
   },
   "outputs": [
    {
     "data": {
      "text/plain": [
       "ACORN\n",
       "ACORN-     14.106420\n",
       "ACORN-O    13.801162\n",
       "ACORN-B    13.793319\n",
       "Name: 25%, dtype: float64"
      ]
     },
     "execution_count": 59,
     "metadata": {},
     "output_type": "execute_result"
    }
   ],
   "source": [
    "ACORN_stats['25%'].sort_values(ascending=False)[:3]"
   ]
  },
  {
   "cell_type": "code",
   "execution_count": 55,
   "metadata": {
    "collapsed": false
   },
   "outputs": [
    {
     "data": {
      "text/plain": [
       "ACORN\n",
       "ACORN-U    13.922001\n",
       "ACORN-N    13.996473\n",
       "ACORN-J    13.999242\n",
       "Name: 75%, dtype: float64"
      ]
     },
     "execution_count": 55,
     "metadata": {},
     "output_type": "execute_result"
    }
   ],
   "source": [
    "ACORN_stats['75%'].sort_values()[:3]"
   ]
  },
  {
   "cell_type": "code",
   "execution_count": 53,
   "metadata": {
    "collapsed": false
   },
   "outputs": [
    {
     "data": {
      "text/plain": [
       "ACORN\n",
       "ACORN-J    0.699752\n",
       "ACORN-I    0.609306\n",
       "ACORN-M    0.559435\n",
       "ACORN-L    0.555139\n",
       "ACORN-C    0.547480\n",
       "Name: std, dtype: float64"
      ]
     },
     "execution_count": 53,
     "metadata": {},
     "output_type": "execute_result"
    }
   ],
   "source": [
    "ACORN_stats['std'].sort_values(ascending=False)[:5]"
   ]
  },
  {
   "cell_type": "code",
   "execution_count": 49,
   "metadata": {
    "collapsed": false
   },
   "outputs": [
    {
     "data": {
      "text/plain": [
       "ACORN\n",
       "ACORN-H    11.080637\n",
       "ACORN-L    11.307295\n",
       "ACORN-Q    11.486705\n",
       "Name: min, dtype: float64"
      ]
     },
     "execution_count": 49,
     "metadata": {},
     "output_type": "execute_result"
    }
   ],
   "source": [
    "ACORN_stats['min'].sort_values()[:3]"
   ]
  },
  {
   "cell_type": "code",
   "execution_count": 50,
   "metadata": {
    "collapsed": false
   },
   "outputs": [
    {
     "data": {
      "text/plain": [
       "ACORN\n",
       "ACORN-F    17.182524\n",
       "ACORN-C    15.498438\n",
       "ACORN-A    15.408785\n",
       "Name: max, dtype: float64"
      ]
     },
     "execution_count": 50,
     "metadata": {},
     "output_type": "execute_result"
    }
   ],
   "source": [
    "ACORN_stats['max'].sort_values(ascending=False)[:3]"
   ]
  },
  {
   "cell_type": "markdown",
   "metadata": {},
   "source": [
    "The lowest media is that P, Q and F groups. P and Q are low income groups.\n",
    "\n",
    "-P is described as a mixture of poorer families with many children, low income terraced housing, multi-ethnic, purpose-built estates and low income families in social rented semis.\n",
    "\n",
    "-Q users are single parents and families in social rented flats, singles and young families (some receiving benefits) and people living in deprived areas and high-rise flats.\n",
    "\n",
    "Both of these groups have several outliers in the lower part of the mean price spectrum but only one in the higher part. Their maximum is 14.8 p/kWh, less than 0.6 above the standard flat rate tariff. These users are used to hardship and are prone to take any opportunity to save money.\n",
    "\n",
    "-F users are countryside communities. These have a very large variability, with the top payer (nearly 3 p/kWh over the standard flat rate tariff) in this group.\n",
    "\n",
    "-The worst group is M, with only 17 users (and some reacting very positively). These are a mixture of struggling young families in post-war terraces, people with limited means in post-war estates, semi-rural estates and families in right-to-buy estates. There is a large amount of lone parents, people enjoying benefits and lower than average internet, smartphone and tablet use.\n",
    "\n",
    "-Group E has a large variability, with many outliers in the lower and upper ranges. It is composed by young career-driven families, first buyers and people living in mixed metropolitan areas. They are educated young people rising in prosperity, with heavy internet use (including online shopping). They own smartphones, tablets and other technological devices in a larger degree than the average British. Some have a strong positive reaction to dToU, others seem not to care about changing their consumption habits and end up paying more for their electricity.\n",
    "\n",
    "-Group D is related to E and seems to behave in a more consistent way, although some users also to not react to the dynamic tariff. These are urban cosmopolitan young people, living in smaller flats and metropolitan areas."
   ]
  },
  {
   "cell_type": "markdown",
   "metadata": {},
   "source": [
    "In any case it seems the ACORN segmentation is not so effective to predict a user's behaviour, with all groups containing households that react and others than do not to the dToU tariff. It is true, however, that the less affluent groups do not have any of the top spenders among their ranks. These are presumably more compelled to save money from the meager incomes and take more care about profiting from a variable tariff.\n",
    "\n",
    "It is very likely that other factors that cannot be known or even hinted at with our data influence consumer behaviour: his attitude towards the environment, hobbies (for example, a football fan will not defer his TV consumption even if the tariff is high) and working hours (dToU tariff was higher on average in the evening hours)."
   ]
  },
  {
   "cell_type": "markdown",
   "metadata": {},
   "source": [
    "Let us examine now the consumption behaviour (regardless on the tariff of each group)."
   ]
  },
  {
   "cell_type": "code",
   "execution_count": 60,
   "metadata": {
    "collapsed": false
   },
   "outputs": [
    {
     "data": {
      "image/png": "[encoded data removed]",
      "text/plain": [
       "<matplotlib.figure.Figure at 0x7f163741cd90>"
      ]
     },
     "metadata": {},
     "output_type": "display_data"
    }
   ],
   "source": [
    "_ = sns.boxplot(x='mean_consumption', y='ACORN', data=ToU_users, order = ACORN_levels, notch = True)"
   ]
  },
  {
   "cell_type": "code",
   "execution_count": 62,
   "metadata": {
    "collapsed": false
   },
   "outputs": [
    {
     "data": {
      "text/html": [
       "<div>\n",
       "<table border=\"1\" class=\"dataframe\">\n",
       "  <thead>\n",
       "    <tr style=\"text-align: right;\">\n",
       "      <th></th>\n",
       "      <th>count</th>\n",
       "      <th>mean</th>\n",
       "      <th>std</th>\n",
       "      <th>min</th>\n",
       "      <th>25%</th>\n",
       "      <th>50%</th>\n",
       "      <th>75%</th>\n",
       "      <th>max</th>\n",
       "    </tr>\n",
       "    <tr>\n",
       "      <th>ACORN</th>\n",
       "      <th></th>\n",
       "      <th></th>\n",
       "      <th></th>\n",
       "      <th></th>\n",
       "      <th></th>\n",
       "      <th></th>\n",
       "      <th></th>\n",
       "      <th></th>\n",
       "    </tr>\n",
       "  </thead>\n",
       "  <tbody>\n",
       "    <tr>\n",
       "      <th>ACORN-</th>\n",
       "      <td>1.0</td>\n",
       "      <td>14.106420</td>\n",
       "      <td>NaN</td>\n",
       "      <td>14.106420</td>\n",
       "      <td>14.106420</td>\n",
       "      <td>14.106420</td>\n",
       "      <td>14.106420</td>\n",
       "      <td>14.106420</td>\n",
       "    </tr>\n",
       "    <tr>\n",
       "      <th>ACORN-A</th>\n",
       "      <td>39.0</td>\n",
       "      <td>13.895414</td>\n",
       "      <td>0.519119</td>\n",
       "      <td>12.368000</td>\n",
       "      <td>13.656511</td>\n",
       "      <td>13.913826</td>\n",
       "      <td>14.053020</td>\n",
       "      <td>15.408785</td>\n",
       "    </tr>\n",
       "    <tr>\n",
       "      <th>ACORN-B</th>\n",
       "      <td>4.0</td>\n",
       "      <td>13.951253</td>\n",
       "      <td>0.411142</td>\n",
       "      <td>13.461324</td>\n",
       "      <td>13.793319</td>\n",
       "      <td>13.939159</td>\n",
       "      <td>14.097093</td>\n",
       "      <td>14.465370</td>\n",
       "    </tr>\n",
       "    <tr>\n",
       "      <th>ACORN-C</th>\n",
       "      <td>34.0</td>\n",
       "      <td>13.798230</td>\n",
       "      <td>0.547480</td>\n",
       "      <td>12.621159</td>\n",
       "      <td>13.456766</td>\n",
       "      <td>13.875074</td>\n",
       "      <td>14.133313</td>\n",
       "      <td>15.498438</td>\n",
       "    </tr>\n",
       "    <tr>\n",
       "      <th>ACORN-D</th>\n",
       "      <td>73.0</td>\n",
       "      <td>13.835792</td>\n",
       "      <td>0.411399</td>\n",
       "      <td>12.595315</td>\n",
       "      <td>13.628556</td>\n",
       "      <td>13.859890</td>\n",
       "      <td>14.051135</td>\n",
       "      <td>14.928961</td>\n",
       "    </tr>\n",
       "    <tr>\n",
       "      <th>ACORN-E</th>\n",
       "      <td>338.0</td>\n",
       "      <td>13.865832</td>\n",
       "      <td>0.460832</td>\n",
       "      <td>11.711281</td>\n",
       "      <td>13.620310</td>\n",
       "      <td>13.884152</td>\n",
       "      <td>14.142797</td>\n",
       "      <td>15.179523</td>\n",
       "    </tr>\n",
       "    <tr>\n",
       "      <th>ACORN-F</th>\n",
       "      <td>151.0</td>\n",
       "      <td>13.813675</td>\n",
       "      <td>0.516405</td>\n",
       "      <td>11.775736</td>\n",
       "      <td>13.617926</td>\n",
       "      <td>13.789527</td>\n",
       "      <td>14.027534</td>\n",
       "      <td>17.182524</td>\n",
       "    </tr>\n",
       "    <tr>\n",
       "      <th>ACORN-G</th>\n",
       "      <td>47.0</td>\n",
       "      <td>13.788401</td>\n",
       "      <td>0.338923</td>\n",
       "      <td>12.952387</td>\n",
       "      <td>13.572028</td>\n",
       "      <td>13.795620</td>\n",
       "      <td>14.052287</td>\n",
       "      <td>14.846828</td>\n",
       "    </tr>\n",
       "    <tr>\n",
       "      <th>ACORN-H</th>\n",
       "      <td>83.0</td>\n",
       "      <td>13.737643</td>\n",
       "      <td>0.522644</td>\n",
       "      <td>11.080637</td>\n",
       "      <td>13.534704</td>\n",
       "      <td>13.825183</td>\n",
       "      <td>14.017218</td>\n",
       "      <td>14.639255</td>\n",
       "    </tr>\n",
       "    <tr>\n",
       "      <th>ACORN-I</th>\n",
       "      <td>8.0</td>\n",
       "      <td>13.823055</td>\n",
       "      <td>0.609306</td>\n",
       "      <td>12.889759</td>\n",
       "      <td>13.583683</td>\n",
       "      <td>13.848606</td>\n",
       "      <td>14.109145</td>\n",
       "      <td>14.880336</td>\n",
       "    </tr>\n",
       "    <tr>\n",
       "      <th>ACORN-J</th>\n",
       "      <td>31.0</td>\n",
       "      <td>13.723183</td>\n",
       "      <td>0.699752</td>\n",
       "      <td>11.562192</td>\n",
       "      <td>13.579230</td>\n",
       "      <td>13.798531</td>\n",
       "      <td>13.999242</td>\n",
       "      <td>14.746091</td>\n",
       "    </tr>\n",
       "    <tr>\n",
       "      <th>ACORN-K</th>\n",
       "      <td>22.0</td>\n",
       "      <td>13.836219</td>\n",
       "      <td>0.463910</td>\n",
       "      <td>12.682516</td>\n",
       "      <td>13.622867</td>\n",
       "      <td>13.803849</td>\n",
       "      <td>14.118521</td>\n",
       "      <td>14.733184</td>\n",
       "    </tr>\n",
       "    <tr>\n",
       "      <th>ACORN-L</th>\n",
       "      <td>76.0</td>\n",
       "      <td>13.751310</td>\n",
       "      <td>0.555139</td>\n",
       "      <td>11.307295</td>\n",
       "      <td>13.497138</td>\n",
       "      <td>13.859965</td>\n",
       "      <td>14.107241</td>\n",
       "      <td>14.668781</td>\n",
       "    </tr>\n",
       "    <tr>\n",
       "      <th>ACORN-M</th>\n",
       "      <td>17.0</td>\n",
       "      <td>13.873534</td>\n",
       "      <td>0.559435</td>\n",
       "      <td>12.653939</td>\n",
       "      <td>13.625071</td>\n",
       "      <td>14.049996</td>\n",
       "      <td>14.127046</td>\n",
       "      <td>14.704421</td>\n",
       "    </tr>\n",
       "    <tr>\n",
       "      <th>ACORN-N</th>\n",
       "      <td>26.0</td>\n",
       "      <td>13.823010</td>\n",
       "      <td>0.408561</td>\n",
       "      <td>12.430037</td>\n",
       "      <td>13.691875</td>\n",
       "      <td>13.876503</td>\n",
       "      <td>13.996473</td>\n",
       "      <td>14.958667</td>\n",
       "    </tr>\n",
       "    <tr>\n",
       "      <th>ACORN-O</th>\n",
       "      <td>16.0</td>\n",
       "      <td>13.980712</td>\n",
       "      <td>0.360146</td>\n",
       "      <td>13.356648</td>\n",
       "      <td>13.801162</td>\n",
       "      <td>13.952387</td>\n",
       "      <td>14.180596</td>\n",
       "      <td>14.858816</td>\n",
       "    </tr>\n",
       "    <tr>\n",
       "      <th>ACORN-P</th>\n",
       "      <td>22.0</td>\n",
       "      <td>13.765669</td>\n",
       "      <td>0.510984</td>\n",
       "      <td>12.401077</td>\n",
       "      <td>13.523571</td>\n",
       "      <td>13.780527</td>\n",
       "      <td>14.074375</td>\n",
       "      <td>14.615948</td>\n",
       "    </tr>\n",
       "    <tr>\n",
       "      <th>ACORN-Q</th>\n",
       "      <td>119.0</td>\n",
       "      <td>13.755048</td>\n",
       "      <td>0.535037</td>\n",
       "      <td>11.486705</td>\n",
       "      <td>13.612465</td>\n",
       "      <td>13.783004</td>\n",
       "      <td>14.059177</td>\n",
       "      <td>14.799599</td>\n",
       "    </tr>\n",
       "    <tr>\n",
       "      <th>ACORN-U</th>\n",
       "      <td>10.0</td>\n",
       "      <td>13.854127</td>\n",
       "      <td>0.239074</td>\n",
       "      <td>13.481105</td>\n",
       "      <td>13.731143</td>\n",
       "      <td>13.838245</td>\n",
       "      <td>13.922001</td>\n",
       "      <td>14.237949</td>\n",
       "    </tr>\n",
       "  </tbody>\n",
       "</table>\n",
       "</div>"
      ],
      "text/plain": [
       "         count       mean       std        min        25%        50%  \\\n",
       "ACORN                                                                  \n",
       "ACORN-     1.0  14.106420       NaN  14.106420  14.106420  14.106420   \n",
       "ACORN-A   39.0  13.895414  0.519119  12.368000  13.656511  13.913826   \n",
       "ACORN-B    4.0  13.951253  0.411142  13.461324  13.793319  13.939159   \n",
       "ACORN-C   34.0  13.798230  0.547480  12.621159  13.456766  13.875074   \n",
       "ACORN-D   73.0  13.835792  0.411399  12.595315  13.628556  13.859890   \n",
       "ACORN-E  338.0  13.865832  0.460832  11.711281  13.620310  13.884152   \n",
       "ACORN-F  151.0  13.813675  0.516405  11.775736  13.617926  13.789527   \n",
       "ACORN-G   47.0  13.788401  0.338923  12.952387  13.572028  13.795620   \n",
       "ACORN-H   83.0  13.737643  0.522644  11.080637  13.534704  13.825183   \n",
       "ACORN-I    8.0  13.823055  0.609306  12.889759  13.583683  13.848606   \n",
       "ACORN-J   31.0  13.723183  0.699752  11.562192  13.579230  13.798531   \n",
       "ACORN-K   22.0  13.836219  0.463910  12.682516  13.622867  13.803849   \n",
       "ACORN-L   76.0  13.751310  0.555139  11.307295  13.497138  13.859965   \n",
       "ACORN-M   17.0  13.873534  0.559435  12.653939  13.625071  14.049996   \n",
       "ACORN-N   26.0  13.823010  0.408561  12.430037  13.691875  13.876503   \n",
       "ACORN-O   16.0  13.980712  0.360146  13.356648  13.801162  13.952387   \n",
       "ACORN-P   22.0  13.765669  0.510984  12.401077  13.523571  13.780527   \n",
       "ACORN-Q  119.0  13.755048  0.535037  11.486705  13.612465  13.783004   \n",
       "ACORN-U   10.0  13.854127  0.239074  13.481105  13.731143  13.838245   \n",
       "\n",
       "               75%        max  \n",
       "ACORN                          \n",
       "ACORN-   14.106420  14.106420  \n",
       "ACORN-A  14.053020  15.408785  \n",
       "ACORN-B  14.097093  14.465370  \n",
       "ACORN-C  14.133313  15.498438  \n",
       "ACORN-D  14.051135  14.928961  \n",
       "ACORN-E  14.142797  15.179523  \n",
       "ACORN-F  14.027534  17.182524  \n",
       "ACORN-G  14.052287  14.846828  \n",
       "ACORN-H  14.017218  14.639255  \n",
       "ACORN-I  14.109145  14.880336  \n",
       "ACORN-J  13.999242  14.746091  \n",
       "ACORN-K  14.118521  14.733184  \n",
       "ACORN-L  14.107241  14.668781  \n",
       "ACORN-M  14.127046  14.704421  \n",
       "ACORN-N  13.996473  14.958667  \n",
       "ACORN-O  14.180596  14.858816  \n",
       "ACORN-P  14.074375  14.615948  \n",
       "ACORN-Q  14.059177  14.799599  \n",
       "ACORN-U  13.922001  14.237949  "
      ]
     },
     "execution_count": 62,
     "metadata": {},
     "output_type": "execute_result"
    }
   ],
   "source": [
    "ACORN_cons = ToU_users.groupby('ACORN')['mean_price'].describe().unstack(level=1)\n",
    "ACORN_cons"
   ]
  }
 ],
 "metadata": {
  "kernelspec": {
   "display_name": "Python 2",
   "language": "python",
   "name": "python2"
  },
  "language_info": {
   "codemirror_mode": {
    "name": "ipython",
    "version": 2
   },
   "file_extension": ".py",
   "mimetype": "text/x-python",
   "name": "python",
   "nbconvert_exporter": "python",
   "pygments_lexer": "ipython2",
   "version": "2.7.11"
  }
 },
 "nbformat": 4,
 "nbformat_minor": 0
}
